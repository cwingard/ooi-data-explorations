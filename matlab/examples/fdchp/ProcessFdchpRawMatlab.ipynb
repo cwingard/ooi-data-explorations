{
 "cells": [
  {
   "cell_type": "markdown",
   "id": "0ca8d4cc-f39e-4a5e-8708-7a55aabd7071",
   "metadata": {},
   "source": [
    "# FDCHP Data Processing\n",
    "\n",
    "This Notebook demonstrates how to process FDCHP data using the tools in this directory.\n",
    "\n",
    "Select a data directory from the raw data directories below to process all data files from that directory."
   ]
  },
  {
   "cell_type": "code",
   "execution_count": 24,
   "id": "99c754d5-4f33-409d-9f35-ed56ee6fb905",
   "metadata": {
    "tags": []
   },
   "outputs": [
    {
     "data": {
      "text/html": [
       "<html><body><pre>data_directory = '/home/jovyan/ooi/uncabled/GI01SUMO/R00008/instruments/dcl12/FDCHP_sn144904/D202110'</pre></body></html>"
      ],
      "text/plain": [
       "data_directory = '/home/jovyan/ooi/uncabled/GI01SUMO/R00008/instruments/dcl12/FDCHP_sn144904/D202110'"
      ]
     },
     "execution_count": 24,
     "metadata": {},
     "output_type": "execute_result"
    },
    {
     "name": "stdout",
     "output_type": "stream",
     "text": [
      "    \"Processing \"    \"413\"    \" files.\"\n",
      "\n"
     ]
    },
    {
     "data": {
      "text/html": [
       "<html><body><pre>filename = '/home/jovyan/ooi/uncabled/GI01SUMO/R00008/instruments/dcl12/FDCHP_sn144904/D202110/fdchp_20211001_000200.dat'</pre></body></html>"
      ],
      "text/plain": [
       "filename = '/home/jovyan/ooi/uncabled/GI01SUMO/R00008/instruments/dcl12/FDCHP_sn144904/D202110/fdchp_20211001_000200.dat'"
      ]
     },
     "execution_count": 24,
     "metadata": {},
     "output_type": "execute_result"
    },
    {
     "data": {
      "text/html": [
       "<html><body><pre>filename = '/home/jovyan/ooi/uncabled/GI01SUMO/R00008/instruments/dcl12/FDCHP_sn144904/D202110/fdchp_20211001_010200.dat'</pre></body></html>"
      ],
      "text/plain": [
       "filename = '/home/jovyan/ooi/uncabled/GI01SUMO/R00008/instruments/dcl12/FDCHP_sn144904/D202110/fdchp_20211001_010200.dat'"
      ]
     },
     "execution_count": 24,
     "metadata": {},
     "output_type": "execute_result"
    },
    {
     "data": {
      "text/html": [
       "<html><body><pre>filename = '/home/jovyan/ooi/uncabled/GI01SUMO/R00008/instruments/dcl12/FDCHP_sn144904/D202110/fdchp_20211001_020200.dat'</pre></body></html>"
      ],
      "text/plain": [
       "filename = '/home/jovyan/ooi/uncabled/GI01SUMO/R00008/instruments/dcl12/FDCHP_sn144904/D202110/fdchp_20211001_020200.dat'"
      ]
     },
     "execution_count": 24,
     "metadata": {},
     "output_type": "execute_result"
    },
    {
     "data": {
      "text/html": [
       "<html><body><pre>filename = '/home/jovyan/ooi/uncabled/GI01SUMO/R00008/instruments/dcl12/FDCHP_sn144904/D202110/fdchp_20211001_030200.dat'</pre></body></html>"
      ],
      "text/plain": [
       "filename = '/home/jovyan/ooi/uncabled/GI01SUMO/R00008/instruments/dcl12/FDCHP_sn144904/D202110/fdchp_20211001_030200.dat'"
      ]
     },
     "execution_count": 24,
     "metadata": {},
     "output_type": "execute_result"
    },
    {
     "data": {
      "text/html": [
       "<html><body><pre>filename = '/home/jovyan/ooi/uncabled/GI01SUMO/R00008/instruments/dcl12/FDCHP_sn144904/D202110/fdchp_20211001_040200.dat'</pre></body></html>"
      ],
      "text/plain": [
       "filename = '/home/jovyan/ooi/uncabled/GI01SUMO/R00008/instruments/dcl12/FDCHP_sn144904/D202110/fdchp_20211001_040200.dat'"
      ]
     },
     "execution_count": 24,
     "metadata": {},
     "output_type": "execute_result"
    },
    {
     "data": {
      "text/html": [
       "<html><body><pre>filename = '/home/jovyan/ooi/uncabled/GI01SUMO/R00008/instruments/dcl12/FDCHP_sn144904/D202110/fdchp_20211001_050200.dat'</pre></body></html>"
      ],
      "text/plain": [
       "filename = '/home/jovyan/ooi/uncabled/GI01SUMO/R00008/instruments/dcl12/FDCHP_sn144904/D202110/fdchp_20211001_050200.dat'"
      ]
     },
     "execution_count": 24,
     "metadata": {},
     "output_type": "execute_result"
    },
    {
     "data": {
      "text/html": [
       "<html><body><pre>filename = '/home/jovyan/ooi/uncabled/GI01SUMO/R00008/instruments/dcl12/FDCHP_sn144904/D202110/fdchp_20211001_060200.dat'</pre></body></html>"
      ],
      "text/plain": [
       "filename = '/home/jovyan/ooi/uncabled/GI01SUMO/R00008/instruments/dcl12/FDCHP_sn144904/D202110/fdchp_20211001_060200.dat'"
      ]
     },
     "execution_count": 24,
     "metadata": {},
     "output_type": "execute_result"
    },
    {
     "data": {
      "text/html": [
       "<html><body><pre>filename = '/home/jovyan/ooi/uncabled/GI01SUMO/R00008/instruments/dcl12/FDCHP_sn144904/D202110/fdchp_20211001_070200.dat'</pre></body></html>"
      ],
      "text/plain": [
       "filename = '/home/jovyan/ooi/uncabled/GI01SUMO/R00008/instruments/dcl12/FDCHP_sn144904/D202110/fdchp_20211001_070200.dat'"
      ]
     },
     "execution_count": 24,
     "metadata": {},
     "output_type": "execute_result"
    },
    {
     "data": {
      "text/html": [
       "<html><body><pre>filename = '/home/jovyan/ooi/uncabled/GI01SUMO/R00008/instruments/dcl12/FDCHP_sn144904/D202110/fdchp_20211001_080200.dat'</pre></body></html>"
      ],
      "text/plain": [
       "filename = '/home/jovyan/ooi/uncabled/GI01SUMO/R00008/instruments/dcl12/FDCHP_sn144904/D202110/fdchp_20211001_080200.dat'"
      ]
     },
     "execution_count": 24,
     "metadata": {},
     "output_type": "execute_result"
    },
    {
     "data": {
      "text/html": [
       "<html><body><pre>filename = '/home/jovyan/ooi/uncabled/GI01SUMO/R00008/instruments/dcl12/FDCHP_sn144904/D202110/fdchp_20211001_090200.dat'</pre></body></html>"
      ],
      "text/plain": [
       "filename = '/home/jovyan/ooi/uncabled/GI01SUMO/R00008/instruments/dcl12/FDCHP_sn144904/D202110/fdchp_20211001_090200.dat'"
      ]
     },
     "execution_count": 24,
     "metadata": {},
     "output_type": "execute_result"
    },
    {
     "data": {
      "text/html": [
       "<html><body><pre>filename = '/home/jovyan/ooi/uncabled/GI01SUMO/R00008/instruments/dcl12/FDCHP_sn144904/D202110/fdchp_20211001_100200.dat'</pre></body></html>"
      ],
      "text/plain": [
       "filename = '/home/jovyan/ooi/uncabled/GI01SUMO/R00008/instruments/dcl12/FDCHP_sn144904/D202110/fdchp_20211001_100200.dat'"
      ]
     },
     "execution_count": 24,
     "metadata": {},
     "output_type": "execute_result"
    },
    {
     "data": {
      "text/html": [
       "<html><body><pre>filename = '/home/jovyan/ooi/uncabled/GI01SUMO/R00008/instruments/dcl12/FDCHP_sn144904/D202110/fdchp_20211001_110200.dat'</pre></body></html>"
      ],
      "text/plain": [
       "filename = '/home/jovyan/ooi/uncabled/GI01SUMO/R00008/instruments/dcl12/FDCHP_sn144904/D202110/fdchp_20211001_110200.dat'"
      ]
     },
     "execution_count": 24,
     "metadata": {},
     "output_type": "execute_result"
    },
    {
     "data": {
      "text/html": [
       "<html><body><pre>filename = '/home/jovyan/ooi/uncabled/GI01SUMO/R00008/instruments/dcl12/FDCHP_sn144904/D202110/fdchp_20211001_120200.dat'</pre></body></html>"
      ],
      "text/plain": [
       "filename = '/home/jovyan/ooi/uncabled/GI01SUMO/R00008/instruments/dcl12/FDCHP_sn144904/D202110/fdchp_20211001_120200.dat'"
      ]
     },
     "execution_count": 24,
     "metadata": {},
     "output_type": "execute_result"
    },
    {
     "data": {
      "text/html": [
       "<html><body><pre>filename = '/home/jovyan/ooi/uncabled/GI01SUMO/R00008/instruments/dcl12/FDCHP_sn144904/D202110/fdchp_20211001_130200.dat'</pre></body></html>"
      ],
      "text/plain": [
       "filename = '/home/jovyan/ooi/uncabled/GI01SUMO/R00008/instruments/dcl12/FDCHP_sn144904/D202110/fdchp_20211001_130200.dat'"
      ]
     },
     "execution_count": 24,
     "metadata": {},
     "output_type": "execute_result"
    },
    {
     "data": {
      "text/html": [
       "<html><body><pre>filename = '/home/jovyan/ooi/uncabled/GI01SUMO/R00008/instruments/dcl12/FDCHP_sn144904/D202110/fdchp_20211001_140200.dat'</pre></body></html>"
      ],
      "text/plain": [
       "filename = '/home/jovyan/ooi/uncabled/GI01SUMO/R00008/instruments/dcl12/FDCHP_sn144904/D202110/fdchp_20211001_140200.dat'"
      ]
     },
     "execution_count": 24,
     "metadata": {},
     "output_type": "execute_result"
    },
    {
     "data": {
      "text/html": [
       "<html><body><pre>filename = '/home/jovyan/ooi/uncabled/GI01SUMO/R00008/instruments/dcl12/FDCHP_sn144904/D202110/fdchp_20211001_150200.dat'</pre></body></html>"
      ],
      "text/plain": [
       "filename = '/home/jovyan/ooi/uncabled/GI01SUMO/R00008/instruments/dcl12/FDCHP_sn144904/D202110/fdchp_20211001_150200.dat'"
      ]
     },
     "execution_count": 24,
     "metadata": {},
     "output_type": "execute_result"
    },
    {
     "data": {
      "text/html": [
       "<html><body><pre>filename = '/home/jovyan/ooi/uncabled/GI01SUMO/R00008/instruments/dcl12/FDCHP_sn144904/D202110/fdchp_20211001_160200.dat'</pre></body></html>"
      ],
      "text/plain": [
       "filename = '/home/jovyan/ooi/uncabled/GI01SUMO/R00008/instruments/dcl12/FDCHP_sn144904/D202110/fdchp_20211001_160200.dat'"
      ]
     },
     "execution_count": 24,
     "metadata": {},
     "output_type": "execute_result"
    },
    {
     "data": {
      "text/html": [
       "<html><body><pre>filename = '/home/jovyan/ooi/uncabled/GI01SUMO/R00008/instruments/dcl12/FDCHP_sn144904/D202110/fdchp_20211001_170200.dat'</pre></body></html>"
      ],
      "text/plain": [
       "filename = '/home/jovyan/ooi/uncabled/GI01SUMO/R00008/instruments/dcl12/FDCHP_sn144904/D202110/fdchp_20211001_170200.dat'"
      ]
     },
     "execution_count": 24,
     "metadata": {},
     "output_type": "execute_result"
    },
    {
     "data": {
      "text/html": [
       "<html><body><pre>filename = '/home/jovyan/ooi/uncabled/GI01SUMO/R00008/instruments/dcl12/FDCHP_sn144904/D202110/fdchp_20211001_180200.dat'</pre></body></html>"
      ],
      "text/plain": [
       "filename = '/home/jovyan/ooi/uncabled/GI01SUMO/R00008/instruments/dcl12/FDCHP_sn144904/D202110/fdchp_20211001_180200.dat'"
      ]
     },
     "execution_count": 24,
     "metadata": {},
     "output_type": "execute_result"
    },
    {
     "data": {
      "text/html": [
       "<html><body><pre>filename = '/home/jovyan/ooi/uncabled/GI01SUMO/R00008/instruments/dcl12/FDCHP_sn144904/D202110/fdchp_20211001_190200.dat'</pre></body></html>"
      ],
      "text/plain": [
       "filename = '/home/jovyan/ooi/uncabled/GI01SUMO/R00008/instruments/dcl12/FDCHP_sn144904/D202110/fdchp_20211001_190200.dat'"
      ]
     },
     "execution_count": 24,
     "metadata": {},
     "output_type": "execute_result"
    },
    {
     "data": {
      "text/html": [
       "<html><body><pre>filename = '/home/jovyan/ooi/uncabled/GI01SUMO/R00008/instruments/dcl12/FDCHP_sn144904/D202110/fdchp_20211001_200200.dat'</pre></body></html>"
      ],
      "text/plain": [
       "filename = '/home/jovyan/ooi/uncabled/GI01SUMO/R00008/instruments/dcl12/FDCHP_sn144904/D202110/fdchp_20211001_200200.dat'"
      ]
     },
     "execution_count": 24,
     "metadata": {},
     "output_type": "execute_result"
    },
    {
     "data": {
      "text/html": [
       "<html><body><pre>filename = '/home/jovyan/ooi/uncabled/GI01SUMO/R00008/instruments/dcl12/FDCHP_sn144904/D202110/fdchp_20211001_210200.dat'</pre></body></html>"
      ],
      "text/plain": [
       "filename = '/home/jovyan/ooi/uncabled/GI01SUMO/R00008/instruments/dcl12/FDCHP_sn144904/D202110/fdchp_20211001_210200.dat'"
      ]
     },
     "execution_count": 24,
     "metadata": {},
     "output_type": "execute_result"
    },
    {
     "data": {
      "text/html": [
       "<html><body><pre>filename = '/home/jovyan/ooi/uncabled/GI01SUMO/R00008/instruments/dcl12/FDCHP_sn144904/D202110/fdchp_20211001_220200.dat'</pre></body></html>"
      ],
      "text/plain": [
       "filename = '/home/jovyan/ooi/uncabled/GI01SUMO/R00008/instruments/dcl12/FDCHP_sn144904/D202110/fdchp_20211001_220200.dat'"
      ]
     },
     "execution_count": 24,
     "metadata": {},
     "output_type": "execute_result"
    },
    {
     "data": {
      "text/html": [
       "<html><body><pre>filename = '/home/jovyan/ooi/uncabled/GI01SUMO/R00008/instruments/dcl12/FDCHP_sn144904/D202110/fdchp_20211001_230200.dat'</pre></body></html>"
      ],
      "text/plain": [
       "filename = '/home/jovyan/ooi/uncabled/GI01SUMO/R00008/instruments/dcl12/FDCHP_sn144904/D202110/fdchp_20211001_230200.dat'"
      ]
     },
     "execution_count": 24,
     "metadata": {},
     "output_type": "execute_result"
    },
    {
     "data": {
      "text/html": [
       "<html><body><pre>filename = '/home/jovyan/ooi/uncabled/GI01SUMO/R00008/instruments/dcl12/FDCHP_sn144904/D202110/fdchp_20211002_000200.dat'</pre></body></html>"
      ],
      "text/plain": [
       "filename = '/home/jovyan/ooi/uncabled/GI01SUMO/R00008/instruments/dcl12/FDCHP_sn144904/D202110/fdchp_20211002_000200.dat'"
      ]
     },
     "execution_count": 24,
     "metadata": {},
     "output_type": "execute_result"
    },
    {
     "data": {
      "text/html": [
       "<html><body><pre>filename = '/home/jovyan/ooi/uncabled/GI01SUMO/R00008/instruments/dcl12/FDCHP_sn144904/D202110/fdchp_20211002_010200.dat'</pre></body></html>"
      ],
      "text/plain": [
       "filename = '/home/jovyan/ooi/uncabled/GI01SUMO/R00008/instruments/dcl12/FDCHP_sn144904/D202110/fdchp_20211002_010200.dat'"
      ]
     },
     "execution_count": 24,
     "metadata": {},
     "output_type": "execute_result"
    },
    {
     "data": {
      "text/html": [
       "<html><body><pre>filename = '/home/jovyan/ooi/uncabled/GI01SUMO/R00008/instruments/dcl12/FDCHP_sn144904/D202110/fdchp_20211002_020200.dat'</pre></body></html>"
      ],
      "text/plain": [
       "filename = '/home/jovyan/ooi/uncabled/GI01SUMO/R00008/instruments/dcl12/FDCHP_sn144904/D202110/fdchp_20211002_020200.dat'"
      ]
     },
     "execution_count": 24,
     "metadata": {},
     "output_type": "execute_result"
    },
    {
     "data": {
      "text/html": [
       "<html><body><pre>filename = '/home/jovyan/ooi/uncabled/GI01SUMO/R00008/instruments/dcl12/FDCHP_sn144904/D202110/fdchp_20211002_030200.dat'</pre></body></html>"
      ],
      "text/plain": [
       "filename = '/home/jovyan/ooi/uncabled/GI01SUMO/R00008/instruments/dcl12/FDCHP_sn144904/D202110/fdchp_20211002_030200.dat'"
      ]
     },
     "execution_count": 24,
     "metadata": {},
     "output_type": "execute_result"
    },
    {
     "data": {
      "text/html": [
       "<html><body><pre>filename = '/home/jovyan/ooi/uncabled/GI01SUMO/R00008/instruments/dcl12/FDCHP_sn144904/D202110/fdchp_20211002_040200.dat'</pre></body></html>"
      ],
      "text/plain": [
       "filename = '/home/jovyan/ooi/uncabled/GI01SUMO/R00008/instruments/dcl12/FDCHP_sn144904/D202110/fdchp_20211002_040200.dat'"
      ]
     },
     "execution_count": 24,
     "metadata": {},
     "output_type": "execute_result"
    },
    {
     "data": {
      "text/html": [
       "<html><body><pre>filename = '/home/jovyan/ooi/uncabled/GI01SUMO/R00008/instruments/dcl12/FDCHP_sn144904/D202110/fdchp_20211002_050200.dat'</pre></body></html>"
      ],
      "text/plain": [
       "filename = '/home/jovyan/ooi/uncabled/GI01SUMO/R00008/instruments/dcl12/FDCHP_sn144904/D202110/fdchp_20211002_050200.dat'"
      ]
     },
     "execution_count": 24,
     "metadata": {},
     "output_type": "execute_result"
    },
    {
     "data": {
      "text/html": [
       "<html><body><pre>filename = '/home/jovyan/ooi/uncabled/GI01SUMO/R00008/instruments/dcl12/FDCHP_sn144904/D202110/fdchp_20211002_060200.dat'</pre></body></html>"
      ],
      "text/plain": [
       "filename = '/home/jovyan/ooi/uncabled/GI01SUMO/R00008/instruments/dcl12/FDCHP_sn144904/D202110/fdchp_20211002_060200.dat'"
      ]
     },
     "execution_count": 24,
     "metadata": {},
     "output_type": "execute_result"
    },
    {
     "data": {
      "text/html": [
       "<html><body><pre>filename = '/home/jovyan/ooi/uncabled/GI01SUMO/R00008/instruments/dcl12/FDCHP_sn144904/D202110/fdchp_20211002_070200.dat'</pre></body></html>"
      ],
      "text/plain": [
       "filename = '/home/jovyan/ooi/uncabled/GI01SUMO/R00008/instruments/dcl12/FDCHP_sn144904/D202110/fdchp_20211002_070200.dat'"
      ]
     },
     "execution_count": 24,
     "metadata": {},
     "output_type": "execute_result"
    },
    {
     "data": {
      "text/html": [
       "<html><body><pre>filename = '/home/jovyan/ooi/uncabled/GI01SUMO/R00008/instruments/dcl12/FDCHP_sn144904/D202110/fdchp_20211002_080200.dat'</pre></body></html>"
      ],
      "text/plain": [
       "filename = '/home/jovyan/ooi/uncabled/GI01SUMO/R00008/instruments/dcl12/FDCHP_sn144904/D202110/fdchp_20211002_080200.dat'"
      ]
     },
     "execution_count": 24,
     "metadata": {},
     "output_type": "execute_result"
    },
    {
     "data": {
      "text/html": [
       "<html><body><pre>filename = '/home/jovyan/ooi/uncabled/GI01SUMO/R00008/instruments/dcl12/FDCHP_sn144904/D202110/fdchp_20211002_090200.dat'</pre></body></html>"
      ],
      "text/plain": [
       "filename = '/home/jovyan/ooi/uncabled/GI01SUMO/R00008/instruments/dcl12/FDCHP_sn144904/D202110/fdchp_20211002_090200.dat'"
      ]
     },
     "execution_count": 24,
     "metadata": {},
     "output_type": "execute_result"
    },
    {
     "data": {
      "text/html": [
       "<html><body><pre>filename = '/home/jovyan/ooi/uncabled/GI01SUMO/R00008/instruments/dcl12/FDCHP_sn144904/D202110/fdchp_20211002_100200.dat'</pre></body></html>"
      ],
      "text/plain": [
       "filename = '/home/jovyan/ooi/uncabled/GI01SUMO/R00008/instruments/dcl12/FDCHP_sn144904/D202110/fdchp_20211002_100200.dat'"
      ]
     },
     "execution_count": 24,
     "metadata": {},
     "output_type": "execute_result"
    },
    {
     "data": {
      "text/html": [
       "<html><body><pre>filename = '/home/jovyan/ooi/uncabled/GI01SUMO/R00008/instruments/dcl12/FDCHP_sn144904/D202110/fdchp_20211002_110200.dat'</pre></body></html>"
      ],
      "text/plain": [
       "filename = '/home/jovyan/ooi/uncabled/GI01SUMO/R00008/instruments/dcl12/FDCHP_sn144904/D202110/fdchp_20211002_110200.dat'"
      ]
     },
     "execution_count": 24,
     "metadata": {},
     "output_type": "execute_result"
    },
    {
     "data": {
      "text/html": [
       "<html><body><pre>filename = '/home/jovyan/ooi/uncabled/GI01SUMO/R00008/instruments/dcl12/FDCHP_sn144904/D202110/fdchp_20211002_120200.dat'</pre></body></html>"
      ],
      "text/plain": [
       "filename = '/home/jovyan/ooi/uncabled/GI01SUMO/R00008/instruments/dcl12/FDCHP_sn144904/D202110/fdchp_20211002_120200.dat'"
      ]
     },
     "execution_count": 24,
     "metadata": {},
     "output_type": "execute_result"
    },
    {
     "data": {
      "text/html": [
       "<html><body><pre>filename = '/home/jovyan/ooi/uncabled/GI01SUMO/R00008/instruments/dcl12/FDCHP_sn144904/D202110/fdchp_20211002_130200.dat'</pre></body></html>"
      ],
      "text/plain": [
       "filename = '/home/jovyan/ooi/uncabled/GI01SUMO/R00008/instruments/dcl12/FDCHP_sn144904/D202110/fdchp_20211002_130200.dat'"
      ]
     },
     "execution_count": 24,
     "metadata": {},
     "output_type": "execute_result"
    },
    {
     "data": {
      "text/html": [
       "<html><body><pre>filename = '/home/jovyan/ooi/uncabled/GI01SUMO/R00008/instruments/dcl12/FDCHP_sn144904/D202110/fdchp_20211002_140200.dat'</pre></body></html>"
      ],
      "text/plain": [
       "filename = '/home/jovyan/ooi/uncabled/GI01SUMO/R00008/instruments/dcl12/FDCHP_sn144904/D202110/fdchp_20211002_140200.dat'"
      ]
     },
     "execution_count": 24,
     "metadata": {},
     "output_type": "execute_result"
    },
    {
     "data": {
      "text/html": [
       "<html><body><pre>filename = '/home/jovyan/ooi/uncabled/GI01SUMO/R00008/instruments/dcl12/FDCHP_sn144904/D202110/fdchp_20211002_150200.dat'</pre></body></html>"
      ],
      "text/plain": [
       "filename = '/home/jovyan/ooi/uncabled/GI01SUMO/R00008/instruments/dcl12/FDCHP_sn144904/D202110/fdchp_20211002_150200.dat'"
      ]
     },
     "execution_count": 24,
     "metadata": {},
     "output_type": "execute_result"
    },
    {
     "data": {
      "text/html": [
       "<html><body><pre>filename = '/home/jovyan/ooi/uncabled/GI01SUMO/R00008/instruments/dcl12/FDCHP_sn144904/D202110/fdchp_20211002_160200.dat'</pre></body></html>"
      ],
      "text/plain": [
       "filename = '/home/jovyan/ooi/uncabled/GI01SUMO/R00008/instruments/dcl12/FDCHP_sn144904/D202110/fdchp_20211002_160200.dat'"
      ]
     },
     "execution_count": 24,
     "metadata": {},
     "output_type": "execute_result"
    },
    {
     "data": {
      "text/html": [
       "<html><body><pre>filename = '/home/jovyan/ooi/uncabled/GI01SUMO/R00008/instruments/dcl12/FDCHP_sn144904/D202110/fdchp_20211002_170200.dat'</pre></body></html>"
      ],
      "text/plain": [
       "filename = '/home/jovyan/ooi/uncabled/GI01SUMO/R00008/instruments/dcl12/FDCHP_sn144904/D202110/fdchp_20211002_170200.dat'"
      ]
     },
     "execution_count": 24,
     "metadata": {},
     "output_type": "execute_result"
    },
    {
     "data": {
      "text/html": [
       "<html><body><pre>filename = '/home/jovyan/ooi/uncabled/GI01SUMO/R00008/instruments/dcl12/FDCHP_sn144904/D202110/fdchp_20211002_180200.dat'</pre></body></html>"
      ],
      "text/plain": [
       "filename = '/home/jovyan/ooi/uncabled/GI01SUMO/R00008/instruments/dcl12/FDCHP_sn144904/D202110/fdchp_20211002_180200.dat'"
      ]
     },
     "execution_count": 24,
     "metadata": {},
     "output_type": "execute_result"
    },
    {
     "data": {
      "text/html": [
       "<html><body><pre>filename = '/home/jovyan/ooi/uncabled/GI01SUMO/R00008/instruments/dcl12/FDCHP_sn144904/D202110/fdchp_20211002_190200.dat'</pre></body></html>"
      ],
      "text/plain": [
       "filename = '/home/jovyan/ooi/uncabled/GI01SUMO/R00008/instruments/dcl12/FDCHP_sn144904/D202110/fdchp_20211002_190200.dat'"
      ]
     },
     "execution_count": 24,
     "metadata": {},
     "output_type": "execute_result"
    },
    {
     "data": {
      "text/html": [
       "<html><body><pre>filename = '/home/jovyan/ooi/uncabled/GI01SUMO/R00008/instruments/dcl12/FDCHP_sn144904/D202110/fdchp_20211002_200200.dat'</pre></body></html>"
      ],
      "text/plain": [
       "filename = '/home/jovyan/ooi/uncabled/GI01SUMO/R00008/instruments/dcl12/FDCHP_sn144904/D202110/fdchp_20211002_200200.dat'"
      ]
     },
     "execution_count": 24,
     "metadata": {},
     "output_type": "execute_result"
    },
    {
     "data": {
      "text/html": [
       "<html><body><pre>filename = '/home/jovyan/ooi/uncabled/GI01SUMO/R00008/instruments/dcl12/FDCHP_sn144904/D202110/fdchp_20211002_210200.dat'</pre></body></html>"
      ],
      "text/plain": [
       "filename = '/home/jovyan/ooi/uncabled/GI01SUMO/R00008/instruments/dcl12/FDCHP_sn144904/D202110/fdchp_20211002_210200.dat'"
      ]
     },
     "execution_count": 24,
     "metadata": {},
     "output_type": "execute_result"
    },
    {
     "data": {
      "text/html": [
       "<html><body><pre>filename = '/home/jovyan/ooi/uncabled/GI01SUMO/R00008/instruments/dcl12/FDCHP_sn144904/D202110/fdchp_20211002_220200.dat'</pre></body></html>"
      ],
      "text/plain": [
       "filename = '/home/jovyan/ooi/uncabled/GI01SUMO/R00008/instruments/dcl12/FDCHP_sn144904/D202110/fdchp_20211002_220200.dat'"
      ]
     },
     "execution_count": 24,
     "metadata": {},
     "output_type": "execute_result"
    },
    {
     "data": {
      "text/html": [
       "<html><body><pre>filename = '/home/jovyan/ooi/uncabled/GI01SUMO/R00008/instruments/dcl12/FDCHP_sn144904/D202110/fdchp_20211002_230200.dat'</pre></body></html>"
      ],
      "text/plain": [
       "filename = '/home/jovyan/ooi/uncabled/GI01SUMO/R00008/instruments/dcl12/FDCHP_sn144904/D202110/fdchp_20211002_230200.dat'"
      ]
     },
     "execution_count": 24,
     "metadata": {},
     "output_type": "execute_result"
    },
    {
     "data": {
      "text/html": [
       "<html><body><pre>filename = '/home/jovyan/ooi/uncabled/GI01SUMO/R00008/instruments/dcl12/FDCHP_sn144904/D202110/fdchp_20211003_000200.dat'</pre></body></html>"
      ],
      "text/plain": [
       "filename = '/home/jovyan/ooi/uncabled/GI01SUMO/R00008/instruments/dcl12/FDCHP_sn144904/D202110/fdchp_20211003_000200.dat'"
      ]
     },
     "execution_count": 24,
     "metadata": {},
     "output_type": "execute_result"
    },
    {
     "data": {
      "text/html": [
       "<html><body><pre>filename = '/home/jovyan/ooi/uncabled/GI01SUMO/R00008/instruments/dcl12/FDCHP_sn144904/D202110/fdchp_20211003_010200.dat'</pre></body></html>"
      ],
      "text/plain": [
       "filename = '/home/jovyan/ooi/uncabled/GI01SUMO/R00008/instruments/dcl12/FDCHP_sn144904/D202110/fdchp_20211003_010200.dat'"
      ]
     },
     "execution_count": 24,
     "metadata": {},
     "output_type": "execute_result"
    },
    {
     "data": {
      "text/html": [
       "<html><body><pre>filename = '/home/jovyan/ooi/uncabled/GI01SUMO/R00008/instruments/dcl12/FDCHP_sn144904/D202110/fdchp_20211003_020200.dat'</pre></body></html>"
      ],
      "text/plain": [
       "filename = '/home/jovyan/ooi/uncabled/GI01SUMO/R00008/instruments/dcl12/FDCHP_sn144904/D202110/fdchp_20211003_020200.dat'"
      ]
     },
     "execution_count": 24,
     "metadata": {},
     "output_type": "execute_result"
    },
    {
     "data": {
      "text/html": [
       "<html><body><pre>filename = '/home/jovyan/ooi/uncabled/GI01SUMO/R00008/instruments/dcl12/FDCHP_sn144904/D202110/fdchp_20211003_030200.dat'</pre></body></html>"
      ],
      "text/plain": [
       "filename = '/home/jovyan/ooi/uncabled/GI01SUMO/R00008/instruments/dcl12/FDCHP_sn144904/D202110/fdchp_20211003_030200.dat'"
      ]
     },
     "execution_count": 24,
     "metadata": {},
     "output_type": "execute_result"
    },
    {
     "data": {
      "text/html": [
       "<html><body><pre>filename = '/home/jovyan/ooi/uncabled/GI01SUMO/R00008/instruments/dcl12/FDCHP_sn144904/D202110/fdchp_20211003_040200.dat'</pre></body></html>"
      ],
      "text/plain": [
       "filename = '/home/jovyan/ooi/uncabled/GI01SUMO/R00008/instruments/dcl12/FDCHP_sn144904/D202110/fdchp_20211003_040200.dat'"
      ]
     },
     "execution_count": 24,
     "metadata": {},
     "output_type": "execute_result"
    },
    {
     "data": {
      "text/html": [
       "<html><body><pre>filename = '/home/jovyan/ooi/uncabled/GI01SUMO/R00008/instruments/dcl12/FDCHP_sn144904/D202110/fdchp_20211003_050200.dat'</pre></body></html>"
      ],
      "text/plain": [
       "filename = '/home/jovyan/ooi/uncabled/GI01SUMO/R00008/instruments/dcl12/FDCHP_sn144904/D202110/fdchp_20211003_050200.dat'"
      ]
     },
     "execution_count": 24,
     "metadata": {},
     "output_type": "execute_result"
    },
    {
     "data": {
      "text/html": [
       "<html><body><pre>filename = '/home/jovyan/ooi/uncabled/GI01SUMO/R00008/instruments/dcl12/FDCHP_sn144904/D202110/fdchp_20211003_060200.dat'</pre></body></html>"
      ],
      "text/plain": [
       "filename = '/home/jovyan/ooi/uncabled/GI01SUMO/R00008/instruments/dcl12/FDCHP_sn144904/D202110/fdchp_20211003_060200.dat'"
      ]
     },
     "execution_count": 24,
     "metadata": {},
     "output_type": "execute_result"
    },
    {
     "data": {
      "text/html": [
       "<html><body><pre>filename = '/home/jovyan/ooi/uncabled/GI01SUMO/R00008/instruments/dcl12/FDCHP_sn144904/D202110/fdchp_20211003_070200.dat'</pre></body></html>"
      ],
      "text/plain": [
       "filename = '/home/jovyan/ooi/uncabled/GI01SUMO/R00008/instruments/dcl12/FDCHP_sn144904/D202110/fdchp_20211003_070200.dat'"
      ]
     },
     "execution_count": 24,
     "metadata": {},
     "output_type": "execute_result"
    },
    {
     "data": {
      "text/html": [
       "<html><body><pre>filename = '/home/jovyan/ooi/uncabled/GI01SUMO/R00008/instruments/dcl12/FDCHP_sn144904/D202110/fdchp_20211003_080200.dat'</pre></body></html>"
      ],
      "text/plain": [
       "filename = '/home/jovyan/ooi/uncabled/GI01SUMO/R00008/instruments/dcl12/FDCHP_sn144904/D202110/fdchp_20211003_080200.dat'"
      ]
     },
     "execution_count": 24,
     "metadata": {},
     "output_type": "execute_result"
    },
    {
     "data": {
      "text/html": [
       "<html><body><pre>filename = '/home/jovyan/ooi/uncabled/GI01SUMO/R00008/instruments/dcl12/FDCHP_sn144904/D202110/fdchp_20211003_090200.dat'</pre></body></html>"
      ],
      "text/plain": [
       "filename = '/home/jovyan/ooi/uncabled/GI01SUMO/R00008/instruments/dcl12/FDCHP_sn144904/D202110/fdchp_20211003_090200.dat'"
      ]
     },
     "execution_count": 24,
     "metadata": {},
     "output_type": "execute_result"
    },
    {
     "data": {
      "text/html": [
       "<html><body><pre>filename = '/home/jovyan/ooi/uncabled/GI01SUMO/R00008/instruments/dcl12/FDCHP_sn144904/D202110/fdchp_20211003_100200.dat'</pre></body></html>"
      ],
      "text/plain": [
       "filename = '/home/jovyan/ooi/uncabled/GI01SUMO/R00008/instruments/dcl12/FDCHP_sn144904/D202110/fdchp_20211003_100200.dat'"
      ]
     },
     "execution_count": 24,
     "metadata": {},
     "output_type": "execute_result"
    },
    {
     "data": {
      "text/html": [
       "<html><body><pre>filename = '/home/jovyan/ooi/uncabled/GI01SUMO/R00008/instruments/dcl12/FDCHP_sn144904/D202110/fdchp_20211003_110200.dat'</pre></body></html>"
      ],
      "text/plain": [
       "filename = '/home/jovyan/ooi/uncabled/GI01SUMO/R00008/instruments/dcl12/FDCHP_sn144904/D202110/fdchp_20211003_110200.dat'"
      ]
     },
     "execution_count": 24,
     "metadata": {},
     "output_type": "execute_result"
    },
    {
     "data": {
      "text/html": [
       "<html><body><pre>filename = '/home/jovyan/ooi/uncabled/GI01SUMO/R00008/instruments/dcl12/FDCHP_sn144904/D202110/fdchp_20211003_120200.dat'</pre></body></html>"
      ],
      "text/plain": [
       "filename = '/home/jovyan/ooi/uncabled/GI01SUMO/R00008/instruments/dcl12/FDCHP_sn144904/D202110/fdchp_20211003_120200.dat'"
      ]
     },
     "execution_count": 24,
     "metadata": {},
     "output_type": "execute_result"
    },
    {
     "data": {
      "text/html": [
       "<html><body><pre>filename = '/home/jovyan/ooi/uncabled/GI01SUMO/R00008/instruments/dcl12/FDCHP_sn144904/D202110/fdchp_20211003_130200.dat'</pre></body></html>"
      ],
      "text/plain": [
       "filename = '/home/jovyan/ooi/uncabled/GI01SUMO/R00008/instruments/dcl12/FDCHP_sn144904/D202110/fdchp_20211003_130200.dat'"
      ]
     },
     "execution_count": 24,
     "metadata": {},
     "output_type": "execute_result"
    },
    {
     "data": {
      "text/html": [
       "<html><body><pre>filename = '/home/jovyan/ooi/uncabled/GI01SUMO/R00008/instruments/dcl12/FDCHP_sn144904/D202110/fdchp_20211003_140200.dat'</pre></body></html>"
      ],
      "text/plain": [
       "filename = '/home/jovyan/ooi/uncabled/GI01SUMO/R00008/instruments/dcl12/FDCHP_sn144904/D202110/fdchp_20211003_140200.dat'"
      ]
     },
     "execution_count": 24,
     "metadata": {},
     "output_type": "execute_result"
    },
    {
     "data": {
      "text/html": [
       "<html><body><pre>filename = '/home/jovyan/ooi/uncabled/GI01SUMO/R00008/instruments/dcl12/FDCHP_sn144904/D202110/fdchp_20211003_150200.dat'</pre></body></html>"
      ],
      "text/plain": [
       "filename = '/home/jovyan/ooi/uncabled/GI01SUMO/R00008/instruments/dcl12/FDCHP_sn144904/D202110/fdchp_20211003_150200.dat'"
      ]
     },
     "execution_count": 24,
     "metadata": {},
     "output_type": "execute_result"
    },
    {
     "data": {
      "text/html": [
       "<html><body><pre>filename = '/home/jovyan/ooi/uncabled/GI01SUMO/R00008/instruments/dcl12/FDCHP_sn144904/D202110/fdchp_20211003_160200.dat'</pre></body></html>"
      ],
      "text/plain": [
       "filename = '/home/jovyan/ooi/uncabled/GI01SUMO/R00008/instruments/dcl12/FDCHP_sn144904/D202110/fdchp_20211003_160200.dat'"
      ]
     },
     "execution_count": 24,
     "metadata": {},
     "output_type": "execute_result"
    },
    {
     "data": {
      "text/html": [
       "<html><body><pre>filename = '/home/jovyan/ooi/uncabled/GI01SUMO/R00008/instruments/dcl12/FDCHP_sn144904/D202110/fdchp_20211003_170200.dat'</pre></body></html>"
      ],
      "text/plain": [
       "filename = '/home/jovyan/ooi/uncabled/GI01SUMO/R00008/instruments/dcl12/FDCHP_sn144904/D202110/fdchp_20211003_170200.dat'"
      ]
     },
     "execution_count": 24,
     "metadata": {},
     "output_type": "execute_result"
    },
    {
     "data": {
      "text/html": [
       "<html><body><pre>filename = '/home/jovyan/ooi/uncabled/GI01SUMO/R00008/instruments/dcl12/FDCHP_sn144904/D202110/fdchp_20211003_180200.dat'</pre></body></html>"
      ],
      "text/plain": [
       "filename = '/home/jovyan/ooi/uncabled/GI01SUMO/R00008/instruments/dcl12/FDCHP_sn144904/D202110/fdchp_20211003_180200.dat'"
      ]
     },
     "execution_count": 24,
     "metadata": {},
     "output_type": "execute_result"
    },
    {
     "data": {
      "text/html": [
       "<html><body><pre>filename = '/home/jovyan/ooi/uncabled/GI01SUMO/R00008/instruments/dcl12/FDCHP_sn144904/D202110/fdchp_20211003_190200.dat'</pre></body></html>"
      ],
      "text/plain": [
       "filename = '/home/jovyan/ooi/uncabled/GI01SUMO/R00008/instruments/dcl12/FDCHP_sn144904/D202110/fdchp_20211003_190200.dat'"
      ]
     },
     "execution_count": 24,
     "metadata": {},
     "output_type": "execute_result"
    },
    {
     "data": {
      "text/html": [
       "<html><body><pre>filename = '/home/jovyan/ooi/uncabled/GI01SUMO/R00008/instruments/dcl12/FDCHP_sn144904/D202110/fdchp_20211003_200200.dat'</pre></body></html>"
      ],
      "text/plain": [
       "filename = '/home/jovyan/ooi/uncabled/GI01SUMO/R00008/instruments/dcl12/FDCHP_sn144904/D202110/fdchp_20211003_200200.dat'"
      ]
     },
     "execution_count": 24,
     "metadata": {},
     "output_type": "execute_result"
    },
    {
     "data": {
      "text/html": [
       "<html><body><pre>filename = '/home/jovyan/ooi/uncabled/GI01SUMO/R00008/instruments/dcl12/FDCHP_sn144904/D202110/fdchp_20211003_210200.dat'</pre></body></html>"
      ],
      "text/plain": [
       "filename = '/home/jovyan/ooi/uncabled/GI01SUMO/R00008/instruments/dcl12/FDCHP_sn144904/D202110/fdchp_20211003_210200.dat'"
      ]
     },
     "execution_count": 24,
     "metadata": {},
     "output_type": "execute_result"
    },
    {
     "data": {
      "text/html": [
       "<html><body><pre>filename = '/home/jovyan/ooi/uncabled/GI01SUMO/R00008/instruments/dcl12/FDCHP_sn144904/D202110/fdchp_20211003_220200.dat'</pre></body></html>"
      ],
      "text/plain": [
       "filename = '/home/jovyan/ooi/uncabled/GI01SUMO/R00008/instruments/dcl12/FDCHP_sn144904/D202110/fdchp_20211003_220200.dat'"
      ]
     },
     "execution_count": 24,
     "metadata": {},
     "output_type": "execute_result"
    },
    {
     "data": {
      "text/html": [
       "<html><body><pre>filename = '/home/jovyan/ooi/uncabled/GI01SUMO/R00008/instruments/dcl12/FDCHP_sn144904/D202110/fdchp_20211003_230200.dat'</pre></body></html>"
      ],
      "text/plain": [
       "filename = '/home/jovyan/ooi/uncabled/GI01SUMO/R00008/instruments/dcl12/FDCHP_sn144904/D202110/fdchp_20211003_230200.dat'"
      ]
     },
     "execution_count": 24,
     "metadata": {},
     "output_type": "execute_result"
    },
    {
     "data": {
      "text/html": [
       "<html><body><pre>filename = '/home/jovyan/ooi/uncabled/GI01SUMO/R00008/instruments/dcl12/FDCHP_sn144904/D202110/fdchp_20211004_000200.dat'</pre></body></html>"
      ],
      "text/plain": [
       "filename = '/home/jovyan/ooi/uncabled/GI01SUMO/R00008/instruments/dcl12/FDCHP_sn144904/D202110/fdchp_20211004_000200.dat'"
      ]
     },
     "execution_count": 24,
     "metadata": {},
     "output_type": "execute_result"
    },
    {
     "data": {
      "text/html": [
       "<html><body><pre>filename = '/home/jovyan/ooi/uncabled/GI01SUMO/R00008/instruments/dcl12/FDCHP_sn144904/D202110/fdchp_20211004_010200.dat'</pre></body></html>"
      ],
      "text/plain": [
       "filename = '/home/jovyan/ooi/uncabled/GI01SUMO/R00008/instruments/dcl12/FDCHP_sn144904/D202110/fdchp_20211004_010200.dat'"
      ]
     },
     "execution_count": 24,
     "metadata": {},
     "output_type": "execute_result"
    },
    {
     "data": {
      "text/html": [
       "<html><body><pre>filename = '/home/jovyan/ooi/uncabled/GI01SUMO/R00008/instruments/dcl12/FDCHP_sn144904/D202110/fdchp_20211004_020200.dat'</pre></body></html>"
      ],
      "text/plain": [
       "filename = '/home/jovyan/ooi/uncabled/GI01SUMO/R00008/instruments/dcl12/FDCHP_sn144904/D202110/fdchp_20211004_020200.dat'"
      ]
     },
     "execution_count": 24,
     "metadata": {},
     "output_type": "execute_result"
    },
    {
     "data": {
      "text/html": [
       "<html><body><pre>filename = '/home/jovyan/ooi/uncabled/GI01SUMO/R00008/instruments/dcl12/FDCHP_sn144904/D202110/fdchp_20211004_030200.dat'</pre></body></html>"
      ],
      "text/plain": [
       "filename = '/home/jovyan/ooi/uncabled/GI01SUMO/R00008/instruments/dcl12/FDCHP_sn144904/D202110/fdchp_20211004_030200.dat'"
      ]
     },
     "execution_count": 24,
     "metadata": {},
     "output_type": "execute_result"
    },
    {
     "data": {
      "text/html": [
       "<html><body><pre>filename = '/home/jovyan/ooi/uncabled/GI01SUMO/R00008/instruments/dcl12/FDCHP_sn144904/D202110/fdchp_20211004_040200.dat'</pre></body></html>"
      ],
      "text/plain": [
       "filename = '/home/jovyan/ooi/uncabled/GI01SUMO/R00008/instruments/dcl12/FDCHP_sn144904/D202110/fdchp_20211004_040200.dat'"
      ]
     },
     "execution_count": 24,
     "metadata": {},
     "output_type": "execute_result"
    },
    {
     "data": {
      "text/html": [
       "<html><body><pre>filename = '/home/jovyan/ooi/uncabled/GI01SUMO/R00008/instruments/dcl12/FDCHP_sn144904/D202110/fdchp_20211004_050200.dat'</pre></body></html>"
      ],
      "text/plain": [
       "filename = '/home/jovyan/ooi/uncabled/GI01SUMO/R00008/instruments/dcl12/FDCHP_sn144904/D202110/fdchp_20211004_050200.dat'"
      ]
     },
     "execution_count": 24,
     "metadata": {},
     "output_type": "execute_result"
    },
    {
     "data": {
      "text/html": [
       "<html><body><pre>filename = '/home/jovyan/ooi/uncabled/GI01SUMO/R00008/instruments/dcl12/FDCHP_sn144904/D202110/fdchp_20211004_060200.dat'</pre></body></html>"
      ],
      "text/plain": [
       "filename = '/home/jovyan/ooi/uncabled/GI01SUMO/R00008/instruments/dcl12/FDCHP_sn144904/D202110/fdchp_20211004_060200.dat'"
      ]
     },
     "execution_count": 24,
     "metadata": {},
     "output_type": "execute_result"
    },
    {
     "data": {
      "text/html": [
       "<html><body><pre>filename = '/home/jovyan/ooi/uncabled/GI01SUMO/R00008/instruments/dcl12/FDCHP_sn144904/D202110/fdchp_20211004_070200.dat'</pre></body></html>"
      ],
      "text/plain": [
       "filename = '/home/jovyan/ooi/uncabled/GI01SUMO/R00008/instruments/dcl12/FDCHP_sn144904/D202110/fdchp_20211004_070200.dat'"
      ]
     },
     "execution_count": 24,
     "metadata": {},
     "output_type": "execute_result"
    },
    {
     "data": {
      "text/html": [
       "<html><body><pre>filename = '/home/jovyan/ooi/uncabled/GI01SUMO/R00008/instruments/dcl12/FDCHP_sn144904/D202110/fdchp_20211004_080200.dat'</pre></body></html>"
      ],
      "text/plain": [
       "filename = '/home/jovyan/ooi/uncabled/GI01SUMO/R00008/instruments/dcl12/FDCHP_sn144904/D202110/fdchp_20211004_080200.dat'"
      ]
     },
     "execution_count": 24,
     "metadata": {},
     "output_type": "execute_result"
    },
    {
     "data": {
      "text/html": [
       "<html><body><pre>filename = '/home/jovyan/ooi/uncabled/GI01SUMO/R00008/instruments/dcl12/FDCHP_sn144904/D202110/fdchp_20211004_090200.dat'</pre></body></html>"
      ],
      "text/plain": [
       "filename = '/home/jovyan/ooi/uncabled/GI01SUMO/R00008/instruments/dcl12/FDCHP_sn144904/D202110/fdchp_20211004_090200.dat'"
      ]
     },
     "execution_count": 24,
     "metadata": {},
     "output_type": "execute_result"
    },
    {
     "data": {
      "text/html": [
       "<html><body><pre>filename = '/home/jovyan/ooi/uncabled/GI01SUMO/R00008/instruments/dcl12/FDCHP_sn144904/D202110/fdchp_20211004_100200.dat'</pre></body></html>"
      ],
      "text/plain": [
       "filename = '/home/jovyan/ooi/uncabled/GI01SUMO/R00008/instruments/dcl12/FDCHP_sn144904/D202110/fdchp_20211004_100200.dat'"
      ]
     },
     "execution_count": 24,
     "metadata": {},
     "output_type": "execute_result"
    },
    {
     "data": {
      "text/html": [
       "<html><body><pre>filename = '/home/jovyan/ooi/uncabled/GI01SUMO/R00008/instruments/dcl12/FDCHP_sn144904/D202110/fdchp_20211004_110200.dat'</pre></body></html>"
      ],
      "text/plain": [
       "filename = '/home/jovyan/ooi/uncabled/GI01SUMO/R00008/instruments/dcl12/FDCHP_sn144904/D202110/fdchp_20211004_110200.dat'"
      ]
     },
     "execution_count": 24,
     "metadata": {},
     "output_type": "execute_result"
    },
    {
     "data": {
      "text/html": [
       "<html><body><pre>filename = '/home/jovyan/ooi/uncabled/GI01SUMO/R00008/instruments/dcl12/FDCHP_sn144904/D202110/fdchp_20211004_120200.dat'</pre></body></html>"
      ],
      "text/plain": [
       "filename = '/home/jovyan/ooi/uncabled/GI01SUMO/R00008/instruments/dcl12/FDCHP_sn144904/D202110/fdchp_20211004_120200.dat'"
      ]
     },
     "execution_count": 24,
     "metadata": {},
     "output_type": "execute_result"
    },
    {
     "data": {
      "text/html": [
       "<html><body><pre>filename = '/home/jovyan/ooi/uncabled/GI01SUMO/R00008/instruments/dcl12/FDCHP_sn144904/D202110/fdchp_20211004_130200.dat'</pre></body></html>"
      ],
      "text/plain": [
       "filename = '/home/jovyan/ooi/uncabled/GI01SUMO/R00008/instruments/dcl12/FDCHP_sn144904/D202110/fdchp_20211004_130200.dat'"
      ]
     },
     "execution_count": 24,
     "metadata": {},
     "output_type": "execute_result"
    },
    {
     "data": {
      "text/html": [
       "<html><body><pre>filename = '/home/jovyan/ooi/uncabled/GI01SUMO/R00008/instruments/dcl12/FDCHP_sn144904/D202110/fdchp_20211004_140200.dat'</pre></body></html>"
      ],
      "text/plain": [
       "filename = '/home/jovyan/ooi/uncabled/GI01SUMO/R00008/instruments/dcl12/FDCHP_sn144904/D202110/fdchp_20211004_140200.dat'"
      ]
     },
     "execution_count": 24,
     "metadata": {},
     "output_type": "execute_result"
    },
    {
     "data": {
      "text/html": [
       "<html><body><pre>filename = '/home/jovyan/ooi/uncabled/GI01SUMO/R00008/instruments/dcl12/FDCHP_sn144904/D202110/fdchp_20211004_150200.dat'</pre></body></html>"
      ],
      "text/plain": [
       "filename = '/home/jovyan/ooi/uncabled/GI01SUMO/R00008/instruments/dcl12/FDCHP_sn144904/D202110/fdchp_20211004_150200.dat'"
      ]
     },
     "execution_count": 24,
     "metadata": {},
     "output_type": "execute_result"
    },
    {
     "data": {
      "text/html": [
       "<html><body><pre>filename = '/home/jovyan/ooi/uncabled/GI01SUMO/R00008/instruments/dcl12/FDCHP_sn144904/D202110/fdchp_20211004_160200.dat'</pre></body></html>"
      ],
      "text/plain": [
       "filename = '/home/jovyan/ooi/uncabled/GI01SUMO/R00008/instruments/dcl12/FDCHP_sn144904/D202110/fdchp_20211004_160200.dat'"
      ]
     },
     "execution_count": 24,
     "metadata": {},
     "output_type": "execute_result"
    },
    {
     "data": {
      "text/html": [
       "<html><body><pre>filename = '/home/jovyan/ooi/uncabled/GI01SUMO/R00008/instruments/dcl12/FDCHP_sn144904/D202110/fdchp_20211004_170200.dat'</pre></body></html>"
      ],
      "text/plain": [
       "filename = '/home/jovyan/ooi/uncabled/GI01SUMO/R00008/instruments/dcl12/FDCHP_sn144904/D202110/fdchp_20211004_170200.dat'"
      ]
     },
     "execution_count": 24,
     "metadata": {},
     "output_type": "execute_result"
    },
    {
     "data": {
      "text/html": [
       "<html><body><pre>filename = '/home/jovyan/ooi/uncabled/GI01SUMO/R00008/instruments/dcl12/FDCHP_sn144904/D202110/fdchp_20211004_180200.dat'</pre></body></html>"
      ],
      "text/plain": [
       "filename = '/home/jovyan/ooi/uncabled/GI01SUMO/R00008/instruments/dcl12/FDCHP_sn144904/D202110/fdchp_20211004_180200.dat'"
      ]
     },
     "execution_count": 24,
     "metadata": {},
     "output_type": "execute_result"
    },
    {
     "data": {
      "text/html": [
       "<html><body><pre>filename = '/home/jovyan/ooi/uncabled/GI01SUMO/R00008/instruments/dcl12/FDCHP_sn144904/D202110/fdchp_20211004_190200.dat'</pre></body></html>"
      ],
      "text/plain": [
       "filename = '/home/jovyan/ooi/uncabled/GI01SUMO/R00008/instruments/dcl12/FDCHP_sn144904/D202110/fdchp_20211004_190200.dat'"
      ]
     },
     "execution_count": 24,
     "metadata": {},
     "output_type": "execute_result"
    },
    {
     "data": {
      "text/html": [
       "<html><body><pre>filename = '/home/jovyan/ooi/uncabled/GI01SUMO/R00008/instruments/dcl12/FDCHP_sn144904/D202110/fdchp_20211004_200200.dat'</pre></body></html>"
      ],
      "text/plain": [
       "filename = '/home/jovyan/ooi/uncabled/GI01SUMO/R00008/instruments/dcl12/FDCHP_sn144904/D202110/fdchp_20211004_200200.dat'"
      ]
     },
     "execution_count": 24,
     "metadata": {},
     "output_type": "execute_result"
    },
    {
     "data": {
      "text/html": [
       "<html><body><pre>filename = '/home/jovyan/ooi/uncabled/GI01SUMO/R00008/instruments/dcl12/FDCHP_sn144904/D202110/fdchp_20211004_210200.dat'</pre></body></html>"
      ],
      "text/plain": [
       "filename = '/home/jovyan/ooi/uncabled/GI01SUMO/R00008/instruments/dcl12/FDCHP_sn144904/D202110/fdchp_20211004_210200.dat'"
      ]
     },
     "execution_count": 24,
     "metadata": {},
     "output_type": "execute_result"
    },
    {
     "data": {
      "text/html": [
       "<html><body><pre>filename = '/home/jovyan/ooi/uncabled/GI01SUMO/R00008/instruments/dcl12/FDCHP_sn144904/D202110/fdchp_20211004_220200.dat'</pre></body></html>"
      ],
      "text/plain": [
       "filename = '/home/jovyan/ooi/uncabled/GI01SUMO/R00008/instruments/dcl12/FDCHP_sn144904/D202110/fdchp_20211004_220200.dat'"
      ]
     },
     "execution_count": 24,
     "metadata": {},
     "output_type": "execute_result"
    },
    {
     "data": {
      "text/html": [
       "<html><body><pre>filename = '/home/jovyan/ooi/uncabled/GI01SUMO/R00008/instruments/dcl12/FDCHP_sn144904/D202110/fdchp_20211004_230200.dat'</pre></body></html>"
      ],
      "text/plain": [
       "filename = '/home/jovyan/ooi/uncabled/GI01SUMO/R00008/instruments/dcl12/FDCHP_sn144904/D202110/fdchp_20211004_230200.dat'"
      ]
     },
     "execution_count": 24,
     "metadata": {},
     "output_type": "execute_result"
    },
    {
     "data": {
      "text/html": [
       "<html><body><pre>filename = '/home/jovyan/ooi/uncabled/GI01SUMO/R00008/instruments/dcl12/FDCHP_sn144904/D202110/fdchp_20211005_000200.dat'</pre></body></html>"
      ],
      "text/plain": [
       "filename = '/home/jovyan/ooi/uncabled/GI01SUMO/R00008/instruments/dcl12/FDCHP_sn144904/D202110/fdchp_20211005_000200.dat'"
      ]
     },
     "execution_count": 24,
     "metadata": {},
     "output_type": "execute_result"
    },
    {
     "data": {
      "text/html": [
       "<html><body><pre>filename = '/home/jovyan/ooi/uncabled/GI01SUMO/R00008/instruments/dcl12/FDCHP_sn144904/D202110/fdchp_20211005_010200.dat'</pre></body></html>"
      ],
      "text/plain": [
       "filename = '/home/jovyan/ooi/uncabled/GI01SUMO/R00008/instruments/dcl12/FDCHP_sn144904/D202110/fdchp_20211005_010200.dat'"
      ]
     },
     "execution_count": 24,
     "metadata": {},
     "output_type": "execute_result"
    },
    {
     "data": {
      "text/html": [
       "<html><body><pre>filename = '/home/jovyan/ooi/uncabled/GI01SUMO/R00008/instruments/dcl12/FDCHP_sn144904/D202110/fdchp_20211005_020200.dat'</pre></body></html>"
      ],
      "text/plain": [
       "filename = '/home/jovyan/ooi/uncabled/GI01SUMO/R00008/instruments/dcl12/FDCHP_sn144904/D202110/fdchp_20211005_020200.dat'"
      ]
     },
     "execution_count": 24,
     "metadata": {},
     "output_type": "execute_result"
    },
    {
     "data": {
      "text/html": [
       "<html><body><pre>filename = '/home/jovyan/ooi/uncabled/GI01SUMO/R00008/instruments/dcl12/FDCHP_sn144904/D202110/fdchp_20211005_030200.dat'</pre></body></html>"
      ],
      "text/plain": [
       "filename = '/home/jovyan/ooi/uncabled/GI01SUMO/R00008/instruments/dcl12/FDCHP_sn144904/D202110/fdchp_20211005_030200.dat'"
      ]
     },
     "execution_count": 24,
     "metadata": {},
     "output_type": "execute_result"
    },
    {
     "data": {
      "text/html": [
       "<html><body><pre>filename = '/home/jovyan/ooi/uncabled/GI01SUMO/R00008/instruments/dcl12/FDCHP_sn144904/D202110/fdchp_20211005_040200.dat'</pre></body></html>"
      ],
      "text/plain": [
       "filename = '/home/jovyan/ooi/uncabled/GI01SUMO/R00008/instruments/dcl12/FDCHP_sn144904/D202110/fdchp_20211005_040200.dat'"
      ]
     },
     "execution_count": 24,
     "metadata": {},
     "output_type": "execute_result"
    },
    {
     "data": {
      "text/html": [
       "<html><body><pre>filename = '/home/jovyan/ooi/uncabled/GI01SUMO/R00008/instruments/dcl12/FDCHP_sn144904/D202110/fdchp_20211005_050200.dat'</pre></body></html>"
      ],
      "text/plain": [
       "filename = '/home/jovyan/ooi/uncabled/GI01SUMO/R00008/instruments/dcl12/FDCHP_sn144904/D202110/fdchp_20211005_050200.dat'"
      ]
     },
     "execution_count": 24,
     "metadata": {},
     "output_type": "execute_result"
    },
    {
     "data": {
      "text/html": [
       "<html><body><pre>filename = '/home/jovyan/ooi/uncabled/GI01SUMO/R00008/instruments/dcl12/FDCHP_sn144904/D202110/fdchp_20211005_060200.dat'</pre></body></html>"
      ],
      "text/plain": [
       "filename = '/home/jovyan/ooi/uncabled/GI01SUMO/R00008/instruments/dcl12/FDCHP_sn144904/D202110/fdchp_20211005_060200.dat'"
      ]
     },
     "execution_count": 24,
     "metadata": {},
     "output_type": "execute_result"
    },
    {
     "data": {
      "text/html": [
       "<html><body><pre>filename = '/home/jovyan/ooi/uncabled/GI01SUMO/R00008/instruments/dcl12/FDCHP_sn144904/D202110/fdchp_20211005_070200.dat'</pre></body></html>"
      ],
      "text/plain": [
       "filename = '/home/jovyan/ooi/uncabled/GI01SUMO/R00008/instruments/dcl12/FDCHP_sn144904/D202110/fdchp_20211005_070200.dat'"
      ]
     },
     "execution_count": 24,
     "metadata": {},
     "output_type": "execute_result"
    },
    {
     "data": {
      "text/html": [
       "<html><body><pre>filename = '/home/jovyan/ooi/uncabled/GI01SUMO/R00008/instruments/dcl12/FDCHP_sn144904/D202110/fdchp_20211005_080200.dat'</pre></body></html>"
      ],
      "text/plain": [
       "filename = '/home/jovyan/ooi/uncabled/GI01SUMO/R00008/instruments/dcl12/FDCHP_sn144904/D202110/fdchp_20211005_080200.dat'"
      ]
     },
     "execution_count": 24,
     "metadata": {},
     "output_type": "execute_result"
    },
    {
     "data": {
      "text/html": [
       "<html><body><pre>filename = '/home/jovyan/ooi/uncabled/GI01SUMO/R00008/instruments/dcl12/FDCHP_sn144904/D202110/fdchp_20211005_090200.dat'</pre></body></html>"
      ],
      "text/plain": [
       "filename = '/home/jovyan/ooi/uncabled/GI01SUMO/R00008/instruments/dcl12/FDCHP_sn144904/D202110/fdchp_20211005_090200.dat'"
      ]
     },
     "execution_count": 24,
     "metadata": {},
     "output_type": "execute_result"
    },
    {
     "data": {
      "text/html": [
       "<html><body><pre>filename = '/home/jovyan/ooi/uncabled/GI01SUMO/R00008/instruments/dcl12/FDCHP_sn144904/D202110/fdchp_20211005_100200.dat'</pre></body></html>"
      ],
      "text/plain": [
       "filename = '/home/jovyan/ooi/uncabled/GI01SUMO/R00008/instruments/dcl12/FDCHP_sn144904/D202110/fdchp_20211005_100200.dat'"
      ]
     },
     "execution_count": 24,
     "metadata": {},
     "output_type": "execute_result"
    },
    {
     "data": {
      "text/html": [
       "<html><body><pre>filename = '/home/jovyan/ooi/uncabled/GI01SUMO/R00008/instruments/dcl12/FDCHP_sn144904/D202110/fdchp_20211005_110200.dat'</pre></body></html>"
      ],
      "text/plain": [
       "filename = '/home/jovyan/ooi/uncabled/GI01SUMO/R00008/instruments/dcl12/FDCHP_sn144904/D202110/fdchp_20211005_110200.dat'"
      ]
     },
     "execution_count": 24,
     "metadata": {},
     "output_type": "execute_result"
    },
    {
     "data": {
      "text/html": [
       "<html><body><pre>filename = '/home/jovyan/ooi/uncabled/GI01SUMO/R00008/instruments/dcl12/FDCHP_sn144904/D202110/fdchp_20211005_120200.dat'</pre></body></html>"
      ],
      "text/plain": [
       "filename = '/home/jovyan/ooi/uncabled/GI01SUMO/R00008/instruments/dcl12/FDCHP_sn144904/D202110/fdchp_20211005_120200.dat'"
      ]
     },
     "execution_count": 24,
     "metadata": {},
     "output_type": "execute_result"
    },
    {
     "data": {
      "text/html": [
       "<html><body><pre>filename = '/home/jovyan/ooi/uncabled/GI01SUMO/R00008/instruments/dcl12/FDCHP_sn144904/D202110/fdchp_20211005_130200.dat'</pre></body></html>"
      ],
      "text/plain": [
       "filename = '/home/jovyan/ooi/uncabled/GI01SUMO/R00008/instruments/dcl12/FDCHP_sn144904/D202110/fdchp_20211005_130200.dat'"
      ]
     },
     "execution_count": 24,
     "metadata": {},
     "output_type": "execute_result"
    },
    {
     "data": {
      "text/html": [
       "<html><body><pre>filename = '/home/jovyan/ooi/uncabled/GI01SUMO/R00008/instruments/dcl12/FDCHP_sn144904/D202110/fdchp_20211005_140200.dat'</pre></body></html>"
      ],
      "text/plain": [
       "filename = '/home/jovyan/ooi/uncabled/GI01SUMO/R00008/instruments/dcl12/FDCHP_sn144904/D202110/fdchp_20211005_140200.dat'"
      ]
     },
     "execution_count": 24,
     "metadata": {},
     "output_type": "execute_result"
    },
    {
     "data": {
      "text/html": [
       "<html><body><pre>filename = '/home/jovyan/ooi/uncabled/GI01SUMO/R00008/instruments/dcl12/FDCHP_sn144904/D202110/fdchp_20211005_150200.dat'</pre></body></html>"
      ],
      "text/plain": [
       "filename = '/home/jovyan/ooi/uncabled/GI01SUMO/R00008/instruments/dcl12/FDCHP_sn144904/D202110/fdchp_20211005_150200.dat'"
      ]
     },
     "execution_count": 24,
     "metadata": {},
     "output_type": "execute_result"
    },
    {
     "data": {
      "text/html": [
       "<html><body><pre>filename = '/home/jovyan/ooi/uncabled/GI01SUMO/R00008/instruments/dcl12/FDCHP_sn144904/D202110/fdchp_20211005_160200.dat'</pre></body></html>"
      ],
      "text/plain": [
       "filename = '/home/jovyan/ooi/uncabled/GI01SUMO/R00008/instruments/dcl12/FDCHP_sn144904/D202110/fdchp_20211005_160200.dat'"
      ]
     },
     "execution_count": 24,
     "metadata": {},
     "output_type": "execute_result"
    },
    {
     "data": {
      "text/html": [
       "<html><body><pre>filename = '/home/jovyan/ooi/uncabled/GI01SUMO/R00008/instruments/dcl12/FDCHP_sn144904/D202110/fdchp_20211005_170200.dat'</pre></body></html>"
      ],
      "text/plain": [
       "filename = '/home/jovyan/ooi/uncabled/GI01SUMO/R00008/instruments/dcl12/FDCHP_sn144904/D202110/fdchp_20211005_170200.dat'"
      ]
     },
     "execution_count": 24,
     "metadata": {},
     "output_type": "execute_result"
    },
    {
     "data": {
      "text/html": [
       "<html><body><pre>filename = '/home/jovyan/ooi/uncabled/GI01SUMO/R00008/instruments/dcl12/FDCHP_sn144904/D202110/fdchp_20211005_180200.dat'</pre></body></html>"
      ],
      "text/plain": [
       "filename = '/home/jovyan/ooi/uncabled/GI01SUMO/R00008/instruments/dcl12/FDCHP_sn144904/D202110/fdchp_20211005_180200.dat'"
      ]
     },
     "execution_count": 24,
     "metadata": {},
     "output_type": "execute_result"
    },
    {
     "data": {
      "text/html": [
       "<html><body><pre>filename = '/home/jovyan/ooi/uncabled/GI01SUMO/R00008/instruments/dcl12/FDCHP_sn144904/D202110/fdchp_20211005_190200.dat'</pre></body></html>"
      ],
      "text/plain": [
       "filename = '/home/jovyan/ooi/uncabled/GI01SUMO/R00008/instruments/dcl12/FDCHP_sn144904/D202110/fdchp_20211005_190200.dat'"
      ]
     },
     "execution_count": 24,
     "metadata": {},
     "output_type": "execute_result"
    },
    {
     "data": {
      "text/html": [
       "<html><body><pre>filename = '/home/jovyan/ooi/uncabled/GI01SUMO/R00008/instruments/dcl12/FDCHP_sn144904/D202110/fdchp_20211005_200200.dat'</pre></body></html>"
      ],
      "text/plain": [
       "filename = '/home/jovyan/ooi/uncabled/GI01SUMO/R00008/instruments/dcl12/FDCHP_sn144904/D202110/fdchp_20211005_200200.dat'"
      ]
     },
     "execution_count": 24,
     "metadata": {},
     "output_type": "execute_result"
    },
    {
     "data": {
      "text/html": [
       "<html><body><pre>filename = '/home/jovyan/ooi/uncabled/GI01SUMO/R00008/instruments/dcl12/FDCHP_sn144904/D202110/fdchp_20211005_210200.dat'</pre></body></html>"
      ],
      "text/plain": [
       "filename = '/home/jovyan/ooi/uncabled/GI01SUMO/R00008/instruments/dcl12/FDCHP_sn144904/D202110/fdchp_20211005_210200.dat'"
      ]
     },
     "execution_count": 24,
     "metadata": {},
     "output_type": "execute_result"
    },
    {
     "data": {
      "text/html": [
       "<html><body><pre>filename = '/home/jovyan/ooi/uncabled/GI01SUMO/R00008/instruments/dcl12/FDCHP_sn144904/D202110/fdchp_20211005_220200.dat'</pre></body></html>"
      ],
      "text/plain": [
       "filename = '/home/jovyan/ooi/uncabled/GI01SUMO/R00008/instruments/dcl12/FDCHP_sn144904/D202110/fdchp_20211005_220200.dat'"
      ]
     },
     "execution_count": 24,
     "metadata": {},
     "output_type": "execute_result"
    },
    {
     "data": {
      "text/html": [
       "<html><body><pre>filename = '/home/jovyan/ooi/uncabled/GI01SUMO/R00008/instruments/dcl12/FDCHP_sn144904/D202110/fdchp_20211005_230200.dat'</pre></body></html>"
      ],
      "text/plain": [
       "filename = '/home/jovyan/ooi/uncabled/GI01SUMO/R00008/instruments/dcl12/FDCHP_sn144904/D202110/fdchp_20211005_230200.dat'"
      ]
     },
     "execution_count": 24,
     "metadata": {},
     "output_type": "execute_result"
    },
    {
     "data": {
      "text/html": [
       "<html><body><pre>filename = '/home/jovyan/ooi/uncabled/GI01SUMO/R00008/instruments/dcl12/FDCHP_sn144904/D202110/fdchp_20211006_000200.dat'</pre></body></html>"
      ],
      "text/plain": [
       "filename = '/home/jovyan/ooi/uncabled/GI01SUMO/R00008/instruments/dcl12/FDCHP_sn144904/D202110/fdchp_20211006_000200.dat'"
      ]
     },
     "execution_count": 24,
     "metadata": {},
     "output_type": "execute_result"
    },
    {
     "data": {
      "text/html": [
       "<html><body><pre>filename = '/home/jovyan/ooi/uncabled/GI01SUMO/R00008/instruments/dcl12/FDCHP_sn144904/D202110/fdchp_20211006_010200.dat'</pre></body></html>"
      ],
      "text/plain": [
       "filename = '/home/jovyan/ooi/uncabled/GI01SUMO/R00008/instruments/dcl12/FDCHP_sn144904/D202110/fdchp_20211006_010200.dat'"
      ]
     },
     "execution_count": 24,
     "metadata": {},
     "output_type": "execute_result"
    },
    {
     "data": {
      "text/html": [
       "<html><body><pre>filename = '/home/jovyan/ooi/uncabled/GI01SUMO/R00008/instruments/dcl12/FDCHP_sn144904/D202110/fdchp_20211006_020200.dat'</pre></body></html>"
      ],
      "text/plain": [
       "filename = '/home/jovyan/ooi/uncabled/GI01SUMO/R00008/instruments/dcl12/FDCHP_sn144904/D202110/fdchp_20211006_020200.dat'"
      ]
     },
     "execution_count": 24,
     "metadata": {},
     "output_type": "execute_result"
    },
    {
     "data": {
      "text/html": [
       "<html><body><pre>filename = '/home/jovyan/ooi/uncabled/GI01SUMO/R00008/instruments/dcl12/FDCHP_sn144904/D202110/fdchp_20211006_030200.dat'</pre></body></html>"
      ],
      "text/plain": [
       "filename = '/home/jovyan/ooi/uncabled/GI01SUMO/R00008/instruments/dcl12/FDCHP_sn144904/D202110/fdchp_20211006_030200.dat'"
      ]
     },
     "execution_count": 24,
     "metadata": {},
     "output_type": "execute_result"
    },
    {
     "data": {
      "text/html": [
       "<html><body><pre>filename = '/home/jovyan/ooi/uncabled/GI01SUMO/R00008/instruments/dcl12/FDCHP_sn144904/D202110/fdchp_20211006_040200.dat'</pre></body></html>"
      ],
      "text/plain": [
       "filename = '/home/jovyan/ooi/uncabled/GI01SUMO/R00008/instruments/dcl12/FDCHP_sn144904/D202110/fdchp_20211006_040200.dat'"
      ]
     },
     "execution_count": 24,
     "metadata": {},
     "output_type": "execute_result"
    },
    {
     "data": {
      "text/html": [
       "<html><body><pre>filename = '/home/jovyan/ooi/uncabled/GI01SUMO/R00008/instruments/dcl12/FDCHP_sn144904/D202110/fdchp_20211006_050200.dat'</pre></body></html>"
      ],
      "text/plain": [
       "filename = '/home/jovyan/ooi/uncabled/GI01SUMO/R00008/instruments/dcl12/FDCHP_sn144904/D202110/fdchp_20211006_050200.dat'"
      ]
     },
     "execution_count": 24,
     "metadata": {},
     "output_type": "execute_result"
    },
    {
     "data": {
      "text/html": [
       "<html><body><pre>filename = '/home/jovyan/ooi/uncabled/GI01SUMO/R00008/instruments/dcl12/FDCHP_sn144904/D202110/fdchp_20211006_060200.dat'</pre></body></html>"
      ],
      "text/plain": [
       "filename = '/home/jovyan/ooi/uncabled/GI01SUMO/R00008/instruments/dcl12/FDCHP_sn144904/D202110/fdchp_20211006_060200.dat'"
      ]
     },
     "execution_count": 24,
     "metadata": {},
     "output_type": "execute_result"
    },
    {
     "data": {
      "text/html": [
       "<html><body><pre>filename = '/home/jovyan/ooi/uncabled/GI01SUMO/R00008/instruments/dcl12/FDCHP_sn144904/D202110/fdchp_20211006_070200.dat'</pre></body></html>"
      ],
      "text/plain": [
       "filename = '/home/jovyan/ooi/uncabled/GI01SUMO/R00008/instruments/dcl12/FDCHP_sn144904/D202110/fdchp_20211006_070200.dat'"
      ]
     },
     "execution_count": 24,
     "metadata": {},
     "output_type": "execute_result"
    },
    {
     "data": {
      "text/html": [
       "<html><body><pre>filename = '/home/jovyan/ooi/uncabled/GI01SUMO/R00008/instruments/dcl12/FDCHP_sn144904/D202110/fdchp_20211006_080200.dat'</pre></body></html>"
      ],
      "text/plain": [
       "filename = '/home/jovyan/ooi/uncabled/GI01SUMO/R00008/instruments/dcl12/FDCHP_sn144904/D202110/fdchp_20211006_080200.dat'"
      ]
     },
     "execution_count": 24,
     "metadata": {},
     "output_type": "execute_result"
    },
    {
     "data": {
      "text/html": [
       "<html><body><pre>filename = '/home/jovyan/ooi/uncabled/GI01SUMO/R00008/instruments/dcl12/FDCHP_sn144904/D202110/fdchp_20211006_090200.dat'</pre></body></html>"
      ],
      "text/plain": [
       "filename = '/home/jovyan/ooi/uncabled/GI01SUMO/R00008/instruments/dcl12/FDCHP_sn144904/D202110/fdchp_20211006_090200.dat'"
      ]
     },
     "execution_count": 24,
     "metadata": {},
     "output_type": "execute_result"
    },
    {
     "data": {
      "text/html": [
       "<html><body><pre>filename = '/home/jovyan/ooi/uncabled/GI01SUMO/R00008/instruments/dcl12/FDCHP_sn144904/D202110/fdchp_20211006_100200.dat'</pre></body></html>"
      ],
      "text/plain": [
       "filename = '/home/jovyan/ooi/uncabled/GI01SUMO/R00008/instruments/dcl12/FDCHP_sn144904/D202110/fdchp_20211006_100200.dat'"
      ]
     },
     "execution_count": 24,
     "metadata": {},
     "output_type": "execute_result"
    },
    {
     "data": {
      "text/html": [
       "<html><body><pre>filename = '/home/jovyan/ooi/uncabled/GI01SUMO/R00008/instruments/dcl12/FDCHP_sn144904/D202110/fdchp_20211006_110200.dat'</pre></body></html>"
      ],
      "text/plain": [
       "filename = '/home/jovyan/ooi/uncabled/GI01SUMO/R00008/instruments/dcl12/FDCHP_sn144904/D202110/fdchp_20211006_110200.dat'"
      ]
     },
     "execution_count": 24,
     "metadata": {},
     "output_type": "execute_result"
    },
    {
     "data": {
      "text/html": [
       "<html><body><pre>filename = '/home/jovyan/ooi/uncabled/GI01SUMO/R00008/instruments/dcl12/FDCHP_sn144904/D202110/fdchp_20211006_120200.dat'</pre></body></html>"
      ],
      "text/plain": [
       "filename = '/home/jovyan/ooi/uncabled/GI01SUMO/R00008/instruments/dcl12/FDCHP_sn144904/D202110/fdchp_20211006_120200.dat'"
      ]
     },
     "execution_count": 24,
     "metadata": {},
     "output_type": "execute_result"
    },
    {
     "data": {
      "text/html": [
       "<html><body><pre>filename = '/home/jovyan/ooi/uncabled/GI01SUMO/R00008/instruments/dcl12/FDCHP_sn144904/D202110/fdchp_20211006_130200.dat'</pre></body></html>"
      ],
      "text/plain": [
       "filename = '/home/jovyan/ooi/uncabled/GI01SUMO/R00008/instruments/dcl12/FDCHP_sn144904/D202110/fdchp_20211006_130200.dat'"
      ]
     },
     "execution_count": 24,
     "metadata": {},
     "output_type": "execute_result"
    },
    {
     "data": {
      "text/html": [
       "<html><body><pre>filename = '/home/jovyan/ooi/uncabled/GI01SUMO/R00008/instruments/dcl12/FDCHP_sn144904/D202110/fdchp_20211006_140200.dat'</pre></body></html>"
      ],
      "text/plain": [
       "filename = '/home/jovyan/ooi/uncabled/GI01SUMO/R00008/instruments/dcl12/FDCHP_sn144904/D202110/fdchp_20211006_140200.dat'"
      ]
     },
     "execution_count": 24,
     "metadata": {},
     "output_type": "execute_result"
    },
    {
     "data": {
      "text/html": [
       "<html><body><pre>filename = '/home/jovyan/ooi/uncabled/GI01SUMO/R00008/instruments/dcl12/FDCHP_sn144904/D202110/fdchp_20211006_150200.dat'</pre></body></html>"
      ],
      "text/plain": [
       "filename = '/home/jovyan/ooi/uncabled/GI01SUMO/R00008/instruments/dcl12/FDCHP_sn144904/D202110/fdchp_20211006_150200.dat'"
      ]
     },
     "execution_count": 24,
     "metadata": {},
     "output_type": "execute_result"
    },
    {
     "data": {
      "text/html": [
       "<html><body><pre>filename = '/home/jovyan/ooi/uncabled/GI01SUMO/R00008/instruments/dcl12/FDCHP_sn144904/D202110/fdchp_20211006_160200.dat'</pre></body></html>"
      ],
      "text/plain": [
       "filename = '/home/jovyan/ooi/uncabled/GI01SUMO/R00008/instruments/dcl12/FDCHP_sn144904/D202110/fdchp_20211006_160200.dat'"
      ]
     },
     "execution_count": 24,
     "metadata": {},
     "output_type": "execute_result"
    },
    {
     "data": {
      "text/html": [
       "<html><body><pre>filename = '/home/jovyan/ooi/uncabled/GI01SUMO/R00008/instruments/dcl12/FDCHP_sn144904/D202110/fdchp_20211006_170200.dat'</pre></body></html>"
      ],
      "text/plain": [
       "filename = '/home/jovyan/ooi/uncabled/GI01SUMO/R00008/instruments/dcl12/FDCHP_sn144904/D202110/fdchp_20211006_170200.dat'"
      ]
     },
     "execution_count": 24,
     "metadata": {},
     "output_type": "execute_result"
    },
    {
     "data": {
      "text/html": [
       "<html><body><pre>filename = '/home/jovyan/ooi/uncabled/GI01SUMO/R00008/instruments/dcl12/FDCHP_sn144904/D202110/fdchp_20211006_180200.dat'</pre></body></html>"
      ],
      "text/plain": [
       "filename = '/home/jovyan/ooi/uncabled/GI01SUMO/R00008/instruments/dcl12/FDCHP_sn144904/D202110/fdchp_20211006_180200.dat'"
      ]
     },
     "execution_count": 24,
     "metadata": {},
     "output_type": "execute_result"
    },
    {
     "data": {
      "text/html": [
       "<html><body><pre>filename = '/home/jovyan/ooi/uncabled/GI01SUMO/R00008/instruments/dcl12/FDCHP_sn144904/D202110/fdchp_20211006_190200.dat'</pre></body></html>"
      ],
      "text/plain": [
       "filename = '/home/jovyan/ooi/uncabled/GI01SUMO/R00008/instruments/dcl12/FDCHP_sn144904/D202110/fdchp_20211006_190200.dat'"
      ]
     },
     "execution_count": 24,
     "metadata": {},
     "output_type": "execute_result"
    },
    {
     "data": {
      "text/html": [
       "<html><body><pre>filename = '/home/jovyan/ooi/uncabled/GI01SUMO/R00008/instruments/dcl12/FDCHP_sn144904/D202110/fdchp_20211006_200200.dat'</pre></body></html>"
      ],
      "text/plain": [
       "filename = '/home/jovyan/ooi/uncabled/GI01SUMO/R00008/instruments/dcl12/FDCHP_sn144904/D202110/fdchp_20211006_200200.dat'"
      ]
     },
     "execution_count": 24,
     "metadata": {},
     "output_type": "execute_result"
    },
    {
     "data": {
      "text/html": [
       "<html><body><pre>filename = '/home/jovyan/ooi/uncabled/GI01SUMO/R00008/instruments/dcl12/FDCHP_sn144904/D202110/fdchp_20211006_210200.dat'</pre></body></html>"
      ],
      "text/plain": [
       "filename = '/home/jovyan/ooi/uncabled/GI01SUMO/R00008/instruments/dcl12/FDCHP_sn144904/D202110/fdchp_20211006_210200.dat'"
      ]
     },
     "execution_count": 24,
     "metadata": {},
     "output_type": "execute_result"
    },
    {
     "data": {
      "text/html": [
       "<html><body><pre>filename = '/home/jovyan/ooi/uncabled/GI01SUMO/R00008/instruments/dcl12/FDCHP_sn144904/D202110/fdchp_20211006_220200.dat'</pre></body></html>"
      ],
      "text/plain": [
       "filename = '/home/jovyan/ooi/uncabled/GI01SUMO/R00008/instruments/dcl12/FDCHP_sn144904/D202110/fdchp_20211006_220200.dat'"
      ]
     },
     "execution_count": 24,
     "metadata": {},
     "output_type": "execute_result"
    },
    {
     "data": {
      "text/html": [
       "<html><body><pre>filename = '/home/jovyan/ooi/uncabled/GI01SUMO/R00008/instruments/dcl12/FDCHP_sn144904/D202110/fdchp_20211006_230200.dat'</pre></body></html>"
      ],
      "text/plain": [
       "filename = '/home/jovyan/ooi/uncabled/GI01SUMO/R00008/instruments/dcl12/FDCHP_sn144904/D202110/fdchp_20211006_230200.dat'"
      ]
     },
     "execution_count": 24,
     "metadata": {},
     "output_type": "execute_result"
    },
    {
     "data": {
      "text/html": [
       "<html><body><pre>filename = '/home/jovyan/ooi/uncabled/GI01SUMO/R00008/instruments/dcl12/FDCHP_sn144904/D202110/fdchp_20211007_000200.dat'</pre></body></html>"
      ],
      "text/plain": [
       "filename = '/home/jovyan/ooi/uncabled/GI01SUMO/R00008/instruments/dcl12/FDCHP_sn144904/D202110/fdchp_20211007_000200.dat'"
      ]
     },
     "execution_count": 24,
     "metadata": {},
     "output_type": "execute_result"
    },
    {
     "data": {
      "text/html": [
       "<html><body><pre>filename = '/home/jovyan/ooi/uncabled/GI01SUMO/R00008/instruments/dcl12/FDCHP_sn144904/D202110/fdchp_20211007_010200.dat'</pre></body></html>"
      ],
      "text/plain": [
       "filename = '/home/jovyan/ooi/uncabled/GI01SUMO/R00008/instruments/dcl12/FDCHP_sn144904/D202110/fdchp_20211007_010200.dat'"
      ]
     },
     "execution_count": 24,
     "metadata": {},
     "output_type": "execute_result"
    },
    {
     "data": {
      "text/html": [
       "<html><body><pre>filename = '/home/jovyan/ooi/uncabled/GI01SUMO/R00008/instruments/dcl12/FDCHP_sn144904/D202110/fdchp_20211007_020200.dat'</pre></body></html>"
      ],
      "text/plain": [
       "filename = '/home/jovyan/ooi/uncabled/GI01SUMO/R00008/instruments/dcl12/FDCHP_sn144904/D202110/fdchp_20211007_020200.dat'"
      ]
     },
     "execution_count": 24,
     "metadata": {},
     "output_type": "execute_result"
    },
    {
     "data": {
      "text/html": [
       "<html><body><pre>filename = '/home/jovyan/ooi/uncabled/GI01SUMO/R00008/instruments/dcl12/FDCHP_sn144904/D202110/fdchp_20211007_030200.dat'</pre></body></html>"
      ],
      "text/plain": [
       "filename = '/home/jovyan/ooi/uncabled/GI01SUMO/R00008/instruments/dcl12/FDCHP_sn144904/D202110/fdchp_20211007_030200.dat'"
      ]
     },
     "execution_count": 24,
     "metadata": {},
     "output_type": "execute_result"
    },
    {
     "data": {
      "text/html": [
       "<html><body><pre>filename = '/home/jovyan/ooi/uncabled/GI01SUMO/R00008/instruments/dcl12/FDCHP_sn144904/D202110/fdchp_20211007_040200.dat'</pre></body></html>"
      ],
      "text/plain": [
       "filename = '/home/jovyan/ooi/uncabled/GI01SUMO/R00008/instruments/dcl12/FDCHP_sn144904/D202110/fdchp_20211007_040200.dat'"
      ]
     },
     "execution_count": 24,
     "metadata": {},
     "output_type": "execute_result"
    },
    {
     "data": {
      "text/html": [
       "<html><body><pre>filename = '/home/jovyan/ooi/uncabled/GI01SUMO/R00008/instruments/dcl12/FDCHP_sn144904/D202110/fdchp_20211007_050200.dat'</pre></body></html>"
      ],
      "text/plain": [
       "filename = '/home/jovyan/ooi/uncabled/GI01SUMO/R00008/instruments/dcl12/FDCHP_sn144904/D202110/fdchp_20211007_050200.dat'"
      ]
     },
     "execution_count": 24,
     "metadata": {},
     "output_type": "execute_result"
    },
    {
     "data": {
      "text/html": [
       "<html><body><pre>filename = '/home/jovyan/ooi/uncabled/GI01SUMO/R00008/instruments/dcl12/FDCHP_sn144904/D202110/fdchp_20211007_060200.dat'</pre></body></html>"
      ],
      "text/plain": [
       "filename = '/home/jovyan/ooi/uncabled/GI01SUMO/R00008/instruments/dcl12/FDCHP_sn144904/D202110/fdchp_20211007_060200.dat'"
      ]
     },
     "execution_count": 24,
     "metadata": {},
     "output_type": "execute_result"
    },
    {
     "data": {
      "text/html": [
       "<html><body><pre>filename = '/home/jovyan/ooi/uncabled/GI01SUMO/R00008/instruments/dcl12/FDCHP_sn144904/D202110/fdchp_20211007_070200.dat'</pre></body></html>"
      ],
      "text/plain": [
       "filename = '/home/jovyan/ooi/uncabled/GI01SUMO/R00008/instruments/dcl12/FDCHP_sn144904/D202110/fdchp_20211007_070200.dat'"
      ]
     },
     "execution_count": 24,
     "metadata": {},
     "output_type": "execute_result"
    },
    {
     "data": {
      "text/html": [
       "<html><body><pre>filename = '/home/jovyan/ooi/uncabled/GI01SUMO/R00008/instruments/dcl12/FDCHP_sn144904/D202110/fdchp_20211007_080200.dat'</pre></body></html>"
      ],
      "text/plain": [
       "filename = '/home/jovyan/ooi/uncabled/GI01SUMO/R00008/instruments/dcl12/FDCHP_sn144904/D202110/fdchp_20211007_080200.dat'"
      ]
     },
     "execution_count": 24,
     "metadata": {},
     "output_type": "execute_result"
    },
    {
     "data": {
      "text/html": [
       "<html><body><pre>filename = '/home/jovyan/ooi/uncabled/GI01SUMO/R00008/instruments/dcl12/FDCHP_sn144904/D202110/fdchp_20211007_090200.dat'</pre></body></html>"
      ],
      "text/plain": [
       "filename = '/home/jovyan/ooi/uncabled/GI01SUMO/R00008/instruments/dcl12/FDCHP_sn144904/D202110/fdchp_20211007_090200.dat'"
      ]
     },
     "execution_count": 24,
     "metadata": {},
     "output_type": "execute_result"
    },
    {
     "data": {
      "text/html": [
       "<html><body><pre>filename = '/home/jovyan/ooi/uncabled/GI01SUMO/R00008/instruments/dcl12/FDCHP_sn144904/D202110/fdchp_20211007_100200.dat'</pre></body></html>"
      ],
      "text/plain": [
       "filename = '/home/jovyan/ooi/uncabled/GI01SUMO/R00008/instruments/dcl12/FDCHP_sn144904/D202110/fdchp_20211007_100200.dat'"
      ]
     },
     "execution_count": 24,
     "metadata": {},
     "output_type": "execute_result"
    },
    {
     "data": {
      "text/html": [
       "<html><body><pre>filename = '/home/jovyan/ooi/uncabled/GI01SUMO/R00008/instruments/dcl12/FDCHP_sn144904/D202110/fdchp_20211007_110200.dat'</pre></body></html>"
      ],
      "text/plain": [
       "filename = '/home/jovyan/ooi/uncabled/GI01SUMO/R00008/instruments/dcl12/FDCHP_sn144904/D202110/fdchp_20211007_110200.dat'"
      ]
     },
     "execution_count": 24,
     "metadata": {},
     "output_type": "execute_result"
    },
    {
     "data": {
      "text/html": [
       "<html><body><pre>filename = '/home/jovyan/ooi/uncabled/GI01SUMO/R00008/instruments/dcl12/FDCHP_sn144904/D202110/fdchp_20211007_120200.dat'</pre></body></html>"
      ],
      "text/plain": [
       "filename = '/home/jovyan/ooi/uncabled/GI01SUMO/R00008/instruments/dcl12/FDCHP_sn144904/D202110/fdchp_20211007_120200.dat'"
      ]
     },
     "execution_count": 24,
     "metadata": {},
     "output_type": "execute_result"
    },
    {
     "data": {
      "text/html": [
       "<html><body><pre>filename = '/home/jovyan/ooi/uncabled/GI01SUMO/R00008/instruments/dcl12/FDCHP_sn144904/D202110/fdchp_20211007_130200.dat'</pre></body></html>"
      ],
      "text/plain": [
       "filename = '/home/jovyan/ooi/uncabled/GI01SUMO/R00008/instruments/dcl12/FDCHP_sn144904/D202110/fdchp_20211007_130200.dat'"
      ]
     },
     "execution_count": 24,
     "metadata": {},
     "output_type": "execute_result"
    },
    {
     "data": {
      "text/html": [
       "<html><body><pre>filename = '/home/jovyan/ooi/uncabled/GI01SUMO/R00008/instruments/dcl12/FDCHP_sn144904/D202110/fdchp_20211007_140200.dat'</pre></body></html>"
      ],
      "text/plain": [
       "filename = '/home/jovyan/ooi/uncabled/GI01SUMO/R00008/instruments/dcl12/FDCHP_sn144904/D202110/fdchp_20211007_140200.dat'"
      ]
     },
     "execution_count": 24,
     "metadata": {},
     "output_type": "execute_result"
    },
    {
     "data": {
      "text/html": [
       "<html><body><pre>filename = '/home/jovyan/ooi/uncabled/GI01SUMO/R00008/instruments/dcl12/FDCHP_sn144904/D202110/fdchp_20211007_150200.dat'</pre></body></html>"
      ],
      "text/plain": [
       "filename = '/home/jovyan/ooi/uncabled/GI01SUMO/R00008/instruments/dcl12/FDCHP_sn144904/D202110/fdchp_20211007_150200.dat'"
      ]
     },
     "execution_count": 24,
     "metadata": {},
     "output_type": "execute_result"
    },
    {
     "data": {
      "text/html": [
       "<html><body><pre>filename = '/home/jovyan/ooi/uncabled/GI01SUMO/R00008/instruments/dcl12/FDCHP_sn144904/D202110/fdchp_20211007_160200.dat'</pre></body></html>"
      ],
      "text/plain": [
       "filename = '/home/jovyan/ooi/uncabled/GI01SUMO/R00008/instruments/dcl12/FDCHP_sn144904/D202110/fdchp_20211007_160200.dat'"
      ]
     },
     "execution_count": 24,
     "metadata": {},
     "output_type": "execute_result"
    },
    {
     "data": {
      "text/html": [
       "<html><body><pre>filename = '/home/jovyan/ooi/uncabled/GI01SUMO/R00008/instruments/dcl12/FDCHP_sn144904/D202110/fdchp_20211007_170200.dat'</pre></body></html>"
      ],
      "text/plain": [
       "filename = '/home/jovyan/ooi/uncabled/GI01SUMO/R00008/instruments/dcl12/FDCHP_sn144904/D202110/fdchp_20211007_170200.dat'"
      ]
     },
     "execution_count": 24,
     "metadata": {},
     "output_type": "execute_result"
    },
    {
     "data": {
      "text/html": [
       "<html><body><pre>filename = '/home/jovyan/ooi/uncabled/GI01SUMO/R00008/instruments/dcl12/FDCHP_sn144904/D202110/fdchp_20211007_180200.dat'</pre></body></html>"
      ],
      "text/plain": [
       "filename = '/home/jovyan/ooi/uncabled/GI01SUMO/R00008/instruments/dcl12/FDCHP_sn144904/D202110/fdchp_20211007_180200.dat'"
      ]
     },
     "execution_count": 24,
     "metadata": {},
     "output_type": "execute_result"
    },
    {
     "data": {
      "text/html": [
       "<html><body><pre>filename = '/home/jovyan/ooi/uncabled/GI01SUMO/R00008/instruments/dcl12/FDCHP_sn144904/D202110/fdchp_20211007_190200.dat'</pre></body></html>"
      ],
      "text/plain": [
       "filename = '/home/jovyan/ooi/uncabled/GI01SUMO/R00008/instruments/dcl12/FDCHP_sn144904/D202110/fdchp_20211007_190200.dat'"
      ]
     },
     "execution_count": 24,
     "metadata": {},
     "output_type": "execute_result"
    },
    {
     "data": {
      "text/html": [
       "<html><body><pre>filename = '/home/jovyan/ooi/uncabled/GI01SUMO/R00008/instruments/dcl12/FDCHP_sn144904/D202110/fdchp_20211007_200200.dat'</pre></body></html>"
      ],
      "text/plain": [
       "filename = '/home/jovyan/ooi/uncabled/GI01SUMO/R00008/instruments/dcl12/FDCHP_sn144904/D202110/fdchp_20211007_200200.dat'"
      ]
     },
     "execution_count": 24,
     "metadata": {},
     "output_type": "execute_result"
    },
    {
     "data": {
      "text/html": [
       "<html><body><pre>filename = '/home/jovyan/ooi/uncabled/GI01SUMO/R00008/instruments/dcl12/FDCHP_sn144904/D202110/fdchp_20211007_210200.dat'</pre></body></html>"
      ],
      "text/plain": [
       "filename = '/home/jovyan/ooi/uncabled/GI01SUMO/R00008/instruments/dcl12/FDCHP_sn144904/D202110/fdchp_20211007_210200.dat'"
      ]
     },
     "execution_count": 24,
     "metadata": {},
     "output_type": "execute_result"
    },
    {
     "data": {
      "text/html": [
       "<html><body><pre>filename = '/home/jovyan/ooi/uncabled/GI01SUMO/R00008/instruments/dcl12/FDCHP_sn144904/D202110/fdchp_20211007_220200.dat'</pre></body></html>"
      ],
      "text/plain": [
       "filename = '/home/jovyan/ooi/uncabled/GI01SUMO/R00008/instruments/dcl12/FDCHP_sn144904/D202110/fdchp_20211007_220200.dat'"
      ]
     },
     "execution_count": 24,
     "metadata": {},
     "output_type": "execute_result"
    },
    {
     "data": {
      "text/html": [
       "<html><body><pre>filename = '/home/jovyan/ooi/uncabled/GI01SUMO/R00008/instruments/dcl12/FDCHP_sn144904/D202110/fdchp_20211007_230200.dat'</pre></body></html>"
      ],
      "text/plain": [
       "filename = '/home/jovyan/ooi/uncabled/GI01SUMO/R00008/instruments/dcl12/FDCHP_sn144904/D202110/fdchp_20211007_230200.dat'"
      ]
     },
     "execution_count": 24,
     "metadata": {},
     "output_type": "execute_result"
    },
    {
     "data": {
      "text/html": [
       "<html><body><pre>filename = '/home/jovyan/ooi/uncabled/GI01SUMO/R00008/instruments/dcl12/FDCHP_sn144904/D202110/fdchp_20211008_000200.dat'</pre></body></html>"
      ],
      "text/plain": [
       "filename = '/home/jovyan/ooi/uncabled/GI01SUMO/R00008/instruments/dcl12/FDCHP_sn144904/D202110/fdchp_20211008_000200.dat'"
      ]
     },
     "execution_count": 24,
     "metadata": {},
     "output_type": "execute_result"
    },
    {
     "data": {
      "text/html": [
       "<html><body><pre>filename = '/home/jovyan/ooi/uncabled/GI01SUMO/R00008/instruments/dcl12/FDCHP_sn144904/D202110/fdchp_20211008_010200.dat'</pre></body></html>"
      ],
      "text/plain": [
       "filename = '/home/jovyan/ooi/uncabled/GI01SUMO/R00008/instruments/dcl12/FDCHP_sn144904/D202110/fdchp_20211008_010200.dat'"
      ]
     },
     "execution_count": 24,
     "metadata": {},
     "output_type": "execute_result"
    },
    {
     "data": {
      "text/html": [
       "<html><body><pre>filename = '/home/jovyan/ooi/uncabled/GI01SUMO/R00008/instruments/dcl12/FDCHP_sn144904/D202110/fdchp_20211008_020200.dat'</pre></body></html>"
      ],
      "text/plain": [
       "filename = '/home/jovyan/ooi/uncabled/GI01SUMO/R00008/instruments/dcl12/FDCHP_sn144904/D202110/fdchp_20211008_020200.dat'"
      ]
     },
     "execution_count": 24,
     "metadata": {},
     "output_type": "execute_result"
    },
    {
     "data": {
      "text/html": [
       "<html><body><pre>filename = '/home/jovyan/ooi/uncabled/GI01SUMO/R00008/instruments/dcl12/FDCHP_sn144904/D202110/fdchp_20211008_030200.dat'</pre></body></html>"
      ],
      "text/plain": [
       "filename = '/home/jovyan/ooi/uncabled/GI01SUMO/R00008/instruments/dcl12/FDCHP_sn144904/D202110/fdchp_20211008_030200.dat'"
      ]
     },
     "execution_count": 24,
     "metadata": {},
     "output_type": "execute_result"
    },
    {
     "data": {
      "text/html": [
       "<html><body><pre>filename = '/home/jovyan/ooi/uncabled/GI01SUMO/R00008/instruments/dcl12/FDCHP_sn144904/D202110/fdchp_20211008_040200.dat'</pre></body></html>"
      ],
      "text/plain": [
       "filename = '/home/jovyan/ooi/uncabled/GI01SUMO/R00008/instruments/dcl12/FDCHP_sn144904/D202110/fdchp_20211008_040200.dat'"
      ]
     },
     "execution_count": 24,
     "metadata": {},
     "output_type": "execute_result"
    },
    {
     "data": {
      "text/html": [
       "<html><body><pre>filename = '/home/jovyan/ooi/uncabled/GI01SUMO/R00008/instruments/dcl12/FDCHP_sn144904/D202110/fdchp_20211008_050200.dat'</pre></body></html>"
      ],
      "text/plain": [
       "filename = '/home/jovyan/ooi/uncabled/GI01SUMO/R00008/instruments/dcl12/FDCHP_sn144904/D202110/fdchp_20211008_050200.dat'"
      ]
     },
     "execution_count": 24,
     "metadata": {},
     "output_type": "execute_result"
    },
    {
     "data": {
      "text/html": [
       "<html><body><pre>filename = '/home/jovyan/ooi/uncabled/GI01SUMO/R00008/instruments/dcl12/FDCHP_sn144904/D202110/fdchp_20211008_060200.dat'</pre></body></html>"
      ],
      "text/plain": [
       "filename = '/home/jovyan/ooi/uncabled/GI01SUMO/R00008/instruments/dcl12/FDCHP_sn144904/D202110/fdchp_20211008_060200.dat'"
      ]
     },
     "execution_count": 24,
     "metadata": {},
     "output_type": "execute_result"
    },
    {
     "data": {
      "text/html": [
       "<html><body><pre>filename = '/home/jovyan/ooi/uncabled/GI01SUMO/R00008/instruments/dcl12/FDCHP_sn144904/D202110/fdchp_20211008_070200.dat'</pre></body></html>"
      ],
      "text/plain": [
       "filename = '/home/jovyan/ooi/uncabled/GI01SUMO/R00008/instruments/dcl12/FDCHP_sn144904/D202110/fdchp_20211008_070200.dat'"
      ]
     },
     "execution_count": 24,
     "metadata": {},
     "output_type": "execute_result"
    },
    {
     "data": {
      "text/html": [
       "<html><body><pre>filename = '/home/jovyan/ooi/uncabled/GI01SUMO/R00008/instruments/dcl12/FDCHP_sn144904/D202110/fdchp_20211008_080200.dat'</pre></body></html>"
      ],
      "text/plain": [
       "filename = '/home/jovyan/ooi/uncabled/GI01SUMO/R00008/instruments/dcl12/FDCHP_sn144904/D202110/fdchp_20211008_080200.dat'"
      ]
     },
     "execution_count": 24,
     "metadata": {},
     "output_type": "execute_result"
    },
    {
     "data": {
      "text/html": [
       "<html><body><pre>filename = '/home/jovyan/ooi/uncabled/GI01SUMO/R00008/instruments/dcl12/FDCHP_sn144904/D202110/fdchp_20211008_090200.dat'</pre></body></html>"
      ],
      "text/plain": [
       "filename = '/home/jovyan/ooi/uncabled/GI01SUMO/R00008/instruments/dcl12/FDCHP_sn144904/D202110/fdchp_20211008_090200.dat'"
      ]
     },
     "execution_count": 24,
     "metadata": {},
     "output_type": "execute_result"
    },
    {
     "data": {
      "text/html": [
       "<html><body><pre>filename = '/home/jovyan/ooi/uncabled/GI01SUMO/R00008/instruments/dcl12/FDCHP_sn144904/D202110/fdchp_20211008_100200.dat'</pre></body></html>"
      ],
      "text/plain": [
       "filename = '/home/jovyan/ooi/uncabled/GI01SUMO/R00008/instruments/dcl12/FDCHP_sn144904/D202110/fdchp_20211008_100200.dat'"
      ]
     },
     "execution_count": 24,
     "metadata": {},
     "output_type": "execute_result"
    },
    {
     "data": {
      "text/html": [
       "<html><body><pre>filename = '/home/jovyan/ooi/uncabled/GI01SUMO/R00008/instruments/dcl12/FDCHP_sn144904/D202110/fdchp_20211008_110200.dat'</pre></body></html>"
      ],
      "text/plain": [
       "filename = '/home/jovyan/ooi/uncabled/GI01SUMO/R00008/instruments/dcl12/FDCHP_sn144904/D202110/fdchp_20211008_110200.dat'"
      ]
     },
     "execution_count": 24,
     "metadata": {},
     "output_type": "execute_result"
    },
    {
     "data": {
      "text/html": [
       "<html><body><pre>filename = '/home/jovyan/ooi/uncabled/GI01SUMO/R00008/instruments/dcl12/FDCHP_sn144904/D202110/fdchp_20211008_120200.dat'</pre></body></html>"
      ],
      "text/plain": [
       "filename = '/home/jovyan/ooi/uncabled/GI01SUMO/R00008/instruments/dcl12/FDCHP_sn144904/D202110/fdchp_20211008_120200.dat'"
      ]
     },
     "execution_count": 24,
     "metadata": {},
     "output_type": "execute_result"
    },
    {
     "data": {
      "text/html": [
       "<html><body><pre>filename = '/home/jovyan/ooi/uncabled/GI01SUMO/R00008/instruments/dcl12/FDCHP_sn144904/D202110/fdchp_20211008_130200.dat'</pre></body></html>"
      ],
      "text/plain": [
       "filename = '/home/jovyan/ooi/uncabled/GI01SUMO/R00008/instruments/dcl12/FDCHP_sn144904/D202110/fdchp_20211008_130200.dat'"
      ]
     },
     "execution_count": 24,
     "metadata": {},
     "output_type": "execute_result"
    },
    {
     "data": {
      "text/html": [
       "<html><body><pre>filename = '/home/jovyan/ooi/uncabled/GI01SUMO/R00008/instruments/dcl12/FDCHP_sn144904/D202110/fdchp_20211008_140200.dat'</pre></body></html>"
      ],
      "text/plain": [
       "filename = '/home/jovyan/ooi/uncabled/GI01SUMO/R00008/instruments/dcl12/FDCHP_sn144904/D202110/fdchp_20211008_140200.dat'"
      ]
     },
     "execution_count": 24,
     "metadata": {},
     "output_type": "execute_result"
    },
    {
     "data": {
      "text/html": [
       "<html><body><pre>filename = '/home/jovyan/ooi/uncabled/GI01SUMO/R00008/instruments/dcl12/FDCHP_sn144904/D202110/fdchp_20211008_150200.dat'</pre></body></html>"
      ],
      "text/plain": [
       "filename = '/home/jovyan/ooi/uncabled/GI01SUMO/R00008/instruments/dcl12/FDCHP_sn144904/D202110/fdchp_20211008_150200.dat'"
      ]
     },
     "execution_count": 24,
     "metadata": {},
     "output_type": "execute_result"
    },
    {
     "data": {
      "text/html": [
       "<html><body><pre>filename = '/home/jovyan/ooi/uncabled/GI01SUMO/R00008/instruments/dcl12/FDCHP_sn144904/D202110/fdchp_20211008_160200.dat'</pre></body></html>"
      ],
      "text/plain": [
       "filename = '/home/jovyan/ooi/uncabled/GI01SUMO/R00008/instruments/dcl12/FDCHP_sn144904/D202110/fdchp_20211008_160200.dat'"
      ]
     },
     "execution_count": 24,
     "metadata": {},
     "output_type": "execute_result"
    },
    {
     "data": {
      "text/html": [
       "<html><body><pre>filename = '/home/jovyan/ooi/uncabled/GI01SUMO/R00008/instruments/dcl12/FDCHP_sn144904/D202110/fdchp_20211008_170200.dat'</pre></body></html>"
      ],
      "text/plain": [
       "filename = '/home/jovyan/ooi/uncabled/GI01SUMO/R00008/instruments/dcl12/FDCHP_sn144904/D202110/fdchp_20211008_170200.dat'"
      ]
     },
     "execution_count": 24,
     "metadata": {},
     "output_type": "execute_result"
    },
    {
     "data": {
      "text/html": [
       "<html><body><pre>filename = '/home/jovyan/ooi/uncabled/GI01SUMO/R00008/instruments/dcl12/FDCHP_sn144904/D202110/fdchp_20211008_180200.dat'</pre></body></html>"
      ],
      "text/plain": [
       "filename = '/home/jovyan/ooi/uncabled/GI01SUMO/R00008/instruments/dcl12/FDCHP_sn144904/D202110/fdchp_20211008_180200.dat'"
      ]
     },
     "execution_count": 24,
     "metadata": {},
     "output_type": "execute_result"
    },
    {
     "data": {
      "text/html": [
       "<html><body><pre>filename = '/home/jovyan/ooi/uncabled/GI01SUMO/R00008/instruments/dcl12/FDCHP_sn144904/D202110/fdchp_20211008_190200.dat'</pre></body></html>"
      ],
      "text/plain": [
       "filename = '/home/jovyan/ooi/uncabled/GI01SUMO/R00008/instruments/dcl12/FDCHP_sn144904/D202110/fdchp_20211008_190200.dat'"
      ]
     },
     "execution_count": 24,
     "metadata": {},
     "output_type": "execute_result"
    },
    {
     "data": {
      "text/html": [
       "<html><body><pre>filename = '/home/jovyan/ooi/uncabled/GI01SUMO/R00008/instruments/dcl12/FDCHP_sn144904/D202110/fdchp_20211008_200200.dat'</pre></body></html>"
      ],
      "text/plain": [
       "filename = '/home/jovyan/ooi/uncabled/GI01SUMO/R00008/instruments/dcl12/FDCHP_sn144904/D202110/fdchp_20211008_200200.dat'"
      ]
     },
     "execution_count": 24,
     "metadata": {},
     "output_type": "execute_result"
    },
    {
     "data": {
      "text/html": [
       "<html><body><pre>filename = '/home/jovyan/ooi/uncabled/GI01SUMO/R00008/instruments/dcl12/FDCHP_sn144904/D202110/fdchp_20211008_210200.dat'</pre></body></html>"
      ],
      "text/plain": [
       "filename = '/home/jovyan/ooi/uncabled/GI01SUMO/R00008/instruments/dcl12/FDCHP_sn144904/D202110/fdchp_20211008_210200.dat'"
      ]
     },
     "execution_count": 24,
     "metadata": {},
     "output_type": "execute_result"
    },
    {
     "data": {
      "text/html": [
       "<html><body><pre>filename = '/home/jovyan/ooi/uncabled/GI01SUMO/R00008/instruments/dcl12/FDCHP_sn144904/D202110/fdchp_20211008_220200.dat'</pre></body></html>"
      ],
      "text/plain": [
       "filename = '/home/jovyan/ooi/uncabled/GI01SUMO/R00008/instruments/dcl12/FDCHP_sn144904/D202110/fdchp_20211008_220200.dat'"
      ]
     },
     "execution_count": 24,
     "metadata": {},
     "output_type": "execute_result"
    },
    {
     "data": {
      "text/html": [
       "<html><body><pre>filename = '/home/jovyan/ooi/uncabled/GI01SUMO/R00008/instruments/dcl12/FDCHP_sn144904/D202110/fdchp_20211008_230200.dat'</pre></body></html>"
      ],
      "text/plain": [
       "filename = '/home/jovyan/ooi/uncabled/GI01SUMO/R00008/instruments/dcl12/FDCHP_sn144904/D202110/fdchp_20211008_230200.dat'"
      ]
     },
     "execution_count": 24,
     "metadata": {},
     "output_type": "execute_result"
    },
    {
     "data": {
      "text/html": [
       "<html><body><pre>filename = '/home/jovyan/ooi/uncabled/GI01SUMO/R00008/instruments/dcl12/FDCHP_sn144904/D202110/fdchp_20211009_000200.dat'</pre></body></html>"
      ],
      "text/plain": [
       "filename = '/home/jovyan/ooi/uncabled/GI01SUMO/R00008/instruments/dcl12/FDCHP_sn144904/D202110/fdchp_20211009_000200.dat'"
      ]
     },
     "execution_count": 24,
     "metadata": {},
     "output_type": "execute_result"
    },
    {
     "data": {
      "text/html": [
       "<html><body><pre>filename = '/home/jovyan/ooi/uncabled/GI01SUMO/R00008/instruments/dcl12/FDCHP_sn144904/D202110/fdchp_20211009_010200.dat'</pre></body></html>"
      ],
      "text/plain": [
       "filename = '/home/jovyan/ooi/uncabled/GI01SUMO/R00008/instruments/dcl12/FDCHP_sn144904/D202110/fdchp_20211009_010200.dat'"
      ]
     },
     "execution_count": 24,
     "metadata": {},
     "output_type": "execute_result"
    },
    {
     "data": {
      "text/html": [
       "<html><body><pre>filename = '/home/jovyan/ooi/uncabled/GI01SUMO/R00008/instruments/dcl12/FDCHP_sn144904/D202110/fdchp_20211009_020200.dat'</pre></body></html>"
      ],
      "text/plain": [
       "filename = '/home/jovyan/ooi/uncabled/GI01SUMO/R00008/instruments/dcl12/FDCHP_sn144904/D202110/fdchp_20211009_020200.dat'"
      ]
     },
     "execution_count": 24,
     "metadata": {},
     "output_type": "execute_result"
    },
    {
     "data": {
      "text/html": [
       "<html><body><pre>filename = '/home/jovyan/ooi/uncabled/GI01SUMO/R00008/instruments/dcl12/FDCHP_sn144904/D202110/fdchp_20211009_030200.dat'</pre></body></html>"
      ],
      "text/plain": [
       "filename = '/home/jovyan/ooi/uncabled/GI01SUMO/R00008/instruments/dcl12/FDCHP_sn144904/D202110/fdchp_20211009_030200.dat'"
      ]
     },
     "execution_count": 24,
     "metadata": {},
     "output_type": "execute_result"
    },
    {
     "data": {
      "text/html": [
       "<html><body><pre>filename = '/home/jovyan/ooi/uncabled/GI01SUMO/R00008/instruments/dcl12/FDCHP_sn144904/D202110/fdchp_20211009_040200.dat'</pre></body></html>"
      ],
      "text/plain": [
       "filename = '/home/jovyan/ooi/uncabled/GI01SUMO/R00008/instruments/dcl12/FDCHP_sn144904/D202110/fdchp_20211009_040200.dat'"
      ]
     },
     "execution_count": 24,
     "metadata": {},
     "output_type": "execute_result"
    },
    {
     "data": {
      "text/html": [
       "<html><body><pre>filename = '/home/jovyan/ooi/uncabled/GI01SUMO/R00008/instruments/dcl12/FDCHP_sn144904/D202110/fdchp_20211009_050200.dat'</pre></body></html>"
      ],
      "text/plain": [
       "filename = '/home/jovyan/ooi/uncabled/GI01SUMO/R00008/instruments/dcl12/FDCHP_sn144904/D202110/fdchp_20211009_050200.dat'"
      ]
     },
     "execution_count": 24,
     "metadata": {},
     "output_type": "execute_result"
    },
    {
     "data": {
      "text/html": [
       "<html><body><pre>filename = '/home/jovyan/ooi/uncabled/GI01SUMO/R00008/instruments/dcl12/FDCHP_sn144904/D202110/fdchp_20211009_060200.dat'</pre></body></html>"
      ],
      "text/plain": [
       "filename = '/home/jovyan/ooi/uncabled/GI01SUMO/R00008/instruments/dcl12/FDCHP_sn144904/D202110/fdchp_20211009_060200.dat'"
      ]
     },
     "execution_count": 24,
     "metadata": {},
     "output_type": "execute_result"
    },
    {
     "data": {
      "text/html": [
       "<html><body><pre>filename = '/home/jovyan/ooi/uncabled/GI01SUMO/R00008/instruments/dcl12/FDCHP_sn144904/D202110/fdchp_20211009_070200.dat'</pre></body></html>"
      ],
      "text/plain": [
       "filename = '/home/jovyan/ooi/uncabled/GI01SUMO/R00008/instruments/dcl12/FDCHP_sn144904/D202110/fdchp_20211009_070200.dat'"
      ]
     },
     "execution_count": 24,
     "metadata": {},
     "output_type": "execute_result"
    },
    {
     "data": {
      "text/html": [
       "<html><body><pre>filename = '/home/jovyan/ooi/uncabled/GI01SUMO/R00008/instruments/dcl12/FDCHP_sn144904/D202110/fdchp_20211009_080200.dat'</pre></body></html>"
      ],
      "text/plain": [
       "filename = '/home/jovyan/ooi/uncabled/GI01SUMO/R00008/instruments/dcl12/FDCHP_sn144904/D202110/fdchp_20211009_080200.dat'"
      ]
     },
     "execution_count": 24,
     "metadata": {},
     "output_type": "execute_result"
    },
    {
     "data": {
      "text/html": [
       "<html><body><pre>filename = '/home/jovyan/ooi/uncabled/GI01SUMO/R00008/instruments/dcl12/FDCHP_sn144904/D202110/fdchp_20211009_090200.dat'</pre></body></html>"
      ],
      "text/plain": [
       "filename = '/home/jovyan/ooi/uncabled/GI01SUMO/R00008/instruments/dcl12/FDCHP_sn144904/D202110/fdchp_20211009_090200.dat'"
      ]
     },
     "execution_count": 24,
     "metadata": {},
     "output_type": "execute_result"
    },
    {
     "data": {
      "text/html": [
       "<html><body><pre>filename = '/home/jovyan/ooi/uncabled/GI01SUMO/R00008/instruments/dcl12/FDCHP_sn144904/D202110/fdchp_20211009_100200.dat'</pre></body></html>"
      ],
      "text/plain": [
       "filename = '/home/jovyan/ooi/uncabled/GI01SUMO/R00008/instruments/dcl12/FDCHP_sn144904/D202110/fdchp_20211009_100200.dat'"
      ]
     },
     "execution_count": 24,
     "metadata": {},
     "output_type": "execute_result"
    },
    {
     "data": {
      "text/html": [
       "<html><body><pre>filename = '/home/jovyan/ooi/uncabled/GI01SUMO/R00008/instruments/dcl12/FDCHP_sn144904/D202110/fdchp_20211009_110200.dat'</pre></body></html>"
      ],
      "text/plain": [
       "filename = '/home/jovyan/ooi/uncabled/GI01SUMO/R00008/instruments/dcl12/FDCHP_sn144904/D202110/fdchp_20211009_110200.dat'"
      ]
     },
     "execution_count": 24,
     "metadata": {},
     "output_type": "execute_result"
    },
    {
     "data": {
      "text/html": [
       "<html><body><pre>filename = '/home/jovyan/ooi/uncabled/GI01SUMO/R00008/instruments/dcl12/FDCHP_sn144904/D202110/fdchp_20211009_120200.dat'</pre></body></html>"
      ],
      "text/plain": [
       "filename = '/home/jovyan/ooi/uncabled/GI01SUMO/R00008/instruments/dcl12/FDCHP_sn144904/D202110/fdchp_20211009_120200.dat'"
      ]
     },
     "execution_count": 24,
     "metadata": {},
     "output_type": "execute_result"
    },
    {
     "data": {
      "text/html": [
       "<html><body><pre>filename = '/home/jovyan/ooi/uncabled/GI01SUMO/R00008/instruments/dcl12/FDCHP_sn144904/D202110/fdchp_20211009_130200.dat'</pre></body></html>"
      ],
      "text/plain": [
       "filename = '/home/jovyan/ooi/uncabled/GI01SUMO/R00008/instruments/dcl12/FDCHP_sn144904/D202110/fdchp_20211009_130200.dat'"
      ]
     },
     "execution_count": 24,
     "metadata": {},
     "output_type": "execute_result"
    },
    {
     "data": {
      "text/html": [
       "<html><body><pre>filename = '/home/jovyan/ooi/uncabled/GI01SUMO/R00008/instruments/dcl12/FDCHP_sn144904/D202110/fdchp_20211009_140200.dat'</pre></body></html>"
      ],
      "text/plain": [
       "filename = '/home/jovyan/ooi/uncabled/GI01SUMO/R00008/instruments/dcl12/FDCHP_sn144904/D202110/fdchp_20211009_140200.dat'"
      ]
     },
     "execution_count": 24,
     "metadata": {},
     "output_type": "execute_result"
    },
    {
     "data": {
      "text/html": [
       "<html><body><pre>filename = '/home/jovyan/ooi/uncabled/GI01SUMO/R00008/instruments/dcl12/FDCHP_sn144904/D202110/fdchp_20211009_150200.dat'</pre></body></html>"
      ],
      "text/plain": [
       "filename = '/home/jovyan/ooi/uncabled/GI01SUMO/R00008/instruments/dcl12/FDCHP_sn144904/D202110/fdchp_20211009_150200.dat'"
      ]
     },
     "execution_count": 24,
     "metadata": {},
     "output_type": "execute_result"
    },
    {
     "data": {
      "text/html": [
       "<html><body><pre>filename = '/home/jovyan/ooi/uncabled/GI01SUMO/R00008/instruments/dcl12/FDCHP_sn144904/D202110/fdchp_20211009_160200.dat'</pre></body></html>"
      ],
      "text/plain": [
       "filename = '/home/jovyan/ooi/uncabled/GI01SUMO/R00008/instruments/dcl12/FDCHP_sn144904/D202110/fdchp_20211009_160200.dat'"
      ]
     },
     "execution_count": 24,
     "metadata": {},
     "output_type": "execute_result"
    },
    {
     "data": {
      "text/html": [
       "<html><body><pre>filename = '/home/jovyan/ooi/uncabled/GI01SUMO/R00008/instruments/dcl12/FDCHP_sn144904/D202110/fdchp_20211009_170200.dat'</pre></body></html>"
      ],
      "text/plain": [
       "filename = '/home/jovyan/ooi/uncabled/GI01SUMO/R00008/instruments/dcl12/FDCHP_sn144904/D202110/fdchp_20211009_170200.dat'"
      ]
     },
     "execution_count": 24,
     "metadata": {},
     "output_type": "execute_result"
    },
    {
     "data": {
      "text/html": [
       "<html><body><pre>filename = '/home/jovyan/ooi/uncabled/GI01SUMO/R00008/instruments/dcl12/FDCHP_sn144904/D202110/fdchp_20211009_180200.dat'</pre></body></html>"
      ],
      "text/plain": [
       "filename = '/home/jovyan/ooi/uncabled/GI01SUMO/R00008/instruments/dcl12/FDCHP_sn144904/D202110/fdchp_20211009_180200.dat'"
      ]
     },
     "execution_count": 24,
     "metadata": {},
     "output_type": "execute_result"
    },
    {
     "data": {
      "text/html": [
       "<html><body><pre>filename = '/home/jovyan/ooi/uncabled/GI01SUMO/R00008/instruments/dcl12/FDCHP_sn144904/D202110/fdchp_20211009_190200.dat'</pre></body></html>"
      ],
      "text/plain": [
       "filename = '/home/jovyan/ooi/uncabled/GI01SUMO/R00008/instruments/dcl12/FDCHP_sn144904/D202110/fdchp_20211009_190200.dat'"
      ]
     },
     "execution_count": 24,
     "metadata": {},
     "output_type": "execute_result"
    },
    {
     "data": {
      "text/html": [
       "<html><body><pre>filename = '/home/jovyan/ooi/uncabled/GI01SUMO/R00008/instruments/dcl12/FDCHP_sn144904/D202110/fdchp_20211009_200200.dat'</pre></body></html>"
      ],
      "text/plain": [
       "filename = '/home/jovyan/ooi/uncabled/GI01SUMO/R00008/instruments/dcl12/FDCHP_sn144904/D202110/fdchp_20211009_200200.dat'"
      ]
     },
     "execution_count": 24,
     "metadata": {},
     "output_type": "execute_result"
    },
    {
     "data": {
      "text/html": [
       "<html><body><pre>filename = '/home/jovyan/ooi/uncabled/GI01SUMO/R00008/instruments/dcl12/FDCHP_sn144904/D202110/fdchp_20211009_210200.dat'</pre></body></html>"
      ],
      "text/plain": [
       "filename = '/home/jovyan/ooi/uncabled/GI01SUMO/R00008/instruments/dcl12/FDCHP_sn144904/D202110/fdchp_20211009_210200.dat'"
      ]
     },
     "execution_count": 24,
     "metadata": {},
     "output_type": "execute_result"
    },
    {
     "data": {
      "text/html": [
       "<html><body><pre>filename = '/home/jovyan/ooi/uncabled/GI01SUMO/R00008/instruments/dcl12/FDCHP_sn144904/D202110/fdchp_20211009_220200.dat'</pre></body></html>"
      ],
      "text/plain": [
       "filename = '/home/jovyan/ooi/uncabled/GI01SUMO/R00008/instruments/dcl12/FDCHP_sn144904/D202110/fdchp_20211009_220200.dat'"
      ]
     },
     "execution_count": 24,
     "metadata": {},
     "output_type": "execute_result"
    },
    {
     "data": {
      "text/html": [
       "<html><body><pre>filename = '/home/jovyan/ooi/uncabled/GI01SUMO/R00008/instruments/dcl12/FDCHP_sn144904/D202110/fdchp_20211009_230200.dat'</pre></body></html>"
      ],
      "text/plain": [
       "filename = '/home/jovyan/ooi/uncabled/GI01SUMO/R00008/instruments/dcl12/FDCHP_sn144904/D202110/fdchp_20211009_230200.dat'"
      ]
     },
     "execution_count": 24,
     "metadata": {},
     "output_type": "execute_result"
    },
    {
     "data": {
      "text/html": [
       "<html><body><pre>filename = '/home/jovyan/ooi/uncabled/GI01SUMO/R00008/instruments/dcl12/FDCHP_sn144904/D202110/fdchp_20211010_000200.dat'</pre></body></html>"
      ],
      "text/plain": [
       "filename = '/home/jovyan/ooi/uncabled/GI01SUMO/R00008/instruments/dcl12/FDCHP_sn144904/D202110/fdchp_20211010_000200.dat'"
      ]
     },
     "execution_count": 24,
     "metadata": {},
     "output_type": "execute_result"
    },
    {
     "data": {
      "text/html": [
       "<html><body><pre>filename = '/home/jovyan/ooi/uncabled/GI01SUMO/R00008/instruments/dcl12/FDCHP_sn144904/D202110/fdchp_20211010_010200.dat'</pre></body></html>"
      ],
      "text/plain": [
       "filename = '/home/jovyan/ooi/uncabled/GI01SUMO/R00008/instruments/dcl12/FDCHP_sn144904/D202110/fdchp_20211010_010200.dat'"
      ]
     },
     "execution_count": 24,
     "metadata": {},
     "output_type": "execute_result"
    },
    {
     "data": {
      "text/html": [
       "<html><body><pre>filename = '/home/jovyan/ooi/uncabled/GI01SUMO/R00008/instruments/dcl12/FDCHP_sn144904/D202110/fdchp_20211010_020200.dat'</pre></body></html>"
      ],
      "text/plain": [
       "filename = '/home/jovyan/ooi/uncabled/GI01SUMO/R00008/instruments/dcl12/FDCHP_sn144904/D202110/fdchp_20211010_020200.dat'"
      ]
     },
     "execution_count": 24,
     "metadata": {},
     "output_type": "execute_result"
    },
    {
     "data": {
      "text/html": [
       "<html><body><pre>filename = '/home/jovyan/ooi/uncabled/GI01SUMO/R00008/instruments/dcl12/FDCHP_sn144904/D202110/fdchp_20211010_030200.dat'</pre></body></html>"
      ],
      "text/plain": [
       "filename = '/home/jovyan/ooi/uncabled/GI01SUMO/R00008/instruments/dcl12/FDCHP_sn144904/D202110/fdchp_20211010_030200.dat'"
      ]
     },
     "execution_count": 24,
     "metadata": {},
     "output_type": "execute_result"
    },
    {
     "data": {
      "text/html": [
       "<html><body><pre>filename = '/home/jovyan/ooi/uncabled/GI01SUMO/R00008/instruments/dcl12/FDCHP_sn144904/D202110/fdchp_20211010_040200.dat'</pre></body></html>"
      ],
      "text/plain": [
       "filename = '/home/jovyan/ooi/uncabled/GI01SUMO/R00008/instruments/dcl12/FDCHP_sn144904/D202110/fdchp_20211010_040200.dat'"
      ]
     },
     "execution_count": 24,
     "metadata": {},
     "output_type": "execute_result"
    },
    {
     "data": {
      "text/html": [
       "<html><body><pre>filename = '/home/jovyan/ooi/uncabled/GI01SUMO/R00008/instruments/dcl12/FDCHP_sn144904/D202110/fdchp_20211010_050200.dat'</pre></body></html>"
      ],
      "text/plain": [
       "filename = '/home/jovyan/ooi/uncabled/GI01SUMO/R00008/instruments/dcl12/FDCHP_sn144904/D202110/fdchp_20211010_050200.dat'"
      ]
     },
     "execution_count": 24,
     "metadata": {},
     "output_type": "execute_result"
    },
    {
     "data": {
      "text/html": [
       "<html><body><pre>filename = '/home/jovyan/ooi/uncabled/GI01SUMO/R00008/instruments/dcl12/FDCHP_sn144904/D202110/fdchp_20211010_060200.dat'</pre></body></html>"
      ],
      "text/plain": [
       "filename = '/home/jovyan/ooi/uncabled/GI01SUMO/R00008/instruments/dcl12/FDCHP_sn144904/D202110/fdchp_20211010_060200.dat'"
      ]
     },
     "execution_count": 24,
     "metadata": {},
     "output_type": "execute_result"
    },
    {
     "data": {
      "text/html": [
       "<html><body><pre>filename = '/home/jovyan/ooi/uncabled/GI01SUMO/R00008/instruments/dcl12/FDCHP_sn144904/D202110/fdchp_20211010_070200.dat'</pre></body></html>"
      ],
      "text/plain": [
       "filename = '/home/jovyan/ooi/uncabled/GI01SUMO/R00008/instruments/dcl12/FDCHP_sn144904/D202110/fdchp_20211010_070200.dat'"
      ]
     },
     "execution_count": 24,
     "metadata": {},
     "output_type": "execute_result"
    },
    {
     "data": {
      "text/html": [
       "<html><body><pre>filename = '/home/jovyan/ooi/uncabled/GI01SUMO/R00008/instruments/dcl12/FDCHP_sn144904/D202110/fdchp_20211010_080200.dat'</pre></body></html>"
      ],
      "text/plain": [
       "filename = '/home/jovyan/ooi/uncabled/GI01SUMO/R00008/instruments/dcl12/FDCHP_sn144904/D202110/fdchp_20211010_080200.dat'"
      ]
     },
     "execution_count": 24,
     "metadata": {},
     "output_type": "execute_result"
    },
    {
     "data": {
      "text/html": [
       "<html><body><pre>filename = '/home/jovyan/ooi/uncabled/GI01SUMO/R00008/instruments/dcl12/FDCHP_sn144904/D202110/fdchp_20211010_090200.dat'</pre></body></html>"
      ],
      "text/plain": [
       "filename = '/home/jovyan/ooi/uncabled/GI01SUMO/R00008/instruments/dcl12/FDCHP_sn144904/D202110/fdchp_20211010_090200.dat'"
      ]
     },
     "execution_count": 24,
     "metadata": {},
     "output_type": "execute_result"
    },
    {
     "data": {
      "text/html": [
       "<html><body><pre>filename = '/home/jovyan/ooi/uncabled/GI01SUMO/R00008/instruments/dcl12/FDCHP_sn144904/D202110/fdchp_20211010_100200.dat'</pre></body></html>"
      ],
      "text/plain": [
       "filename = '/home/jovyan/ooi/uncabled/GI01SUMO/R00008/instruments/dcl12/FDCHP_sn144904/D202110/fdchp_20211010_100200.dat'"
      ]
     },
     "execution_count": 24,
     "metadata": {},
     "output_type": "execute_result"
    },
    {
     "data": {
      "text/html": [
       "<html><body><pre>filename = '/home/jovyan/ooi/uncabled/GI01SUMO/R00008/instruments/dcl12/FDCHP_sn144904/D202110/fdchp_20211010_110200.dat'</pre></body></html>"
      ],
      "text/plain": [
       "filename = '/home/jovyan/ooi/uncabled/GI01SUMO/R00008/instruments/dcl12/FDCHP_sn144904/D202110/fdchp_20211010_110200.dat'"
      ]
     },
     "execution_count": 24,
     "metadata": {},
     "output_type": "execute_result"
    },
    {
     "data": {
      "text/html": [
       "<html><body><pre>filename = '/home/jovyan/ooi/uncabled/GI01SUMO/R00008/instruments/dcl12/FDCHP_sn144904/D202110/fdchp_20211010_120200.dat'</pre></body></html>"
      ],
      "text/plain": [
       "filename = '/home/jovyan/ooi/uncabled/GI01SUMO/R00008/instruments/dcl12/FDCHP_sn144904/D202110/fdchp_20211010_120200.dat'"
      ]
     },
     "execution_count": 24,
     "metadata": {},
     "output_type": "execute_result"
    },
    {
     "data": {
      "text/html": [
       "<html><body><pre>filename = '/home/jovyan/ooi/uncabled/GI01SUMO/R00008/instruments/dcl12/FDCHP_sn144904/D202110/fdchp_20211010_130200.dat'</pre></body></html>"
      ],
      "text/plain": [
       "filename = '/home/jovyan/ooi/uncabled/GI01SUMO/R00008/instruments/dcl12/FDCHP_sn144904/D202110/fdchp_20211010_130200.dat'"
      ]
     },
     "execution_count": 24,
     "metadata": {},
     "output_type": "execute_result"
    },
    {
     "data": {
      "text/html": [
       "<html><body><pre>filename = '/home/jovyan/ooi/uncabled/GI01SUMO/R00008/instruments/dcl12/FDCHP_sn144904/D202110/fdchp_20211010_140200.dat'</pre></body></html>"
      ],
      "text/plain": [
       "filename = '/home/jovyan/ooi/uncabled/GI01SUMO/R00008/instruments/dcl12/FDCHP_sn144904/D202110/fdchp_20211010_140200.dat'"
      ]
     },
     "execution_count": 24,
     "metadata": {},
     "output_type": "execute_result"
    },
    {
     "data": {
      "text/html": [
       "<html><body><pre>filename = '/home/jovyan/ooi/uncabled/GI01SUMO/R00008/instruments/dcl12/FDCHP_sn144904/D202110/fdchp_20211010_150200.dat'</pre></body></html>"
      ],
      "text/plain": [
       "filename = '/home/jovyan/ooi/uncabled/GI01SUMO/R00008/instruments/dcl12/FDCHP_sn144904/D202110/fdchp_20211010_150200.dat'"
      ]
     },
     "execution_count": 24,
     "metadata": {},
     "output_type": "execute_result"
    },
    {
     "data": {
      "text/html": [
       "<html><body><pre>filename = '/home/jovyan/ooi/uncabled/GI01SUMO/R00008/instruments/dcl12/FDCHP_sn144904/D202110/fdchp_20211010_160200.dat'</pre></body></html>"
      ],
      "text/plain": [
       "filename = '/home/jovyan/ooi/uncabled/GI01SUMO/R00008/instruments/dcl12/FDCHP_sn144904/D202110/fdchp_20211010_160200.dat'"
      ]
     },
     "execution_count": 24,
     "metadata": {},
     "output_type": "execute_result"
    },
    {
     "data": {
      "text/html": [
       "<html><body><pre>filename = '/home/jovyan/ooi/uncabled/GI01SUMO/R00008/instruments/dcl12/FDCHP_sn144904/D202110/fdchp_20211010_170200.dat'</pre></body></html>"
      ],
      "text/plain": [
       "filename = '/home/jovyan/ooi/uncabled/GI01SUMO/R00008/instruments/dcl12/FDCHP_sn144904/D202110/fdchp_20211010_170200.dat'"
      ]
     },
     "execution_count": 24,
     "metadata": {},
     "output_type": "execute_result"
    },
    {
     "data": {
      "text/html": [
       "<html><body><pre>filename = '/home/jovyan/ooi/uncabled/GI01SUMO/R00008/instruments/dcl12/FDCHP_sn144904/D202110/fdchp_20211010_180200.dat'</pre></body></html>"
      ],
      "text/plain": [
       "filename = '/home/jovyan/ooi/uncabled/GI01SUMO/R00008/instruments/dcl12/FDCHP_sn144904/D202110/fdchp_20211010_180200.dat'"
      ]
     },
     "execution_count": 24,
     "metadata": {},
     "output_type": "execute_result"
    },
    {
     "data": {
      "text/html": [
       "<html><body><pre>filename = '/home/jovyan/ooi/uncabled/GI01SUMO/R00008/instruments/dcl12/FDCHP_sn144904/D202110/fdchp_20211010_190200.dat'</pre></body></html>"
      ],
      "text/plain": [
       "filename = '/home/jovyan/ooi/uncabled/GI01SUMO/R00008/instruments/dcl12/FDCHP_sn144904/D202110/fdchp_20211010_190200.dat'"
      ]
     },
     "execution_count": 24,
     "metadata": {},
     "output_type": "execute_result"
    },
    {
     "data": {
      "text/html": [
       "<html><body><pre>filename = '/home/jovyan/ooi/uncabled/GI01SUMO/R00008/instruments/dcl12/FDCHP_sn144904/D202110/fdchp_20211010_200200.dat'</pre></body></html>"
      ],
      "text/plain": [
       "filename = '/home/jovyan/ooi/uncabled/GI01SUMO/R00008/instruments/dcl12/FDCHP_sn144904/D202110/fdchp_20211010_200200.dat'"
      ]
     },
     "execution_count": 24,
     "metadata": {},
     "output_type": "execute_result"
    },
    {
     "data": {
      "text/html": [
       "<html><body><pre>filename = '/home/jovyan/ooi/uncabled/GI01SUMO/R00008/instruments/dcl12/FDCHP_sn144904/D202110/fdchp_20211010_210200.dat'</pre></body></html>"
      ],
      "text/plain": [
       "filename = '/home/jovyan/ooi/uncabled/GI01SUMO/R00008/instruments/dcl12/FDCHP_sn144904/D202110/fdchp_20211010_210200.dat'"
      ]
     },
     "execution_count": 24,
     "metadata": {},
     "output_type": "execute_result"
    },
    {
     "data": {
      "text/html": [
       "<html><body><pre>filename = '/home/jovyan/ooi/uncabled/GI01SUMO/R00008/instruments/dcl12/FDCHP_sn144904/D202110/fdchp_20211010_220200.dat'</pre></body></html>"
      ],
      "text/plain": [
       "filename = '/home/jovyan/ooi/uncabled/GI01SUMO/R00008/instruments/dcl12/FDCHP_sn144904/D202110/fdchp_20211010_220200.dat'"
      ]
     },
     "execution_count": 24,
     "metadata": {},
     "output_type": "execute_result"
    },
    {
     "data": {
      "text/html": [
       "<html><body><pre>filename = '/home/jovyan/ooi/uncabled/GI01SUMO/R00008/instruments/dcl12/FDCHP_sn144904/D202110/fdchp_20211010_230200.dat'</pre></body></html>"
      ],
      "text/plain": [
       "filename = '/home/jovyan/ooi/uncabled/GI01SUMO/R00008/instruments/dcl12/FDCHP_sn144904/D202110/fdchp_20211010_230200.dat'"
      ]
     },
     "execution_count": 24,
     "metadata": {},
     "output_type": "execute_result"
    },
    {
     "data": {
      "text/html": [
       "<html><body><pre>filename = '/home/jovyan/ooi/uncabled/GI01SUMO/R00008/instruments/dcl12/FDCHP_sn144904/D202110/fdchp_20211011_000200.dat'</pre></body></html>"
      ],
      "text/plain": [
       "filename = '/home/jovyan/ooi/uncabled/GI01SUMO/R00008/instruments/dcl12/FDCHP_sn144904/D202110/fdchp_20211011_000200.dat'"
      ]
     },
     "execution_count": 24,
     "metadata": {},
     "output_type": "execute_result"
    },
    {
     "data": {
      "text/html": [
       "<html><body><pre>filename = '/home/jovyan/ooi/uncabled/GI01SUMO/R00008/instruments/dcl12/FDCHP_sn144904/D202110/fdchp_20211011_010200.dat'</pre></body></html>"
      ],
      "text/plain": [
       "filename = '/home/jovyan/ooi/uncabled/GI01SUMO/R00008/instruments/dcl12/FDCHP_sn144904/D202110/fdchp_20211011_010200.dat'"
      ]
     },
     "execution_count": 24,
     "metadata": {},
     "output_type": "execute_result"
    },
    {
     "data": {
      "text/html": [
       "<html><body><pre>filename = '/home/jovyan/ooi/uncabled/GI01SUMO/R00008/instruments/dcl12/FDCHP_sn144904/D202110/fdchp_20211011_020200.dat'</pre></body></html>"
      ],
      "text/plain": [
       "filename = '/home/jovyan/ooi/uncabled/GI01SUMO/R00008/instruments/dcl12/FDCHP_sn144904/D202110/fdchp_20211011_020200.dat'"
      ]
     },
     "execution_count": 24,
     "metadata": {},
     "output_type": "execute_result"
    },
    {
     "data": {
      "text/html": [
       "<html><body><pre>filename = '/home/jovyan/ooi/uncabled/GI01SUMO/R00008/instruments/dcl12/FDCHP_sn144904/D202110/fdchp_20211011_030200.dat'</pre></body></html>"
      ],
      "text/plain": [
       "filename = '/home/jovyan/ooi/uncabled/GI01SUMO/R00008/instruments/dcl12/FDCHP_sn144904/D202110/fdchp_20211011_030200.dat'"
      ]
     },
     "execution_count": 24,
     "metadata": {},
     "output_type": "execute_result"
    },
    {
     "data": {
      "text/html": [
       "<html><body><pre>filename = '/home/jovyan/ooi/uncabled/GI01SUMO/R00008/instruments/dcl12/FDCHP_sn144904/D202110/fdchp_20211011_040200.dat'</pre></body></html>"
      ],
      "text/plain": [
       "filename = '/home/jovyan/ooi/uncabled/GI01SUMO/R00008/instruments/dcl12/FDCHP_sn144904/D202110/fdchp_20211011_040200.dat'"
      ]
     },
     "execution_count": 24,
     "metadata": {},
     "output_type": "execute_result"
    },
    {
     "data": {
      "text/html": [
       "<html><body><pre>filename = '/home/jovyan/ooi/uncabled/GI01SUMO/R00008/instruments/dcl12/FDCHP_sn144904/D202110/fdchp_20211011_050200.dat'</pre></body></html>"
      ],
      "text/plain": [
       "filename = '/home/jovyan/ooi/uncabled/GI01SUMO/R00008/instruments/dcl12/FDCHP_sn144904/D202110/fdchp_20211011_050200.dat'"
      ]
     },
     "execution_count": 24,
     "metadata": {},
     "output_type": "execute_result"
    },
    {
     "data": {
      "text/html": [
       "<html><body><pre>filename = '/home/jovyan/ooi/uncabled/GI01SUMO/R00008/instruments/dcl12/FDCHP_sn144904/D202110/fdchp_20211011_060200.dat'</pre></body></html>"
      ],
      "text/plain": [
       "filename = '/home/jovyan/ooi/uncabled/GI01SUMO/R00008/instruments/dcl12/FDCHP_sn144904/D202110/fdchp_20211011_060200.dat'"
      ]
     },
     "execution_count": 24,
     "metadata": {},
     "output_type": "execute_result"
    },
    {
     "data": {
      "text/html": [
       "<html><body><pre>filename = '/home/jovyan/ooi/uncabled/GI01SUMO/R00008/instruments/dcl12/FDCHP_sn144904/D202110/fdchp_20211011_070200.dat'</pre></body></html>"
      ],
      "text/plain": [
       "filename = '/home/jovyan/ooi/uncabled/GI01SUMO/R00008/instruments/dcl12/FDCHP_sn144904/D202110/fdchp_20211011_070200.dat'"
      ]
     },
     "execution_count": 24,
     "metadata": {},
     "output_type": "execute_result"
    },
    {
     "data": {
      "text/html": [
       "<html><body><pre>filename = '/home/jovyan/ooi/uncabled/GI01SUMO/R00008/instruments/dcl12/FDCHP_sn144904/D202110/fdchp_20211011_080200.dat'</pre></body></html>"
      ],
      "text/plain": [
       "filename = '/home/jovyan/ooi/uncabled/GI01SUMO/R00008/instruments/dcl12/FDCHP_sn144904/D202110/fdchp_20211011_080200.dat'"
      ]
     },
     "execution_count": 24,
     "metadata": {},
     "output_type": "execute_result"
    },
    {
     "data": {
      "text/html": [
       "<html><body><pre>filename = '/home/jovyan/ooi/uncabled/GI01SUMO/R00008/instruments/dcl12/FDCHP_sn144904/D202110/fdchp_20211011_090200.dat'</pre></body></html>"
      ],
      "text/plain": [
       "filename = '/home/jovyan/ooi/uncabled/GI01SUMO/R00008/instruments/dcl12/FDCHP_sn144904/D202110/fdchp_20211011_090200.dat'"
      ]
     },
     "execution_count": 24,
     "metadata": {},
     "output_type": "execute_result"
    },
    {
     "data": {
      "text/html": [
       "<html><body><pre>filename = '/home/jovyan/ooi/uncabled/GI01SUMO/R00008/instruments/dcl12/FDCHP_sn144904/D202110/fdchp_20211011_100200.dat'</pre></body></html>"
      ],
      "text/plain": [
       "filename = '/home/jovyan/ooi/uncabled/GI01SUMO/R00008/instruments/dcl12/FDCHP_sn144904/D202110/fdchp_20211011_100200.dat'"
      ]
     },
     "execution_count": 24,
     "metadata": {},
     "output_type": "execute_result"
    },
    {
     "data": {
      "text/html": [
       "<html><body><pre>filename = '/home/jovyan/ooi/uncabled/GI01SUMO/R00008/instruments/dcl12/FDCHP_sn144904/D202110/fdchp_20211011_110200.dat'</pre></body></html>"
      ],
      "text/plain": [
       "filename = '/home/jovyan/ooi/uncabled/GI01SUMO/R00008/instruments/dcl12/FDCHP_sn144904/D202110/fdchp_20211011_110200.dat'"
      ]
     },
     "execution_count": 24,
     "metadata": {},
     "output_type": "execute_result"
    },
    {
     "data": {
      "text/html": [
       "<html><body><pre>filename = '/home/jovyan/ooi/uncabled/GI01SUMO/R00008/instruments/dcl12/FDCHP_sn144904/D202110/fdchp_20211011_120200.dat'</pre></body></html>"
      ],
      "text/plain": [
       "filename = '/home/jovyan/ooi/uncabled/GI01SUMO/R00008/instruments/dcl12/FDCHP_sn144904/D202110/fdchp_20211011_120200.dat'"
      ]
     },
     "execution_count": 24,
     "metadata": {},
     "output_type": "execute_result"
    },
    {
     "data": {
      "text/html": [
       "<html><body><pre>filename = '/home/jovyan/ooi/uncabled/GI01SUMO/R00008/instruments/dcl12/FDCHP_sn144904/D202110/fdchp_20211011_130200.dat'</pre></body></html>"
      ],
      "text/plain": [
       "filename = '/home/jovyan/ooi/uncabled/GI01SUMO/R00008/instruments/dcl12/FDCHP_sn144904/D202110/fdchp_20211011_130200.dat'"
      ]
     },
     "execution_count": 24,
     "metadata": {},
     "output_type": "execute_result"
    },
    {
     "data": {
      "text/html": [
       "<html><body><pre>filename = '/home/jovyan/ooi/uncabled/GI01SUMO/R00008/instruments/dcl12/FDCHP_sn144904/D202110/fdchp_20211011_140200.dat'</pre></body></html>"
      ],
      "text/plain": [
       "filename = '/home/jovyan/ooi/uncabled/GI01SUMO/R00008/instruments/dcl12/FDCHP_sn144904/D202110/fdchp_20211011_140200.dat'"
      ]
     },
     "execution_count": 24,
     "metadata": {},
     "output_type": "execute_result"
    },
    {
     "data": {
      "text/html": [
       "<html><body><pre>filename = '/home/jovyan/ooi/uncabled/GI01SUMO/R00008/instruments/dcl12/FDCHP_sn144904/D202110/fdchp_20211011_150200.dat'</pre></body></html>"
      ],
      "text/plain": [
       "filename = '/home/jovyan/ooi/uncabled/GI01SUMO/R00008/instruments/dcl12/FDCHP_sn144904/D202110/fdchp_20211011_150200.dat'"
      ]
     },
     "execution_count": 24,
     "metadata": {},
     "output_type": "execute_result"
    },
    {
     "data": {
      "text/html": [
       "<html><body><pre>filename = '/home/jovyan/ooi/uncabled/GI01SUMO/R00008/instruments/dcl12/FDCHP_sn144904/D202110/fdchp_20211011_160200.dat'</pre></body></html>"
      ],
      "text/plain": [
       "filename = '/home/jovyan/ooi/uncabled/GI01SUMO/R00008/instruments/dcl12/FDCHP_sn144904/D202110/fdchp_20211011_160200.dat'"
      ]
     },
     "execution_count": 24,
     "metadata": {},
     "output_type": "execute_result"
    },
    {
     "data": {
      "text/html": [
       "<html><body><pre>filename = '/home/jovyan/ooi/uncabled/GI01SUMO/R00008/instruments/dcl12/FDCHP_sn144904/D202110/fdchp_20211011_170200.dat'</pre></body></html>"
      ],
      "text/plain": [
       "filename = '/home/jovyan/ooi/uncabled/GI01SUMO/R00008/instruments/dcl12/FDCHP_sn144904/D202110/fdchp_20211011_170200.dat'"
      ]
     },
     "execution_count": 24,
     "metadata": {},
     "output_type": "execute_result"
    },
    {
     "data": {
      "text/html": [
       "<html><body><pre>filename = '/home/jovyan/ooi/uncabled/GI01SUMO/R00008/instruments/dcl12/FDCHP_sn144904/D202110/fdchp_20211011_180200.dat'</pre></body></html>"
      ],
      "text/plain": [
       "filename = '/home/jovyan/ooi/uncabled/GI01SUMO/R00008/instruments/dcl12/FDCHP_sn144904/D202110/fdchp_20211011_180200.dat'"
      ]
     },
     "execution_count": 24,
     "metadata": {},
     "output_type": "execute_result"
    },
    {
     "data": {
      "text/html": [
       "<html><body><pre>filename = '/home/jovyan/ooi/uncabled/GI01SUMO/R00008/instruments/dcl12/FDCHP_sn144904/D202110/fdchp_20211011_190200.dat'</pre></body></html>"
      ],
      "text/plain": [
       "filename = '/home/jovyan/ooi/uncabled/GI01SUMO/R00008/instruments/dcl12/FDCHP_sn144904/D202110/fdchp_20211011_190200.dat'"
      ]
     },
     "execution_count": 24,
     "metadata": {},
     "output_type": "execute_result"
    },
    {
     "data": {
      "text/html": [
       "<html><body><pre>filename = '/home/jovyan/ooi/uncabled/GI01SUMO/R00008/instruments/dcl12/FDCHP_sn144904/D202110/fdchp_20211011_200200.dat'</pre></body></html>"
      ],
      "text/plain": [
       "filename = '/home/jovyan/ooi/uncabled/GI01SUMO/R00008/instruments/dcl12/FDCHP_sn144904/D202110/fdchp_20211011_200200.dat'"
      ]
     },
     "execution_count": 24,
     "metadata": {},
     "output_type": "execute_result"
    },
    {
     "data": {
      "text/html": [
       "<html><body><pre>filename = '/home/jovyan/ooi/uncabled/GI01SUMO/R00008/instruments/dcl12/FDCHP_sn144904/D202110/fdchp_20211011_210200.dat'</pre></body></html>"
      ],
      "text/plain": [
       "filename = '/home/jovyan/ooi/uncabled/GI01SUMO/R00008/instruments/dcl12/FDCHP_sn144904/D202110/fdchp_20211011_210200.dat'"
      ]
     },
     "execution_count": 24,
     "metadata": {},
     "output_type": "execute_result"
    },
    {
     "data": {
      "text/html": [
       "<html><body><pre>filename = '/home/jovyan/ooi/uncabled/GI01SUMO/R00008/instruments/dcl12/FDCHP_sn144904/D202110/fdchp_20211011_220200.dat'</pre></body></html>"
      ],
      "text/plain": [
       "filename = '/home/jovyan/ooi/uncabled/GI01SUMO/R00008/instruments/dcl12/FDCHP_sn144904/D202110/fdchp_20211011_220200.dat'"
      ]
     },
     "execution_count": 24,
     "metadata": {},
     "output_type": "execute_result"
    },
    {
     "data": {
      "text/html": [
       "<html><body><pre>filename = '/home/jovyan/ooi/uncabled/GI01SUMO/R00008/instruments/dcl12/FDCHP_sn144904/D202110/fdchp_20211011_230200.dat'</pre></body></html>"
      ],
      "text/plain": [
       "filename = '/home/jovyan/ooi/uncabled/GI01SUMO/R00008/instruments/dcl12/FDCHP_sn144904/D202110/fdchp_20211011_230200.dat'"
      ]
     },
     "execution_count": 24,
     "metadata": {},
     "output_type": "execute_result"
    },
    {
     "data": {
      "text/html": [
       "<html><body><pre>filename = '/home/jovyan/ooi/uncabled/GI01SUMO/R00008/instruments/dcl12/FDCHP_sn144904/D202110/fdchp_20211012_000200.dat'</pre></body></html>"
      ],
      "text/plain": [
       "filename = '/home/jovyan/ooi/uncabled/GI01SUMO/R00008/instruments/dcl12/FDCHP_sn144904/D202110/fdchp_20211012_000200.dat'"
      ]
     },
     "execution_count": 24,
     "metadata": {},
     "output_type": "execute_result"
    },
    {
     "data": {
      "text/html": [
       "<html><body><pre>filename = '/home/jovyan/ooi/uncabled/GI01SUMO/R00008/instruments/dcl12/FDCHP_sn144904/D202110/fdchp_20211012_010200.dat'</pre></body></html>"
      ],
      "text/plain": [
       "filename = '/home/jovyan/ooi/uncabled/GI01SUMO/R00008/instruments/dcl12/FDCHP_sn144904/D202110/fdchp_20211012_010200.dat'"
      ]
     },
     "execution_count": 24,
     "metadata": {},
     "output_type": "execute_result"
    },
    {
     "data": {
      "text/html": [
       "<html><body><pre>filename = '/home/jovyan/ooi/uncabled/GI01SUMO/R00008/instruments/dcl12/FDCHP_sn144904/D202110/fdchp_20211012_020200.dat'</pre></body></html>"
      ],
      "text/plain": [
       "filename = '/home/jovyan/ooi/uncabled/GI01SUMO/R00008/instruments/dcl12/FDCHP_sn144904/D202110/fdchp_20211012_020200.dat'"
      ]
     },
     "execution_count": 24,
     "metadata": {},
     "output_type": "execute_result"
    },
    {
     "data": {
      "text/html": [
       "<html><body><pre>filename = '/home/jovyan/ooi/uncabled/GI01SUMO/R00008/instruments/dcl12/FDCHP_sn144904/D202110/fdchp_20211012_030200.dat'</pre></body></html>"
      ],
      "text/plain": [
       "filename = '/home/jovyan/ooi/uncabled/GI01SUMO/R00008/instruments/dcl12/FDCHP_sn144904/D202110/fdchp_20211012_030200.dat'"
      ]
     },
     "execution_count": 24,
     "metadata": {},
     "output_type": "execute_result"
    },
    {
     "data": {
      "text/html": [
       "<html><body><pre>filename = '/home/jovyan/ooi/uncabled/GI01SUMO/R00008/instruments/dcl12/FDCHP_sn144904/D202110/fdchp_20211012_040200.dat'</pre></body></html>"
      ],
      "text/plain": [
       "filename = '/home/jovyan/ooi/uncabled/GI01SUMO/R00008/instruments/dcl12/FDCHP_sn144904/D202110/fdchp_20211012_040200.dat'"
      ]
     },
     "execution_count": 24,
     "metadata": {},
     "output_type": "execute_result"
    },
    {
     "data": {
      "text/html": [
       "<html><body><pre>filename = '/home/jovyan/ooi/uncabled/GI01SUMO/R00008/instruments/dcl12/FDCHP_sn144904/D202110/fdchp_20211012_050200.dat'</pre></body></html>"
      ],
      "text/plain": [
       "filename = '/home/jovyan/ooi/uncabled/GI01SUMO/R00008/instruments/dcl12/FDCHP_sn144904/D202110/fdchp_20211012_050200.dat'"
      ]
     },
     "execution_count": 24,
     "metadata": {},
     "output_type": "execute_result"
    },
    {
     "data": {
      "text/html": [
       "<html><body><pre>filename = '/home/jovyan/ooi/uncabled/GI01SUMO/R00008/instruments/dcl12/FDCHP_sn144904/D202110/fdchp_20211012_060200.dat'</pre></body></html>"
      ],
      "text/plain": [
       "filename = '/home/jovyan/ooi/uncabled/GI01SUMO/R00008/instruments/dcl12/FDCHP_sn144904/D202110/fdchp_20211012_060200.dat'"
      ]
     },
     "execution_count": 24,
     "metadata": {},
     "output_type": "execute_result"
    },
    {
     "data": {
      "text/html": [
       "<html><body><pre>filename = '/home/jovyan/ooi/uncabled/GI01SUMO/R00008/instruments/dcl12/FDCHP_sn144904/D202110/fdchp_20211012_070200.dat'</pre></body></html>"
      ],
      "text/plain": [
       "filename = '/home/jovyan/ooi/uncabled/GI01SUMO/R00008/instruments/dcl12/FDCHP_sn144904/D202110/fdchp_20211012_070200.dat'"
      ]
     },
     "execution_count": 24,
     "metadata": {},
     "output_type": "execute_result"
    },
    {
     "data": {
      "text/html": [
       "<html><body><pre>filename = '/home/jovyan/ooi/uncabled/GI01SUMO/R00008/instruments/dcl12/FDCHP_sn144904/D202110/fdchp_20211012_080200.dat'</pre></body></html>"
      ],
      "text/plain": [
       "filename = '/home/jovyan/ooi/uncabled/GI01SUMO/R00008/instruments/dcl12/FDCHP_sn144904/D202110/fdchp_20211012_080200.dat'"
      ]
     },
     "execution_count": 24,
     "metadata": {},
     "output_type": "execute_result"
    },
    {
     "data": {
      "text/html": [
       "<html><body><pre>filename = '/home/jovyan/ooi/uncabled/GI01SUMO/R00008/instruments/dcl12/FDCHP_sn144904/D202110/fdchp_20211012_090200.dat'</pre></body></html>"
      ],
      "text/plain": [
       "filename = '/home/jovyan/ooi/uncabled/GI01SUMO/R00008/instruments/dcl12/FDCHP_sn144904/D202110/fdchp_20211012_090200.dat'"
      ]
     },
     "execution_count": 24,
     "metadata": {},
     "output_type": "execute_result"
    },
    {
     "data": {
      "text/html": [
       "<html><body><pre>filename = '/home/jovyan/ooi/uncabled/GI01SUMO/R00008/instruments/dcl12/FDCHP_sn144904/D202110/fdchp_20211012_100200.dat'</pre></body></html>"
      ],
      "text/plain": [
       "filename = '/home/jovyan/ooi/uncabled/GI01SUMO/R00008/instruments/dcl12/FDCHP_sn144904/D202110/fdchp_20211012_100200.dat'"
      ]
     },
     "execution_count": 24,
     "metadata": {},
     "output_type": "execute_result"
    },
    {
     "data": {
      "text/html": [
       "<html><body><pre>filename = '/home/jovyan/ooi/uncabled/GI01SUMO/R00008/instruments/dcl12/FDCHP_sn144904/D202110/fdchp_20211012_110200.dat'</pre></body></html>"
      ],
      "text/plain": [
       "filename = '/home/jovyan/ooi/uncabled/GI01SUMO/R00008/instruments/dcl12/FDCHP_sn144904/D202110/fdchp_20211012_110200.dat'"
      ]
     },
     "execution_count": 24,
     "metadata": {},
     "output_type": "execute_result"
    },
    {
     "data": {
      "text/html": [
       "<html><body><pre>filename = '/home/jovyan/ooi/uncabled/GI01SUMO/R00008/instruments/dcl12/FDCHP_sn144904/D202110/fdchp_20211012_120200.dat'</pre></body></html>"
      ],
      "text/plain": [
       "filename = '/home/jovyan/ooi/uncabled/GI01SUMO/R00008/instruments/dcl12/FDCHP_sn144904/D202110/fdchp_20211012_120200.dat'"
      ]
     },
     "execution_count": 24,
     "metadata": {},
     "output_type": "execute_result"
    },
    {
     "data": {
      "text/html": [
       "<html><body><pre>filename = '/home/jovyan/ooi/uncabled/GI01SUMO/R00008/instruments/dcl12/FDCHP_sn144904/D202110/fdchp_20211012_130200.dat'</pre></body></html>"
      ],
      "text/plain": [
       "filename = '/home/jovyan/ooi/uncabled/GI01SUMO/R00008/instruments/dcl12/FDCHP_sn144904/D202110/fdchp_20211012_130200.dat'"
      ]
     },
     "execution_count": 24,
     "metadata": {},
     "output_type": "execute_result"
    },
    {
     "data": {
      "text/html": [
       "<html><body><pre>filename = '/home/jovyan/ooi/uncabled/GI01SUMO/R00008/instruments/dcl12/FDCHP_sn144904/D202110/fdchp_20211012_140200.dat'</pre></body></html>"
      ],
      "text/plain": [
       "filename = '/home/jovyan/ooi/uncabled/GI01SUMO/R00008/instruments/dcl12/FDCHP_sn144904/D202110/fdchp_20211012_140200.dat'"
      ]
     },
     "execution_count": 24,
     "metadata": {},
     "output_type": "execute_result"
    },
    {
     "data": {
      "text/html": [
       "<html><body><pre>filename = '/home/jovyan/ooi/uncabled/GI01SUMO/R00008/instruments/dcl12/FDCHP_sn144904/D202110/fdchp_20211012_150200.dat'</pre></body></html>"
      ],
      "text/plain": [
       "filename = '/home/jovyan/ooi/uncabled/GI01SUMO/R00008/instruments/dcl12/FDCHP_sn144904/D202110/fdchp_20211012_150200.dat'"
      ]
     },
     "execution_count": 24,
     "metadata": {},
     "output_type": "execute_result"
    },
    {
     "data": {
      "text/html": [
       "<html><body><pre>filename = '/home/jovyan/ooi/uncabled/GI01SUMO/R00008/instruments/dcl12/FDCHP_sn144904/D202110/fdchp_20211012_160200.dat'</pre></body></html>"
      ],
      "text/plain": [
       "filename = '/home/jovyan/ooi/uncabled/GI01SUMO/R00008/instruments/dcl12/FDCHP_sn144904/D202110/fdchp_20211012_160200.dat'"
      ]
     },
     "execution_count": 24,
     "metadata": {},
     "output_type": "execute_result"
    },
    {
     "data": {
      "text/html": [
       "<html><body><pre>filename = '/home/jovyan/ooi/uncabled/GI01SUMO/R00008/instruments/dcl12/FDCHP_sn144904/D202110/fdchp_20211012_170200.dat'</pre></body></html>"
      ],
      "text/plain": [
       "filename = '/home/jovyan/ooi/uncabled/GI01SUMO/R00008/instruments/dcl12/FDCHP_sn144904/D202110/fdchp_20211012_170200.dat'"
      ]
     },
     "execution_count": 24,
     "metadata": {},
     "output_type": "execute_result"
    },
    {
     "data": {
      "text/html": [
       "<html><body><pre>filename = '/home/jovyan/ooi/uncabled/GI01SUMO/R00008/instruments/dcl12/FDCHP_sn144904/D202110/fdchp_20211012_180200.dat'</pre></body></html>"
      ],
      "text/plain": [
       "filename = '/home/jovyan/ooi/uncabled/GI01SUMO/R00008/instruments/dcl12/FDCHP_sn144904/D202110/fdchp_20211012_180200.dat'"
      ]
     },
     "execution_count": 24,
     "metadata": {},
     "output_type": "execute_result"
    },
    {
     "data": {
      "text/html": [
       "<html><body><pre>filename = '/home/jovyan/ooi/uncabled/GI01SUMO/R00008/instruments/dcl12/FDCHP_sn144904/D202110/fdchp_20211012_190200.dat'</pre></body></html>"
      ],
      "text/plain": [
       "filename = '/home/jovyan/ooi/uncabled/GI01SUMO/R00008/instruments/dcl12/FDCHP_sn144904/D202110/fdchp_20211012_190200.dat'"
      ]
     },
     "execution_count": 24,
     "metadata": {},
     "output_type": "execute_result"
    },
    {
     "data": {
      "text/html": [
       "<html><body><pre>filename = '/home/jovyan/ooi/uncabled/GI01SUMO/R00008/instruments/dcl12/FDCHP_sn144904/D202110/fdchp_20211012_200200.dat'</pre></body></html>"
      ],
      "text/plain": [
       "filename = '/home/jovyan/ooi/uncabled/GI01SUMO/R00008/instruments/dcl12/FDCHP_sn144904/D202110/fdchp_20211012_200200.dat'"
      ]
     },
     "execution_count": 24,
     "metadata": {},
     "output_type": "execute_result"
    },
    {
     "data": {
      "text/html": [
       "<html><body><pre>filename = '/home/jovyan/ooi/uncabled/GI01SUMO/R00008/instruments/dcl12/FDCHP_sn144904/D202110/fdchp_20211012_210200.dat'</pre></body></html>"
      ],
      "text/plain": [
       "filename = '/home/jovyan/ooi/uncabled/GI01SUMO/R00008/instruments/dcl12/FDCHP_sn144904/D202110/fdchp_20211012_210200.dat'"
      ]
     },
     "execution_count": 24,
     "metadata": {},
     "output_type": "execute_result"
    },
    {
     "data": {
      "text/html": [
       "<html><body><pre>filename = '/home/jovyan/ooi/uncabled/GI01SUMO/R00008/instruments/dcl12/FDCHP_sn144904/D202110/fdchp_20211012_220200.dat'</pre></body></html>"
      ],
      "text/plain": [
       "filename = '/home/jovyan/ooi/uncabled/GI01SUMO/R00008/instruments/dcl12/FDCHP_sn144904/D202110/fdchp_20211012_220200.dat'"
      ]
     },
     "execution_count": 24,
     "metadata": {},
     "output_type": "execute_result"
    },
    {
     "data": {
      "text/html": [
       "<html><body><pre>filename = '/home/jovyan/ooi/uncabled/GI01SUMO/R00008/instruments/dcl12/FDCHP_sn144904/D202110/fdchp_20211012_230200.dat'</pre></body></html>"
      ],
      "text/plain": [
       "filename = '/home/jovyan/ooi/uncabled/GI01SUMO/R00008/instruments/dcl12/FDCHP_sn144904/D202110/fdchp_20211012_230200.dat'"
      ]
     },
     "execution_count": 24,
     "metadata": {},
     "output_type": "execute_result"
    },
    {
     "data": {
      "text/html": [
       "<html><body><pre>filename = '/home/jovyan/ooi/uncabled/GI01SUMO/R00008/instruments/dcl12/FDCHP_sn144904/D202110/fdchp_20211013_000200.dat'</pre></body></html>"
      ],
      "text/plain": [
       "filename = '/home/jovyan/ooi/uncabled/GI01SUMO/R00008/instruments/dcl12/FDCHP_sn144904/D202110/fdchp_20211013_000200.dat'"
      ]
     },
     "execution_count": 24,
     "metadata": {},
     "output_type": "execute_result"
    },
    {
     "data": {
      "text/html": [
       "<html><body><pre>filename = '/home/jovyan/ooi/uncabled/GI01SUMO/R00008/instruments/dcl12/FDCHP_sn144904/D202110/fdchp_20211013_010200.dat'</pre></body></html>"
      ],
      "text/plain": [
       "filename = '/home/jovyan/ooi/uncabled/GI01SUMO/R00008/instruments/dcl12/FDCHP_sn144904/D202110/fdchp_20211013_010200.dat'"
      ]
     },
     "execution_count": 24,
     "metadata": {},
     "output_type": "execute_result"
    },
    {
     "name": "stdout",
     "output_type": "stream",
     "text": [
      "Bad Length\n"
     ]
    },
    {
     "data": {
      "text/html": [
       "<html><body><pre>msgText = \n",
       "    'Output argument \"rawdata\" (and possibly others) not assigned a value in the execution with \"fdchpread_raw\" function.\n",
       "     \n",
       "     Error in fdchpread_raw_from_folder (line 57)\n",
       "                 [td,dd] = fdchpread_raw(filename);\n",
       "     \n",
       "     Error in LiveEditorEvaluationHelperEeditorId (line 5)\n",
       "     [uw, U, sigH] =  fdchpread_raw_from_folder(data_directory)\n",
       "     \n",
       "     Error in jupyter.execute (line 51)\n",
       "     resp = jsondecode(matlab.internal.editor.evaluateSynchronousRequest(request));\n",
       "     \n",
       "     Error in processJupyterKernelRequest (line 54)\n",
       "                 output = jupyter.execute(code, kernelId);\n",
       "     \n",
       "     Error in connector.internal.fevalMatlab\n",
       "     \n",
       "     Error in connector.internal.fevalJSON'\n",
       "</pre></body></html>"
      ],
      "text/plain": [
       "msgText = \n",
       "    'Output argument \"rawdata\" (and possibly others) not assigned a value in the execution with \"fdchpread_raw\" function.\n",
       "     \n",
       "     Error in fdchpread_raw_from_folder (line 57)\n",
       "                 [td,dd] = fdchpread_raw(filename);\n",
       "     \n",
       "     Error in LiveEditorEvaluationHelperEeditorId (line 5)\n",
       "     [uw, U, sigH] =  fdchpread_raw_from_folder(data_directory)\n",
       "     \n",
       "     Error in jupyter.execute (line 51)\n",
       "     resp = jsondecode(matlab.internal.editor.evaluateSynchronousRequest(request));\n",
       "     \n",
       "     Error in processJupyterKernelRequest (line 54)\n",
       "                 output = jupyter.execute(code, kernelId);\n",
       "     \n",
       "     Error in connector.internal.fevalMatlab\n",
       "     \n",
       "     Error in connector.internal.fevalJSON'\n"
      ]
     },
     "execution_count": 24,
     "metadata": {},
     "output_type": "execute_result"
    },
    {
     "name": "stdout",
     "output_type": "stream",
     "text": [
      "    \"Error reading filename: \"    \"Output argument \"rawdata\" (and possibly others) not assigned a value in the execution with \"fdchpread_raw\" function....\"\n",
      "\n"
     ]
    },
    {
     "data": {
      "text/html": [
       "<html><body><pre>filename = '/home/jovyan/ooi/uncabled/GI01SUMO/R00008/instruments/dcl12/FDCHP_sn144904/D202110/fdchp_20211013_020200.dat'</pre></body></html>"
      ],
      "text/plain": [
       "filename = '/home/jovyan/ooi/uncabled/GI01SUMO/R00008/instruments/dcl12/FDCHP_sn144904/D202110/fdchp_20211013_020200.dat'"
      ]
     },
     "execution_count": 24,
     "metadata": {},
     "output_type": "execute_result"
    },
    {
     "data": {
      "text/html": [
       "<html><body><pre>filename = '/home/jovyan/ooi/uncabled/GI01SUMO/R00008/instruments/dcl12/FDCHP_sn144904/D202110/fdchp_20211013_030200.dat'</pre></body></html>"
      ],
      "text/plain": [
       "filename = '/home/jovyan/ooi/uncabled/GI01SUMO/R00008/instruments/dcl12/FDCHP_sn144904/D202110/fdchp_20211013_030200.dat'"
      ]
     },
     "execution_count": 24,
     "metadata": {},
     "output_type": "execute_result"
    },
    {
     "name": "stdout",
     "output_type": "stream",
     "text": [
      "Bad Length\n"
     ]
    },
    {
     "data": {
      "text/html": [
       "<html><body><pre>msgText = \n",
       "    'Output argument \"rawdata\" (and possibly others) not assigned a value in the execution with \"fdchpread_raw\" function.\n",
       "     \n",
       "     Error in fdchpread_raw_from_folder (line 57)\n",
       "                 [td,dd] = fdchpread_raw(filename);\n",
       "     \n",
       "     Error in LiveEditorEvaluationHelperEeditorId (line 5)\n",
       "     [uw, U, sigH] =  fdchpread_raw_from_folder(data_directory)\n",
       "     \n",
       "     Error in jupyter.execute (line 51)\n",
       "     resp = jsondecode(matlab.internal.editor.evaluateSynchronousRequest(request));\n",
       "     \n",
       "     Error in processJupyterKernelRequest (line 54)\n",
       "                 output = jupyter.execute(code, kernelId);\n",
       "     \n",
       "     Error in connector.internal.fevalMatlab\n",
       "     \n",
       "     Error in connector.internal.fevalJSON'\n",
       "</pre></body></html>"
      ],
      "text/plain": [
       "msgText = \n",
       "    'Output argument \"rawdata\" (and possibly others) not assigned a value in the execution with \"fdchpread_raw\" function.\n",
       "     \n",
       "     Error in fdchpread_raw_from_folder (line 57)\n",
       "                 [td,dd] = fdchpread_raw(filename);\n",
       "     \n",
       "     Error in LiveEditorEvaluationHelperEeditorId (line 5)\n",
       "     [uw, U, sigH] =  fdchpread_raw_from_folder(data_directory)\n",
       "     \n",
       "     Error in jupyter.execute (line 51)\n",
       "     resp = jsondecode(matlab.internal.editor.evaluateSynchronousRequest(request));\n",
       "     \n",
       "     Error in processJupyterKernelRequest (line 54)\n",
       "                 output = jupyter.execute(code, kernelId);\n",
       "     \n",
       "     Error in connector.internal.fevalMatlab\n",
       "     \n",
       "     Error in connector.internal.fevalJSON'\n"
      ]
     },
     "execution_count": 24,
     "metadata": {},
     "output_type": "execute_result"
    },
    {
     "name": "stdout",
     "output_type": "stream",
     "text": [
      "    \"Error reading filename: \"    \"Output argument \"rawdata\" (and possibly others) not assigned a value in the execution with \"fdchpread_raw\" function....\"\n",
      "\n"
     ]
    },
    {
     "data": {
      "text/html": [
       "<html><body><pre>filename = '/home/jovyan/ooi/uncabled/GI01SUMO/R00008/instruments/dcl12/FDCHP_sn144904/D202110/fdchp_20211013_040200.dat'</pre></body></html>"
      ],
      "text/plain": [
       "filename = '/home/jovyan/ooi/uncabled/GI01SUMO/R00008/instruments/dcl12/FDCHP_sn144904/D202110/fdchp_20211013_040200.dat'"
      ]
     },
     "execution_count": 24,
     "metadata": {},
     "output_type": "execute_result"
    },
    {
     "data": {
      "text/html": [
       "<html><body><pre>filename = '/home/jovyan/ooi/uncabled/GI01SUMO/R00008/instruments/dcl12/FDCHP_sn144904/D202110/fdchp_20211013_050200.dat'</pre></body></html>"
      ],
      "text/plain": [
       "filename = '/home/jovyan/ooi/uncabled/GI01SUMO/R00008/instruments/dcl12/FDCHP_sn144904/D202110/fdchp_20211013_050200.dat'"
      ]
     },
     "execution_count": 24,
     "metadata": {},
     "output_type": "execute_result"
    },
    {
     "data": {
      "text/html": [
       "<html><body><pre>filename = '/home/jovyan/ooi/uncabled/GI01SUMO/R00008/instruments/dcl12/FDCHP_sn144904/D202110/fdchp_20211013_060200.dat'</pre></body></html>"
      ],
      "text/plain": [
       "filename = '/home/jovyan/ooi/uncabled/GI01SUMO/R00008/instruments/dcl12/FDCHP_sn144904/D202110/fdchp_20211013_060200.dat'"
      ]
     },
     "execution_count": 24,
     "metadata": {},
     "output_type": "execute_result"
    },
    {
     "data": {
      "text/html": [
       "<html><body><pre>filename = '/home/jovyan/ooi/uncabled/GI01SUMO/R00008/instruments/dcl12/FDCHP_sn144904/D202110/fdchp_20211013_070200.dat'</pre></body></html>"
      ],
      "text/plain": [
       "filename = '/home/jovyan/ooi/uncabled/GI01SUMO/R00008/instruments/dcl12/FDCHP_sn144904/D202110/fdchp_20211013_070200.dat'"
      ]
     },
     "execution_count": 24,
     "metadata": {},
     "output_type": "execute_result"
    },
    {
     "data": {
      "text/html": [
       "<html><body><pre>filename = '/home/jovyan/ooi/uncabled/GI01SUMO/R00008/instruments/dcl12/FDCHP_sn144904/D202110/fdchp_20211013_080200.dat'</pre></body></html>"
      ],
      "text/plain": [
       "filename = '/home/jovyan/ooi/uncabled/GI01SUMO/R00008/instruments/dcl12/FDCHP_sn144904/D202110/fdchp_20211013_080200.dat'"
      ]
     },
     "execution_count": 24,
     "metadata": {},
     "output_type": "execute_result"
    },
    {
     "data": {
      "text/html": [
       "<html><body><pre>filename = '/home/jovyan/ooi/uncabled/GI01SUMO/R00008/instruments/dcl12/FDCHP_sn144904/D202110/fdchp_20211013_090200.dat'</pre></body></html>"
      ],
      "text/plain": [
       "filename = '/home/jovyan/ooi/uncabled/GI01SUMO/R00008/instruments/dcl12/FDCHP_sn144904/D202110/fdchp_20211013_090200.dat'"
      ]
     },
     "execution_count": 24,
     "metadata": {},
     "output_type": "execute_result"
    },
    {
     "data": {
      "text/html": [
       "<html><body><pre>filename = '/home/jovyan/ooi/uncabled/GI01SUMO/R00008/instruments/dcl12/FDCHP_sn144904/D202110/fdchp_20211013_100200.dat'</pre></body></html>"
      ],
      "text/plain": [
       "filename = '/home/jovyan/ooi/uncabled/GI01SUMO/R00008/instruments/dcl12/FDCHP_sn144904/D202110/fdchp_20211013_100200.dat'"
      ]
     },
     "execution_count": 24,
     "metadata": {},
     "output_type": "execute_result"
    },
    {
     "data": {
      "text/html": [
       "<html><body><pre>filename = '/home/jovyan/ooi/uncabled/GI01SUMO/R00008/instruments/dcl12/FDCHP_sn144904/D202110/fdchp_20211013_110200.dat'</pre></body></html>"
      ],
      "text/plain": [
       "filename = '/home/jovyan/ooi/uncabled/GI01SUMO/R00008/instruments/dcl12/FDCHP_sn144904/D202110/fdchp_20211013_110200.dat'"
      ]
     },
     "execution_count": 24,
     "metadata": {},
     "output_type": "execute_result"
    },
    {
     "data": {
      "text/html": [
       "<html><body><pre>filename = '/home/jovyan/ooi/uncabled/GI01SUMO/R00008/instruments/dcl12/FDCHP_sn144904/D202110/fdchp_20211013_120200.dat'</pre></body></html>"
      ],
      "text/plain": [
       "filename = '/home/jovyan/ooi/uncabled/GI01SUMO/R00008/instruments/dcl12/FDCHP_sn144904/D202110/fdchp_20211013_120200.dat'"
      ]
     },
     "execution_count": 24,
     "metadata": {},
     "output_type": "execute_result"
    },
    {
     "data": {
      "text/html": [
       "<html><body><pre>filename = '/home/jovyan/ooi/uncabled/GI01SUMO/R00008/instruments/dcl12/FDCHP_sn144904/D202110/fdchp_20211013_130200.dat'</pre></body></html>"
      ],
      "text/plain": [
       "filename = '/home/jovyan/ooi/uncabled/GI01SUMO/R00008/instruments/dcl12/FDCHP_sn144904/D202110/fdchp_20211013_130200.dat'"
      ]
     },
     "execution_count": 24,
     "metadata": {},
     "output_type": "execute_result"
    },
    {
     "data": {
      "text/html": [
       "<html><body><pre>filename = '/home/jovyan/ooi/uncabled/GI01SUMO/R00008/instruments/dcl12/FDCHP_sn144904/D202110/fdchp_20211013_140200.dat'</pre></body></html>"
      ],
      "text/plain": [
       "filename = '/home/jovyan/ooi/uncabled/GI01SUMO/R00008/instruments/dcl12/FDCHP_sn144904/D202110/fdchp_20211013_140200.dat'"
      ]
     },
     "execution_count": 24,
     "metadata": {},
     "output_type": "execute_result"
    },
    {
     "data": {
      "text/html": [
       "<html><body><pre>filename = '/home/jovyan/ooi/uncabled/GI01SUMO/R00008/instruments/dcl12/FDCHP_sn144904/D202110/fdchp_20211013_150200.dat'</pre></body></html>"
      ],
      "text/plain": [
       "filename = '/home/jovyan/ooi/uncabled/GI01SUMO/R00008/instruments/dcl12/FDCHP_sn144904/D202110/fdchp_20211013_150200.dat'"
      ]
     },
     "execution_count": 24,
     "metadata": {},
     "output_type": "execute_result"
    },
    {
     "data": {
      "text/html": [
       "<html><body><pre>filename = '/home/jovyan/ooi/uncabled/GI01SUMO/R00008/instruments/dcl12/FDCHP_sn144904/D202110/fdchp_20211013_160200.dat'</pre></body></html>"
      ],
      "text/plain": [
       "filename = '/home/jovyan/ooi/uncabled/GI01SUMO/R00008/instruments/dcl12/FDCHP_sn144904/D202110/fdchp_20211013_160200.dat'"
      ]
     },
     "execution_count": 24,
     "metadata": {},
     "output_type": "execute_result"
    },
    {
     "data": {
      "text/html": [
       "<html><body><pre>filename = '/home/jovyan/ooi/uncabled/GI01SUMO/R00008/instruments/dcl12/FDCHP_sn144904/D202110/fdchp_20211013_170200.dat'</pre></body></html>"
      ],
      "text/plain": [
       "filename = '/home/jovyan/ooi/uncabled/GI01SUMO/R00008/instruments/dcl12/FDCHP_sn144904/D202110/fdchp_20211013_170200.dat'"
      ]
     },
     "execution_count": 24,
     "metadata": {},
     "output_type": "execute_result"
    },
    {
     "data": {
      "text/html": [
       "<html><body><pre>filename = '/home/jovyan/ooi/uncabled/GI01SUMO/R00008/instruments/dcl12/FDCHP_sn144904/D202110/fdchp_20211013_180200.dat'</pre></body></html>"
      ],
      "text/plain": [
       "filename = '/home/jovyan/ooi/uncabled/GI01SUMO/R00008/instruments/dcl12/FDCHP_sn144904/D202110/fdchp_20211013_180200.dat'"
      ]
     },
     "execution_count": 24,
     "metadata": {},
     "output_type": "execute_result"
    },
    {
     "name": "stdout",
     "output_type": "stream",
     "text": [
      "Bad Length\n"
     ]
    },
    {
     "data": {
      "text/html": [
       "<html><body><pre>msgText = \n",
       "    'Output argument \"rawdata\" (and possibly others) not assigned a value in the execution with \"fdchpread_raw\" function.\n",
       "     \n",
       "     Error in fdchpread_raw_from_folder (line 57)\n",
       "                 [td,dd] = fdchpread_raw(filename);\n",
       "     \n",
       "     Error in LiveEditorEvaluationHelperEeditorId (line 5)\n",
       "     [uw, U, sigH] =  fdchpread_raw_from_folder(data_directory)\n",
       "     \n",
       "     Error in jupyter.execute (line 51)\n",
       "     resp = jsondecode(matlab.internal.editor.evaluateSynchronousRequest(request));\n",
       "     \n",
       "     Error in processJupyterKernelRequest (line 54)\n",
       "                 output = jupyter.execute(code, kernelId);\n",
       "     \n",
       "     Error in connector.internal.fevalMatlab\n",
       "     \n",
       "     Error in connector.internal.fevalJSON'\n",
       "</pre></body></html>"
      ],
      "text/plain": [
       "msgText = \n",
       "    'Output argument \"rawdata\" (and possibly others) not assigned a value in the execution with \"fdchpread_raw\" function.\n",
       "     \n",
       "     Error in fdchpread_raw_from_folder (line 57)\n",
       "                 [td,dd] = fdchpread_raw(filename);\n",
       "     \n",
       "     Error in LiveEditorEvaluationHelperEeditorId (line 5)\n",
       "     [uw, U, sigH] =  fdchpread_raw_from_folder(data_directory)\n",
       "     \n",
       "     Error in jupyter.execute (line 51)\n",
       "     resp = jsondecode(matlab.internal.editor.evaluateSynchronousRequest(request));\n",
       "     \n",
       "     Error in processJupyterKernelRequest (line 54)\n",
       "                 output = jupyter.execute(code, kernelId);\n",
       "     \n",
       "     Error in connector.internal.fevalMatlab\n",
       "     \n",
       "     Error in connector.internal.fevalJSON'\n"
      ]
     },
     "execution_count": 24,
     "metadata": {},
     "output_type": "execute_result"
    },
    {
     "name": "stdout",
     "output_type": "stream",
     "text": [
      "    \"Error reading filename: \"    \"Output argument \"rawdata\" (and possibly others) not assigned a value in the execution with \"fdchpread_raw\" function....\"\n",
      "\n"
     ]
    },
    {
     "data": {
      "text/html": [
       "<html><body><pre>filename = '/home/jovyan/ooi/uncabled/GI01SUMO/R00008/instruments/dcl12/FDCHP_sn144904/D202110/fdchp_20211013_190200.dat'</pre></body></html>"
      ],
      "text/plain": [
       "filename = '/home/jovyan/ooi/uncabled/GI01SUMO/R00008/instruments/dcl12/FDCHP_sn144904/D202110/fdchp_20211013_190200.dat'"
      ]
     },
     "execution_count": 24,
     "metadata": {},
     "output_type": "execute_result"
    },
    {
     "data": {
      "text/html": [
       "<html><body><pre>filename = '/home/jovyan/ooi/uncabled/GI01SUMO/R00008/instruments/dcl12/FDCHP_sn144904/D202110/fdchp_20211013_200200.dat'</pre></body></html>"
      ],
      "text/plain": [
       "filename = '/home/jovyan/ooi/uncabled/GI01SUMO/R00008/instruments/dcl12/FDCHP_sn144904/D202110/fdchp_20211013_200200.dat'"
      ]
     },
     "execution_count": 24,
     "metadata": {},
     "output_type": "execute_result"
    },
    {
     "data": {
      "text/html": [
       "<html><body><pre>filename = '/home/jovyan/ooi/uncabled/GI01SUMO/R00008/instruments/dcl12/FDCHP_sn144904/D202110/fdchp_20211013_210200.dat'</pre></body></html>"
      ],
      "text/plain": [
       "filename = '/home/jovyan/ooi/uncabled/GI01SUMO/R00008/instruments/dcl12/FDCHP_sn144904/D202110/fdchp_20211013_210200.dat'"
      ]
     },
     "execution_count": 24,
     "metadata": {},
     "output_type": "execute_result"
    },
    {
     "name": "stdout",
     "output_type": "stream",
     "text": [
      "Bad Length\n"
     ]
    },
    {
     "data": {
      "text/html": [
       "<html><body><pre>msgText = \n",
       "    'Output argument \"rawdata\" (and possibly others) not assigned a value in the execution with \"fdchpread_raw\" function.\n",
       "     \n",
       "     Error in fdchpread_raw_from_folder (line 57)\n",
       "                 [td,dd] = fdchpread_raw(filename);\n",
       "     \n",
       "     Error in LiveEditorEvaluationHelperEeditorId (line 5)\n",
       "     [uw, U, sigH] =  fdchpread_raw_from_folder(data_directory)\n",
       "     \n",
       "     Error in jupyter.execute (line 51)\n",
       "     resp = jsondecode(matlab.internal.editor.evaluateSynchronousRequest(request));\n",
       "     \n",
       "     Error in processJupyterKernelRequest (line 54)\n",
       "                 output = jupyter.execute(code, kernelId);\n",
       "     \n",
       "     Error in connector.internal.fevalMatlab\n",
       "     \n",
       "     Error in connector.internal.fevalJSON'\n",
       "</pre></body></html>"
      ],
      "text/plain": [
       "msgText = \n",
       "    'Output argument \"rawdata\" (and possibly others) not assigned a value in the execution with \"fdchpread_raw\" function.\n",
       "     \n",
       "     Error in fdchpread_raw_from_folder (line 57)\n",
       "                 [td,dd] = fdchpread_raw(filename);\n",
       "     \n",
       "     Error in LiveEditorEvaluationHelperEeditorId (line 5)\n",
       "     [uw, U, sigH] =  fdchpread_raw_from_folder(data_directory)\n",
       "     \n",
       "     Error in jupyter.execute (line 51)\n",
       "     resp = jsondecode(matlab.internal.editor.evaluateSynchronousRequest(request));\n",
       "     \n",
       "     Error in processJupyterKernelRequest (line 54)\n",
       "                 output = jupyter.execute(code, kernelId);\n",
       "     \n",
       "     Error in connector.internal.fevalMatlab\n",
       "     \n",
       "     Error in connector.internal.fevalJSON'\n"
      ]
     },
     "execution_count": 24,
     "metadata": {},
     "output_type": "execute_result"
    },
    {
     "name": "stdout",
     "output_type": "stream",
     "text": [
      "    \"Error reading filename: \"    \"Output argument \"rawdata\" (and possibly others) not assigned a value in the execution with \"fdchpread_raw\" function....\"\n",
      "\n"
     ]
    },
    {
     "data": {
      "text/html": [
       "<html><body><pre>filename = '/home/jovyan/ooi/uncabled/GI01SUMO/R00008/instruments/dcl12/FDCHP_sn144904/D202110/fdchp_20211013_220200.dat'</pre></body></html>"
      ],
      "text/plain": [
       "filename = '/home/jovyan/ooi/uncabled/GI01SUMO/R00008/instruments/dcl12/FDCHP_sn144904/D202110/fdchp_20211013_220200.dat'"
      ]
     },
     "execution_count": 24,
     "metadata": {},
     "output_type": "execute_result"
    },
    {
     "data": {
      "text/html": [
       "<html><body><pre>filename = '/home/jovyan/ooi/uncabled/GI01SUMO/R00008/instruments/dcl12/FDCHP_sn144904/D202110/fdchp_20211013_230200.dat'</pre></body></html>"
      ],
      "text/plain": [
       "filename = '/home/jovyan/ooi/uncabled/GI01SUMO/R00008/instruments/dcl12/FDCHP_sn144904/D202110/fdchp_20211013_230200.dat'"
      ]
     },
     "execution_count": 24,
     "metadata": {},
     "output_type": "execute_result"
    },
    {
     "data": {
      "text/html": [
       "<html><body><pre>filename = '/home/jovyan/ooi/uncabled/GI01SUMO/R00008/instruments/dcl12/FDCHP_sn144904/D202110/fdchp_20211014_000200.dat'</pre></body></html>"
      ],
      "text/plain": [
       "filename = '/home/jovyan/ooi/uncabled/GI01SUMO/R00008/instruments/dcl12/FDCHP_sn144904/D202110/fdchp_20211014_000200.dat'"
      ]
     },
     "execution_count": 24,
     "metadata": {},
     "output_type": "execute_result"
    },
    {
     "data": {
      "text/html": [
       "<html><body><pre>filename = '/home/jovyan/ooi/uncabled/GI01SUMO/R00008/instruments/dcl12/FDCHP_sn144904/D202110/fdchp_20211014_010200.dat'</pre></body></html>"
      ],
      "text/plain": [
       "filename = '/home/jovyan/ooi/uncabled/GI01SUMO/R00008/instruments/dcl12/FDCHP_sn144904/D202110/fdchp_20211014_010200.dat'"
      ]
     },
     "execution_count": 24,
     "metadata": {},
     "output_type": "execute_result"
    },
    {
     "data": {
      "text/html": [
       "<html><body><pre>filename = '/home/jovyan/ooi/uncabled/GI01SUMO/R00008/instruments/dcl12/FDCHP_sn144904/D202110/fdchp_20211014_020200.dat'</pre></body></html>"
      ],
      "text/plain": [
       "filename = '/home/jovyan/ooi/uncabled/GI01SUMO/R00008/instruments/dcl12/FDCHP_sn144904/D202110/fdchp_20211014_020200.dat'"
      ]
     },
     "execution_count": 24,
     "metadata": {},
     "output_type": "execute_result"
    },
    {
     "data": {
      "text/html": [
       "<html><body><pre>filename = '/home/jovyan/ooi/uncabled/GI01SUMO/R00008/instruments/dcl12/FDCHP_sn144904/D202110/fdchp_20211014_030200.dat'</pre></body></html>"
      ],
      "text/plain": [
       "filename = '/home/jovyan/ooi/uncabled/GI01SUMO/R00008/instruments/dcl12/FDCHP_sn144904/D202110/fdchp_20211014_030200.dat'"
      ]
     },
     "execution_count": 24,
     "metadata": {},
     "output_type": "execute_result"
    },
    {
     "data": {
      "text/html": [
       "<html><body><pre>filename = '/home/jovyan/ooi/uncabled/GI01SUMO/R00008/instruments/dcl12/FDCHP_sn144904/D202110/fdchp_20211014_040200.dat'</pre></body></html>"
      ],
      "text/plain": [
       "filename = '/home/jovyan/ooi/uncabled/GI01SUMO/R00008/instruments/dcl12/FDCHP_sn144904/D202110/fdchp_20211014_040200.dat'"
      ]
     },
     "execution_count": 24,
     "metadata": {},
     "output_type": "execute_result"
    },
    {
     "data": {
      "text/html": [
       "<html><body><pre>filename = '/home/jovyan/ooi/uncabled/GI01SUMO/R00008/instruments/dcl12/FDCHP_sn144904/D202110/fdchp_20211014_050200.dat'</pre></body></html>"
      ],
      "text/plain": [
       "filename = '/home/jovyan/ooi/uncabled/GI01SUMO/R00008/instruments/dcl12/FDCHP_sn144904/D202110/fdchp_20211014_050200.dat'"
      ]
     },
     "execution_count": 24,
     "metadata": {},
     "output_type": "execute_result"
    },
    {
     "data": {
      "text/html": [
       "<html><body><pre>filename = '/home/jovyan/ooi/uncabled/GI01SUMO/R00008/instruments/dcl12/FDCHP_sn144904/D202110/fdchp_20211014_060200.dat'</pre></body></html>"
      ],
      "text/plain": [
       "filename = '/home/jovyan/ooi/uncabled/GI01SUMO/R00008/instruments/dcl12/FDCHP_sn144904/D202110/fdchp_20211014_060200.dat'"
      ]
     },
     "execution_count": 24,
     "metadata": {},
     "output_type": "execute_result"
    },
    {
     "data": {
      "text/html": [
       "<html><body><pre>filename = '/home/jovyan/ooi/uncabled/GI01SUMO/R00008/instruments/dcl12/FDCHP_sn144904/D202110/fdchp_20211014_070200.dat'</pre></body></html>"
      ],
      "text/plain": [
       "filename = '/home/jovyan/ooi/uncabled/GI01SUMO/R00008/instruments/dcl12/FDCHP_sn144904/D202110/fdchp_20211014_070200.dat'"
      ]
     },
     "execution_count": 24,
     "metadata": {},
     "output_type": "execute_result"
    },
    {
     "name": "stdout",
     "output_type": "stream",
     "text": [
      "Bad Length\n"
     ]
    },
    {
     "data": {
      "text/html": [
       "<html><body><pre>msgText = \n",
       "    'Output argument \"rawdata\" (and possibly others) not assigned a value in the execution with \"fdchpread_raw\" function.\n",
       "     \n",
       "     Error in fdchpread_raw_from_folder (line 57)\n",
       "                 [td,dd] = fdchpread_raw(filename);\n",
       "     \n",
       "     Error in LiveEditorEvaluationHelperEeditorId (line 5)\n",
       "     [uw, U, sigH] =  fdchpread_raw_from_folder(data_directory)\n",
       "     \n",
       "     Error in jupyter.execute (line 51)\n",
       "     resp = jsondecode(matlab.internal.editor.evaluateSynchronousRequest(request));\n",
       "     \n",
       "     Error in processJupyterKernelRequest (line 54)\n",
       "                 output = jupyter.execute(code, kernelId);\n",
       "     \n",
       "     Error in connector.internal.fevalMatlab\n",
       "     \n",
       "     Error in connector.internal.fevalJSON'\n",
       "</pre></body></html>"
      ],
      "text/plain": [
       "msgText = \n",
       "    'Output argument \"rawdata\" (and possibly others) not assigned a value in the execution with \"fdchpread_raw\" function.\n",
       "     \n",
       "     Error in fdchpread_raw_from_folder (line 57)\n",
       "                 [td,dd] = fdchpread_raw(filename);\n",
       "     \n",
       "     Error in LiveEditorEvaluationHelperEeditorId (line 5)\n",
       "     [uw, U, sigH] =  fdchpread_raw_from_folder(data_directory)\n",
       "     \n",
       "     Error in jupyter.execute (line 51)\n",
       "     resp = jsondecode(matlab.internal.editor.evaluateSynchronousRequest(request));\n",
       "     \n",
       "     Error in processJupyterKernelRequest (line 54)\n",
       "                 output = jupyter.execute(code, kernelId);\n",
       "     \n",
       "     Error in connector.internal.fevalMatlab\n",
       "     \n",
       "     Error in connector.internal.fevalJSON'\n"
      ]
     },
     "execution_count": 24,
     "metadata": {},
     "output_type": "execute_result"
    },
    {
     "name": "stdout",
     "output_type": "stream",
     "text": [
      "    \"Error reading filename: \"    \"Output argument \"rawdata\" (and possibly others) not assigned a value in the execution with \"fdchpread_raw\" function....\"\n",
      "\n"
     ]
    },
    {
     "data": {
      "text/html": [
       "<html><body><pre>filename = '/home/jovyan/ooi/uncabled/GI01SUMO/R00008/instruments/dcl12/FDCHP_sn144904/D202110/fdchp_20211014_080200.dat'</pre></body></html>"
      ],
      "text/plain": [
       "filename = '/home/jovyan/ooi/uncabled/GI01SUMO/R00008/instruments/dcl12/FDCHP_sn144904/D202110/fdchp_20211014_080200.dat'"
      ]
     },
     "execution_count": 24,
     "metadata": {},
     "output_type": "execute_result"
    },
    {
     "data": {
      "text/html": [
       "<html><body><pre>filename = '/home/jovyan/ooi/uncabled/GI01SUMO/R00008/instruments/dcl12/FDCHP_sn144904/D202110/fdchp_20211014_090200.dat'</pre></body></html>"
      ],
      "text/plain": [
       "filename = '/home/jovyan/ooi/uncabled/GI01SUMO/R00008/instruments/dcl12/FDCHP_sn144904/D202110/fdchp_20211014_090200.dat'"
      ]
     },
     "execution_count": 24,
     "metadata": {},
     "output_type": "execute_result"
    },
    {
     "data": {
      "text/html": [
       "<html><body><pre>filename = '/home/jovyan/ooi/uncabled/GI01SUMO/R00008/instruments/dcl12/FDCHP_sn144904/D202110/fdchp_20211014_100200.dat'</pre></body></html>"
      ],
      "text/plain": [
       "filename = '/home/jovyan/ooi/uncabled/GI01SUMO/R00008/instruments/dcl12/FDCHP_sn144904/D202110/fdchp_20211014_100200.dat'"
      ]
     },
     "execution_count": 24,
     "metadata": {},
     "output_type": "execute_result"
    },
    {
     "data": {
      "text/html": [
       "<html><body><pre>filename = '/home/jovyan/ooi/uncabled/GI01SUMO/R00008/instruments/dcl12/FDCHP_sn144904/D202110/fdchp_20211014_110200.dat'</pre></body></html>"
      ],
      "text/plain": [
       "filename = '/home/jovyan/ooi/uncabled/GI01SUMO/R00008/instruments/dcl12/FDCHP_sn144904/D202110/fdchp_20211014_110200.dat'"
      ]
     },
     "execution_count": 24,
     "metadata": {},
     "output_type": "execute_result"
    },
    {
     "data": {
      "text/html": [
       "<html><body><pre>filename = '/home/jovyan/ooi/uncabled/GI01SUMO/R00008/instruments/dcl12/FDCHP_sn144904/D202110/fdchp_20211014_120200.dat'</pre></body></html>"
      ],
      "text/plain": [
       "filename = '/home/jovyan/ooi/uncabled/GI01SUMO/R00008/instruments/dcl12/FDCHP_sn144904/D202110/fdchp_20211014_120200.dat'"
      ]
     },
     "execution_count": 24,
     "metadata": {},
     "output_type": "execute_result"
    },
    {
     "data": {
      "text/html": [
       "<html><body><pre>filename = '/home/jovyan/ooi/uncabled/GI01SUMO/R00008/instruments/dcl12/FDCHP_sn144904/D202110/fdchp_20211014_130200.dat'</pre></body></html>"
      ],
      "text/plain": [
       "filename = '/home/jovyan/ooi/uncabled/GI01SUMO/R00008/instruments/dcl12/FDCHP_sn144904/D202110/fdchp_20211014_130200.dat'"
      ]
     },
     "execution_count": 24,
     "metadata": {},
     "output_type": "execute_result"
    },
    {
     "data": {
      "text/html": [
       "<html><body><pre>filename = '/home/jovyan/ooi/uncabled/GI01SUMO/R00008/instruments/dcl12/FDCHP_sn144904/D202110/fdchp_20211014_140200.dat'</pre></body></html>"
      ],
      "text/plain": [
       "filename = '/home/jovyan/ooi/uncabled/GI01SUMO/R00008/instruments/dcl12/FDCHP_sn144904/D202110/fdchp_20211014_140200.dat'"
      ]
     },
     "execution_count": 24,
     "metadata": {},
     "output_type": "execute_result"
    },
    {
     "data": {
      "text/html": [
       "<html><body><pre>filename = '/home/jovyan/ooi/uncabled/GI01SUMO/R00008/instruments/dcl12/FDCHP_sn144904/D202110/fdchp_20211014_150200.dat'</pre></body></html>"
      ],
      "text/plain": [
       "filename = '/home/jovyan/ooi/uncabled/GI01SUMO/R00008/instruments/dcl12/FDCHP_sn144904/D202110/fdchp_20211014_150200.dat'"
      ]
     },
     "execution_count": 24,
     "metadata": {},
     "output_type": "execute_result"
    },
    {
     "data": {
      "text/html": [
       "<html><body><pre>filename = '/home/jovyan/ooi/uncabled/GI01SUMO/R00008/instruments/dcl12/FDCHP_sn144904/D202110/fdchp_20211014_160200.dat'</pre></body></html>"
      ],
      "text/plain": [
       "filename = '/home/jovyan/ooi/uncabled/GI01SUMO/R00008/instruments/dcl12/FDCHP_sn144904/D202110/fdchp_20211014_160200.dat'"
      ]
     },
     "execution_count": 24,
     "metadata": {},
     "output_type": "execute_result"
    },
    {
     "data": {
      "text/html": [
       "<html><body><pre>filename = '/home/jovyan/ooi/uncabled/GI01SUMO/R00008/instruments/dcl12/FDCHP_sn144904/D202110/fdchp_20211014_170200.dat'</pre></body></html>"
      ],
      "text/plain": [
       "filename = '/home/jovyan/ooi/uncabled/GI01SUMO/R00008/instruments/dcl12/FDCHP_sn144904/D202110/fdchp_20211014_170200.dat'"
      ]
     },
     "execution_count": 24,
     "metadata": {},
     "output_type": "execute_result"
    },
    {
     "data": {
      "text/html": [
       "<html><body><pre>filename = '/home/jovyan/ooi/uncabled/GI01SUMO/R00008/instruments/dcl12/FDCHP_sn144904/D202110/fdchp_20211014_180200.dat'</pre></body></html>"
      ],
      "text/plain": [
       "filename = '/home/jovyan/ooi/uncabled/GI01SUMO/R00008/instruments/dcl12/FDCHP_sn144904/D202110/fdchp_20211014_180200.dat'"
      ]
     },
     "execution_count": 24,
     "metadata": {},
     "output_type": "execute_result"
    },
    {
     "data": {
      "text/html": [
       "<html><body><pre>filename = '/home/jovyan/ooi/uncabled/GI01SUMO/R00008/instruments/dcl12/FDCHP_sn144904/D202110/fdchp_20211014_190200.dat'</pre></body></html>"
      ],
      "text/plain": [
       "filename = '/home/jovyan/ooi/uncabled/GI01SUMO/R00008/instruments/dcl12/FDCHP_sn144904/D202110/fdchp_20211014_190200.dat'"
      ]
     },
     "execution_count": 24,
     "metadata": {},
     "output_type": "execute_result"
    },
    {
     "data": {
      "text/html": [
       "<html><body><pre>filename = '/home/jovyan/ooi/uncabled/GI01SUMO/R00008/instruments/dcl12/FDCHP_sn144904/D202110/fdchp_20211014_200200.dat'</pre></body></html>"
      ],
      "text/plain": [
       "filename = '/home/jovyan/ooi/uncabled/GI01SUMO/R00008/instruments/dcl12/FDCHP_sn144904/D202110/fdchp_20211014_200200.dat'"
      ]
     },
     "execution_count": 24,
     "metadata": {},
     "output_type": "execute_result"
    },
    {
     "data": {
      "text/html": [
       "<html><body><pre>filename = '/home/jovyan/ooi/uncabled/GI01SUMO/R00008/instruments/dcl12/FDCHP_sn144904/D202110/fdchp_20211014_210200.dat'</pre></body></html>"
      ],
      "text/plain": [
       "filename = '/home/jovyan/ooi/uncabled/GI01SUMO/R00008/instruments/dcl12/FDCHP_sn144904/D202110/fdchp_20211014_210200.dat'"
      ]
     },
     "execution_count": 24,
     "metadata": {},
     "output_type": "execute_result"
    },
    {
     "data": {
      "text/html": [
       "<html><body><pre>filename = '/home/jovyan/ooi/uncabled/GI01SUMO/R00008/instruments/dcl12/FDCHP_sn144904/D202110/fdchp_20211014_220200.dat'</pre></body></html>"
      ],
      "text/plain": [
       "filename = '/home/jovyan/ooi/uncabled/GI01SUMO/R00008/instruments/dcl12/FDCHP_sn144904/D202110/fdchp_20211014_220200.dat'"
      ]
     },
     "execution_count": 24,
     "metadata": {},
     "output_type": "execute_result"
    },
    {
     "data": {
      "text/html": [
       "<html><body><pre>filename = '/home/jovyan/ooi/uncabled/GI01SUMO/R00008/instruments/dcl12/FDCHP_sn144904/D202110/fdchp_20211014_230200.dat'</pre></body></html>"
      ],
      "text/plain": [
       "filename = '/home/jovyan/ooi/uncabled/GI01SUMO/R00008/instruments/dcl12/FDCHP_sn144904/D202110/fdchp_20211014_230200.dat'"
      ]
     },
     "execution_count": 24,
     "metadata": {},
     "output_type": "execute_result"
    },
    {
     "data": {
      "text/html": [
       "<html><body><pre>filename = '/home/jovyan/ooi/uncabled/GI01SUMO/R00008/instruments/dcl12/FDCHP_sn144904/D202110/fdchp_20211015_000200.dat'</pre></body></html>"
      ],
      "text/plain": [
       "filename = '/home/jovyan/ooi/uncabled/GI01SUMO/R00008/instruments/dcl12/FDCHP_sn144904/D202110/fdchp_20211015_000200.dat'"
      ]
     },
     "execution_count": 24,
     "metadata": {},
     "output_type": "execute_result"
    },
    {
     "data": {
      "text/html": [
       "<html><body><pre>filename = '/home/jovyan/ooi/uncabled/GI01SUMO/R00008/instruments/dcl12/FDCHP_sn144904/D202110/fdchp_20211015_010200.dat'</pre></body></html>"
      ],
      "text/plain": [
       "filename = '/home/jovyan/ooi/uncabled/GI01SUMO/R00008/instruments/dcl12/FDCHP_sn144904/D202110/fdchp_20211015_010200.dat'"
      ]
     },
     "execution_count": 24,
     "metadata": {},
     "output_type": "execute_result"
    },
    {
     "data": {
      "text/html": [
       "<html><body><pre>filename = '/home/jovyan/ooi/uncabled/GI01SUMO/R00008/instruments/dcl12/FDCHP_sn144904/D202110/fdchp_20211015_020200.dat'</pre></body></html>"
      ],
      "text/plain": [
       "filename = '/home/jovyan/ooi/uncabled/GI01SUMO/R00008/instruments/dcl12/FDCHP_sn144904/D202110/fdchp_20211015_020200.dat'"
      ]
     },
     "execution_count": 24,
     "metadata": {},
     "output_type": "execute_result"
    },
    {
     "data": {
      "text/html": [
       "<html><body><pre>filename = '/home/jovyan/ooi/uncabled/GI01SUMO/R00008/instruments/dcl12/FDCHP_sn144904/D202110/fdchp_20211015_030200.dat'</pre></body></html>"
      ],
      "text/plain": [
       "filename = '/home/jovyan/ooi/uncabled/GI01SUMO/R00008/instruments/dcl12/FDCHP_sn144904/D202110/fdchp_20211015_030200.dat'"
      ]
     },
     "execution_count": 24,
     "metadata": {},
     "output_type": "execute_result"
    },
    {
     "data": {
      "text/html": [
       "<html><body><pre>filename = '/home/jovyan/ooi/uncabled/GI01SUMO/R00008/instruments/dcl12/FDCHP_sn144904/D202110/fdchp_20211015_040200.dat'</pre></body></html>"
      ],
      "text/plain": [
       "filename = '/home/jovyan/ooi/uncabled/GI01SUMO/R00008/instruments/dcl12/FDCHP_sn144904/D202110/fdchp_20211015_040200.dat'"
      ]
     },
     "execution_count": 24,
     "metadata": {},
     "output_type": "execute_result"
    },
    {
     "data": {
      "text/html": [
       "<html><body><pre>filename = '/home/jovyan/ooi/uncabled/GI01SUMO/R00008/instruments/dcl12/FDCHP_sn144904/D202110/fdchp_20211015_050200.dat'</pre></body></html>"
      ],
      "text/plain": [
       "filename = '/home/jovyan/ooi/uncabled/GI01SUMO/R00008/instruments/dcl12/FDCHP_sn144904/D202110/fdchp_20211015_050200.dat'"
      ]
     },
     "execution_count": 24,
     "metadata": {},
     "output_type": "execute_result"
    },
    {
     "data": {
      "text/html": [
       "<html><body><pre>filename = '/home/jovyan/ooi/uncabled/GI01SUMO/R00008/instruments/dcl12/FDCHP_sn144904/D202110/fdchp_20211015_060200.dat'</pre></body></html>"
      ],
      "text/plain": [
       "filename = '/home/jovyan/ooi/uncabled/GI01SUMO/R00008/instruments/dcl12/FDCHP_sn144904/D202110/fdchp_20211015_060200.dat'"
      ]
     },
     "execution_count": 24,
     "metadata": {},
     "output_type": "execute_result"
    },
    {
     "data": {
      "text/html": [
       "<html><body><pre>filename = '/home/jovyan/ooi/uncabled/GI01SUMO/R00008/instruments/dcl12/FDCHP_sn144904/D202110/fdchp_20211015_070200.dat'</pre></body></html>"
      ],
      "text/plain": [
       "filename = '/home/jovyan/ooi/uncabled/GI01SUMO/R00008/instruments/dcl12/FDCHP_sn144904/D202110/fdchp_20211015_070200.dat'"
      ]
     },
     "execution_count": 24,
     "metadata": {},
     "output_type": "execute_result"
    },
    {
     "data": {
      "text/html": [
       "<html><body><pre>filename = '/home/jovyan/ooi/uncabled/GI01SUMO/R00008/instruments/dcl12/FDCHP_sn144904/D202110/fdchp_20211015_080200.dat'</pre></body></html>"
      ],
      "text/plain": [
       "filename = '/home/jovyan/ooi/uncabled/GI01SUMO/R00008/instruments/dcl12/FDCHP_sn144904/D202110/fdchp_20211015_080200.dat'"
      ]
     },
     "execution_count": 24,
     "metadata": {},
     "output_type": "execute_result"
    },
    {
     "data": {
      "text/html": [
       "<html><body><pre>filename = '/home/jovyan/ooi/uncabled/GI01SUMO/R00008/instruments/dcl12/FDCHP_sn144904/D202110/fdchp_20211015_090200.dat'</pre></body></html>"
      ],
      "text/plain": [
       "filename = '/home/jovyan/ooi/uncabled/GI01SUMO/R00008/instruments/dcl12/FDCHP_sn144904/D202110/fdchp_20211015_090200.dat'"
      ]
     },
     "execution_count": 24,
     "metadata": {},
     "output_type": "execute_result"
    },
    {
     "data": {
      "text/html": [
       "<html><body><pre>filename = '/home/jovyan/ooi/uncabled/GI01SUMO/R00008/instruments/dcl12/FDCHP_sn144904/D202110/fdchp_20211015_100200.dat'</pre></body></html>"
      ],
      "text/plain": [
       "filename = '/home/jovyan/ooi/uncabled/GI01SUMO/R00008/instruments/dcl12/FDCHP_sn144904/D202110/fdchp_20211015_100200.dat'"
      ]
     },
     "execution_count": 24,
     "metadata": {},
     "output_type": "execute_result"
    },
    {
     "data": {
      "text/html": [
       "<html><body><pre>filename = '/home/jovyan/ooi/uncabled/GI01SUMO/R00008/instruments/dcl12/FDCHP_sn144904/D202110/fdchp_20211015_110200.dat'</pre></body></html>"
      ],
      "text/plain": [
       "filename = '/home/jovyan/ooi/uncabled/GI01SUMO/R00008/instruments/dcl12/FDCHP_sn144904/D202110/fdchp_20211015_110200.dat'"
      ]
     },
     "execution_count": 24,
     "metadata": {},
     "output_type": "execute_result"
    },
    {
     "data": {
      "text/html": [
       "<html><body><pre>filename = '/home/jovyan/ooi/uncabled/GI01SUMO/R00008/instruments/dcl12/FDCHP_sn144904/D202110/fdchp_20211015_120200.dat'</pre></body></html>"
      ],
      "text/plain": [
       "filename = '/home/jovyan/ooi/uncabled/GI01SUMO/R00008/instruments/dcl12/FDCHP_sn144904/D202110/fdchp_20211015_120200.dat'"
      ]
     },
     "execution_count": 24,
     "metadata": {},
     "output_type": "execute_result"
    },
    {
     "data": {
      "text/html": [
       "<html><body><pre>filename = '/home/jovyan/ooi/uncabled/GI01SUMO/R00008/instruments/dcl12/FDCHP_sn144904/D202110/fdchp_20211015_130200.dat'</pre></body></html>"
      ],
      "text/plain": [
       "filename = '/home/jovyan/ooi/uncabled/GI01SUMO/R00008/instruments/dcl12/FDCHP_sn144904/D202110/fdchp_20211015_130200.dat'"
      ]
     },
     "execution_count": 24,
     "metadata": {},
     "output_type": "execute_result"
    },
    {
     "data": {
      "text/html": [
       "<html><body><pre>filename = '/home/jovyan/ooi/uncabled/GI01SUMO/R00008/instruments/dcl12/FDCHP_sn144904/D202110/fdchp_20211015_140200.dat'</pre></body></html>"
      ],
      "text/plain": [
       "filename = '/home/jovyan/ooi/uncabled/GI01SUMO/R00008/instruments/dcl12/FDCHP_sn144904/D202110/fdchp_20211015_140200.dat'"
      ]
     },
     "execution_count": 24,
     "metadata": {},
     "output_type": "execute_result"
    },
    {
     "data": {
      "text/html": [
       "<html><body><pre>filename = '/home/jovyan/ooi/uncabled/GI01SUMO/R00008/instruments/dcl12/FDCHP_sn144904/D202110/fdchp_20211015_150200.dat'</pre></body></html>"
      ],
      "text/plain": [
       "filename = '/home/jovyan/ooi/uncabled/GI01SUMO/R00008/instruments/dcl12/FDCHP_sn144904/D202110/fdchp_20211015_150200.dat'"
      ]
     },
     "execution_count": 24,
     "metadata": {},
     "output_type": "execute_result"
    },
    {
     "data": {
      "text/html": [
       "<html><body><pre>filename = '/home/jovyan/ooi/uncabled/GI01SUMO/R00008/instruments/dcl12/FDCHP_sn144904/D202110/fdchp_20211015_160200.dat'</pre></body></html>"
      ],
      "text/plain": [
       "filename = '/home/jovyan/ooi/uncabled/GI01SUMO/R00008/instruments/dcl12/FDCHP_sn144904/D202110/fdchp_20211015_160200.dat'"
      ]
     },
     "execution_count": 24,
     "metadata": {},
     "output_type": "execute_result"
    },
    {
     "data": {
      "text/html": [
       "<html><body><pre>filename = '/home/jovyan/ooi/uncabled/GI01SUMO/R00008/instruments/dcl12/FDCHP_sn144904/D202110/fdchp_20211015_170200.dat'</pre></body></html>"
      ],
      "text/plain": [
       "filename = '/home/jovyan/ooi/uncabled/GI01SUMO/R00008/instruments/dcl12/FDCHP_sn144904/D202110/fdchp_20211015_170200.dat'"
      ]
     },
     "execution_count": 24,
     "metadata": {},
     "output_type": "execute_result"
    },
    {
     "data": {
      "text/html": [
       "<html><body><pre>filename = '/home/jovyan/ooi/uncabled/GI01SUMO/R00008/instruments/dcl12/FDCHP_sn144904/D202110/fdchp_20211015_180200.dat'</pre></body></html>"
      ],
      "text/plain": [
       "filename = '/home/jovyan/ooi/uncabled/GI01SUMO/R00008/instruments/dcl12/FDCHP_sn144904/D202110/fdchp_20211015_180200.dat'"
      ]
     },
     "execution_count": 24,
     "metadata": {},
     "output_type": "execute_result"
    },
    {
     "data": {
      "text/html": [
       "<html><body><pre>filename = '/home/jovyan/ooi/uncabled/GI01SUMO/R00008/instruments/dcl12/FDCHP_sn144904/D202110/fdchp_20211015_200200.dat'</pre></body></html>"
      ],
      "text/plain": [
       "filename = '/home/jovyan/ooi/uncabled/GI01SUMO/R00008/instruments/dcl12/FDCHP_sn144904/D202110/fdchp_20211015_200200.dat'"
      ]
     },
     "execution_count": 24,
     "metadata": {},
     "output_type": "execute_result"
    },
    {
     "name": "stdout",
     "output_type": "stream",
     "text": [
      "Bad Length\n"
     ]
    },
    {
     "data": {
      "text/html": [
       "<html><body><pre>msgText = \n",
       "    'Output argument \"rawdata\" (and possibly others) not assigned a value in the execution with \"fdchpread_raw\" function.\n",
       "     \n",
       "     Error in fdchpread_raw_from_folder (line 57)\n",
       "                 [td,dd] = fdchpread_raw(filename);\n",
       "     \n",
       "     Error in LiveEditorEvaluationHelperEeditorId (line 5)\n",
       "     [uw, U, sigH] =  fdchpread_raw_from_folder(data_directory)\n",
       "     \n",
       "     Error in jupyter.execute (line 51)\n",
       "     resp = jsondecode(matlab.internal.editor.evaluateSynchronousRequest(request));\n",
       "     \n",
       "     Error in processJupyterKernelRequest (line 54)\n",
       "                 output = jupyter.execute(code, kernelId);\n",
       "     \n",
       "     Error in connector.internal.fevalMatlab\n",
       "     \n",
       "     Error in connector.internal.fevalJSON'\n",
       "</pre></body></html>"
      ],
      "text/plain": [
       "msgText = \n",
       "    'Output argument \"rawdata\" (and possibly others) not assigned a value in the execution with \"fdchpread_raw\" function.\n",
       "     \n",
       "     Error in fdchpread_raw_from_folder (line 57)\n",
       "                 [td,dd] = fdchpread_raw(filename);\n",
       "     \n",
       "     Error in LiveEditorEvaluationHelperEeditorId (line 5)\n",
       "     [uw, U, sigH] =  fdchpread_raw_from_folder(data_directory)\n",
       "     \n",
       "     Error in jupyter.execute (line 51)\n",
       "     resp = jsondecode(matlab.internal.editor.evaluateSynchronousRequest(request));\n",
       "     \n",
       "     Error in processJupyterKernelRequest (line 54)\n",
       "                 output = jupyter.execute(code, kernelId);\n",
       "     \n",
       "     Error in connector.internal.fevalMatlab\n",
       "     \n",
       "     Error in connector.internal.fevalJSON'\n"
      ]
     },
     "execution_count": 24,
     "metadata": {},
     "output_type": "execute_result"
    },
    {
     "name": "stdout",
     "output_type": "stream",
     "text": [
      "    \"Error reading filename: \"    \"Output argument \"rawdata\" (and possibly others) not assigned a value in the execution with \"fdchpread_raw\" function....\"\n",
      "\n"
     ]
    },
    {
     "data": {
      "text/html": [
       "<html><body><pre>filename = '/home/jovyan/ooi/uncabled/GI01SUMO/R00008/instruments/dcl12/FDCHP_sn144904/D202110/fdchp_20211015_210200.dat'</pre></body></html>"
      ],
      "text/plain": [
       "filename = '/home/jovyan/ooi/uncabled/GI01SUMO/R00008/instruments/dcl12/FDCHP_sn144904/D202110/fdchp_20211015_210200.dat'"
      ]
     },
     "execution_count": 24,
     "metadata": {},
     "output_type": "execute_result"
    },
    {
     "data": {
      "text/html": [
       "<html><body><pre>filename = '/home/jovyan/ooi/uncabled/GI01SUMO/R00008/instruments/dcl12/FDCHP_sn144904/D202110/fdchp_20211015_220200.dat'</pre></body></html>"
      ],
      "text/plain": [
       "filename = '/home/jovyan/ooi/uncabled/GI01SUMO/R00008/instruments/dcl12/FDCHP_sn144904/D202110/fdchp_20211015_220200.dat'"
      ]
     },
     "execution_count": 24,
     "metadata": {},
     "output_type": "execute_result"
    },
    {
     "data": {
      "text/html": [
       "<html><body><pre>filename = '/home/jovyan/ooi/uncabled/GI01SUMO/R00008/instruments/dcl12/FDCHP_sn144904/D202110/fdchp_20211015_230200.dat'</pre></body></html>"
      ],
      "text/plain": [
       "filename = '/home/jovyan/ooi/uncabled/GI01SUMO/R00008/instruments/dcl12/FDCHP_sn144904/D202110/fdchp_20211015_230200.dat'"
      ]
     },
     "execution_count": 24,
     "metadata": {},
     "output_type": "execute_result"
    },
    {
     "data": {
      "text/html": [
       "<html><body><pre>filename = '/home/jovyan/ooi/uncabled/GI01SUMO/R00008/instruments/dcl12/FDCHP_sn144904/D202110/fdchp_20211016_000200.dat'</pre></body></html>"
      ],
      "text/plain": [
       "filename = '/home/jovyan/ooi/uncabled/GI01SUMO/R00008/instruments/dcl12/FDCHP_sn144904/D202110/fdchp_20211016_000200.dat'"
      ]
     },
     "execution_count": 24,
     "metadata": {},
     "output_type": "execute_result"
    },
    {
     "data": {
      "text/html": [
       "<html><body><pre>filename = '/home/jovyan/ooi/uncabled/GI01SUMO/R00008/instruments/dcl12/FDCHP_sn144904/D202110/fdchp_20211016_030200.dat'</pre></body></html>"
      ],
      "text/plain": [
       "filename = '/home/jovyan/ooi/uncabled/GI01SUMO/R00008/instruments/dcl12/FDCHP_sn144904/D202110/fdchp_20211016_030200.dat'"
      ]
     },
     "execution_count": 24,
     "metadata": {},
     "output_type": "execute_result"
    },
    {
     "data": {
      "text/html": [
       "<html><body><pre>filename = '/home/jovyan/ooi/uncabled/GI01SUMO/R00008/instruments/dcl12/FDCHP_sn144904/D202110/fdchp_20211016_040200.dat'</pre></body></html>"
      ],
      "text/plain": [
       "filename = '/home/jovyan/ooi/uncabled/GI01SUMO/R00008/instruments/dcl12/FDCHP_sn144904/D202110/fdchp_20211016_040200.dat'"
      ]
     },
     "execution_count": 24,
     "metadata": {},
     "output_type": "execute_result"
    },
    {
     "data": {
      "text/html": [
       "<html><body><pre>filename = '/home/jovyan/ooi/uncabled/GI01SUMO/R00008/instruments/dcl12/FDCHP_sn144904/D202110/fdchp_20211016_050200.dat'</pre></body></html>"
      ],
      "text/plain": [
       "filename = '/home/jovyan/ooi/uncabled/GI01SUMO/R00008/instruments/dcl12/FDCHP_sn144904/D202110/fdchp_20211016_050200.dat'"
      ]
     },
     "execution_count": 24,
     "metadata": {},
     "output_type": "execute_result"
    },
    {
     "data": {
      "text/html": [
       "<html><body><pre>filename = '/home/jovyan/ooi/uncabled/GI01SUMO/R00008/instruments/dcl12/FDCHP_sn144904/D202110/fdchp_20211016_060200.dat'</pre></body></html>"
      ],
      "text/plain": [
       "filename = '/home/jovyan/ooi/uncabled/GI01SUMO/R00008/instruments/dcl12/FDCHP_sn144904/D202110/fdchp_20211016_060200.dat'"
      ]
     },
     "execution_count": 24,
     "metadata": {},
     "output_type": "execute_result"
    },
    {
     "data": {
      "text/html": [
       "<html><body><pre>filename = '/home/jovyan/ooi/uncabled/GI01SUMO/R00008/instruments/dcl12/FDCHP_sn144904/D202110/fdchp_20211016_070200.dat'</pre></body></html>"
      ],
      "text/plain": [
       "filename = '/home/jovyan/ooi/uncabled/GI01SUMO/R00008/instruments/dcl12/FDCHP_sn144904/D202110/fdchp_20211016_070200.dat'"
      ]
     },
     "execution_count": 24,
     "metadata": {},
     "output_type": "execute_result"
    },
    {
     "data": {
      "text/html": [
       "<html><body><pre>filename = '/home/jovyan/ooi/uncabled/GI01SUMO/R00008/instruments/dcl12/FDCHP_sn144904/D202110/fdchp_20211016_080200.dat'</pre></body></html>"
      ],
      "text/plain": [
       "filename = '/home/jovyan/ooi/uncabled/GI01SUMO/R00008/instruments/dcl12/FDCHP_sn144904/D202110/fdchp_20211016_080200.dat'"
      ]
     },
     "execution_count": 24,
     "metadata": {},
     "output_type": "execute_result"
    },
    {
     "data": {
      "text/html": [
       "<html><body><pre>filename = '/home/jovyan/ooi/uncabled/GI01SUMO/R00008/instruments/dcl12/FDCHP_sn144904/D202110/fdchp_20211016_090200.dat'</pre></body></html>"
      ],
      "text/plain": [
       "filename = '/home/jovyan/ooi/uncabled/GI01SUMO/R00008/instruments/dcl12/FDCHP_sn144904/D202110/fdchp_20211016_090200.dat'"
      ]
     },
     "execution_count": 24,
     "metadata": {},
     "output_type": "execute_result"
    },
    {
     "data": {
      "text/html": [
       "<html><body><pre>filename = '/home/jovyan/ooi/uncabled/GI01SUMO/R00008/instruments/dcl12/FDCHP_sn144904/D202110/fdchp_20211016_100200.dat'</pre></body></html>"
      ],
      "text/plain": [
       "filename = '/home/jovyan/ooi/uncabled/GI01SUMO/R00008/instruments/dcl12/FDCHP_sn144904/D202110/fdchp_20211016_100200.dat'"
      ]
     },
     "execution_count": 24,
     "metadata": {},
     "output_type": "execute_result"
    },
    {
     "data": {
      "text/html": [
       "<html><body><pre>filename = '/home/jovyan/ooi/uncabled/GI01SUMO/R00008/instruments/dcl12/FDCHP_sn144904/D202110/fdchp_20211016_110200.dat'</pre></body></html>"
      ],
      "text/plain": [
       "filename = '/home/jovyan/ooi/uncabled/GI01SUMO/R00008/instruments/dcl12/FDCHP_sn144904/D202110/fdchp_20211016_110200.dat'"
      ]
     },
     "execution_count": 24,
     "metadata": {},
     "output_type": "execute_result"
    },
    {
     "data": {
      "text/html": [
       "<html><body><pre>filename = '/home/jovyan/ooi/uncabled/GI01SUMO/R00008/instruments/dcl12/FDCHP_sn144904/D202110/fdchp_20211016_120200.dat'</pre></body></html>"
      ],
      "text/plain": [
       "filename = '/home/jovyan/ooi/uncabled/GI01SUMO/R00008/instruments/dcl12/FDCHP_sn144904/D202110/fdchp_20211016_120200.dat'"
      ]
     },
     "execution_count": 24,
     "metadata": {},
     "output_type": "execute_result"
    },
    {
     "data": {
      "text/html": [
       "<html><body><pre>filename = '/home/jovyan/ooi/uncabled/GI01SUMO/R00008/instruments/dcl12/FDCHP_sn144904/D202110/fdchp_20211016_130200.dat'</pre></body></html>"
      ],
      "text/plain": [
       "filename = '/home/jovyan/ooi/uncabled/GI01SUMO/R00008/instruments/dcl12/FDCHP_sn144904/D202110/fdchp_20211016_130200.dat'"
      ]
     },
     "execution_count": 24,
     "metadata": {},
     "output_type": "execute_result"
    },
    {
     "data": {
      "text/html": [
       "<html><body><pre>filename = '/home/jovyan/ooi/uncabled/GI01SUMO/R00008/instruments/dcl12/FDCHP_sn144904/D202110/fdchp_20211016_140200.dat'</pre></body></html>"
      ],
      "text/plain": [
       "filename = '/home/jovyan/ooi/uncabled/GI01SUMO/R00008/instruments/dcl12/FDCHP_sn144904/D202110/fdchp_20211016_140200.dat'"
      ]
     },
     "execution_count": 24,
     "metadata": {},
     "output_type": "execute_result"
    },
    {
     "data": {
      "text/html": [
       "<html><body><pre>filename = '/home/jovyan/ooi/uncabled/GI01SUMO/R00008/instruments/dcl12/FDCHP_sn144904/D202110/fdchp_20211016_150200.dat'</pre></body></html>"
      ],
      "text/plain": [
       "filename = '/home/jovyan/ooi/uncabled/GI01SUMO/R00008/instruments/dcl12/FDCHP_sn144904/D202110/fdchp_20211016_150200.dat'"
      ]
     },
     "execution_count": 24,
     "metadata": {},
     "output_type": "execute_result"
    },
    {
     "data": {
      "text/html": [
       "<html><body><pre>filename = '/home/jovyan/ooi/uncabled/GI01SUMO/R00008/instruments/dcl12/FDCHP_sn144904/D202110/fdchp_20211016_160200.dat'</pre></body></html>"
      ],
      "text/plain": [
       "filename = '/home/jovyan/ooi/uncabled/GI01SUMO/R00008/instruments/dcl12/FDCHP_sn144904/D202110/fdchp_20211016_160200.dat'"
      ]
     },
     "execution_count": 24,
     "metadata": {},
     "output_type": "execute_result"
    },
    {
     "name": "stdout",
     "output_type": "stream",
     "text": [
      "Bad Length\n"
     ]
    },
    {
     "data": {
      "text/html": [
       "<html><body><pre>msgText = \n",
       "    'Output argument \"rawdata\" (and possibly others) not assigned a value in the execution with \"fdchpread_raw\" function.\n",
       "     \n",
       "     Error in fdchpread_raw_from_folder (line 57)\n",
       "                 [td,dd] = fdchpread_raw(filename);\n",
       "     \n",
       "     Error in LiveEditorEvaluationHelperEeditorId (line 5)\n",
       "     [uw, U, sigH] =  fdchpread_raw_from_folder(data_directory)\n",
       "     \n",
       "     Error in jupyter.execute (line 51)\n",
       "     resp = jsondecode(matlab.internal.editor.evaluateSynchronousRequest(request));\n",
       "     \n",
       "     Error in processJupyterKernelRequest (line 54)\n",
       "                 output = jupyter.execute(code, kernelId);\n",
       "     \n",
       "     Error in connector.internal.fevalMatlab\n",
       "     \n",
       "     Error in connector.internal.fevalJSON'\n",
       "</pre></body></html>"
      ],
      "text/plain": [
       "msgText = \n",
       "    'Output argument \"rawdata\" (and possibly others) not assigned a value in the execution with \"fdchpread_raw\" function.\n",
       "     \n",
       "     Error in fdchpread_raw_from_folder (line 57)\n",
       "                 [td,dd] = fdchpread_raw(filename);\n",
       "     \n",
       "     Error in LiveEditorEvaluationHelperEeditorId (line 5)\n",
       "     [uw, U, sigH] =  fdchpread_raw_from_folder(data_directory)\n",
       "     \n",
       "     Error in jupyter.execute (line 51)\n",
       "     resp = jsondecode(matlab.internal.editor.evaluateSynchronousRequest(request));\n",
       "     \n",
       "     Error in processJupyterKernelRequest (line 54)\n",
       "                 output = jupyter.execute(code, kernelId);\n",
       "     \n",
       "     Error in connector.internal.fevalMatlab\n",
       "     \n",
       "     Error in connector.internal.fevalJSON'\n"
      ]
     },
     "execution_count": 24,
     "metadata": {},
     "output_type": "execute_result"
    },
    {
     "name": "stdout",
     "output_type": "stream",
     "text": [
      "    \"Error reading filename: \"    \"Output argument \"rawdata\" (and possibly others) not assigned a value in the execution with \"fdchpread_raw\" function....\"\n",
      "\n"
     ]
    },
    {
     "data": {
      "text/html": [
       "<html><body><pre>filename = '/home/jovyan/ooi/uncabled/GI01SUMO/R00008/instruments/dcl12/FDCHP_sn144904/D202110/fdchp_20211016_170200.dat'</pre></body></html>"
      ],
      "text/plain": [
       "filename = '/home/jovyan/ooi/uncabled/GI01SUMO/R00008/instruments/dcl12/FDCHP_sn144904/D202110/fdchp_20211016_170200.dat'"
      ]
     },
     "execution_count": 24,
     "metadata": {},
     "output_type": "execute_result"
    },
    {
     "name": "stdout",
     "output_type": "stream",
     "text": [
      "Bad Length\n"
     ]
    },
    {
     "data": {
      "text/html": [
       "<html><body><pre>msgText = \n",
       "    'Output argument \"rawdata\" (and possibly others) not assigned a value in the execution with \"fdchpread_raw\" function.\n",
       "     \n",
       "     Error in fdchpread_raw_from_folder (line 57)\n",
       "                 [td,dd] = fdchpread_raw(filename);\n",
       "     \n",
       "     Error in LiveEditorEvaluationHelperEeditorId (line 5)\n",
       "     [uw, U, sigH] =  fdchpread_raw_from_folder(data_directory)\n",
       "     \n",
       "     Error in jupyter.execute (line 51)\n",
       "     resp = jsondecode(matlab.internal.editor.evaluateSynchronousRequest(request));\n",
       "     \n",
       "     Error in processJupyterKernelRequest (line 54)\n",
       "                 output = jupyter.execute(code, kernelId);\n",
       "     \n",
       "     Error in connector.internal.fevalMatlab\n",
       "     \n",
       "     Error in connector.internal.fevalJSON'\n",
       "</pre></body></html>"
      ],
      "text/plain": [
       "msgText = \n",
       "    'Output argument \"rawdata\" (and possibly others) not assigned a value in the execution with \"fdchpread_raw\" function.\n",
       "     \n",
       "     Error in fdchpread_raw_from_folder (line 57)\n",
       "                 [td,dd] = fdchpread_raw(filename);\n",
       "     \n",
       "     Error in LiveEditorEvaluationHelperEeditorId (line 5)\n",
       "     [uw, U, sigH] =  fdchpread_raw_from_folder(data_directory)\n",
       "     \n",
       "     Error in jupyter.execute (line 51)\n",
       "     resp = jsondecode(matlab.internal.editor.evaluateSynchronousRequest(request));\n",
       "     \n",
       "     Error in processJupyterKernelRequest (line 54)\n",
       "                 output = jupyter.execute(code, kernelId);\n",
       "     \n",
       "     Error in connector.internal.fevalMatlab\n",
       "     \n",
       "     Error in connector.internal.fevalJSON'\n"
      ]
     },
     "execution_count": 24,
     "metadata": {},
     "output_type": "execute_result"
    },
    {
     "name": "stdout",
     "output_type": "stream",
     "text": [
      "    \"Error reading filename: \"    \"Output argument \"rawdata\" (and possibly others) not assigned a value in the execution with \"fdchpread_raw\" function....\"\n",
      "\n"
     ]
    },
    {
     "data": {
      "text/html": [
       "<html><body><pre>filename = '/home/jovyan/ooi/uncabled/GI01SUMO/R00008/instruments/dcl12/FDCHP_sn144904/D202110/fdchp_20211016_180200.dat'</pre></body></html>"
      ],
      "text/plain": [
       "filename = '/home/jovyan/ooi/uncabled/GI01SUMO/R00008/instruments/dcl12/FDCHP_sn144904/D202110/fdchp_20211016_180200.dat'"
      ]
     },
     "execution_count": 24,
     "metadata": {},
     "output_type": "execute_result"
    },
    {
     "name": "stdout",
     "output_type": "stream",
     "text": [
      "Bad Length\n"
     ]
    },
    {
     "data": {
      "text/html": [
       "<html><body><pre>msgText = \n",
       "    'Output argument \"rawdata\" (and possibly others) not assigned a value in the execution with \"fdchpread_raw\" function.\n",
       "     \n",
       "     Error in fdchpread_raw_from_folder (line 57)\n",
       "                 [td,dd] = fdchpread_raw(filename);\n",
       "     \n",
       "     Error in LiveEditorEvaluationHelperEeditorId (line 5)\n",
       "     [uw, U, sigH] =  fdchpread_raw_from_folder(data_directory)\n",
       "     \n",
       "     Error in jupyter.execute (line 51)\n",
       "     resp = jsondecode(matlab.internal.editor.evaluateSynchronousRequest(request));\n",
       "     \n",
       "     Error in processJupyterKernelRequest (line 54)\n",
       "                 output = jupyter.execute(code, kernelId);\n",
       "     \n",
       "     Error in connector.internal.fevalMatlab\n",
       "     \n",
       "     Error in connector.internal.fevalJSON'\n",
       "</pre></body></html>"
      ],
      "text/plain": [
       "msgText = \n",
       "    'Output argument \"rawdata\" (and possibly others) not assigned a value in the execution with \"fdchpread_raw\" function.\n",
       "     \n",
       "     Error in fdchpread_raw_from_folder (line 57)\n",
       "                 [td,dd] = fdchpread_raw(filename);\n",
       "     \n",
       "     Error in LiveEditorEvaluationHelperEeditorId (line 5)\n",
       "     [uw, U, sigH] =  fdchpread_raw_from_folder(data_directory)\n",
       "     \n",
       "     Error in jupyter.execute (line 51)\n",
       "     resp = jsondecode(matlab.internal.editor.evaluateSynchronousRequest(request));\n",
       "     \n",
       "     Error in processJupyterKernelRequest (line 54)\n",
       "                 output = jupyter.execute(code, kernelId);\n",
       "     \n",
       "     Error in connector.internal.fevalMatlab\n",
       "     \n",
       "     Error in connector.internal.fevalJSON'\n"
      ]
     },
     "execution_count": 24,
     "metadata": {},
     "output_type": "execute_result"
    },
    {
     "name": "stdout",
     "output_type": "stream",
     "text": [
      "    \"Error reading filename: \"    \"Output argument \"rawdata\" (and possibly others) not assigned a value in the execution with \"fdchpread_raw\" function....\"\n",
      "\n"
     ]
    },
    {
     "data": {
      "text/html": [
       "<html><body><pre>filename = '/home/jovyan/ooi/uncabled/GI01SUMO/R00008/instruments/dcl12/FDCHP_sn144904/D202110/fdchp_20211017_050200.dat'</pre></body></html>"
      ],
      "text/plain": [
       "filename = '/home/jovyan/ooi/uncabled/GI01SUMO/R00008/instruments/dcl12/FDCHP_sn144904/D202110/fdchp_20211017_050200.dat'"
      ]
     },
     "execution_count": 24,
     "metadata": {},
     "output_type": "execute_result"
    },
    {
     "data": {
      "text/html": [
       "<html><body><pre>filename = '/home/jovyan/ooi/uncabled/GI01SUMO/R00008/instruments/dcl12/FDCHP_sn144904/D202110/fdchp_20211017_060200.dat'</pre></body></html>"
      ],
      "text/plain": [
       "filename = '/home/jovyan/ooi/uncabled/GI01SUMO/R00008/instruments/dcl12/FDCHP_sn144904/D202110/fdchp_20211017_060200.dat'"
      ]
     },
     "execution_count": 24,
     "metadata": {},
     "output_type": "execute_result"
    },
    {
     "data": {
      "text/html": [
       "<html><body><pre>filename = '/home/jovyan/ooi/uncabled/GI01SUMO/R00008/instruments/dcl12/FDCHP_sn144904/D202110/fdchp_20211017_070200.dat'</pre></body></html>"
      ],
      "text/plain": [
       "filename = '/home/jovyan/ooi/uncabled/GI01SUMO/R00008/instruments/dcl12/FDCHP_sn144904/D202110/fdchp_20211017_070200.dat'"
      ]
     },
     "execution_count": 24,
     "metadata": {},
     "output_type": "execute_result"
    },
    {
     "data": {
      "text/html": [
       "<html><body><pre>filename = '/home/jovyan/ooi/uncabled/GI01SUMO/R00008/instruments/dcl12/FDCHP_sn144904/D202110/fdchp_20211017_080200.dat'</pre></body></html>"
      ],
      "text/plain": [
       "filename = '/home/jovyan/ooi/uncabled/GI01SUMO/R00008/instruments/dcl12/FDCHP_sn144904/D202110/fdchp_20211017_080200.dat'"
      ]
     },
     "execution_count": 24,
     "metadata": {},
     "output_type": "execute_result"
    },
    {
     "name": "stdout",
     "output_type": "stream",
     "text": [
      "Bad Length\n"
     ]
    },
    {
     "data": {
      "text/html": [
       "<html><body><pre>msgText = \n",
       "    'Output argument \"rawdata\" (and possibly others) not assigned a value in the execution with \"fdchpread_raw\" function.\n",
       "     \n",
       "     Error in fdchpread_raw_from_folder (line 57)\n",
       "                 [td,dd] = fdchpread_raw(filename);\n",
       "     \n",
       "     Error in LiveEditorEvaluationHelperEeditorId (line 5)\n",
       "     [uw, U, sigH] =  fdchpread_raw_from_folder(data_directory)\n",
       "     \n",
       "     Error in jupyter.execute (line 51)\n",
       "     resp = jsondecode(matlab.internal.editor.evaluateSynchronousRequest(request));\n",
       "     \n",
       "     Error in processJupyterKernelRequest (line 54)\n",
       "                 output = jupyter.execute(code, kernelId);\n",
       "     \n",
       "     Error in connector.internal.fevalMatlab\n",
       "     \n",
       "     Error in connector.internal.fevalJSON'\n",
       "</pre></body></html>"
      ],
      "text/plain": [
       "msgText = \n",
       "    'Output argument \"rawdata\" (and possibly others) not assigned a value in the execution with \"fdchpread_raw\" function.\n",
       "     \n",
       "     Error in fdchpread_raw_from_folder (line 57)\n",
       "                 [td,dd] = fdchpread_raw(filename);\n",
       "     \n",
       "     Error in LiveEditorEvaluationHelperEeditorId (line 5)\n",
       "     [uw, U, sigH] =  fdchpread_raw_from_folder(data_directory)\n",
       "     \n",
       "     Error in jupyter.execute (line 51)\n",
       "     resp = jsondecode(matlab.internal.editor.evaluateSynchronousRequest(request));\n",
       "     \n",
       "     Error in processJupyterKernelRequest (line 54)\n",
       "                 output = jupyter.execute(code, kernelId);\n",
       "     \n",
       "     Error in connector.internal.fevalMatlab\n",
       "     \n",
       "     Error in connector.internal.fevalJSON'\n"
      ]
     },
     "execution_count": 24,
     "metadata": {},
     "output_type": "execute_result"
    },
    {
     "name": "stdout",
     "output_type": "stream",
     "text": [
      "    \"Error reading filename: \"    \"Output argument \"rawdata\" (and possibly others) not assigned a value in the execution with \"fdchpread_raw\" function....\"\n",
      "\n"
     ]
    },
    {
     "data": {
      "text/html": [
       "<html><body><pre>filename = '/home/jovyan/ooi/uncabled/GI01SUMO/R00008/instruments/dcl12/FDCHP_sn144904/D202110/fdchp_20211017_090200.dat'</pre></body></html>"
      ],
      "text/plain": [
       "filename = '/home/jovyan/ooi/uncabled/GI01SUMO/R00008/instruments/dcl12/FDCHP_sn144904/D202110/fdchp_20211017_090200.dat'"
      ]
     },
     "execution_count": 24,
     "metadata": {},
     "output_type": "execute_result"
    },
    {
     "name": "stdout",
     "output_type": "stream",
     "text": [
      "Bad Length\n"
     ]
    },
    {
     "data": {
      "text/html": [
       "<html><body><pre>msgText = \n",
       "    'Output argument \"rawdata\" (and possibly others) not assigned a value in the execution with \"fdchpread_raw\" function.\n",
       "     \n",
       "     Error in fdchpread_raw_from_folder (line 57)\n",
       "                 [td,dd] = fdchpread_raw(filename);\n",
       "     \n",
       "     Error in LiveEditorEvaluationHelperEeditorId (line 5)\n",
       "     [uw, U, sigH] =  fdchpread_raw_from_folder(data_directory)\n",
       "     \n",
       "     Error in jupyter.execute (line 51)\n",
       "     resp = jsondecode(matlab.internal.editor.evaluateSynchronousRequest(request));\n",
       "     \n",
       "     Error in processJupyterKernelRequest (line 54)\n",
       "                 output = jupyter.execute(code, kernelId);\n",
       "     \n",
       "     Error in connector.internal.fevalMatlab\n",
       "     \n",
       "     Error in connector.internal.fevalJSON'\n",
       "</pre></body></html>"
      ],
      "text/plain": [
       "msgText = \n",
       "    'Output argument \"rawdata\" (and possibly others) not assigned a value in the execution with \"fdchpread_raw\" function.\n",
       "     \n",
       "     Error in fdchpread_raw_from_folder (line 57)\n",
       "                 [td,dd] = fdchpread_raw(filename);\n",
       "     \n",
       "     Error in LiveEditorEvaluationHelperEeditorId (line 5)\n",
       "     [uw, U, sigH] =  fdchpread_raw_from_folder(data_directory)\n",
       "     \n",
       "     Error in jupyter.execute (line 51)\n",
       "     resp = jsondecode(matlab.internal.editor.evaluateSynchronousRequest(request));\n",
       "     \n",
       "     Error in processJupyterKernelRequest (line 54)\n",
       "                 output = jupyter.execute(code, kernelId);\n",
       "     \n",
       "     Error in connector.internal.fevalMatlab\n",
       "     \n",
       "     Error in connector.internal.fevalJSON'\n"
      ]
     },
     "execution_count": 24,
     "metadata": {},
     "output_type": "execute_result"
    },
    {
     "name": "stdout",
     "output_type": "stream",
     "text": [
      "    \"Error reading filename: \"    \"Output argument \"rawdata\" (and possibly others) not assigned a value in the execution with \"fdchpread_raw\" function....\"\n",
      "\n"
     ]
    },
    {
     "data": {
      "text/html": [
       "<html><body><pre>filename = '/home/jovyan/ooi/uncabled/GI01SUMO/R00008/instruments/dcl12/FDCHP_sn144904/D202110/fdchp_20211017_100200.dat'</pre></body></html>"
      ],
      "text/plain": [
       "filename = '/home/jovyan/ooi/uncabled/GI01SUMO/R00008/instruments/dcl12/FDCHP_sn144904/D202110/fdchp_20211017_100200.dat'"
      ]
     },
     "execution_count": 24,
     "metadata": {},
     "output_type": "execute_result"
    },
    {
     "data": {
      "text/html": [
       "<html><body><pre>filename = '/home/jovyan/ooi/uncabled/GI01SUMO/R00008/instruments/dcl12/FDCHP_sn144904/D202110/fdchp_20211017_120200.dat'</pre></body></html>"
      ],
      "text/plain": [
       "filename = '/home/jovyan/ooi/uncabled/GI01SUMO/R00008/instruments/dcl12/FDCHP_sn144904/D202110/fdchp_20211017_120200.dat'"
      ]
     },
     "execution_count": 24,
     "metadata": {},
     "output_type": "execute_result"
    },
    {
     "data": {
      "text/html": [
       "<html><body><pre>filename = '/home/jovyan/ooi/uncabled/GI01SUMO/R00008/instruments/dcl12/FDCHP_sn144904/D202110/fdchp_20211017_140200.dat'</pre></body></html>"
      ],
      "text/plain": [
       "filename = '/home/jovyan/ooi/uncabled/GI01SUMO/R00008/instruments/dcl12/FDCHP_sn144904/D202110/fdchp_20211017_140200.dat'"
      ]
     },
     "execution_count": 24,
     "metadata": {},
     "output_type": "execute_result"
    },
    {
     "name": "stdout",
     "output_type": "stream",
     "text": [
      "Bad Length\n"
     ]
    },
    {
     "data": {
      "text/html": [
       "<html><body><pre>msgText = \n",
       "    'Output argument \"rawdata\" (and possibly others) not assigned a value in the execution with \"fdchpread_raw\" function.\n",
       "     \n",
       "     Error in fdchpread_raw_from_folder (line 57)\n",
       "                 [td,dd] = fdchpread_raw(filename);\n",
       "     \n",
       "     Error in LiveEditorEvaluationHelperEeditorId (line 5)\n",
       "     [uw, U, sigH] =  fdchpread_raw_from_folder(data_directory)\n",
       "     \n",
       "     Error in jupyter.execute (line 51)\n",
       "     resp = jsondecode(matlab.internal.editor.evaluateSynchronousRequest(request));\n",
       "     \n",
       "     Error in processJupyterKernelRequest (line 54)\n",
       "                 output = jupyter.execute(code, kernelId);\n",
       "     \n",
       "     Error in connector.internal.fevalMatlab\n",
       "     \n",
       "     Error in connector.internal.fevalJSON'\n",
       "</pre></body></html>"
      ],
      "text/plain": [
       "msgText = \n",
       "    'Output argument \"rawdata\" (and possibly others) not assigned a value in the execution with \"fdchpread_raw\" function.\n",
       "     \n",
       "     Error in fdchpread_raw_from_folder (line 57)\n",
       "                 [td,dd] = fdchpread_raw(filename);\n",
       "     \n",
       "     Error in LiveEditorEvaluationHelperEeditorId (line 5)\n",
       "     [uw, U, sigH] =  fdchpread_raw_from_folder(data_directory)\n",
       "     \n",
       "     Error in jupyter.execute (line 51)\n",
       "     resp = jsondecode(matlab.internal.editor.evaluateSynchronousRequest(request));\n",
       "     \n",
       "     Error in processJupyterKernelRequest (line 54)\n",
       "                 output = jupyter.execute(code, kernelId);\n",
       "     \n",
       "     Error in connector.internal.fevalMatlab\n",
       "     \n",
       "     Error in connector.internal.fevalJSON'\n"
      ]
     },
     "execution_count": 24,
     "metadata": {},
     "output_type": "execute_result"
    },
    {
     "name": "stdout",
     "output_type": "stream",
     "text": [
      "    \"Error reading filename: \"    \"Output argument \"rawdata\" (and possibly others) not assigned a value in the execution with \"fdchpread_raw\" function....\"\n",
      "\n"
     ]
    },
    {
     "data": {
      "text/html": [
       "<html><body><pre>filename = '/home/jovyan/ooi/uncabled/GI01SUMO/R00008/instruments/dcl12/FDCHP_sn144904/D202110/fdchp_20211017_160200.dat'</pre></body></html>"
      ],
      "text/plain": [
       "filename = '/home/jovyan/ooi/uncabled/GI01SUMO/R00008/instruments/dcl12/FDCHP_sn144904/D202110/fdchp_20211017_160200.dat'"
      ]
     },
     "execution_count": 24,
     "metadata": {},
     "output_type": "execute_result"
    },
    {
     "name": "stdout",
     "output_type": "stream",
     "text": [
      "Bad Length\n"
     ]
    },
    {
     "data": {
      "text/html": [
       "<html><body><pre>msgText = \n",
       "    'Output argument \"rawdata\" (and possibly others) not assigned a value in the execution with \"fdchpread_raw\" function.\n",
       "     \n",
       "     Error in fdchpread_raw_from_folder (line 57)\n",
       "                 [td,dd] = fdchpread_raw(filename);\n",
       "     \n",
       "     Error in LiveEditorEvaluationHelperEeditorId (line 5)\n",
       "     [uw, U, sigH] =  fdchpread_raw_from_folder(data_directory)\n",
       "     \n",
       "     Error in jupyter.execute (line 51)\n",
       "     resp = jsondecode(matlab.internal.editor.evaluateSynchronousRequest(request));\n",
       "     \n",
       "     Error in processJupyterKernelRequest (line 54)\n",
       "                 output = jupyter.execute(code, kernelId);\n",
       "     \n",
       "     Error in connector.internal.fevalMatlab\n",
       "     \n",
       "     Error in connector.internal.fevalJSON'\n",
       "</pre></body></html>"
      ],
      "text/plain": [
       "msgText = \n",
       "    'Output argument \"rawdata\" (and possibly others) not assigned a value in the execution with \"fdchpread_raw\" function.\n",
       "     \n",
       "     Error in fdchpread_raw_from_folder (line 57)\n",
       "                 [td,dd] = fdchpread_raw(filename);\n",
       "     \n",
       "     Error in LiveEditorEvaluationHelperEeditorId (line 5)\n",
       "     [uw, U, sigH] =  fdchpread_raw_from_folder(data_directory)\n",
       "     \n",
       "     Error in jupyter.execute (line 51)\n",
       "     resp = jsondecode(matlab.internal.editor.evaluateSynchronousRequest(request));\n",
       "     \n",
       "     Error in processJupyterKernelRequest (line 54)\n",
       "                 output = jupyter.execute(code, kernelId);\n",
       "     \n",
       "     Error in connector.internal.fevalMatlab\n",
       "     \n",
       "     Error in connector.internal.fevalJSON'\n"
      ]
     },
     "execution_count": 24,
     "metadata": {},
     "output_type": "execute_result"
    },
    {
     "name": "stdout",
     "output_type": "stream",
     "text": [
      "    \"Error reading filename: \"    \"Output argument \"rawdata\" (and possibly others) not assigned a value in the execution with \"fdchpread_raw\" function....\"\n",
      "\n"
     ]
    },
    {
     "data": {
      "text/html": [
       "<html><body><pre>filename = '/home/jovyan/ooi/uncabled/GI01SUMO/R00008/instruments/dcl12/FDCHP_sn144904/D202110/fdchp_20211017_190200.dat'</pre></body></html>"
      ],
      "text/plain": [
       "filename = '/home/jovyan/ooi/uncabled/GI01SUMO/R00008/instruments/dcl12/FDCHP_sn144904/D202110/fdchp_20211017_190200.dat'"
      ]
     },
     "execution_count": 24,
     "metadata": {},
     "output_type": "execute_result"
    },
    {
     "name": "stdout",
     "output_type": "stream",
     "text": [
      "Bad Length\n"
     ]
    },
    {
     "data": {
      "text/html": [
       "<html><body><pre>msgText = \n",
       "    'Output argument \"rawdata\" (and possibly others) not assigned a value in the execution with \"fdchpread_raw\" function.\n",
       "     \n",
       "     Error in fdchpread_raw_from_folder (line 57)\n",
       "                 [td,dd] = fdchpread_raw(filename);\n",
       "     \n",
       "     Error in LiveEditorEvaluationHelperEeditorId (line 5)\n",
       "     [uw, U, sigH] =  fdchpread_raw_from_folder(data_directory)\n",
       "     \n",
       "     Error in jupyter.execute (line 51)\n",
       "     resp = jsondecode(matlab.internal.editor.evaluateSynchronousRequest(request));\n",
       "     \n",
       "     Error in processJupyterKernelRequest (line 54)\n",
       "                 output = jupyter.execute(code, kernelId);\n",
       "     \n",
       "     Error in connector.internal.fevalMatlab\n",
       "     \n",
       "     Error in connector.internal.fevalJSON'\n",
       "</pre></body></html>"
      ],
      "text/plain": [
       "msgText = \n",
       "    'Output argument \"rawdata\" (and possibly others) not assigned a value in the execution with \"fdchpread_raw\" function.\n",
       "     \n",
       "     Error in fdchpread_raw_from_folder (line 57)\n",
       "                 [td,dd] = fdchpread_raw(filename);\n",
       "     \n",
       "     Error in LiveEditorEvaluationHelperEeditorId (line 5)\n",
       "     [uw, U, sigH] =  fdchpread_raw_from_folder(data_directory)\n",
       "     \n",
       "     Error in jupyter.execute (line 51)\n",
       "     resp = jsondecode(matlab.internal.editor.evaluateSynchronousRequest(request));\n",
       "     \n",
       "     Error in processJupyterKernelRequest (line 54)\n",
       "                 output = jupyter.execute(code, kernelId);\n",
       "     \n",
       "     Error in connector.internal.fevalMatlab\n",
       "     \n",
       "     Error in connector.internal.fevalJSON'\n"
      ]
     },
     "execution_count": 24,
     "metadata": {},
     "output_type": "execute_result"
    },
    {
     "name": "stdout",
     "output_type": "stream",
     "text": [
      "    \"Error reading filename: \"    \"Output argument \"rawdata\" (and possibly others) not assigned a value in the execution with \"fdchpread_raw\" function....\"\n",
      "\n"
     ]
    },
    {
     "data": {
      "text/html": [
       "<html><body><pre>filename = '/home/jovyan/ooi/uncabled/GI01SUMO/R00008/instruments/dcl12/FDCHP_sn144904/D202110/fdchp_20211017_210200.dat'</pre></body></html>"
      ],
      "text/plain": [
       "filename = '/home/jovyan/ooi/uncabled/GI01SUMO/R00008/instruments/dcl12/FDCHP_sn144904/D202110/fdchp_20211017_210200.dat'"
      ]
     },
     "execution_count": 24,
     "metadata": {},
     "output_type": "execute_result"
    },
    {
     "data": {
      "text/html": [
       "<html><body><pre>filename = '/home/jovyan/ooi/uncabled/GI01SUMO/R00008/instruments/dcl12/FDCHP_sn144904/D202110/fdchp_20211017_220200.dat'</pre></body></html>"
      ],
      "text/plain": [
       "filename = '/home/jovyan/ooi/uncabled/GI01SUMO/R00008/instruments/dcl12/FDCHP_sn144904/D202110/fdchp_20211017_220200.dat'"
      ]
     },
     "execution_count": 24,
     "metadata": {},
     "output_type": "execute_result"
    },
    {
     "name": "stdout",
     "output_type": "stream",
     "text": [
      "Bad Length\n"
     ]
    },
    {
     "data": {
      "text/html": [
       "<html><body><pre>msgText = \n",
       "    'Output argument \"rawdata\" (and possibly others) not assigned a value in the execution with \"fdchpread_raw\" function.\n",
       "     \n",
       "     Error in fdchpread_raw_from_folder (line 57)\n",
       "                 [td,dd] = fdchpread_raw(filename);\n",
       "     \n",
       "     Error in LiveEditorEvaluationHelperEeditorId (line 5)\n",
       "     [uw, U, sigH] =  fdchpread_raw_from_folder(data_directory)\n",
       "     \n",
       "     Error in jupyter.execute (line 51)\n",
       "     resp = jsondecode(matlab.internal.editor.evaluateSynchronousRequest(request));\n",
       "     \n",
       "     Error in processJupyterKernelRequest (line 54)\n",
       "                 output = jupyter.execute(code, kernelId);\n",
       "     \n",
       "     Error in connector.internal.fevalMatlab\n",
       "     \n",
       "     Error in connector.internal.fevalJSON'\n",
       "</pre></body></html>"
      ],
      "text/plain": [
       "msgText = \n",
       "    'Output argument \"rawdata\" (and possibly others) not assigned a value in the execution with \"fdchpread_raw\" function.\n",
       "     \n",
       "     Error in fdchpread_raw_from_folder (line 57)\n",
       "                 [td,dd] = fdchpread_raw(filename);\n",
       "     \n",
       "     Error in LiveEditorEvaluationHelperEeditorId (line 5)\n",
       "     [uw, U, sigH] =  fdchpread_raw_from_folder(data_directory)\n",
       "     \n",
       "     Error in jupyter.execute (line 51)\n",
       "     resp = jsondecode(matlab.internal.editor.evaluateSynchronousRequest(request));\n",
       "     \n",
       "     Error in processJupyterKernelRequest (line 54)\n",
       "                 output = jupyter.execute(code, kernelId);\n",
       "     \n",
       "     Error in connector.internal.fevalMatlab\n",
       "     \n",
       "     Error in connector.internal.fevalJSON'\n"
      ]
     },
     "execution_count": 24,
     "metadata": {},
     "output_type": "execute_result"
    },
    {
     "name": "stdout",
     "output_type": "stream",
     "text": [
      "    \"Error reading filename: \"    \"Output argument \"rawdata\" (and possibly others) not assigned a value in the execution with \"fdchpread_raw\" function....\"\n",
      "\n"
     ]
    },
    {
     "data": {
      "text/html": [
       "<html><body><pre>filename = '/home/jovyan/ooi/uncabled/GI01SUMO/R00008/instruments/dcl12/FDCHP_sn144904/D202110/fdchp_20211018_000200.dat'</pre></body></html>"
      ],
      "text/plain": [
       "filename = '/home/jovyan/ooi/uncabled/GI01SUMO/R00008/instruments/dcl12/FDCHP_sn144904/D202110/fdchp_20211018_000200.dat'"
      ]
     },
     "execution_count": 24,
     "metadata": {},
     "output_type": "execute_result"
    },
    {
     "name": "stdout",
     "output_type": "stream",
     "text": [
      "Bad Length\n"
     ]
    },
    {
     "data": {
      "text/html": [
       "<html><body><pre>msgText = \n",
       "    'Output argument \"rawdata\" (and possibly others) not assigned a value in the execution with \"fdchpread_raw\" function.\n",
       "     \n",
       "     Error in fdchpread_raw_from_folder (line 57)\n",
       "                 [td,dd] = fdchpread_raw(filename);\n",
       "     \n",
       "     Error in LiveEditorEvaluationHelperEeditorId (line 5)\n",
       "     [uw, U, sigH] =  fdchpread_raw_from_folder(data_directory)\n",
       "     \n",
       "     Error in jupyter.execute (line 51)\n",
       "     resp = jsondecode(matlab.internal.editor.evaluateSynchronousRequest(request));\n",
       "     \n",
       "     Error in processJupyterKernelRequest (line 54)\n",
       "                 output = jupyter.execute(code, kernelId);\n",
       "     \n",
       "     Error in connector.internal.fevalMatlab\n",
       "     \n",
       "     Error in connector.internal.fevalJSON'\n",
       "</pre></body></html>"
      ],
      "text/plain": [
       "msgText = \n",
       "    'Output argument \"rawdata\" (and possibly others) not assigned a value in the execution with \"fdchpread_raw\" function.\n",
       "     \n",
       "     Error in fdchpread_raw_from_folder (line 57)\n",
       "                 [td,dd] = fdchpread_raw(filename);\n",
       "     \n",
       "     Error in LiveEditorEvaluationHelperEeditorId (line 5)\n",
       "     [uw, U, sigH] =  fdchpread_raw_from_folder(data_directory)\n",
       "     \n",
       "     Error in jupyter.execute (line 51)\n",
       "     resp = jsondecode(matlab.internal.editor.evaluateSynchronousRequest(request));\n",
       "     \n",
       "     Error in processJupyterKernelRequest (line 54)\n",
       "                 output = jupyter.execute(code, kernelId);\n",
       "     \n",
       "     Error in connector.internal.fevalMatlab\n",
       "     \n",
       "     Error in connector.internal.fevalJSON'\n"
      ]
     },
     "execution_count": 24,
     "metadata": {},
     "output_type": "execute_result"
    },
    {
     "name": "stdout",
     "output_type": "stream",
     "text": [
      "    \"Error reading filename: \"    \"Output argument \"rawdata\" (and possibly others) not assigned a value in the execution with \"fdchpread_raw\" function....\"\n",
      "\n"
     ]
    },
    {
     "data": {
      "text/html": [
       "<html><body><pre>filename = '/home/jovyan/ooi/uncabled/GI01SUMO/R00008/instruments/dcl12/FDCHP_sn144904/D202110/fdchp_20211018_010200.dat'</pre></body></html>"
      ],
      "text/plain": [
       "filename = '/home/jovyan/ooi/uncabled/GI01SUMO/R00008/instruments/dcl12/FDCHP_sn144904/D202110/fdchp_20211018_010200.dat'"
      ]
     },
     "execution_count": 24,
     "metadata": {},
     "output_type": "execute_result"
    },
    {
     "name": "stdout",
     "output_type": "stream",
     "text": [
      "Bad Length\n"
     ]
    },
    {
     "data": {
      "text/html": [
       "<html><body><pre>msgText = \n",
       "    'Output argument \"rawdata\" (and possibly others) not assigned a value in the execution with \"fdchpread_raw\" function.\n",
       "     \n",
       "     Error in fdchpread_raw_from_folder (line 57)\n",
       "                 [td,dd] = fdchpread_raw(filename);\n",
       "     \n",
       "     Error in LiveEditorEvaluationHelperEeditorId (line 5)\n",
       "     [uw, U, sigH] =  fdchpread_raw_from_folder(data_directory)\n",
       "     \n",
       "     Error in jupyter.execute (line 51)\n",
       "     resp = jsondecode(matlab.internal.editor.evaluateSynchronousRequest(request));\n",
       "     \n",
       "     Error in processJupyterKernelRequest (line 54)\n",
       "                 output = jupyter.execute(code, kernelId);\n",
       "     \n",
       "     Error in connector.internal.fevalMatlab\n",
       "     \n",
       "     Error in connector.internal.fevalJSON'\n",
       "</pre></body></html>"
      ],
      "text/plain": [
       "msgText = \n",
       "    'Output argument \"rawdata\" (and possibly others) not assigned a value in the execution with \"fdchpread_raw\" function.\n",
       "     \n",
       "     Error in fdchpread_raw_from_folder (line 57)\n",
       "                 [td,dd] = fdchpread_raw(filename);\n",
       "     \n",
       "     Error in LiveEditorEvaluationHelperEeditorId (line 5)\n",
       "     [uw, U, sigH] =  fdchpread_raw_from_folder(data_directory)\n",
       "     \n",
       "     Error in jupyter.execute (line 51)\n",
       "     resp = jsondecode(matlab.internal.editor.evaluateSynchronousRequest(request));\n",
       "     \n",
       "     Error in processJupyterKernelRequest (line 54)\n",
       "                 output = jupyter.execute(code, kernelId);\n",
       "     \n",
       "     Error in connector.internal.fevalMatlab\n",
       "     \n",
       "     Error in connector.internal.fevalJSON'\n"
      ]
     },
     "execution_count": 24,
     "metadata": {},
     "output_type": "execute_result"
    },
    {
     "name": "stdout",
     "output_type": "stream",
     "text": [
      "    \"Error reading filename: \"    \"Output argument \"rawdata\" (and possibly others) not assigned a value in the execution with \"fdchpread_raw\" function....\"\n",
      "\n"
     ]
    },
    {
     "data": {
      "text/html": [
       "<html><body><pre>filename = '/home/jovyan/ooi/uncabled/GI01SUMO/R00008/instruments/dcl12/FDCHP_sn144904/D202110/fdchp_20211018_020200.dat'</pre></body></html>"
      ],
      "text/plain": [
       "filename = '/home/jovyan/ooi/uncabled/GI01SUMO/R00008/instruments/dcl12/FDCHP_sn144904/D202110/fdchp_20211018_020200.dat'"
      ]
     },
     "execution_count": 24,
     "metadata": {},
     "output_type": "execute_result"
    },
    {
     "data": {
      "text/html": [
       "<html><body><pre>filename = '/home/jovyan/ooi/uncabled/GI01SUMO/R00008/instruments/dcl12/FDCHP_sn144904/D202110/fdchp_20211018_030200.dat'</pre></body></html>"
      ],
      "text/plain": [
       "filename = '/home/jovyan/ooi/uncabled/GI01SUMO/R00008/instruments/dcl12/FDCHP_sn144904/D202110/fdchp_20211018_030200.dat'"
      ]
     },
     "execution_count": 24,
     "metadata": {},
     "output_type": "execute_result"
    },
    {
     "data": {
      "text/html": [
       "<html><body><pre>filename = '/home/jovyan/ooi/uncabled/GI01SUMO/R00008/instruments/dcl12/FDCHP_sn144904/D202110/fdchp_20211018_040200.dat'</pre></body></html>"
      ],
      "text/plain": [
       "filename = '/home/jovyan/ooi/uncabled/GI01SUMO/R00008/instruments/dcl12/FDCHP_sn144904/D202110/fdchp_20211018_040200.dat'"
      ]
     },
     "execution_count": 24,
     "metadata": {},
     "output_type": "execute_result"
    },
    {
     "data": {
      "text/html": [
       "<html><body><pre>filename = '/home/jovyan/ooi/uncabled/GI01SUMO/R00008/instruments/dcl12/FDCHP_sn144904/D202110/fdchp_20211018_050200.dat'</pre></body></html>"
      ],
      "text/plain": [
       "filename = '/home/jovyan/ooi/uncabled/GI01SUMO/R00008/instruments/dcl12/FDCHP_sn144904/D202110/fdchp_20211018_050200.dat'"
      ]
     },
     "execution_count": 24,
     "metadata": {},
     "output_type": "execute_result"
    },
    {
     "data": {
      "text/html": [
       "<html><body><pre>filename = '/home/jovyan/ooi/uncabled/GI01SUMO/R00008/instruments/dcl12/FDCHP_sn144904/D202110/fdchp_20211018_060200.dat'</pre></body></html>"
      ],
      "text/plain": [
       "filename = '/home/jovyan/ooi/uncabled/GI01SUMO/R00008/instruments/dcl12/FDCHP_sn144904/D202110/fdchp_20211018_060200.dat'"
      ]
     },
     "execution_count": 24,
     "metadata": {},
     "output_type": "execute_result"
    },
    {
     "name": "stdout",
     "output_type": "stream",
     "text": [
      "Bad Length\n"
     ]
    },
    {
     "data": {
      "text/html": [
       "<html><body><pre>msgText = \n",
       "    'Output argument \"rawdata\" (and possibly others) not assigned a value in the execution with \"fdchpread_raw\" function.\n",
       "     \n",
       "     Error in fdchpread_raw_from_folder (line 57)\n",
       "                 [td,dd] = fdchpread_raw(filename);\n",
       "     \n",
       "     Error in LiveEditorEvaluationHelperEeditorId (line 5)\n",
       "     [uw, U, sigH] =  fdchpread_raw_from_folder(data_directory)\n",
       "     \n",
       "     Error in jupyter.execute (line 51)\n",
       "     resp = jsondecode(matlab.internal.editor.evaluateSynchronousRequest(request));\n",
       "     \n",
       "     Error in processJupyterKernelRequest (line 54)\n",
       "                 output = jupyter.execute(code, kernelId);\n",
       "     \n",
       "     Error in connector.internal.fevalMatlab\n",
       "     \n",
       "     Error in connector.internal.fevalJSON'\n",
       "</pre></body></html>"
      ],
      "text/plain": [
       "msgText = \n",
       "    'Output argument \"rawdata\" (and possibly others) not assigned a value in the execution with \"fdchpread_raw\" function.\n",
       "     \n",
       "     Error in fdchpread_raw_from_folder (line 57)\n",
       "                 [td,dd] = fdchpread_raw(filename);\n",
       "     \n",
       "     Error in LiveEditorEvaluationHelperEeditorId (line 5)\n",
       "     [uw, U, sigH] =  fdchpread_raw_from_folder(data_directory)\n",
       "     \n",
       "     Error in jupyter.execute (line 51)\n",
       "     resp = jsondecode(matlab.internal.editor.evaluateSynchronousRequest(request));\n",
       "     \n",
       "     Error in processJupyterKernelRequest (line 54)\n",
       "                 output = jupyter.execute(code, kernelId);\n",
       "     \n",
       "     Error in connector.internal.fevalMatlab\n",
       "     \n",
       "     Error in connector.internal.fevalJSON'\n"
      ]
     },
     "execution_count": 24,
     "metadata": {},
     "output_type": "execute_result"
    },
    {
     "name": "stdout",
     "output_type": "stream",
     "text": [
      "    \"Error reading filename: \"    \"Output argument \"rawdata\" (and possibly others) not assigned a value in the execution with \"fdchpread_raw\" function....\"\n",
      "\n"
     ]
    },
    {
     "data": {
      "text/html": [
       "<html><body><pre>filename = '/home/jovyan/ooi/uncabled/GI01SUMO/R00008/instruments/dcl12/FDCHP_sn144904/D202110/fdchp_20211018_070200.dat'</pre></body></html>"
      ],
      "text/plain": [
       "filename = '/home/jovyan/ooi/uncabled/GI01SUMO/R00008/instruments/dcl12/FDCHP_sn144904/D202110/fdchp_20211018_070200.dat'"
      ]
     },
     "execution_count": 24,
     "metadata": {},
     "output_type": "execute_result"
    },
    {
     "name": "stdout",
     "output_type": "stream",
     "text": [
      "Bad Length\n"
     ]
    },
    {
     "data": {
      "text/html": [
       "<html><body><pre>msgText = \n",
       "    'Output argument \"rawdata\" (and possibly others) not assigned a value in the execution with \"fdchpread_raw\" function.\n",
       "     \n",
       "     Error in fdchpread_raw_from_folder (line 57)\n",
       "                 [td,dd] = fdchpread_raw(filename);\n",
       "     \n",
       "     Error in LiveEditorEvaluationHelperEeditorId (line 5)\n",
       "     [uw, U, sigH] =  fdchpread_raw_from_folder(data_directory)\n",
       "     \n",
       "     Error in jupyter.execute (line 51)\n",
       "     resp = jsondecode(matlab.internal.editor.evaluateSynchronousRequest(request));\n",
       "     \n",
       "     Error in processJupyterKernelRequest (line 54)\n",
       "                 output = jupyter.execute(code, kernelId);\n",
       "     \n",
       "     Error in connector.internal.fevalMatlab\n",
       "     \n",
       "     Error in connector.internal.fevalJSON'\n",
       "</pre></body></html>"
      ],
      "text/plain": [
       "msgText = \n",
       "    'Output argument \"rawdata\" (and possibly others) not assigned a value in the execution with \"fdchpread_raw\" function.\n",
       "     \n",
       "     Error in fdchpread_raw_from_folder (line 57)\n",
       "                 [td,dd] = fdchpread_raw(filename);\n",
       "     \n",
       "     Error in LiveEditorEvaluationHelperEeditorId (line 5)\n",
       "     [uw, U, sigH] =  fdchpread_raw_from_folder(data_directory)\n",
       "     \n",
       "     Error in jupyter.execute (line 51)\n",
       "     resp = jsondecode(matlab.internal.editor.evaluateSynchronousRequest(request));\n",
       "     \n",
       "     Error in processJupyterKernelRequest (line 54)\n",
       "                 output = jupyter.execute(code, kernelId);\n",
       "     \n",
       "     Error in connector.internal.fevalMatlab\n",
       "     \n",
       "     Error in connector.internal.fevalJSON'\n"
      ]
     },
     "execution_count": 24,
     "metadata": {},
     "output_type": "execute_result"
    },
    {
     "name": "stdout",
     "output_type": "stream",
     "text": [
      "    \"Error reading filename: \"    \"Output argument \"rawdata\" (and possibly others) not assigned a value in the execution with \"fdchpread_raw\" function....\"\n",
      "\n"
     ]
    },
    {
     "data": {
      "text/html": [
       "<html><body><pre>filename = '/home/jovyan/ooi/uncabled/GI01SUMO/R00008/instruments/dcl12/FDCHP_sn144904/D202110/fdchp_20211018_080200.dat'</pre></body></html>"
      ],
      "text/plain": [
       "filename = '/home/jovyan/ooi/uncabled/GI01SUMO/R00008/instruments/dcl12/FDCHP_sn144904/D202110/fdchp_20211018_080200.dat'"
      ]
     },
     "execution_count": 24,
     "metadata": {},
     "output_type": "execute_result"
    },
    {
     "name": "stdout",
     "output_type": "stream",
     "text": [
      "Bad Length\n"
     ]
    },
    {
     "data": {
      "text/html": [
       "<html><body><pre>msgText = \n",
       "    'Output argument \"rawdata\" (and possibly others) not assigned a value in the execution with \"fdchpread_raw\" function.\n",
       "     \n",
       "     Error in fdchpread_raw_from_folder (line 57)\n",
       "                 [td,dd] = fdchpread_raw(filename);\n",
       "     \n",
       "     Error in LiveEditorEvaluationHelperEeditorId (line 5)\n",
       "     [uw, U, sigH] =  fdchpread_raw_from_folder(data_directory)\n",
       "     \n",
       "     Error in jupyter.execute (line 51)\n",
       "     resp = jsondecode(matlab.internal.editor.evaluateSynchronousRequest(request));\n",
       "     \n",
       "     Error in processJupyterKernelRequest (line 54)\n",
       "                 output = jupyter.execute(code, kernelId);\n",
       "     \n",
       "     Error in connector.internal.fevalMatlab\n",
       "     \n",
       "     Error in connector.internal.fevalJSON'\n",
       "</pre></body></html>"
      ],
      "text/plain": [
       "msgText = \n",
       "    'Output argument \"rawdata\" (and possibly others) not assigned a value in the execution with \"fdchpread_raw\" function.\n",
       "     \n",
       "     Error in fdchpread_raw_from_folder (line 57)\n",
       "                 [td,dd] = fdchpread_raw(filename);\n",
       "     \n",
       "     Error in LiveEditorEvaluationHelperEeditorId (line 5)\n",
       "     [uw, U, sigH] =  fdchpread_raw_from_folder(data_directory)\n",
       "     \n",
       "     Error in jupyter.execute (line 51)\n",
       "     resp = jsondecode(matlab.internal.editor.evaluateSynchronousRequest(request));\n",
       "     \n",
       "     Error in processJupyterKernelRequest (line 54)\n",
       "                 output = jupyter.execute(code, kernelId);\n",
       "     \n",
       "     Error in connector.internal.fevalMatlab\n",
       "     \n",
       "     Error in connector.internal.fevalJSON'\n"
      ]
     },
     "execution_count": 24,
     "metadata": {},
     "output_type": "execute_result"
    },
    {
     "name": "stdout",
     "output_type": "stream",
     "text": [
      "    \"Error reading filename: \"    \"Output argument \"rawdata\" (and possibly others) not assigned a value in the execution with \"fdchpread_raw\" function....\"\n",
      "\n"
     ]
    },
    {
     "data": {
      "text/html": [
       "<html><body><pre>filename = '/home/jovyan/ooi/uncabled/GI01SUMO/R00008/instruments/dcl12/FDCHP_sn144904/D202110/fdchp_20211018_090200.dat'</pre></body></html>"
      ],
      "text/plain": [
       "filename = '/home/jovyan/ooi/uncabled/GI01SUMO/R00008/instruments/dcl12/FDCHP_sn144904/D202110/fdchp_20211018_090200.dat'"
      ]
     },
     "execution_count": 24,
     "metadata": {},
     "output_type": "execute_result"
    },
    {
     "data": {
      "text/html": [
       "<html><body><pre>filename = '/home/jovyan/ooi/uncabled/GI01SUMO/R00008/instruments/dcl12/FDCHP_sn144904/D202110/fdchp_20211018_100200.dat'</pre></body></html>"
      ],
      "text/plain": [
       "filename = '/home/jovyan/ooi/uncabled/GI01SUMO/R00008/instruments/dcl12/FDCHP_sn144904/D202110/fdchp_20211018_100200.dat'"
      ]
     },
     "execution_count": 24,
     "metadata": {},
     "output_type": "execute_result"
    },
    {
     "data": {
      "text/html": [
       "<html><body><pre>filename = '/home/jovyan/ooi/uncabled/GI01SUMO/R00008/instruments/dcl12/FDCHP_sn144904/D202110/fdchp_20211018_110200.dat'</pre></body></html>"
      ],
      "text/plain": [
       "filename = '/home/jovyan/ooi/uncabled/GI01SUMO/R00008/instruments/dcl12/FDCHP_sn144904/D202110/fdchp_20211018_110200.dat'"
      ]
     },
     "execution_count": 24,
     "metadata": {},
     "output_type": "execute_result"
    },
    {
     "name": "stdout",
     "output_type": "stream",
     "text": [
      "Bad Length\n"
     ]
    },
    {
     "data": {
      "text/html": [
       "<html><body><pre>msgText = \n",
       "    'Output argument \"rawdata\" (and possibly others) not assigned a value in the execution with \"fdchpread_raw\" function.\n",
       "     \n",
       "     Error in fdchpread_raw_from_folder (line 57)\n",
       "                 [td,dd] = fdchpread_raw(filename);\n",
       "     \n",
       "     Error in LiveEditorEvaluationHelperEeditorId (line 5)\n",
       "     [uw, U, sigH] =  fdchpread_raw_from_folder(data_directory)\n",
       "     \n",
       "     Error in jupyter.execute (line 51)\n",
       "     resp = jsondecode(matlab.internal.editor.evaluateSynchronousRequest(request));\n",
       "     \n",
       "     Error in processJupyterKernelRequest (line 54)\n",
       "                 output = jupyter.execute(code, kernelId);\n",
       "     \n",
       "     Error in connector.internal.fevalMatlab\n",
       "     \n",
       "     Error in connector.internal.fevalJSON'\n",
       "</pre></body></html>"
      ],
      "text/plain": [
       "msgText = \n",
       "    'Output argument \"rawdata\" (and possibly others) not assigned a value in the execution with \"fdchpread_raw\" function.\n",
       "     \n",
       "     Error in fdchpread_raw_from_folder (line 57)\n",
       "                 [td,dd] = fdchpread_raw(filename);\n",
       "     \n",
       "     Error in LiveEditorEvaluationHelperEeditorId (line 5)\n",
       "     [uw, U, sigH] =  fdchpread_raw_from_folder(data_directory)\n",
       "     \n",
       "     Error in jupyter.execute (line 51)\n",
       "     resp = jsondecode(matlab.internal.editor.evaluateSynchronousRequest(request));\n",
       "     \n",
       "     Error in processJupyterKernelRequest (line 54)\n",
       "                 output = jupyter.execute(code, kernelId);\n",
       "     \n",
       "     Error in connector.internal.fevalMatlab\n",
       "     \n",
       "     Error in connector.internal.fevalJSON'\n"
      ]
     },
     "execution_count": 24,
     "metadata": {},
     "output_type": "execute_result"
    },
    {
     "name": "stdout",
     "output_type": "stream",
     "text": [
      "    \"Error reading filename: \"    \"Output argument \"rawdata\" (and possibly others) not assigned a value in the execution with \"fdchpread_raw\" function....\"\n",
      "\n"
     ]
    },
    {
     "data": {
      "text/html": [
       "<html><body><pre>filename = '/home/jovyan/ooi/uncabled/GI01SUMO/R00008/instruments/dcl12/FDCHP_sn144904/D202110/fdchp_20211018_120200.dat'</pre></body></html>"
      ],
      "text/plain": [
       "filename = '/home/jovyan/ooi/uncabled/GI01SUMO/R00008/instruments/dcl12/FDCHP_sn144904/D202110/fdchp_20211018_120200.dat'"
      ]
     },
     "execution_count": 24,
     "metadata": {},
     "output_type": "execute_result"
    },
    {
     "data": {
      "text/html": [
       "<html><body><pre>filename = '/home/jovyan/ooi/uncabled/GI01SUMO/R00008/instruments/dcl12/FDCHP_sn144904/D202110/fdchp_20211018_130200.dat'</pre></body></html>"
      ],
      "text/plain": [
       "filename = '/home/jovyan/ooi/uncabled/GI01SUMO/R00008/instruments/dcl12/FDCHP_sn144904/D202110/fdchp_20211018_130200.dat'"
      ]
     },
     "execution_count": 24,
     "metadata": {},
     "output_type": "execute_result"
    },
    {
     "data": {
      "text/html": [
       "<html><body><pre>filename = '/home/jovyan/ooi/uncabled/GI01SUMO/R00008/instruments/dcl12/FDCHP_sn144904/D202110/fdchp_20211018_140200.dat'</pre></body></html>"
      ],
      "text/plain": [
       "filename = '/home/jovyan/ooi/uncabled/GI01SUMO/R00008/instruments/dcl12/FDCHP_sn144904/D202110/fdchp_20211018_140200.dat'"
      ]
     },
     "execution_count": 24,
     "metadata": {},
     "output_type": "execute_result"
    },
    {
     "data": {
      "text/html": [
       "<html><body><pre>filename = '/home/jovyan/ooi/uncabled/GI01SUMO/R00008/instruments/dcl12/FDCHP_sn144904/D202110/fdchp_20211018_190200.dat'</pre></body></html>"
      ],
      "text/plain": [
       "filename = '/home/jovyan/ooi/uncabled/GI01SUMO/R00008/instruments/dcl12/FDCHP_sn144904/D202110/fdchp_20211018_190200.dat'"
      ]
     },
     "execution_count": 24,
     "metadata": {},
     "output_type": "execute_result"
    },
    {
     "name": "stdout",
     "output_type": "stream",
     "text": [
      "Bad Length\n"
     ]
    },
    {
     "data": {
      "text/html": [
       "<html><body><pre>msgText = \n",
       "    'Output argument \"rawdata\" (and possibly others) not assigned a value in the execution with \"fdchpread_raw\" function.\n",
       "     \n",
       "     Error in fdchpread_raw_from_folder (line 57)\n",
       "                 [td,dd] = fdchpread_raw(filename);\n",
       "     \n",
       "     Error in LiveEditorEvaluationHelperEeditorId (line 5)\n",
       "     [uw, U, sigH] =  fdchpread_raw_from_folder(data_directory)\n",
       "     \n",
       "     Error in jupyter.execute (line 51)\n",
       "     resp = jsondecode(matlab.internal.editor.evaluateSynchronousRequest(request));\n",
       "     \n",
       "     Error in processJupyterKernelRequest (line 54)\n",
       "                 output = jupyter.execute(code, kernelId);\n",
       "     \n",
       "     Error in connector.internal.fevalMatlab\n",
       "     \n",
       "     Error in connector.internal.fevalJSON'\n",
       "</pre></body></html>"
      ],
      "text/plain": [
       "msgText = \n",
       "    'Output argument \"rawdata\" (and possibly others) not assigned a value in the execution with \"fdchpread_raw\" function.\n",
       "     \n",
       "     Error in fdchpread_raw_from_folder (line 57)\n",
       "                 [td,dd] = fdchpread_raw(filename);\n",
       "     \n",
       "     Error in LiveEditorEvaluationHelperEeditorId (line 5)\n",
       "     [uw, U, sigH] =  fdchpread_raw_from_folder(data_directory)\n",
       "     \n",
       "     Error in jupyter.execute (line 51)\n",
       "     resp = jsondecode(matlab.internal.editor.evaluateSynchronousRequest(request));\n",
       "     \n",
       "     Error in processJupyterKernelRequest (line 54)\n",
       "                 output = jupyter.execute(code, kernelId);\n",
       "     \n",
       "     Error in connector.internal.fevalMatlab\n",
       "     \n",
       "     Error in connector.internal.fevalJSON'\n"
      ]
     },
     "execution_count": 24,
     "metadata": {},
     "output_type": "execute_result"
    },
    {
     "name": "stdout",
     "output_type": "stream",
     "text": [
      "    \"Error reading filename: \"    \"Output argument \"rawdata\" (and possibly others) not assigned a value in the execution with \"fdchpread_raw\" function....\"\n",
      "\n"
     ]
    },
    {
     "data": {
      "text/html": [
       "<html><body><pre>filename = '/home/jovyan/ooi/uncabled/GI01SUMO/R00008/instruments/dcl12/FDCHP_sn144904/D202110/fdchp_20211018_210200.dat'</pre></body></html>"
      ],
      "text/plain": [
       "filename = '/home/jovyan/ooi/uncabled/GI01SUMO/R00008/instruments/dcl12/FDCHP_sn144904/D202110/fdchp_20211018_210200.dat'"
      ]
     },
     "execution_count": 24,
     "metadata": {},
     "output_type": "execute_result"
    },
    {
     "name": "stdout",
     "output_type": "stream",
     "text": [
      "Bad Length\n"
     ]
    },
    {
     "data": {
      "text/html": [
       "<html><body><pre>msgText = \n",
       "    'Output argument \"rawdata\" (and possibly others) not assigned a value in the execution with \"fdchpread_raw\" function.\n",
       "     \n",
       "     Error in fdchpread_raw_from_folder (line 57)\n",
       "                 [td,dd] = fdchpread_raw(filename);\n",
       "     \n",
       "     Error in LiveEditorEvaluationHelperEeditorId (line 5)\n",
       "     [uw, U, sigH] =  fdchpread_raw_from_folder(data_directory)\n",
       "     \n",
       "     Error in jupyter.execute (line 51)\n",
       "     resp = jsondecode(matlab.internal.editor.evaluateSynchronousRequest(request));\n",
       "     \n",
       "     Error in processJupyterKernelRequest (line 54)\n",
       "                 output = jupyter.execute(code, kernelId);\n",
       "     \n",
       "     Error in connector.internal.fevalMatlab\n",
       "     \n",
       "     Error in connector.internal.fevalJSON'\n",
       "</pre></body></html>"
      ],
      "text/plain": [
       "msgText = \n",
       "    'Output argument \"rawdata\" (and possibly others) not assigned a value in the execution with \"fdchpread_raw\" function.\n",
       "     \n",
       "     Error in fdchpread_raw_from_folder (line 57)\n",
       "                 [td,dd] = fdchpread_raw(filename);\n",
       "     \n",
       "     Error in LiveEditorEvaluationHelperEeditorId (line 5)\n",
       "     [uw, U, sigH] =  fdchpread_raw_from_folder(data_directory)\n",
       "     \n",
       "     Error in jupyter.execute (line 51)\n",
       "     resp = jsondecode(matlab.internal.editor.evaluateSynchronousRequest(request));\n",
       "     \n",
       "     Error in processJupyterKernelRequest (line 54)\n",
       "                 output = jupyter.execute(code, kernelId);\n",
       "     \n",
       "     Error in connector.internal.fevalMatlab\n",
       "     \n",
       "     Error in connector.internal.fevalJSON'\n"
      ]
     },
     "execution_count": 24,
     "metadata": {},
     "output_type": "execute_result"
    },
    {
     "name": "stdout",
     "output_type": "stream",
     "text": [
      "    \"Error reading filename: \"    \"Output argument \"rawdata\" (and possibly others) not assigned a value in the execution with \"fdchpread_raw\" function....\"\n",
      "\n"
     ]
    },
    {
     "data": {
      "text/html": [
       "<html><body><pre>filename = '/home/jovyan/ooi/uncabled/GI01SUMO/R00008/instruments/dcl12/FDCHP_sn144904/D202110/fdchp_20211019_000200.dat'</pre></body></html>"
      ],
      "text/plain": [
       "filename = '/home/jovyan/ooi/uncabled/GI01SUMO/R00008/instruments/dcl12/FDCHP_sn144904/D202110/fdchp_20211019_000200.dat'"
      ]
     },
     "execution_count": 24,
     "metadata": {},
     "output_type": "execute_result"
    },
    {
     "data": {
      "text/html": [
       "<html><body><pre>filename = '/home/jovyan/ooi/uncabled/GI01SUMO/R00008/instruments/dcl12/FDCHP_sn144904/D202110/fdchp_20211019_020200.dat'</pre></body></html>"
      ],
      "text/plain": [
       "filename = '/home/jovyan/ooi/uncabled/GI01SUMO/R00008/instruments/dcl12/FDCHP_sn144904/D202110/fdchp_20211019_020200.dat'"
      ]
     },
     "execution_count": 24,
     "metadata": {},
     "output_type": "execute_result"
    },
    {
     "name": "stdout",
     "output_type": "stream",
     "text": [
      "Bad Length\n"
     ]
    },
    {
     "data": {
      "text/html": [
       "<html><body><pre>msgText = \n",
       "    'Output argument \"rawdata\" (and possibly others) not assigned a value in the execution with \"fdchpread_raw\" function.\n",
       "     \n",
       "     Error in fdchpread_raw_from_folder (line 57)\n",
       "                 [td,dd] = fdchpread_raw(filename);\n",
       "     \n",
       "     Error in LiveEditorEvaluationHelperEeditorId (line 5)\n",
       "     [uw, U, sigH] =  fdchpread_raw_from_folder(data_directory)\n",
       "     \n",
       "     Error in jupyter.execute (line 51)\n",
       "     resp = jsondecode(matlab.internal.editor.evaluateSynchronousRequest(request));\n",
       "     \n",
       "     Error in processJupyterKernelRequest (line 54)\n",
       "                 output = jupyter.execute(code, kernelId);\n",
       "     \n",
       "     Error in connector.internal.fevalMatlab\n",
       "     \n",
       "     Error in connector.internal.fevalJSON'\n",
       "</pre></body></html>"
      ],
      "text/plain": [
       "msgText = \n",
       "    'Output argument \"rawdata\" (and possibly others) not assigned a value in the execution with \"fdchpread_raw\" function.\n",
       "     \n",
       "     Error in fdchpread_raw_from_folder (line 57)\n",
       "                 [td,dd] = fdchpread_raw(filename);\n",
       "     \n",
       "     Error in LiveEditorEvaluationHelperEeditorId (line 5)\n",
       "     [uw, U, sigH] =  fdchpread_raw_from_folder(data_directory)\n",
       "     \n",
       "     Error in jupyter.execute (line 51)\n",
       "     resp = jsondecode(matlab.internal.editor.evaluateSynchronousRequest(request));\n",
       "     \n",
       "     Error in processJupyterKernelRequest (line 54)\n",
       "                 output = jupyter.execute(code, kernelId);\n",
       "     \n",
       "     Error in connector.internal.fevalMatlab\n",
       "     \n",
       "     Error in connector.internal.fevalJSON'\n"
      ]
     },
     "execution_count": 24,
     "metadata": {},
     "output_type": "execute_result"
    },
    {
     "name": "stdout",
     "output_type": "stream",
     "text": [
      "    \"Error reading filename: \"    \"Output argument \"rawdata\" (and possibly others) not assigned a value in the execution with \"fdchpread_raw\" function....\"\n",
      "\n"
     ]
    },
    {
     "data": {
      "text/html": [
       "<html><body><pre>filename = '/home/jovyan/ooi/uncabled/GI01SUMO/R00008/instruments/dcl12/FDCHP_sn144904/D202110/fdchp_20211019_060200.dat'</pre></body></html>"
      ],
      "text/plain": [
       "filename = '/home/jovyan/ooi/uncabled/GI01SUMO/R00008/instruments/dcl12/FDCHP_sn144904/D202110/fdchp_20211019_060200.dat'"
      ]
     },
     "execution_count": 24,
     "metadata": {},
     "output_type": "execute_result"
    },
    {
     "data": {
      "text/html": [
       "<html><body><pre>filename = '/home/jovyan/ooi/uncabled/GI01SUMO/R00008/instruments/dcl12/FDCHP_sn144904/D202110/fdchp_20211019_090200.dat'</pre></body></html>"
      ],
      "text/plain": [
       "filename = '/home/jovyan/ooi/uncabled/GI01SUMO/R00008/instruments/dcl12/FDCHP_sn144904/D202110/fdchp_20211019_090200.dat'"
      ]
     },
     "execution_count": 24,
     "metadata": {},
     "output_type": "execute_result"
    },
    {
     "name": "stdout",
     "output_type": "stream",
     "text": [
      "Bad Length\n"
     ]
    },
    {
     "data": {
      "text/html": [
       "<html><body><pre>msgText = \n",
       "    'Output argument \"rawdata\" (and possibly others) not assigned a value in the execution with \"fdchpread_raw\" function.\n",
       "     \n",
       "     Error in fdchpread_raw_from_folder (line 57)\n",
       "                 [td,dd] = fdchpread_raw(filename);\n",
       "     \n",
       "     Error in LiveEditorEvaluationHelperEeditorId (line 5)\n",
       "     [uw, U, sigH] =  fdchpread_raw_from_folder(data_directory)\n",
       "     \n",
       "     Error in jupyter.execute (line 51)\n",
       "     resp = jsondecode(matlab.internal.editor.evaluateSynchronousRequest(request));\n",
       "     \n",
       "     Error in processJupyterKernelRequest (line 54)\n",
       "                 output = jupyter.execute(code, kernelId);\n",
       "     \n",
       "     Error in connector.internal.fevalMatlab\n",
       "     \n",
       "     Error in connector.internal.fevalJSON'\n",
       "</pre></body></html>"
      ],
      "text/plain": [
       "msgText = \n",
       "    'Output argument \"rawdata\" (and possibly others) not assigned a value in the execution with \"fdchpread_raw\" function.\n",
       "     \n",
       "     Error in fdchpread_raw_from_folder (line 57)\n",
       "                 [td,dd] = fdchpread_raw(filename);\n",
       "     \n",
       "     Error in LiveEditorEvaluationHelperEeditorId (line 5)\n",
       "     [uw, U, sigH] =  fdchpread_raw_from_folder(data_directory)\n",
       "     \n",
       "     Error in jupyter.execute (line 51)\n",
       "     resp = jsondecode(matlab.internal.editor.evaluateSynchronousRequest(request));\n",
       "     \n",
       "     Error in processJupyterKernelRequest (line 54)\n",
       "                 output = jupyter.execute(code, kernelId);\n",
       "     \n",
       "     Error in connector.internal.fevalMatlab\n",
       "     \n",
       "     Error in connector.internal.fevalJSON'\n"
      ]
     },
     "execution_count": 24,
     "metadata": {},
     "output_type": "execute_result"
    },
    {
     "name": "stdout",
     "output_type": "stream",
     "text": [
      "    \"Error reading filename: \"    \"Output argument \"rawdata\" (and possibly others) not assigned a value in the execution with \"fdchpread_raw\" function....\"\n",
      "\n"
     ]
    },
    {
     "data": {
      "text/html": [
       "<html><body><pre>filename = '/home/jovyan/ooi/uncabled/GI01SUMO/R00008/instruments/dcl12/FDCHP_sn144904/D202110/fdchp_20211027_000200.dat'</pre></body></html>"
      ],
      "text/plain": [
       "filename = '/home/jovyan/ooi/uncabled/GI01SUMO/R00008/instruments/dcl12/FDCHP_sn144904/D202110/fdchp_20211027_000200.dat'"
      ]
     },
     "execution_count": 24,
     "metadata": {},
     "output_type": "execute_result"
    },
    {
     "name": "stdout",
     "output_type": "stream",
     "text": [
      "Bad Length\n"
     ]
    },
    {
     "data": {
      "text/html": [
       "<html><body><pre>msgText = \n",
       "    'Output argument \"rawdata\" (and possibly others) not assigned a value in the execution with \"fdchpread_raw\" function.\n",
       "     \n",
       "     Error in fdchpread_raw_from_folder (line 57)\n",
       "                 [td,dd] = fdchpread_raw(filename);\n",
       "     \n",
       "     Error in LiveEditorEvaluationHelperEeditorId (line 5)\n",
       "     [uw, U, sigH] =  fdchpread_raw_from_folder(data_directory)\n",
       "     \n",
       "     Error in jupyter.execute (line 51)\n",
       "     resp = jsondecode(matlab.internal.editor.evaluateSynchronousRequest(request));\n",
       "     \n",
       "     Error in processJupyterKernelRequest (line 54)\n",
       "                 output = jupyter.execute(code, kernelId);\n",
       "     \n",
       "     Error in connector.internal.fevalMatlab\n",
       "     \n",
       "     Error in connector.internal.fevalJSON'\n",
       "</pre></body></html>"
      ],
      "text/plain": [
       "msgText = \n",
       "    'Output argument \"rawdata\" (and possibly others) not assigned a value in the execution with \"fdchpread_raw\" function.\n",
       "     \n",
       "     Error in fdchpread_raw_from_folder (line 57)\n",
       "                 [td,dd] = fdchpread_raw(filename);\n",
       "     \n",
       "     Error in LiveEditorEvaluationHelperEeditorId (line 5)\n",
       "     [uw, U, sigH] =  fdchpread_raw_from_folder(data_directory)\n",
       "     \n",
       "     Error in jupyter.execute (line 51)\n",
       "     resp = jsondecode(matlab.internal.editor.evaluateSynchronousRequest(request));\n",
       "     \n",
       "     Error in processJupyterKernelRequest (line 54)\n",
       "                 output = jupyter.execute(code, kernelId);\n",
       "     \n",
       "     Error in connector.internal.fevalMatlab\n",
       "     \n",
       "     Error in connector.internal.fevalJSON'\n"
      ]
     },
     "execution_count": 24,
     "metadata": {},
     "output_type": "execute_result"
    },
    {
     "name": "stdout",
     "output_type": "stream",
     "text": [
      "    \"Error reading filename: \"    \"Output argument \"rawdata\" (and possibly others) not assigned a value in the execution with \"fdchpread_raw\" function....\"\n",
      "\n"
     ]
    },
    {
     "data": {
      "text/html": [
       "<html><body><pre>filename = '/home/jovyan/ooi/uncabled/GI01SUMO/R00008/instruments/dcl12/FDCHP_sn144904/D202110/fdchp_20211027_020200.dat'</pre></body></html>"
      ],
      "text/plain": [
       "filename = '/home/jovyan/ooi/uncabled/GI01SUMO/R00008/instruments/dcl12/FDCHP_sn144904/D202110/fdchp_20211027_020200.dat'"
      ]
     },
     "execution_count": 24,
     "metadata": {},
     "output_type": "execute_result"
    },
    {
     "name": "stdout",
     "output_type": "stream",
     "text": [
      "Bad Length\n"
     ]
    },
    {
     "data": {
      "text/html": [
       "<html><body><pre>msgText = \n",
       "    'Output argument \"rawdata\" (and possibly others) not assigned a value in the execution with \"fdchpread_raw\" function.\n",
       "     \n",
       "     Error in fdchpread_raw_from_folder (line 57)\n",
       "                 [td,dd] = fdchpread_raw(filename);\n",
       "     \n",
       "     Error in LiveEditorEvaluationHelperEeditorId (line 5)\n",
       "     [uw, U, sigH] =  fdchpread_raw_from_folder(data_directory)\n",
       "     \n",
       "     Error in jupyter.execute (line 51)\n",
       "     resp = jsondecode(matlab.internal.editor.evaluateSynchronousRequest(request));\n",
       "     \n",
       "     Error in processJupyterKernelRequest (line 54)\n",
       "                 output = jupyter.execute(code, kernelId);\n",
       "     \n",
       "     Error in connector.internal.fevalMatlab\n",
       "     \n",
       "     Error in connector.internal.fevalJSON'\n",
       "</pre></body></html>"
      ],
      "text/plain": [
       "msgText = \n",
       "    'Output argument \"rawdata\" (and possibly others) not assigned a value in the execution with \"fdchpread_raw\" function.\n",
       "     \n",
       "     Error in fdchpread_raw_from_folder (line 57)\n",
       "                 [td,dd] = fdchpread_raw(filename);\n",
       "     \n",
       "     Error in LiveEditorEvaluationHelperEeditorId (line 5)\n",
       "     [uw, U, sigH] =  fdchpread_raw_from_folder(data_directory)\n",
       "     \n",
       "     Error in jupyter.execute (line 51)\n",
       "     resp = jsondecode(matlab.internal.editor.evaluateSynchronousRequest(request));\n",
       "     \n",
       "     Error in processJupyterKernelRequest (line 54)\n",
       "                 output = jupyter.execute(code, kernelId);\n",
       "     \n",
       "     Error in connector.internal.fevalMatlab\n",
       "     \n",
       "     Error in connector.internal.fevalJSON'\n"
      ]
     },
     "execution_count": 24,
     "metadata": {},
     "output_type": "execute_result"
    },
    {
     "name": "stdout",
     "output_type": "stream",
     "text": [
      "    \"Error reading filename: \"    \"Output argument \"rawdata\" (and possibly others) not assigned a value in the execution with \"fdchpread_raw\" function....\"\n",
      "\n"
     ]
    },
    {
     "data": {
      "text/html": [
       "<html><body><pre>filename = '/home/jovyan/ooi/uncabled/GI01SUMO/R00008/instruments/dcl12/FDCHP_sn144904/D202110/fdchp_20211027_060200.dat'</pre></body></html>"
      ],
      "text/plain": [
       "filename = '/home/jovyan/ooi/uncabled/GI01SUMO/R00008/instruments/dcl12/FDCHP_sn144904/D202110/fdchp_20211027_060200.dat'"
      ]
     },
     "execution_count": 24,
     "metadata": {},
     "output_type": "execute_result"
    },
    {
     "name": "stdout",
     "output_type": "stream",
     "text": [
      "Bad Length\n"
     ]
    },
    {
     "data": {
      "text/html": [
       "<html><body><pre>msgText = \n",
       "    'Output argument \"rawdata\" (and possibly others) not assigned a value in the execution with \"fdchpread_raw\" function.\n",
       "     \n",
       "     Error in fdchpread_raw_from_folder (line 57)\n",
       "                 [td,dd] = fdchpread_raw(filename);\n",
       "     \n",
       "     Error in LiveEditorEvaluationHelperEeditorId (line 5)\n",
       "     [uw, U, sigH] =  fdchpread_raw_from_folder(data_directory)\n",
       "     \n",
       "     Error in jupyter.execute (line 51)\n",
       "     resp = jsondecode(matlab.internal.editor.evaluateSynchronousRequest(request));\n",
       "     \n",
       "     Error in processJupyterKernelRequest (line 54)\n",
       "                 output = jupyter.execute(code, kernelId);\n",
       "     \n",
       "     Error in connector.internal.fevalMatlab\n",
       "     \n",
       "     Error in connector.internal.fevalJSON'\n",
       "</pre></body></html>"
      ],
      "text/plain": [
       "msgText = \n",
       "    'Output argument \"rawdata\" (and possibly others) not assigned a value in the execution with \"fdchpread_raw\" function.\n",
       "     \n",
       "     Error in fdchpread_raw_from_folder (line 57)\n",
       "                 [td,dd] = fdchpread_raw(filename);\n",
       "     \n",
       "     Error in LiveEditorEvaluationHelperEeditorId (line 5)\n",
       "     [uw, U, sigH] =  fdchpread_raw_from_folder(data_directory)\n",
       "     \n",
       "     Error in jupyter.execute (line 51)\n",
       "     resp = jsondecode(matlab.internal.editor.evaluateSynchronousRequest(request));\n",
       "     \n",
       "     Error in processJupyterKernelRequest (line 54)\n",
       "                 output = jupyter.execute(code, kernelId);\n",
       "     \n",
       "     Error in connector.internal.fevalMatlab\n",
       "     \n",
       "     Error in connector.internal.fevalJSON'\n"
      ]
     },
     "execution_count": 24,
     "metadata": {},
     "output_type": "execute_result"
    },
    {
     "name": "stdout",
     "output_type": "stream",
     "text": [
      "    \"Error reading filename: \"    \"Output argument \"rawdata\" (and possibly others) not assigned a value in the execution with \"fdchpread_raw\" function....\"\n",
      "\n"
     ]
    },
    {
     "data": {
      "text/html": [
       "<html><body><pre>filename = '/home/jovyan/ooi/uncabled/GI01SUMO/R00008/instruments/dcl12/FDCHP_sn144904/D202110/fdchp_20211027_100200.dat'</pre></body></html>"
      ],
      "text/plain": [
       "filename = '/home/jovyan/ooi/uncabled/GI01SUMO/R00008/instruments/dcl12/FDCHP_sn144904/D202110/fdchp_20211027_100200.dat'"
      ]
     },
     "execution_count": 24,
     "metadata": {},
     "output_type": "execute_result"
    },
    {
     "data": {
      "text/html": [
       "<html><body><pre>msgText = \n",
       "    'Index in position 2 exceeds array bounds. Index must not exceed 4096.\n",
       "     \n",
       "     Error in fdchpread_raw_from_folder (line 58)\n",
       "                 rawdata=dd(1:21,1:L);\n",
       "     \n",
       "     Error in LiveEditorEvaluationHelperEeditorId (line 5)\n",
       "     [uw, U, sigH] =  fdchpread_raw_from_folder(data_directory)\n",
       "     \n",
       "     Error in jupyter.execute (line 51)\n",
       "     resp = jsondecode(matlab.internal.editor.evaluateSynchronousRequest(request));\n",
       "     \n",
       "     Error in processJupyterKernelRequest (line 54)\n",
       "                 output = jupyter.execute(code, kernelId);\n",
       "     \n",
       "     Error in connector.internal.fevalMatlab\n",
       "     \n",
       "     Error in connector.internal.fevalJSON'\n",
       "</pre></body></html>"
      ],
      "text/plain": [
       "msgText = \n",
       "    'Index in position 2 exceeds array bounds. Index must not exceed 4096.\n",
       "     \n",
       "     Error in fdchpread_raw_from_folder (line 58)\n",
       "                 rawdata=dd(1:21,1:L);\n",
       "     \n",
       "     Error in LiveEditorEvaluationHelperEeditorId (line 5)\n",
       "     [uw, U, sigH] =  fdchpread_raw_from_folder(data_directory)\n",
       "     \n",
       "     Error in jupyter.execute (line 51)\n",
       "     resp = jsondecode(matlab.internal.editor.evaluateSynchronousRequest(request));\n",
       "     \n",
       "     Error in processJupyterKernelRequest (line 54)\n",
       "                 output = jupyter.execute(code, kernelId);\n",
       "     \n",
       "     Error in connector.internal.fevalMatlab\n",
       "     \n",
       "     Error in connector.internal.fevalJSON'\n"
      ]
     },
     "execution_count": 24,
     "metadata": {},
     "output_type": "execute_result"
    },
    {
     "name": "stdout",
     "output_type": "stream",
     "text": [
      "    \"Error reading filename: \"    \"Index in position 2 exceeds array bounds. Index must not exceed 4096....\"\n",
      "\n"
     ]
    },
    {
     "data": {
      "image/png": "[encoded data removed]"
     },
     "execution_count": 24,
     "metadata": {},
     "output_type": "execute_result"
    },
    {
     "data": {
      "image/png": "[encoded data removed]"
     },
     "execution_count": 24,
     "metadata": {},
     "output_type": "execute_result"
    },
    {
     "data": {
      "text/html": [
       "<html><body><pre>uw = 1x384 double\n",
       "    0.1007    0.1086    0.1490    0.0774    0.0425    0.0421    0.0339    0.0228    0.0096    0.0204    0.0227    0.0078    0.0080    0.0067    0.0080    0.0115    0.0042    0.0316    0.0108    0.0096    0.0218    0.0246    0.0209    0.0104    0.0550    0.0193    0.0326    0.0349    0.0540    0.0529\n",
       "...</pre></body></html>"
      ],
      "text/plain": [
       "uw = 1x384 double\n",
       "    0.1007    0.1086    0.1490    0.0774    0.0425    0.0421    0.0339    0.0228    0.0096    0.0204    0.0227    0.0078    0.0080    0.0067    0.0080    0.0115    0.0042    0.0316    0.0108    0.0096    0.0218    0.0246    0.0209    0.0104    0.0550    0.0193    0.0326    0.0349    0.0540    0.0529\n",
       "..."
      ]
     },
     "execution_count": 24,
     "metadata": {},
     "output_type": "execute_result"
    },
    {
     "data": {
      "text/html": [
       "<html><body><pre>U = 1x384 double\n",
       "    9.1822    9.0759    9.9163    8.3123    6.9017    6.4935    5.7304    5.0086    4.5243    4.1766    4.5029    3.5181    3.5393    3.8041    3.7902    3.5740    3.9188    4.7876    3.8016    4.4266    5.2956    5.1903    5.3626    4.0257    5.5741    5.5877    6.5862    6.5450    7.1720    7.2488\n",
       "...</pre></body></html>"
      ],
      "text/plain": [
       "U = 1x384 double\n",
       "    9.1822    9.0759    9.9163    8.3123    6.9017    6.4935    5.7304    5.0086    4.5243    4.1766    4.5029    3.5181    3.5393    3.8041    3.7902    3.5740    3.9188    4.7876    3.8016    4.4266    5.2956    5.1903    5.3626    4.0257    5.5741    5.5877    6.5862    6.5450    7.1720    7.2488\n",
       "..."
      ]
     },
     "execution_count": 24,
     "metadata": {},
     "output_type": "execute_result"
    },
    {
     "data": {
      "text/html": [
       "<html><body><pre>sigH = 1x384 double\n",
       "    3.3057    3.0944    2.9316    2.5815    2.8059    2.7257    2.7636    2.5721    2.5456    2.3386    2.0693    2.2327    2.1140    1.9427    1.9537    1.7773    1.8031    1.7464    1.8506    1.7102    1.8571    1.8387    2.1172    2.0199    2.0787    2.1151    2.3090    2.7255    2.5970    2.7038\n",
       "...</pre></body></html>"
      ],
      "text/plain": [
       "sigH = 1x384 double\n",
       "    3.3057    3.0944    2.9316    2.5815    2.8059    2.7257    2.7636    2.5721    2.5456    2.3386    2.0693    2.2327    2.1140    1.9427    1.9537    1.7773    1.8031    1.7464    1.8506    1.7102    1.8571    1.8387    2.1172    2.0199    2.0787    2.1151    2.3090    2.7255    2.5970    2.7038\n",
       "..."
      ]
     },
     "execution_count": 24,
     "metadata": {},
     "output_type": "execute_result"
    }
   ],
   "source": [
    "data_directory = '/home/jovyan/ooi/uncabled/GI01SUMO/R00008/instruments/dcl12/FDCHP_sn144904/D202110'\n",
    "\n",
    "files = get_raw_data_file_list(GI01SUMO, node, sensor, method, stream, tag)\n",
    "\n",
    "addpath(\"~/FDCHPTest/ooi_data_explorations/matlab/examples/fdchp\")\n",
    "\n",
    "[uw, U, sigH] =  fdchpread_raw_from_folder(data_directory)"
   ]
  },
  {
   "cell_type": "code",
   "execution_count": 1,
   "id": "6435ef7a-b1b8-4e93-9825-8bd7fac241f8",
   "metadata": {},
   "outputs": [
    {
     "name": "stderr",
     "output_type": "stream",
     "text": [
      "Error connecting to MATLAB. Check the status of MATLAB by clicking the \"Open MATLAB\" button. Retry after ensuring MATLAB is running successfully"
     ]
    }
   ],
   "source": [
    "A=[8.23\n",
    "98.36\n",
    "78.255\n",
    "100.56]\n",
    "B=sprintf('%06.2f\\n',A)"
   ]
  },
  {
   "cell_type": "code",
   "execution_count": 22,
   "id": "b63bb753-e70f-471d-be09-706fb17e20ea",
   "metadata": {
    "tags": []
   },
   "outputs": [
    {
     "data": {
      "text/html": [
       "<html><body><pre>ans = 28</pre></body></html>"
      ],
      "text/plain": [
       "ans = 28"
      ]
     },
     "execution_count": 22,
     "metadata": {},
     "output_type": "execute_result"
    }
   ],
   "source": [
    "sum(~isnan(U))"
   ]
  }
 ],
 "metadata": {
  "kernelspec": {
   "display_name": "MATLAB Kernel",
   "language": "matlab",
   "name": "jupyter_matlab_kernel"
  },
  "language_info": {
   "file_extension": ".m",
   "mimetype": "text/x-matlab",
   "name": "matlab"
  }
 },
 "nbformat": 4,
 "nbformat_minor": 5
}
