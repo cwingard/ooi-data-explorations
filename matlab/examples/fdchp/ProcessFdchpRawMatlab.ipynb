{
 "cells": [
  {
   "cell_type": "markdown",
   "id": "0ca8d4cc-f39e-4a5e-8708-7a55aabd7071",
   "metadata": {},
   "source": [
    "# FDCHP Data Processing\n",
    "\n",
    "This Notebook demonstrates how to process FDCHP data using the tools in this directory.\n",
    "\n",
    "Select a data directory from the raw data directories below to process all data files from that directory."
   ]
  },
  {
   "cell_type": "code",
   "execution_count": 9,
   "id": "359df5fd-be6e-40a4-ae42-33cb2e2859af",
   "metadata": {
    "scrolled": true
   },
   "outputs": [
    {
     "data": {
      "text/html": [
       "<html><body><pre>data_directory = '/home/jovyan/ooi/uncabled/GI01SUMO/R00008/instruments/dcl12/FDCHP*/*.nc'</pre></body></html>"
      ],
      "text/plain": [
       "data_directory = '/home/jovyan/ooi/uncabled/GI01SUMO/R00008/instruments/dcl12/FDCHP*/*.nc'"
      ]
     },
     "execution_count": 9,
     "metadata": {},
     "output_type": "execute_result"
    },
    {
     "name": "stdout",
     "output_type": "stream",
     "text": [
      "Looking for data files in  /home/jovyan/ooi/uncabled//GI01SUMO/R00008/instruments/dcl12/FDCHP*/*/*.dat\n",
      "Found 3514 files from the local raw data directory ...\n"
     ]
    },
    {
     "data": {
      "text/html": [
       "<html><body><pre>file_list = 300x1 struct array with fields:\n",
       "    name\n",
       "    folder\n",
       "    date\n",
       "    bytes\n",
       "    isdir\n",
       "    datenum\n",
       "</pre></body></html>"
      ],
      "text/plain": [
       "file_list = 300x1 struct array with fields:\n",
       "    name\n",
       "    folder\n",
       "    date\n",
       "    bytes\n",
       "    isdir\n",
       "    datenum\n"
      ]
     },
     "execution_count": 9,
     "metadata": {},
     "output_type": "execute_result"
    },
    {
     "name": "stdout",
     "output_type": "stream",
     "text": [
      "Processing 300 files"
     ]
    }
   ],
   "source": [
    "addpath(\"~/ooi-data-explorations/matlab/examples/fdchp\")\n",
    "\n",
    "data_directory = '/home/jovyan/ooi/uncabled/GI01SUMO/R00008/instruments/dcl12/FDCHP*/*.nc'\n",
    "files_list = get_fdchp_raw_files_for_deployment(\"GI01SUMO\", 8);\n",
    "% Subselect the last 300 files\n",
    "file_list = files_list(end-300+1:end)\n",
    "num_files = numel(file_list);\n",
    "fprintf('Processing %d files', num_files) "
   ]
  },
  {
   "cell_type": "code",
   "execution_count": 10,
   "id": "6a55e18f-22aa-4c34-9759-78747ec82e63",
   "metadata": {},
   "outputs": [
    {
     "name": "stdout",
     "output_type": "stream",
     "text": [
      "    \"Processing \"    \"300\"    \" files.\"\n",
      "\n",
      "Processing file: 1 \n"
     ]
    },
    {
     "data": {
      "text/html": [
       "<html><body><pre>filename = '/home/jovyan/ooi/uncabled/GI01SUMO/R00008/instruments/dcl12/FDCHP_sn144904/D202110/fdchp_20211005_180200.dat'</pre></body></html>"
      ],
      "text/plain": [
       "filename = '/home/jovyan/ooi/uncabled/GI01SUMO/R00008/instruments/dcl12/FDCHP_sn144904/D202110/fdchp_20211005_180200.dat'"
      ]
     },
     "execution_count": 10,
     "metadata": {},
     "output_type": "execute_result"
    },
    {
     "name": "stdout",
     "output_type": "stream",
     "text": [
      "Processing file: 2 \n"
     ]
    },
    {
     "data": {
      "text/html": [
       "<html><body><pre>filename = '/home/jovyan/ooi/uncabled/GI01SUMO/R00008/instruments/dcl12/FDCHP_sn144904/D202110/fdchp_20211005_190200.dat'</pre></body></html>"
      ],
      "text/plain": [
       "filename = '/home/jovyan/ooi/uncabled/GI01SUMO/R00008/instruments/dcl12/FDCHP_sn144904/D202110/fdchp_20211005_190200.dat'"
      ]
     },
     "execution_count": 10,
     "metadata": {},
     "output_type": "execute_result"
    },
    {
     "name": "stdout",
     "output_type": "stream",
     "text": [
      "Processing file: 3 \n"
     ]
    },
    {
     "data": {
      "text/html": [
       "<html><body><pre>filename = '/home/jovyan/ooi/uncabled/GI01SUMO/R00008/instruments/dcl12/FDCHP_sn144904/D202110/fdchp_20211005_200200.dat'</pre></body></html>"
      ],
      "text/plain": [
       "filename = '/home/jovyan/ooi/uncabled/GI01SUMO/R00008/instruments/dcl12/FDCHP_sn144904/D202110/fdchp_20211005_200200.dat'"
      ]
     },
     "execution_count": 10,
     "metadata": {},
     "output_type": "execute_result"
    },
    {
     "name": "stdout",
     "output_type": "stream",
     "text": [
      "Processing file: 4 \n"
     ]
    },
    {
     "data": {
      "text/html": [
       "<html><body><pre>filename = '/home/jovyan/ooi/uncabled/GI01SUMO/R00008/instruments/dcl12/FDCHP_sn144904/D202110/fdchp_20211005_210200.dat'</pre></body></html>"
      ],
      "text/plain": [
       "filename = '/home/jovyan/ooi/uncabled/GI01SUMO/R00008/instruments/dcl12/FDCHP_sn144904/D202110/fdchp_20211005_210200.dat'"
      ]
     },
     "execution_count": 10,
     "metadata": {},
     "output_type": "execute_result"
    },
    {
     "name": "stdout",
     "output_type": "stream",
     "text": [
      "Processing file: 5 \n"
     ]
    },
    {
     "data": {
      "text/html": [
       "<html><body><pre>filename = '/home/jovyan/ooi/uncabled/GI01SUMO/R00008/instruments/dcl12/FDCHP_sn144904/D202110/fdchp_20211005_220200.dat'</pre></body></html>"
      ],
      "text/plain": [
       "filename = '/home/jovyan/ooi/uncabled/GI01SUMO/R00008/instruments/dcl12/FDCHP_sn144904/D202110/fdchp_20211005_220200.dat'"
      ]
     },
     "execution_count": 10,
     "metadata": {},
     "output_type": "execute_result"
    },
    {
     "name": "stdout",
     "output_type": "stream",
     "text": [
      "Processing file: 6 \n"
     ]
    },
    {
     "data": {
      "text/html": [
       "<html><body><pre>filename = '/home/jovyan/ooi/uncabled/GI01SUMO/R00008/instruments/dcl12/FDCHP_sn144904/D202110/fdchp_20211005_230200.dat'</pre></body></html>"
      ],
      "text/plain": [
       "filename = '/home/jovyan/ooi/uncabled/GI01SUMO/R00008/instruments/dcl12/FDCHP_sn144904/D202110/fdchp_20211005_230200.dat'"
      ]
     },
     "execution_count": 10,
     "metadata": {},
     "output_type": "execute_result"
    },
    {
     "name": "stdout",
     "output_type": "stream",
     "text": [
      "Processing file: 7 \n"
     ]
    },
    {
     "data": {
      "text/html": [
       "<html><body><pre>filename = '/home/jovyan/ooi/uncabled/GI01SUMO/R00008/instruments/dcl12/FDCHP_sn144904/D202110/fdchp_20211006_000200.dat'</pre></body></html>"
      ],
      "text/plain": [
       "filename = '/home/jovyan/ooi/uncabled/GI01SUMO/R00008/instruments/dcl12/FDCHP_sn144904/D202110/fdchp_20211006_000200.dat'"
      ]
     },
     "execution_count": 10,
     "metadata": {},
     "output_type": "execute_result"
    },
    {
     "name": "stdout",
     "output_type": "stream",
     "text": [
      "Processing file: 8 \n"
     ]
    },
    {
     "data": {
      "text/html": [
       "<html><body><pre>filename = '/home/jovyan/ooi/uncabled/GI01SUMO/R00008/instruments/dcl12/FDCHP_sn144904/D202110/fdchp_20211006_010200.dat'</pre></body></html>"
      ],
      "text/plain": [
       "filename = '/home/jovyan/ooi/uncabled/GI01SUMO/R00008/instruments/dcl12/FDCHP_sn144904/D202110/fdchp_20211006_010200.dat'"
      ]
     },
     "execution_count": 10,
     "metadata": {},
     "output_type": "execute_result"
    },
    {
     "name": "stdout",
     "output_type": "stream",
     "text": [
      "Processing file: 9 \n"
     ]
    },
    {
     "data": {
      "text/html": [
       "<html><body><pre>filename = '/home/jovyan/ooi/uncabled/GI01SUMO/R00008/instruments/dcl12/FDCHP_sn144904/D202110/fdchp_20211006_020200.dat'</pre></body></html>"
      ],
      "text/plain": [
       "filename = '/home/jovyan/ooi/uncabled/GI01SUMO/R00008/instruments/dcl12/FDCHP_sn144904/D202110/fdchp_20211006_020200.dat'"
      ]
     },
     "execution_count": 10,
     "metadata": {},
     "output_type": "execute_result"
    },
    {
     "name": "stdout",
     "output_type": "stream",
     "text": [
      "Processing file: 10 \n"
     ]
    },
    {
     "data": {
      "text/html": [
       "<html><body><pre>filename = '/home/jovyan/ooi/uncabled/GI01SUMO/R00008/instruments/dcl12/FDCHP_sn144904/D202110/fdchp_20211006_030200.dat'</pre></body></html>"
      ],
      "text/plain": [
       "filename = '/home/jovyan/ooi/uncabled/GI01SUMO/R00008/instruments/dcl12/FDCHP_sn144904/D202110/fdchp_20211006_030200.dat'"
      ]
     },
     "execution_count": 10,
     "metadata": {},
     "output_type": "execute_result"
    },
    {
     "name": "stdout",
     "output_type": "stream",
     "text": [
      "Processing file: 11 \n"
     ]
    },
    {
     "data": {
      "text/html": [
       "<html><body><pre>filename = '/home/jovyan/ooi/uncabled/GI01SUMO/R00008/instruments/dcl12/FDCHP_sn144904/D202110/fdchp_20211006_040200.dat'</pre></body></html>"
      ],
      "text/plain": [
       "filename = '/home/jovyan/ooi/uncabled/GI01SUMO/R00008/instruments/dcl12/FDCHP_sn144904/D202110/fdchp_20211006_040200.dat'"
      ]
     },
     "execution_count": 10,
     "metadata": {},
     "output_type": "execute_result"
    },
    {
     "name": "stdout",
     "output_type": "stream",
     "text": [
      "Processing file: 12 \n"
     ]
    },
    {
     "data": {
      "text/html": [
       "<html><body><pre>filename = '/home/jovyan/ooi/uncabled/GI01SUMO/R00008/instruments/dcl12/FDCHP_sn144904/D202110/fdchp_20211006_050200.dat'</pre></body></html>"
      ],
      "text/plain": [
       "filename = '/home/jovyan/ooi/uncabled/GI01SUMO/R00008/instruments/dcl12/FDCHP_sn144904/D202110/fdchp_20211006_050200.dat'"
      ]
     },
     "execution_count": 10,
     "metadata": {},
     "output_type": "execute_result"
    },
    {
     "name": "stdout",
     "output_type": "stream",
     "text": [
      "Processing file: 13 \n"
     ]
    },
    {
     "data": {
      "text/html": [
       "<html><body><pre>filename = '/home/jovyan/ooi/uncabled/GI01SUMO/R00008/instruments/dcl12/FDCHP_sn144904/D202110/fdchp_20211006_060200.dat'</pre></body></html>"
      ],
      "text/plain": [
       "filename = '/home/jovyan/ooi/uncabled/GI01SUMO/R00008/instruments/dcl12/FDCHP_sn144904/D202110/fdchp_20211006_060200.dat'"
      ]
     },
     "execution_count": 10,
     "metadata": {},
     "output_type": "execute_result"
    },
    {
     "name": "stdout",
     "output_type": "stream",
     "text": [
      "Processing file: 14 \n"
     ]
    },
    {
     "data": {
      "text/html": [
       "<html><body><pre>filename = '/home/jovyan/ooi/uncabled/GI01SUMO/R00008/instruments/dcl12/FDCHP_sn144904/D202110/fdchp_20211006_070200.dat'</pre></body></html>"
      ],
      "text/plain": [
       "filename = '/home/jovyan/ooi/uncabled/GI01SUMO/R00008/instruments/dcl12/FDCHP_sn144904/D202110/fdchp_20211006_070200.dat'"
      ]
     },
     "execution_count": 10,
     "metadata": {},
     "output_type": "execute_result"
    },
    {
     "name": "stdout",
     "output_type": "stream",
     "text": [
      "Processing file: 15 \n"
     ]
    },
    {
     "data": {
      "text/html": [
       "<html><body><pre>filename = '/home/jovyan/ooi/uncabled/GI01SUMO/R00008/instruments/dcl12/FDCHP_sn144904/D202110/fdchp_20211006_080200.dat'</pre></body></html>"
      ],
      "text/plain": [
       "filename = '/home/jovyan/ooi/uncabled/GI01SUMO/R00008/instruments/dcl12/FDCHP_sn144904/D202110/fdchp_20211006_080200.dat'"
      ]
     },
     "execution_count": 10,
     "metadata": {},
     "output_type": "execute_result"
    },
    {
     "name": "stdout",
     "output_type": "stream",
     "text": [
      "Processing file: 16 \n"
     ]
    },
    {
     "data": {
      "text/html": [
       "<html><body><pre>filename = '/home/jovyan/ooi/uncabled/GI01SUMO/R00008/instruments/dcl12/FDCHP_sn144904/D202110/fdchp_20211006_090200.dat'</pre></body></html>"
      ],
      "text/plain": [
       "filename = '/home/jovyan/ooi/uncabled/GI01SUMO/R00008/instruments/dcl12/FDCHP_sn144904/D202110/fdchp_20211006_090200.dat'"
      ]
     },
     "execution_count": 10,
     "metadata": {},
     "output_type": "execute_result"
    },
    {
     "name": "stdout",
     "output_type": "stream",
     "text": [
      "Processing file: 17 \n"
     ]
    },
    {
     "data": {
      "text/html": [
       "<html><body><pre>filename = '/home/jovyan/ooi/uncabled/GI01SUMO/R00008/instruments/dcl12/FDCHP_sn144904/D202110/fdchp_20211006_100200.dat'</pre></body></html>"
      ],
      "text/plain": [
       "filename = '/home/jovyan/ooi/uncabled/GI01SUMO/R00008/instruments/dcl12/FDCHP_sn144904/D202110/fdchp_20211006_100200.dat'"
      ]
     },
     "execution_count": 10,
     "metadata": {},
     "output_type": "execute_result"
    },
    {
     "name": "stdout",
     "output_type": "stream",
     "text": [
      "Processing file: 18 \n"
     ]
    },
    {
     "data": {
      "text/html": [
       "<html><body><pre>filename = '/home/jovyan/ooi/uncabled/GI01SUMO/R00008/instruments/dcl12/FDCHP_sn144904/D202110/fdchp_20211006_110200.dat'</pre></body></html>"
      ],
      "text/plain": [
       "filename = '/home/jovyan/ooi/uncabled/GI01SUMO/R00008/instruments/dcl12/FDCHP_sn144904/D202110/fdchp_20211006_110200.dat'"
      ]
     },
     "execution_count": 10,
     "metadata": {},
     "output_type": "execute_result"
    },
    {
     "name": "stdout",
     "output_type": "stream",
     "text": [
      "Processing file: 19 \n"
     ]
    },
    {
     "data": {
      "text/html": [
       "<html><body><pre>filename = '/home/jovyan/ooi/uncabled/GI01SUMO/R00008/instruments/dcl12/FDCHP_sn144904/D202110/fdchp_20211006_120200.dat'</pre></body></html>"
      ],
      "text/plain": [
       "filename = '/home/jovyan/ooi/uncabled/GI01SUMO/R00008/instruments/dcl12/FDCHP_sn144904/D202110/fdchp_20211006_120200.dat'"
      ]
     },
     "execution_count": 10,
     "metadata": {},
     "output_type": "execute_result"
    },
    {
     "name": "stdout",
     "output_type": "stream",
     "text": [
      "Processing file: 20 \n"
     ]
    },
    {
     "data": {
      "text/html": [
       "<html><body><pre>filename = '/home/jovyan/ooi/uncabled/GI01SUMO/R00008/instruments/dcl12/FDCHP_sn144904/D202110/fdchp_20211006_130200.dat'</pre></body></html>"
      ],
      "text/plain": [
       "filename = '/home/jovyan/ooi/uncabled/GI01SUMO/R00008/instruments/dcl12/FDCHP_sn144904/D202110/fdchp_20211006_130200.dat'"
      ]
     },
     "execution_count": 10,
     "metadata": {},
     "output_type": "execute_result"
    },
    {
     "name": "stdout",
     "output_type": "stream",
     "text": [
      "Processing file: 21 \n"
     ]
    },
    {
     "data": {
      "text/html": [
       "<html><body><pre>filename = '/home/jovyan/ooi/uncabled/GI01SUMO/R00008/instruments/dcl12/FDCHP_sn144904/D202110/fdchp_20211006_140200.dat'</pre></body></html>"
      ],
      "text/plain": [
       "filename = '/home/jovyan/ooi/uncabled/GI01SUMO/R00008/instruments/dcl12/FDCHP_sn144904/D202110/fdchp_20211006_140200.dat'"
      ]
     },
     "execution_count": 10,
     "metadata": {},
     "output_type": "execute_result"
    },
    {
     "name": "stdout",
     "output_type": "stream",
     "text": [
      "Processing file: 22 \n"
     ]
    },
    {
     "data": {
      "text/html": [
       "<html><body><pre>filename = '/home/jovyan/ooi/uncabled/GI01SUMO/R00008/instruments/dcl12/FDCHP_sn144904/D202110/fdchp_20211006_150200.dat'</pre></body></html>"
      ],
      "text/plain": [
       "filename = '/home/jovyan/ooi/uncabled/GI01SUMO/R00008/instruments/dcl12/FDCHP_sn144904/D202110/fdchp_20211006_150200.dat'"
      ]
     },
     "execution_count": 10,
     "metadata": {},
     "output_type": "execute_result"
    },
    {
     "name": "stdout",
     "output_type": "stream",
     "text": [
      "Processing file: 23 \n"
     ]
    },
    {
     "data": {
      "text/html": [
       "<html><body><pre>filename = '/home/jovyan/ooi/uncabled/GI01SUMO/R00008/instruments/dcl12/FDCHP_sn144904/D202110/fdchp_20211006_160200.dat'</pre></body></html>"
      ],
      "text/plain": [
       "filename = '/home/jovyan/ooi/uncabled/GI01SUMO/R00008/instruments/dcl12/FDCHP_sn144904/D202110/fdchp_20211006_160200.dat'"
      ]
     },
     "execution_count": 10,
     "metadata": {},
     "output_type": "execute_result"
    },
    {
     "name": "stdout",
     "output_type": "stream",
     "text": [
      "Processing file: 24 \n"
     ]
    },
    {
     "data": {
      "text/html": [
       "<html><body><pre>filename = '/home/jovyan/ooi/uncabled/GI01SUMO/R00008/instruments/dcl12/FDCHP_sn144904/D202110/fdchp_20211006_170200.dat'</pre></body></html>"
      ],
      "text/plain": [
       "filename = '/home/jovyan/ooi/uncabled/GI01SUMO/R00008/instruments/dcl12/FDCHP_sn144904/D202110/fdchp_20211006_170200.dat'"
      ]
     },
     "execution_count": 10,
     "metadata": {},
     "output_type": "execute_result"
    },
    {
     "name": "stdout",
     "output_type": "stream",
     "text": [
      "Processing file: 25 \n"
     ]
    },
    {
     "data": {
      "text/html": [
       "<html><body><pre>filename = '/home/jovyan/ooi/uncabled/GI01SUMO/R00008/instruments/dcl12/FDCHP_sn144904/D202110/fdchp_20211006_180200.dat'</pre></body></html>"
      ],
      "text/plain": [
       "filename = '/home/jovyan/ooi/uncabled/GI01SUMO/R00008/instruments/dcl12/FDCHP_sn144904/D202110/fdchp_20211006_180200.dat'"
      ]
     },
     "execution_count": 10,
     "metadata": {},
     "output_type": "execute_result"
    },
    {
     "name": "stdout",
     "output_type": "stream",
     "text": [
      "Processing file: 26 \n"
     ]
    },
    {
     "data": {
      "text/html": [
       "<html><body><pre>filename = '/home/jovyan/ooi/uncabled/GI01SUMO/R00008/instruments/dcl12/FDCHP_sn144904/D202110/fdchp_20211006_190200.dat'</pre></body></html>"
      ],
      "text/plain": [
       "filename = '/home/jovyan/ooi/uncabled/GI01SUMO/R00008/instruments/dcl12/FDCHP_sn144904/D202110/fdchp_20211006_190200.dat'"
      ]
     },
     "execution_count": 10,
     "metadata": {},
     "output_type": "execute_result"
    },
    {
     "name": "stdout",
     "output_type": "stream",
     "text": [
      "Processing file: 27 \n"
     ]
    },
    {
     "data": {
      "text/html": [
       "<html><body><pre>filename = '/home/jovyan/ooi/uncabled/GI01SUMO/R00008/instruments/dcl12/FDCHP_sn144904/D202110/fdchp_20211006_200200.dat'</pre></body></html>"
      ],
      "text/plain": [
       "filename = '/home/jovyan/ooi/uncabled/GI01SUMO/R00008/instruments/dcl12/FDCHP_sn144904/D202110/fdchp_20211006_200200.dat'"
      ]
     },
     "execution_count": 10,
     "metadata": {},
     "output_type": "execute_result"
    },
    {
     "name": "stdout",
     "output_type": "stream",
     "text": [
      "Processing file: 28 \n"
     ]
    },
    {
     "data": {
      "text/html": [
       "<html><body><pre>filename = '/home/jovyan/ooi/uncabled/GI01SUMO/R00008/instruments/dcl12/FDCHP_sn144904/D202110/fdchp_20211006_210200.dat'</pre></body></html>"
      ],
      "text/plain": [
       "filename = '/home/jovyan/ooi/uncabled/GI01SUMO/R00008/instruments/dcl12/FDCHP_sn144904/D202110/fdchp_20211006_210200.dat'"
      ]
     },
     "execution_count": 10,
     "metadata": {},
     "output_type": "execute_result"
    },
    {
     "name": "stdout",
     "output_type": "stream",
     "text": [
      "Processing file: 29 \n"
     ]
    },
    {
     "data": {
      "text/html": [
       "<html><body><pre>filename = '/home/jovyan/ooi/uncabled/GI01SUMO/R00008/instruments/dcl12/FDCHP_sn144904/D202110/fdchp_20211006_220200.dat'</pre></body></html>"
      ],
      "text/plain": [
       "filename = '/home/jovyan/ooi/uncabled/GI01SUMO/R00008/instruments/dcl12/FDCHP_sn144904/D202110/fdchp_20211006_220200.dat'"
      ]
     },
     "execution_count": 10,
     "metadata": {},
     "output_type": "execute_result"
    },
    {
     "name": "stdout",
     "output_type": "stream",
     "text": [
      "Processing file: 30 \n"
     ]
    },
    {
     "data": {
      "text/html": [
       "<html><body><pre>filename = '/home/jovyan/ooi/uncabled/GI01SUMO/R00008/instruments/dcl12/FDCHP_sn144904/D202110/fdchp_20211006_230200.dat'</pre></body></html>"
      ],
      "text/plain": [
       "filename = '/home/jovyan/ooi/uncabled/GI01SUMO/R00008/instruments/dcl12/FDCHP_sn144904/D202110/fdchp_20211006_230200.dat'"
      ]
     },
     "execution_count": 10,
     "metadata": {},
     "output_type": "execute_result"
    },
    {
     "name": "stdout",
     "output_type": "stream",
     "text": [
      "Processing file: 31 \n"
     ]
    },
    {
     "data": {
      "text/html": [
       "<html><body><pre>filename = '/home/jovyan/ooi/uncabled/GI01SUMO/R00008/instruments/dcl12/FDCHP_sn144904/D202110/fdchp_20211007_000200.dat'</pre></body></html>"
      ],
      "text/plain": [
       "filename = '/home/jovyan/ooi/uncabled/GI01SUMO/R00008/instruments/dcl12/FDCHP_sn144904/D202110/fdchp_20211007_000200.dat'"
      ]
     },
     "execution_count": 10,
     "metadata": {},
     "output_type": "execute_result"
    },
    {
     "name": "stdout",
     "output_type": "stream",
     "text": [
      "Processing file: 32 \n"
     ]
    },
    {
     "data": {
      "text/html": [
       "<html><body><pre>filename = '/home/jovyan/ooi/uncabled/GI01SUMO/R00008/instruments/dcl12/FDCHP_sn144904/D202110/fdchp_20211007_010200.dat'</pre></body></html>"
      ],
      "text/plain": [
       "filename = '/home/jovyan/ooi/uncabled/GI01SUMO/R00008/instruments/dcl12/FDCHP_sn144904/D202110/fdchp_20211007_010200.dat'"
      ]
     },
     "execution_count": 10,
     "metadata": {},
     "output_type": "execute_result"
    },
    {
     "name": "stdout",
     "output_type": "stream",
     "text": [
      "Processing file: 33 \n"
     ]
    },
    {
     "data": {
      "text/html": [
       "<html><body><pre>filename = '/home/jovyan/ooi/uncabled/GI01SUMO/R00008/instruments/dcl12/FDCHP_sn144904/D202110/fdchp_20211007_020200.dat'</pre></body></html>"
      ],
      "text/plain": [
       "filename = '/home/jovyan/ooi/uncabled/GI01SUMO/R00008/instruments/dcl12/FDCHP_sn144904/D202110/fdchp_20211007_020200.dat'"
      ]
     },
     "execution_count": 10,
     "metadata": {},
     "output_type": "execute_result"
    },
    {
     "name": "stdout",
     "output_type": "stream",
     "text": [
      "Processing file: 34 \n"
     ]
    },
    {
     "data": {
      "text/html": [
       "<html><body><pre>filename = '/home/jovyan/ooi/uncabled/GI01SUMO/R00008/instruments/dcl12/FDCHP_sn144904/D202110/fdchp_20211007_030200.dat'</pre></body></html>"
      ],
      "text/plain": [
       "filename = '/home/jovyan/ooi/uncabled/GI01SUMO/R00008/instruments/dcl12/FDCHP_sn144904/D202110/fdchp_20211007_030200.dat'"
      ]
     },
     "execution_count": 10,
     "metadata": {},
     "output_type": "execute_result"
    },
    {
     "name": "stdout",
     "output_type": "stream",
     "text": [
      "Processing file: 35 \n"
     ]
    },
    {
     "data": {
      "text/html": [
       "<html><body><pre>filename = '/home/jovyan/ooi/uncabled/GI01SUMO/R00008/instruments/dcl12/FDCHP_sn144904/D202110/fdchp_20211007_040200.dat'</pre></body></html>"
      ],
      "text/plain": [
       "filename = '/home/jovyan/ooi/uncabled/GI01SUMO/R00008/instruments/dcl12/FDCHP_sn144904/D202110/fdchp_20211007_040200.dat'"
      ]
     },
     "execution_count": 10,
     "metadata": {},
     "output_type": "execute_result"
    },
    {
     "name": "stdout",
     "output_type": "stream",
     "text": [
      "Processing file: 36 \n"
     ]
    },
    {
     "data": {
      "text/html": [
       "<html><body><pre>filename = '/home/jovyan/ooi/uncabled/GI01SUMO/R00008/instruments/dcl12/FDCHP_sn144904/D202110/fdchp_20211007_050200.dat'</pre></body></html>"
      ],
      "text/plain": [
       "filename = '/home/jovyan/ooi/uncabled/GI01SUMO/R00008/instruments/dcl12/FDCHP_sn144904/D202110/fdchp_20211007_050200.dat'"
      ]
     },
     "execution_count": 10,
     "metadata": {},
     "output_type": "execute_result"
    },
    {
     "name": "stdout",
     "output_type": "stream",
     "text": [
      "Processing file: 37 \n"
     ]
    },
    {
     "data": {
      "text/html": [
       "<html><body><pre>filename = '/home/jovyan/ooi/uncabled/GI01SUMO/R00008/instruments/dcl12/FDCHP_sn144904/D202110/fdchp_20211007_060200.dat'</pre></body></html>"
      ],
      "text/plain": [
       "filename = '/home/jovyan/ooi/uncabled/GI01SUMO/R00008/instruments/dcl12/FDCHP_sn144904/D202110/fdchp_20211007_060200.dat'"
      ]
     },
     "execution_count": 10,
     "metadata": {},
     "output_type": "execute_result"
    },
    {
     "name": "stdout",
     "output_type": "stream",
     "text": [
      "Processing file: 38 \n"
     ]
    },
    {
     "data": {
      "text/html": [
       "<html><body><pre>filename = '/home/jovyan/ooi/uncabled/GI01SUMO/R00008/instruments/dcl12/FDCHP_sn144904/D202110/fdchp_20211007_070200.dat'</pre></body></html>"
      ],
      "text/plain": [
       "filename = '/home/jovyan/ooi/uncabled/GI01SUMO/R00008/instruments/dcl12/FDCHP_sn144904/D202110/fdchp_20211007_070200.dat'"
      ]
     },
     "execution_count": 10,
     "metadata": {},
     "output_type": "execute_result"
    },
    {
     "name": "stdout",
     "output_type": "stream",
     "text": [
      "Processing file: 39 \n"
     ]
    },
    {
     "data": {
      "text/html": [
       "<html><body><pre>filename = '/home/jovyan/ooi/uncabled/GI01SUMO/R00008/instruments/dcl12/FDCHP_sn144904/D202110/fdchp_20211007_080200.dat'</pre></body></html>"
      ],
      "text/plain": [
       "filename = '/home/jovyan/ooi/uncabled/GI01SUMO/R00008/instruments/dcl12/FDCHP_sn144904/D202110/fdchp_20211007_080200.dat'"
      ]
     },
     "execution_count": 10,
     "metadata": {},
     "output_type": "execute_result"
    },
    {
     "name": "stdout",
     "output_type": "stream",
     "text": [
      "Processing file: 40 \n"
     ]
    },
    {
     "data": {
      "text/html": [
       "<html><body><pre>filename = '/home/jovyan/ooi/uncabled/GI01SUMO/R00008/instruments/dcl12/FDCHP_sn144904/D202110/fdchp_20211007_090200.dat'</pre></body></html>"
      ],
      "text/plain": [
       "filename = '/home/jovyan/ooi/uncabled/GI01SUMO/R00008/instruments/dcl12/FDCHP_sn144904/D202110/fdchp_20211007_090200.dat'"
      ]
     },
     "execution_count": 10,
     "metadata": {},
     "output_type": "execute_result"
    },
    {
     "name": "stdout",
     "output_type": "stream",
     "text": [
      "Processing file: 41 \n"
     ]
    },
    {
     "data": {
      "text/html": [
       "<html><body><pre>filename = '/home/jovyan/ooi/uncabled/GI01SUMO/R00008/instruments/dcl12/FDCHP_sn144904/D202110/fdchp_20211007_100200.dat'</pre></body></html>"
      ],
      "text/plain": [
       "filename = '/home/jovyan/ooi/uncabled/GI01SUMO/R00008/instruments/dcl12/FDCHP_sn144904/D202110/fdchp_20211007_100200.dat'"
      ]
     },
     "execution_count": 10,
     "metadata": {},
     "output_type": "execute_result"
    },
    {
     "name": "stdout",
     "output_type": "stream",
     "text": [
      "Processing file: 42 \n"
     ]
    },
    {
     "data": {
      "text/html": [
       "<html><body><pre>filename = '/home/jovyan/ooi/uncabled/GI01SUMO/R00008/instruments/dcl12/FDCHP_sn144904/D202110/fdchp_20211007_110200.dat'</pre></body></html>"
      ],
      "text/plain": [
       "filename = '/home/jovyan/ooi/uncabled/GI01SUMO/R00008/instruments/dcl12/FDCHP_sn144904/D202110/fdchp_20211007_110200.dat'"
      ]
     },
     "execution_count": 10,
     "metadata": {},
     "output_type": "execute_result"
    },
    {
     "name": "stdout",
     "output_type": "stream",
     "text": [
      "Processing file: 43 \n"
     ]
    },
    {
     "data": {
      "text/html": [
       "<html><body><pre>filename = '/home/jovyan/ooi/uncabled/GI01SUMO/R00008/instruments/dcl12/FDCHP_sn144904/D202110/fdchp_20211007_120200.dat'</pre></body></html>"
      ],
      "text/plain": [
       "filename = '/home/jovyan/ooi/uncabled/GI01SUMO/R00008/instruments/dcl12/FDCHP_sn144904/D202110/fdchp_20211007_120200.dat'"
      ]
     },
     "execution_count": 10,
     "metadata": {},
     "output_type": "execute_result"
    },
    {
     "name": "stdout",
     "output_type": "stream",
     "text": [
      "Processing file: 44 \n"
     ]
    },
    {
     "data": {
      "text/html": [
       "<html><body><pre>filename = '/home/jovyan/ooi/uncabled/GI01SUMO/R00008/instruments/dcl12/FDCHP_sn144904/D202110/fdchp_20211007_130200.dat'</pre></body></html>"
      ],
      "text/plain": [
       "filename = '/home/jovyan/ooi/uncabled/GI01SUMO/R00008/instruments/dcl12/FDCHP_sn144904/D202110/fdchp_20211007_130200.dat'"
      ]
     },
     "execution_count": 10,
     "metadata": {},
     "output_type": "execute_result"
    },
    {
     "name": "stdout",
     "output_type": "stream",
     "text": [
      "Processing file: 45 \n"
     ]
    },
    {
     "data": {
      "text/html": [
       "<html><body><pre>filename = '/home/jovyan/ooi/uncabled/GI01SUMO/R00008/instruments/dcl12/FDCHP_sn144904/D202110/fdchp_20211007_140200.dat'</pre></body></html>"
      ],
      "text/plain": [
       "filename = '/home/jovyan/ooi/uncabled/GI01SUMO/R00008/instruments/dcl12/FDCHP_sn144904/D202110/fdchp_20211007_140200.dat'"
      ]
     },
     "execution_count": 10,
     "metadata": {},
     "output_type": "execute_result"
    },
    {
     "name": "stdout",
     "output_type": "stream",
     "text": [
      "Processing file: 46 \n"
     ]
    },
    {
     "data": {
      "text/html": [
       "<html><body><pre>filename = '/home/jovyan/ooi/uncabled/GI01SUMO/R00008/instruments/dcl12/FDCHP_sn144904/D202110/fdchp_20211007_150200.dat'</pre></body></html>"
      ],
      "text/plain": [
       "filename = '/home/jovyan/ooi/uncabled/GI01SUMO/R00008/instruments/dcl12/FDCHP_sn144904/D202110/fdchp_20211007_150200.dat'"
      ]
     },
     "execution_count": 10,
     "metadata": {},
     "output_type": "execute_result"
    },
    {
     "name": "stdout",
     "output_type": "stream",
     "text": [
      "Processing file: 47 \n"
     ]
    },
    {
     "data": {
      "text/html": [
       "<html><body><pre>filename = '/home/jovyan/ooi/uncabled/GI01SUMO/R00008/instruments/dcl12/FDCHP_sn144904/D202110/fdchp_20211007_160200.dat'</pre></body></html>"
      ],
      "text/plain": [
       "filename = '/home/jovyan/ooi/uncabled/GI01SUMO/R00008/instruments/dcl12/FDCHP_sn144904/D202110/fdchp_20211007_160200.dat'"
      ]
     },
     "execution_count": 10,
     "metadata": {},
     "output_type": "execute_result"
    },
    {
     "name": "stdout",
     "output_type": "stream",
     "text": [
      "Processing file: 48 \n"
     ]
    },
    {
     "data": {
      "text/html": [
       "<html><body><pre>filename = '/home/jovyan/ooi/uncabled/GI01SUMO/R00008/instruments/dcl12/FDCHP_sn144904/D202110/fdchp_20211007_170200.dat'</pre></body></html>"
      ],
      "text/plain": [
       "filename = '/home/jovyan/ooi/uncabled/GI01SUMO/R00008/instruments/dcl12/FDCHP_sn144904/D202110/fdchp_20211007_170200.dat'"
      ]
     },
     "execution_count": 10,
     "metadata": {},
     "output_type": "execute_result"
    },
    {
     "name": "stdout",
     "output_type": "stream",
     "text": [
      "Processing file: 49 \n"
     ]
    },
    {
     "data": {
      "text/html": [
       "<html><body><pre>filename = '/home/jovyan/ooi/uncabled/GI01SUMO/R00008/instruments/dcl12/FDCHP_sn144904/D202110/fdchp_20211007_180200.dat'</pre></body></html>"
      ],
      "text/plain": [
       "filename = '/home/jovyan/ooi/uncabled/GI01SUMO/R00008/instruments/dcl12/FDCHP_sn144904/D202110/fdchp_20211007_180200.dat'"
      ]
     },
     "execution_count": 10,
     "metadata": {},
     "output_type": "execute_result"
    },
    {
     "name": "stdout",
     "output_type": "stream",
     "text": [
      "Processing file: 50 \n"
     ]
    },
    {
     "data": {
      "text/html": [
       "<html><body><pre>filename = '/home/jovyan/ooi/uncabled/GI01SUMO/R00008/instruments/dcl12/FDCHP_sn144904/D202110/fdchp_20211007_190200.dat'</pre></body></html>"
      ],
      "text/plain": [
       "filename = '/home/jovyan/ooi/uncabled/GI01SUMO/R00008/instruments/dcl12/FDCHP_sn144904/D202110/fdchp_20211007_190200.dat'"
      ]
     },
     "execution_count": 10,
     "metadata": {},
     "output_type": "execute_result"
    },
    {
     "name": "stdout",
     "output_type": "stream",
     "text": [
      "Processing file: 51 \n"
     ]
    },
    {
     "data": {
      "text/html": [
       "<html><body><pre>filename = '/home/jovyan/ooi/uncabled/GI01SUMO/R00008/instruments/dcl12/FDCHP_sn144904/D202110/fdchp_20211007_200200.dat'</pre></body></html>"
      ],
      "text/plain": [
       "filename = '/home/jovyan/ooi/uncabled/GI01SUMO/R00008/instruments/dcl12/FDCHP_sn144904/D202110/fdchp_20211007_200200.dat'"
      ]
     },
     "execution_count": 10,
     "metadata": {},
     "output_type": "execute_result"
    },
    {
     "name": "stdout",
     "output_type": "stream",
     "text": [
      "Processing file: 52 \n"
     ]
    },
    {
     "data": {
      "text/html": [
       "<html><body><pre>filename = '/home/jovyan/ooi/uncabled/GI01SUMO/R00008/instruments/dcl12/FDCHP_sn144904/D202110/fdchp_20211007_210200.dat'</pre></body></html>"
      ],
      "text/plain": [
       "filename = '/home/jovyan/ooi/uncabled/GI01SUMO/R00008/instruments/dcl12/FDCHP_sn144904/D202110/fdchp_20211007_210200.dat'"
      ]
     },
     "execution_count": 10,
     "metadata": {},
     "output_type": "execute_result"
    },
    {
     "name": "stdout",
     "output_type": "stream",
     "text": [
      "Processing file: 53 \n"
     ]
    },
    {
     "data": {
      "text/html": [
       "<html><body><pre>filename = '/home/jovyan/ooi/uncabled/GI01SUMO/R00008/instruments/dcl12/FDCHP_sn144904/D202110/fdchp_20211007_220200.dat'</pre></body></html>"
      ],
      "text/plain": [
       "filename = '/home/jovyan/ooi/uncabled/GI01SUMO/R00008/instruments/dcl12/FDCHP_sn144904/D202110/fdchp_20211007_220200.dat'"
      ]
     },
     "execution_count": 10,
     "metadata": {},
     "output_type": "execute_result"
    },
    {
     "name": "stdout",
     "output_type": "stream",
     "text": [
      "Processing file: 54 \n"
     ]
    },
    {
     "data": {
      "text/html": [
       "<html><body><pre>filename = '/home/jovyan/ooi/uncabled/GI01SUMO/R00008/instruments/dcl12/FDCHP_sn144904/D202110/fdchp_20211007_230200.dat'</pre></body></html>"
      ],
      "text/plain": [
       "filename = '/home/jovyan/ooi/uncabled/GI01SUMO/R00008/instruments/dcl12/FDCHP_sn144904/D202110/fdchp_20211007_230200.dat'"
      ]
     },
     "execution_count": 10,
     "metadata": {},
     "output_type": "execute_result"
    },
    {
     "name": "stdout",
     "output_type": "stream",
     "text": [
      "Processing file: 55 \n"
     ]
    },
    {
     "data": {
      "text/html": [
       "<html><body><pre>filename = '/home/jovyan/ooi/uncabled/GI01SUMO/R00008/instruments/dcl12/FDCHP_sn144904/D202110/fdchp_20211008_000200.dat'</pre></body></html>"
      ],
      "text/plain": [
       "filename = '/home/jovyan/ooi/uncabled/GI01SUMO/R00008/instruments/dcl12/FDCHP_sn144904/D202110/fdchp_20211008_000200.dat'"
      ]
     },
     "execution_count": 10,
     "metadata": {},
     "output_type": "execute_result"
    },
    {
     "name": "stdout",
     "output_type": "stream",
     "text": [
      "Processing file: 56 \n"
     ]
    },
    {
     "data": {
      "text/html": [
       "<html><body><pre>filename = '/home/jovyan/ooi/uncabled/GI01SUMO/R00008/instruments/dcl12/FDCHP_sn144904/D202110/fdchp_20211008_010200.dat'</pre></body></html>"
      ],
      "text/plain": [
       "filename = '/home/jovyan/ooi/uncabled/GI01SUMO/R00008/instruments/dcl12/FDCHP_sn144904/D202110/fdchp_20211008_010200.dat'"
      ]
     },
     "execution_count": 10,
     "metadata": {},
     "output_type": "execute_result"
    },
    {
     "name": "stdout",
     "output_type": "stream",
     "text": [
      "Processing file: 57 \n"
     ]
    },
    {
     "data": {
      "text/html": [
       "<html><body><pre>filename = '/home/jovyan/ooi/uncabled/GI01SUMO/R00008/instruments/dcl12/FDCHP_sn144904/D202110/fdchp_20211008_020200.dat'</pre></body></html>"
      ],
      "text/plain": [
       "filename = '/home/jovyan/ooi/uncabled/GI01SUMO/R00008/instruments/dcl12/FDCHP_sn144904/D202110/fdchp_20211008_020200.dat'"
      ]
     },
     "execution_count": 10,
     "metadata": {},
     "output_type": "execute_result"
    },
    {
     "name": "stdout",
     "output_type": "stream",
     "text": [
      "Processing file: 58 \n"
     ]
    },
    {
     "data": {
      "text/html": [
       "<html><body><pre>filename = '/home/jovyan/ooi/uncabled/GI01SUMO/R00008/instruments/dcl12/FDCHP_sn144904/D202110/fdchp_20211008_030200.dat'</pre></body></html>"
      ],
      "text/plain": [
       "filename = '/home/jovyan/ooi/uncabled/GI01SUMO/R00008/instruments/dcl12/FDCHP_sn144904/D202110/fdchp_20211008_030200.dat'"
      ]
     },
     "execution_count": 10,
     "metadata": {},
     "output_type": "execute_result"
    },
    {
     "name": "stdout",
     "output_type": "stream",
     "text": [
      "Processing file: 59 \n"
     ]
    },
    {
     "data": {
      "text/html": [
       "<html><body><pre>filename = '/home/jovyan/ooi/uncabled/GI01SUMO/R00008/instruments/dcl12/FDCHP_sn144904/D202110/fdchp_20211008_040200.dat'</pre></body></html>"
      ],
      "text/plain": [
       "filename = '/home/jovyan/ooi/uncabled/GI01SUMO/R00008/instruments/dcl12/FDCHP_sn144904/D202110/fdchp_20211008_040200.dat'"
      ]
     },
     "execution_count": 10,
     "metadata": {},
     "output_type": "execute_result"
    },
    {
     "name": "stdout",
     "output_type": "stream",
     "text": [
      "Processing file: 60 \n"
     ]
    },
    {
     "data": {
      "text/html": [
       "<html><body><pre>filename = '/home/jovyan/ooi/uncabled/GI01SUMO/R00008/instruments/dcl12/FDCHP_sn144904/D202110/fdchp_20211008_050200.dat'</pre></body></html>"
      ],
      "text/plain": [
       "filename = '/home/jovyan/ooi/uncabled/GI01SUMO/R00008/instruments/dcl12/FDCHP_sn144904/D202110/fdchp_20211008_050200.dat'"
      ]
     },
     "execution_count": 10,
     "metadata": {},
     "output_type": "execute_result"
    },
    {
     "name": "stdout",
     "output_type": "stream",
     "text": [
      "Processing file: 61 \n"
     ]
    },
    {
     "data": {
      "text/html": [
       "<html><body><pre>filename = '/home/jovyan/ooi/uncabled/GI01SUMO/R00008/instruments/dcl12/FDCHP_sn144904/D202110/fdchp_20211008_060200.dat'</pre></body></html>"
      ],
      "text/plain": [
       "filename = '/home/jovyan/ooi/uncabled/GI01SUMO/R00008/instruments/dcl12/FDCHP_sn144904/D202110/fdchp_20211008_060200.dat'"
      ]
     },
     "execution_count": 10,
     "metadata": {},
     "output_type": "execute_result"
    },
    {
     "name": "stdout",
     "output_type": "stream",
     "text": [
      "Processing file: 62 \n"
     ]
    },
    {
     "data": {
      "text/html": [
       "<html><body><pre>filename = '/home/jovyan/ooi/uncabled/GI01SUMO/R00008/instruments/dcl12/FDCHP_sn144904/D202110/fdchp_20211008_070200.dat'</pre></body></html>"
      ],
      "text/plain": [
       "filename = '/home/jovyan/ooi/uncabled/GI01SUMO/R00008/instruments/dcl12/FDCHP_sn144904/D202110/fdchp_20211008_070200.dat'"
      ]
     },
     "execution_count": 10,
     "metadata": {},
     "output_type": "execute_result"
    },
    {
     "name": "stdout",
     "output_type": "stream",
     "text": [
      "Processing file: 63 \n"
     ]
    },
    {
     "data": {
      "text/html": [
       "<html><body><pre>filename = '/home/jovyan/ooi/uncabled/GI01SUMO/R00008/instruments/dcl12/FDCHP_sn144904/D202110/fdchp_20211008_080200.dat'</pre></body></html>"
      ],
      "text/plain": [
       "filename = '/home/jovyan/ooi/uncabled/GI01SUMO/R00008/instruments/dcl12/FDCHP_sn144904/D202110/fdchp_20211008_080200.dat'"
      ]
     },
     "execution_count": 10,
     "metadata": {},
     "output_type": "execute_result"
    },
    {
     "name": "stdout",
     "output_type": "stream",
     "text": [
      "Processing file: 64 \n"
     ]
    },
    {
     "data": {
      "text/html": [
       "<html><body><pre>filename = '/home/jovyan/ooi/uncabled/GI01SUMO/R00008/instruments/dcl12/FDCHP_sn144904/D202110/fdchp_20211008_090200.dat'</pre></body></html>"
      ],
      "text/plain": [
       "filename = '/home/jovyan/ooi/uncabled/GI01SUMO/R00008/instruments/dcl12/FDCHP_sn144904/D202110/fdchp_20211008_090200.dat'"
      ]
     },
     "execution_count": 10,
     "metadata": {},
     "output_type": "execute_result"
    },
    {
     "name": "stdout",
     "output_type": "stream",
     "text": [
      "Processing file: 65 \n"
     ]
    },
    {
     "data": {
      "text/html": [
       "<html><body><pre>filename = '/home/jovyan/ooi/uncabled/GI01SUMO/R00008/instruments/dcl12/FDCHP_sn144904/D202110/fdchp_20211008_100200.dat'</pre></body></html>"
      ],
      "text/plain": [
       "filename = '/home/jovyan/ooi/uncabled/GI01SUMO/R00008/instruments/dcl12/FDCHP_sn144904/D202110/fdchp_20211008_100200.dat'"
      ]
     },
     "execution_count": 10,
     "metadata": {},
     "output_type": "execute_result"
    },
    {
     "name": "stdout",
     "output_type": "stream",
     "text": [
      "Processing file: 66 \n"
     ]
    },
    {
     "data": {
      "text/html": [
       "<html><body><pre>filename = '/home/jovyan/ooi/uncabled/GI01SUMO/R00008/instruments/dcl12/FDCHP_sn144904/D202110/fdchp_20211008_110200.dat'</pre></body></html>"
      ],
      "text/plain": [
       "filename = '/home/jovyan/ooi/uncabled/GI01SUMO/R00008/instruments/dcl12/FDCHP_sn144904/D202110/fdchp_20211008_110200.dat'"
      ]
     },
     "execution_count": 10,
     "metadata": {},
     "output_type": "execute_result"
    },
    {
     "name": "stdout",
     "output_type": "stream",
     "text": [
      "Processing file: 67 \n"
     ]
    },
    {
     "data": {
      "text/html": [
       "<html><body><pre>filename = '/home/jovyan/ooi/uncabled/GI01SUMO/R00008/instruments/dcl12/FDCHP_sn144904/D202110/fdchp_20211008_120200.dat'</pre></body></html>"
      ],
      "text/plain": [
       "filename = '/home/jovyan/ooi/uncabled/GI01SUMO/R00008/instruments/dcl12/FDCHP_sn144904/D202110/fdchp_20211008_120200.dat'"
      ]
     },
     "execution_count": 10,
     "metadata": {},
     "output_type": "execute_result"
    },
    {
     "name": "stdout",
     "output_type": "stream",
     "text": [
      "Processing file: 68 \n"
     ]
    },
    {
     "data": {
      "text/html": [
       "<html><body><pre>filename = '/home/jovyan/ooi/uncabled/GI01SUMO/R00008/instruments/dcl12/FDCHP_sn144904/D202110/fdchp_20211008_130200.dat'</pre></body></html>"
      ],
      "text/plain": [
       "filename = '/home/jovyan/ooi/uncabled/GI01SUMO/R00008/instruments/dcl12/FDCHP_sn144904/D202110/fdchp_20211008_130200.dat'"
      ]
     },
     "execution_count": 10,
     "metadata": {},
     "output_type": "execute_result"
    },
    {
     "name": "stdout",
     "output_type": "stream",
     "text": [
      "Processing file: 69 \n"
     ]
    },
    {
     "data": {
      "text/html": [
       "<html><body><pre>filename = '/home/jovyan/ooi/uncabled/GI01SUMO/R00008/instruments/dcl12/FDCHP_sn144904/D202110/fdchp_20211008_140200.dat'</pre></body></html>"
      ],
      "text/plain": [
       "filename = '/home/jovyan/ooi/uncabled/GI01SUMO/R00008/instruments/dcl12/FDCHP_sn144904/D202110/fdchp_20211008_140200.dat'"
      ]
     },
     "execution_count": 10,
     "metadata": {},
     "output_type": "execute_result"
    },
    {
     "name": "stdout",
     "output_type": "stream",
     "text": [
      "Processing file: 70 \n"
     ]
    },
    {
     "data": {
      "text/html": [
       "<html><body><pre>filename = '/home/jovyan/ooi/uncabled/GI01SUMO/R00008/instruments/dcl12/FDCHP_sn144904/D202110/fdchp_20211008_150200.dat'</pre></body></html>"
      ],
      "text/plain": [
       "filename = '/home/jovyan/ooi/uncabled/GI01SUMO/R00008/instruments/dcl12/FDCHP_sn144904/D202110/fdchp_20211008_150200.dat'"
      ]
     },
     "execution_count": 10,
     "metadata": {},
     "output_type": "execute_result"
    },
    {
     "name": "stdout",
     "output_type": "stream",
     "text": [
      "Processing file: 71 \n"
     ]
    },
    {
     "data": {
      "text/html": [
       "<html><body><pre>filename = '/home/jovyan/ooi/uncabled/GI01SUMO/R00008/instruments/dcl12/FDCHP_sn144904/D202110/fdchp_20211008_160200.dat'</pre></body></html>"
      ],
      "text/plain": [
       "filename = '/home/jovyan/ooi/uncabled/GI01SUMO/R00008/instruments/dcl12/FDCHP_sn144904/D202110/fdchp_20211008_160200.dat'"
      ]
     },
     "execution_count": 10,
     "metadata": {},
     "output_type": "execute_result"
    },
    {
     "name": "stdout",
     "output_type": "stream",
     "text": [
      "Processing file: 72 \n"
     ]
    },
    {
     "data": {
      "text/html": [
       "<html><body><pre>filename = '/home/jovyan/ooi/uncabled/GI01SUMO/R00008/instruments/dcl12/FDCHP_sn144904/D202110/fdchp_20211008_170200.dat'</pre></body></html>"
      ],
      "text/plain": [
       "filename = '/home/jovyan/ooi/uncabled/GI01SUMO/R00008/instruments/dcl12/FDCHP_sn144904/D202110/fdchp_20211008_170200.dat'"
      ]
     },
     "execution_count": 10,
     "metadata": {},
     "output_type": "execute_result"
    },
    {
     "name": "stdout",
     "output_type": "stream",
     "text": [
      "Processing file: 73 \n"
     ]
    },
    {
     "data": {
      "text/html": [
       "<html><body><pre>filename = '/home/jovyan/ooi/uncabled/GI01SUMO/R00008/instruments/dcl12/FDCHP_sn144904/D202110/fdchp_20211008_180200.dat'</pre></body></html>"
      ],
      "text/plain": [
       "filename = '/home/jovyan/ooi/uncabled/GI01SUMO/R00008/instruments/dcl12/FDCHP_sn144904/D202110/fdchp_20211008_180200.dat'"
      ]
     },
     "execution_count": 10,
     "metadata": {},
     "output_type": "execute_result"
    },
    {
     "name": "stdout",
     "output_type": "stream",
     "text": [
      "Processing file: 74 \n"
     ]
    },
    {
     "data": {
      "text/html": [
       "<html><body><pre>filename = '/home/jovyan/ooi/uncabled/GI01SUMO/R00008/instruments/dcl12/FDCHP_sn144904/D202110/fdchp_20211008_190200.dat'</pre></body></html>"
      ],
      "text/plain": [
       "filename = '/home/jovyan/ooi/uncabled/GI01SUMO/R00008/instruments/dcl12/FDCHP_sn144904/D202110/fdchp_20211008_190200.dat'"
      ]
     },
     "execution_count": 10,
     "metadata": {},
     "output_type": "execute_result"
    },
    {
     "name": "stdout",
     "output_type": "stream",
     "text": [
      "Processing file: 75 \n"
     ]
    },
    {
     "data": {
      "text/html": [
       "<html><body><pre>filename = '/home/jovyan/ooi/uncabled/GI01SUMO/R00008/instruments/dcl12/FDCHP_sn144904/D202110/fdchp_20211008_200200.dat'</pre></body></html>"
      ],
      "text/plain": [
       "filename = '/home/jovyan/ooi/uncabled/GI01SUMO/R00008/instruments/dcl12/FDCHP_sn144904/D202110/fdchp_20211008_200200.dat'"
      ]
     },
     "execution_count": 10,
     "metadata": {},
     "output_type": "execute_result"
    },
    {
     "name": "stdout",
     "output_type": "stream",
     "text": [
      "Processing file: 76 \n"
     ]
    },
    {
     "data": {
      "text/html": [
       "<html><body><pre>filename = '/home/jovyan/ooi/uncabled/GI01SUMO/R00008/instruments/dcl12/FDCHP_sn144904/D202110/fdchp_20211008_210200.dat'</pre></body></html>"
      ],
      "text/plain": [
       "filename = '/home/jovyan/ooi/uncabled/GI01SUMO/R00008/instruments/dcl12/FDCHP_sn144904/D202110/fdchp_20211008_210200.dat'"
      ]
     },
     "execution_count": 10,
     "metadata": {},
     "output_type": "execute_result"
    },
    {
     "name": "stdout",
     "output_type": "stream",
     "text": [
      "Processing file: 77 \n"
     ]
    },
    {
     "data": {
      "text/html": [
       "<html><body><pre>filename = '/home/jovyan/ooi/uncabled/GI01SUMO/R00008/instruments/dcl12/FDCHP_sn144904/D202110/fdchp_20211008_220200.dat'</pre></body></html>"
      ],
      "text/plain": [
       "filename = '/home/jovyan/ooi/uncabled/GI01SUMO/R00008/instruments/dcl12/FDCHP_sn144904/D202110/fdchp_20211008_220200.dat'"
      ]
     },
     "execution_count": 10,
     "metadata": {},
     "output_type": "execute_result"
    },
    {
     "name": "stdout",
     "output_type": "stream",
     "text": [
      "Processing file: 78 \n"
     ]
    },
    {
     "data": {
      "text/html": [
       "<html><body><pre>filename = '/home/jovyan/ooi/uncabled/GI01SUMO/R00008/instruments/dcl12/FDCHP_sn144904/D202110/fdchp_20211008_230200.dat'</pre></body></html>"
      ],
      "text/plain": [
       "filename = '/home/jovyan/ooi/uncabled/GI01SUMO/R00008/instruments/dcl12/FDCHP_sn144904/D202110/fdchp_20211008_230200.dat'"
      ]
     },
     "execution_count": 10,
     "metadata": {},
     "output_type": "execute_result"
    },
    {
     "name": "stdout",
     "output_type": "stream",
     "text": [
      "Processing file: 79 \n"
     ]
    },
    {
     "data": {
      "text/html": [
       "<html><body><pre>filename = '/home/jovyan/ooi/uncabled/GI01SUMO/R00008/instruments/dcl12/FDCHP_sn144904/D202110/fdchp_20211009_000200.dat'</pre></body></html>"
      ],
      "text/plain": [
       "filename = '/home/jovyan/ooi/uncabled/GI01SUMO/R00008/instruments/dcl12/FDCHP_sn144904/D202110/fdchp_20211009_000200.dat'"
      ]
     },
     "execution_count": 10,
     "metadata": {},
     "output_type": "execute_result"
    },
    {
     "name": "stdout",
     "output_type": "stream",
     "text": [
      "Processing file: 80 \n"
     ]
    },
    {
     "data": {
      "text/html": [
       "<html><body><pre>filename = '/home/jovyan/ooi/uncabled/GI01SUMO/R00008/instruments/dcl12/FDCHP_sn144904/D202110/fdchp_20211009_010200.dat'</pre></body></html>"
      ],
      "text/plain": [
       "filename = '/home/jovyan/ooi/uncabled/GI01SUMO/R00008/instruments/dcl12/FDCHP_sn144904/D202110/fdchp_20211009_010200.dat'"
      ]
     },
     "execution_count": 10,
     "metadata": {},
     "output_type": "execute_result"
    },
    {
     "name": "stdout",
     "output_type": "stream",
     "text": [
      "Processing file: 81 \n"
     ]
    },
    {
     "data": {
      "text/html": [
       "<html><body><pre>filename = '/home/jovyan/ooi/uncabled/GI01SUMO/R00008/instruments/dcl12/FDCHP_sn144904/D202110/fdchp_20211009_020200.dat'</pre></body></html>"
      ],
      "text/plain": [
       "filename = '/home/jovyan/ooi/uncabled/GI01SUMO/R00008/instruments/dcl12/FDCHP_sn144904/D202110/fdchp_20211009_020200.dat'"
      ]
     },
     "execution_count": 10,
     "metadata": {},
     "output_type": "execute_result"
    },
    {
     "name": "stdout",
     "output_type": "stream",
     "text": [
      "Processing file: 82 \n"
     ]
    },
    {
     "data": {
      "text/html": [
       "<html><body><pre>filename = '/home/jovyan/ooi/uncabled/GI01SUMO/R00008/instruments/dcl12/FDCHP_sn144904/D202110/fdchp_20211009_030200.dat'</pre></body></html>"
      ],
      "text/plain": [
       "filename = '/home/jovyan/ooi/uncabled/GI01SUMO/R00008/instruments/dcl12/FDCHP_sn144904/D202110/fdchp_20211009_030200.dat'"
      ]
     },
     "execution_count": 10,
     "metadata": {},
     "output_type": "execute_result"
    },
    {
     "name": "stdout",
     "output_type": "stream",
     "text": [
      "Processing file: 83 \n"
     ]
    },
    {
     "data": {
      "text/html": [
       "<html><body><pre>filename = '/home/jovyan/ooi/uncabled/GI01SUMO/R00008/instruments/dcl12/FDCHP_sn144904/D202110/fdchp_20211009_040200.dat'</pre></body></html>"
      ],
      "text/plain": [
       "filename = '/home/jovyan/ooi/uncabled/GI01SUMO/R00008/instruments/dcl12/FDCHP_sn144904/D202110/fdchp_20211009_040200.dat'"
      ]
     },
     "execution_count": 10,
     "metadata": {},
     "output_type": "execute_result"
    },
    {
     "name": "stdout",
     "output_type": "stream",
     "text": [
      "Processing file: 84 \n"
     ]
    },
    {
     "data": {
      "text/html": [
       "<html><body><pre>filename = '/home/jovyan/ooi/uncabled/GI01SUMO/R00008/instruments/dcl12/FDCHP_sn144904/D202110/fdchp_20211009_050200.dat'</pre></body></html>"
      ],
      "text/plain": [
       "filename = '/home/jovyan/ooi/uncabled/GI01SUMO/R00008/instruments/dcl12/FDCHP_sn144904/D202110/fdchp_20211009_050200.dat'"
      ]
     },
     "execution_count": 10,
     "metadata": {},
     "output_type": "execute_result"
    },
    {
     "name": "stdout",
     "output_type": "stream",
     "text": [
      "Processing file: 85 \n"
     ]
    },
    {
     "data": {
      "text/html": [
       "<html><body><pre>filename = '/home/jovyan/ooi/uncabled/GI01SUMO/R00008/instruments/dcl12/FDCHP_sn144904/D202110/fdchp_20211009_060200.dat'</pre></body></html>"
      ],
      "text/plain": [
       "filename = '/home/jovyan/ooi/uncabled/GI01SUMO/R00008/instruments/dcl12/FDCHP_sn144904/D202110/fdchp_20211009_060200.dat'"
      ]
     },
     "execution_count": 10,
     "metadata": {},
     "output_type": "execute_result"
    },
    {
     "name": "stdout",
     "output_type": "stream",
     "text": [
      "Processing file: 86 \n"
     ]
    },
    {
     "data": {
      "text/html": [
       "<html><body><pre>filename = '/home/jovyan/ooi/uncabled/GI01SUMO/R00008/instruments/dcl12/FDCHP_sn144904/D202110/fdchp_20211009_070200.dat'</pre></body></html>"
      ],
      "text/plain": [
       "filename = '/home/jovyan/ooi/uncabled/GI01SUMO/R00008/instruments/dcl12/FDCHP_sn144904/D202110/fdchp_20211009_070200.dat'"
      ]
     },
     "execution_count": 10,
     "metadata": {},
     "output_type": "execute_result"
    },
    {
     "name": "stdout",
     "output_type": "stream",
     "text": [
      "Processing file: 87 \n"
     ]
    },
    {
     "data": {
      "text/html": [
       "<html><body><pre>filename = '/home/jovyan/ooi/uncabled/GI01SUMO/R00008/instruments/dcl12/FDCHP_sn144904/D202110/fdchp_20211009_080200.dat'</pre></body></html>"
      ],
      "text/plain": [
       "filename = '/home/jovyan/ooi/uncabled/GI01SUMO/R00008/instruments/dcl12/FDCHP_sn144904/D202110/fdchp_20211009_080200.dat'"
      ]
     },
     "execution_count": 10,
     "metadata": {},
     "output_type": "execute_result"
    },
    {
     "name": "stdout",
     "output_type": "stream",
     "text": [
      "Processing file: 88 \n"
     ]
    },
    {
     "data": {
      "text/html": [
       "<html><body><pre>filename = '/home/jovyan/ooi/uncabled/GI01SUMO/R00008/instruments/dcl12/FDCHP_sn144904/D202110/fdchp_20211009_090200.dat'</pre></body></html>"
      ],
      "text/plain": [
       "filename = '/home/jovyan/ooi/uncabled/GI01SUMO/R00008/instruments/dcl12/FDCHP_sn144904/D202110/fdchp_20211009_090200.dat'"
      ]
     },
     "execution_count": 10,
     "metadata": {},
     "output_type": "execute_result"
    },
    {
     "name": "stdout",
     "output_type": "stream",
     "text": [
      "Processing file: 89 \n"
     ]
    },
    {
     "data": {
      "text/html": [
       "<html><body><pre>filename = '/home/jovyan/ooi/uncabled/GI01SUMO/R00008/instruments/dcl12/FDCHP_sn144904/D202110/fdchp_20211009_100200.dat'</pre></body></html>"
      ],
      "text/plain": [
       "filename = '/home/jovyan/ooi/uncabled/GI01SUMO/R00008/instruments/dcl12/FDCHP_sn144904/D202110/fdchp_20211009_100200.dat'"
      ]
     },
     "execution_count": 10,
     "metadata": {},
     "output_type": "execute_result"
    },
    {
     "name": "stdout",
     "output_type": "stream",
     "text": [
      "Processing file: 90 \n"
     ]
    },
    {
     "data": {
      "text/html": [
       "<html><body><pre>filename = '/home/jovyan/ooi/uncabled/GI01SUMO/R00008/instruments/dcl12/FDCHP_sn144904/D202110/fdchp_20211009_110200.dat'</pre></body></html>"
      ],
      "text/plain": [
       "filename = '/home/jovyan/ooi/uncabled/GI01SUMO/R00008/instruments/dcl12/FDCHP_sn144904/D202110/fdchp_20211009_110200.dat'"
      ]
     },
     "execution_count": 10,
     "metadata": {},
     "output_type": "execute_result"
    },
    {
     "name": "stdout",
     "output_type": "stream",
     "text": [
      "Processing file: 91 \n"
     ]
    },
    {
     "data": {
      "text/html": [
       "<html><body><pre>filename = '/home/jovyan/ooi/uncabled/GI01SUMO/R00008/instruments/dcl12/FDCHP_sn144904/D202110/fdchp_20211009_120200.dat'</pre></body></html>"
      ],
      "text/plain": [
       "filename = '/home/jovyan/ooi/uncabled/GI01SUMO/R00008/instruments/dcl12/FDCHP_sn144904/D202110/fdchp_20211009_120200.dat'"
      ]
     },
     "execution_count": 10,
     "metadata": {},
     "output_type": "execute_result"
    },
    {
     "name": "stdout",
     "output_type": "stream",
     "text": [
      "Processing file: 92 \n"
     ]
    },
    {
     "data": {
      "text/html": [
       "<html><body><pre>filename = '/home/jovyan/ooi/uncabled/GI01SUMO/R00008/instruments/dcl12/FDCHP_sn144904/D202110/fdchp_20211009_130200.dat'</pre></body></html>"
      ],
      "text/plain": [
       "filename = '/home/jovyan/ooi/uncabled/GI01SUMO/R00008/instruments/dcl12/FDCHP_sn144904/D202110/fdchp_20211009_130200.dat'"
      ]
     },
     "execution_count": 10,
     "metadata": {},
     "output_type": "execute_result"
    },
    {
     "name": "stdout",
     "output_type": "stream",
     "text": [
      "Processing file: 93 \n"
     ]
    },
    {
     "data": {
      "text/html": [
       "<html><body><pre>filename = '/home/jovyan/ooi/uncabled/GI01SUMO/R00008/instruments/dcl12/FDCHP_sn144904/D202110/fdchp_20211009_140200.dat'</pre></body></html>"
      ],
      "text/plain": [
       "filename = '/home/jovyan/ooi/uncabled/GI01SUMO/R00008/instruments/dcl12/FDCHP_sn144904/D202110/fdchp_20211009_140200.dat'"
      ]
     },
     "execution_count": 10,
     "metadata": {},
     "output_type": "execute_result"
    },
    {
     "name": "stdout",
     "output_type": "stream",
     "text": [
      "Processing file: 94 \n"
     ]
    },
    {
     "data": {
      "text/html": [
       "<html><body><pre>filename = '/home/jovyan/ooi/uncabled/GI01SUMO/R00008/instruments/dcl12/FDCHP_sn144904/D202110/fdchp_20211009_150200.dat'</pre></body></html>"
      ],
      "text/plain": [
       "filename = '/home/jovyan/ooi/uncabled/GI01SUMO/R00008/instruments/dcl12/FDCHP_sn144904/D202110/fdchp_20211009_150200.dat'"
      ]
     },
     "execution_count": 10,
     "metadata": {},
     "output_type": "execute_result"
    },
    {
     "name": "stdout",
     "output_type": "stream",
     "text": [
      "Processing file: 95 \n"
     ]
    },
    {
     "data": {
      "text/html": [
       "<html><body><pre>filename = '/home/jovyan/ooi/uncabled/GI01SUMO/R00008/instruments/dcl12/FDCHP_sn144904/D202110/fdchp_20211009_160200.dat'</pre></body></html>"
      ],
      "text/plain": [
       "filename = '/home/jovyan/ooi/uncabled/GI01SUMO/R00008/instruments/dcl12/FDCHP_sn144904/D202110/fdchp_20211009_160200.dat'"
      ]
     },
     "execution_count": 10,
     "metadata": {},
     "output_type": "execute_result"
    },
    {
     "name": "stdout",
     "output_type": "stream",
     "text": [
      "Processing file: 96 \n"
     ]
    },
    {
     "data": {
      "text/html": [
       "<html><body><pre>filename = '/home/jovyan/ooi/uncabled/GI01SUMO/R00008/instruments/dcl12/FDCHP_sn144904/D202110/fdchp_20211009_170200.dat'</pre></body></html>"
      ],
      "text/plain": [
       "filename = '/home/jovyan/ooi/uncabled/GI01SUMO/R00008/instruments/dcl12/FDCHP_sn144904/D202110/fdchp_20211009_170200.dat'"
      ]
     },
     "execution_count": 10,
     "metadata": {},
     "output_type": "execute_result"
    },
    {
     "name": "stdout",
     "output_type": "stream",
     "text": [
      "Processing file: 97 \n"
     ]
    },
    {
     "data": {
      "text/html": [
       "<html><body><pre>filename = '/home/jovyan/ooi/uncabled/GI01SUMO/R00008/instruments/dcl12/FDCHP_sn144904/D202110/fdchp_20211009_180200.dat'</pre></body></html>"
      ],
      "text/plain": [
       "filename = '/home/jovyan/ooi/uncabled/GI01SUMO/R00008/instruments/dcl12/FDCHP_sn144904/D202110/fdchp_20211009_180200.dat'"
      ]
     },
     "execution_count": 10,
     "metadata": {},
     "output_type": "execute_result"
    },
    {
     "name": "stdout",
     "output_type": "stream",
     "text": [
      "Processing file: 98 \n"
     ]
    },
    {
     "data": {
      "text/html": [
       "<html><body><pre>filename = '/home/jovyan/ooi/uncabled/GI01SUMO/R00008/instruments/dcl12/FDCHP_sn144904/D202110/fdchp_20211009_190200.dat'</pre></body></html>"
      ],
      "text/plain": [
       "filename = '/home/jovyan/ooi/uncabled/GI01SUMO/R00008/instruments/dcl12/FDCHP_sn144904/D202110/fdchp_20211009_190200.dat'"
      ]
     },
     "execution_count": 10,
     "metadata": {},
     "output_type": "execute_result"
    },
    {
     "name": "stdout",
     "output_type": "stream",
     "text": [
      "Processing file: 99 \n"
     ]
    },
    {
     "data": {
      "text/html": [
       "<html><body><pre>filename = '/home/jovyan/ooi/uncabled/GI01SUMO/R00008/instruments/dcl12/FDCHP_sn144904/D202110/fdchp_20211009_200200.dat'</pre></body></html>"
      ],
      "text/plain": [
       "filename = '/home/jovyan/ooi/uncabled/GI01SUMO/R00008/instruments/dcl12/FDCHP_sn144904/D202110/fdchp_20211009_200200.dat'"
      ]
     },
     "execution_count": 10,
     "metadata": {},
     "output_type": "execute_result"
    },
    {
     "name": "stdout",
     "output_type": "stream",
     "text": [
      "Processing file: 100 \n"
     ]
    },
    {
     "data": {
      "text/html": [
       "<html><body><pre>filename = '/home/jovyan/ooi/uncabled/GI01SUMO/R00008/instruments/dcl12/FDCHP_sn144904/D202110/fdchp_20211009_210200.dat'</pre></body></html>"
      ],
      "text/plain": [
       "filename = '/home/jovyan/ooi/uncabled/GI01SUMO/R00008/instruments/dcl12/FDCHP_sn144904/D202110/fdchp_20211009_210200.dat'"
      ]
     },
     "execution_count": 10,
     "metadata": {},
     "output_type": "execute_result"
    },
    {
     "name": "stdout",
     "output_type": "stream",
     "text": [
      "Processing file: 101 \n"
     ]
    },
    {
     "data": {
      "text/html": [
       "<html><body><pre>filename = '/home/jovyan/ooi/uncabled/GI01SUMO/R00008/instruments/dcl12/FDCHP_sn144904/D202110/fdchp_20211009_220200.dat'</pre></body></html>"
      ],
      "text/plain": [
       "filename = '/home/jovyan/ooi/uncabled/GI01SUMO/R00008/instruments/dcl12/FDCHP_sn144904/D202110/fdchp_20211009_220200.dat'"
      ]
     },
     "execution_count": 10,
     "metadata": {},
     "output_type": "execute_result"
    },
    {
     "name": "stdout",
     "output_type": "stream",
     "text": [
      "Processing file: 102 \n"
     ]
    },
    {
     "data": {
      "text/html": [
       "<html><body><pre>filename = '/home/jovyan/ooi/uncabled/GI01SUMO/R00008/instruments/dcl12/FDCHP_sn144904/D202110/fdchp_20211009_230200.dat'</pre></body></html>"
      ],
      "text/plain": [
       "filename = '/home/jovyan/ooi/uncabled/GI01SUMO/R00008/instruments/dcl12/FDCHP_sn144904/D202110/fdchp_20211009_230200.dat'"
      ]
     },
     "execution_count": 10,
     "metadata": {},
     "output_type": "execute_result"
    },
    {
     "name": "stdout",
     "output_type": "stream",
     "text": [
      "Processing file: 103 \n"
     ]
    },
    {
     "data": {
      "text/html": [
       "<html><body><pre>filename = '/home/jovyan/ooi/uncabled/GI01SUMO/R00008/instruments/dcl12/FDCHP_sn144904/D202110/fdchp_20211010_000200.dat'</pre></body></html>"
      ],
      "text/plain": [
       "filename = '/home/jovyan/ooi/uncabled/GI01SUMO/R00008/instruments/dcl12/FDCHP_sn144904/D202110/fdchp_20211010_000200.dat'"
      ]
     },
     "execution_count": 10,
     "metadata": {},
     "output_type": "execute_result"
    },
    {
     "name": "stdout",
     "output_type": "stream",
     "text": [
      "Processing file: 104 \n"
     ]
    },
    {
     "data": {
      "text/html": [
       "<html><body><pre>filename = '/home/jovyan/ooi/uncabled/GI01SUMO/R00008/instruments/dcl12/FDCHP_sn144904/D202110/fdchp_20211010_010200.dat'</pre></body></html>"
      ],
      "text/plain": [
       "filename = '/home/jovyan/ooi/uncabled/GI01SUMO/R00008/instruments/dcl12/FDCHP_sn144904/D202110/fdchp_20211010_010200.dat'"
      ]
     },
     "execution_count": 10,
     "metadata": {},
     "output_type": "execute_result"
    },
    {
     "name": "stdout",
     "output_type": "stream",
     "text": [
      "Processing file: 105 \n"
     ]
    },
    {
     "data": {
      "text/html": [
       "<html><body><pre>filename = '/home/jovyan/ooi/uncabled/GI01SUMO/R00008/instruments/dcl12/FDCHP_sn144904/D202110/fdchp_20211010_020200.dat'</pre></body></html>"
      ],
      "text/plain": [
       "filename = '/home/jovyan/ooi/uncabled/GI01SUMO/R00008/instruments/dcl12/FDCHP_sn144904/D202110/fdchp_20211010_020200.dat'"
      ]
     },
     "execution_count": 10,
     "metadata": {},
     "output_type": "execute_result"
    },
    {
     "name": "stdout",
     "output_type": "stream",
     "text": [
      "Processing file: 106 \n"
     ]
    },
    {
     "data": {
      "text/html": [
       "<html><body><pre>filename = '/home/jovyan/ooi/uncabled/GI01SUMO/R00008/instruments/dcl12/FDCHP_sn144904/D202110/fdchp_20211010_030200.dat'</pre></body></html>"
      ],
      "text/plain": [
       "filename = '/home/jovyan/ooi/uncabled/GI01SUMO/R00008/instruments/dcl12/FDCHP_sn144904/D202110/fdchp_20211010_030200.dat'"
      ]
     },
     "execution_count": 10,
     "metadata": {},
     "output_type": "execute_result"
    },
    {
     "name": "stdout",
     "output_type": "stream",
     "text": [
      "Processing file: 107 \n"
     ]
    },
    {
     "data": {
      "text/html": [
       "<html><body><pre>filename = '/home/jovyan/ooi/uncabled/GI01SUMO/R00008/instruments/dcl12/FDCHP_sn144904/D202110/fdchp_20211010_040200.dat'</pre></body></html>"
      ],
      "text/plain": [
       "filename = '/home/jovyan/ooi/uncabled/GI01SUMO/R00008/instruments/dcl12/FDCHP_sn144904/D202110/fdchp_20211010_040200.dat'"
      ]
     },
     "execution_count": 10,
     "metadata": {},
     "output_type": "execute_result"
    },
    {
     "name": "stdout",
     "output_type": "stream",
     "text": [
      "Processing file: 108 \n"
     ]
    },
    {
     "data": {
      "text/html": [
       "<html><body><pre>filename = '/home/jovyan/ooi/uncabled/GI01SUMO/R00008/instruments/dcl12/FDCHP_sn144904/D202110/fdchp_20211010_050200.dat'</pre></body></html>"
      ],
      "text/plain": [
       "filename = '/home/jovyan/ooi/uncabled/GI01SUMO/R00008/instruments/dcl12/FDCHP_sn144904/D202110/fdchp_20211010_050200.dat'"
      ]
     },
     "execution_count": 10,
     "metadata": {},
     "output_type": "execute_result"
    },
    {
     "name": "stdout",
     "output_type": "stream",
     "text": [
      "Processing file: 109 \n"
     ]
    },
    {
     "data": {
      "text/html": [
       "<html><body><pre>filename = '/home/jovyan/ooi/uncabled/GI01SUMO/R00008/instruments/dcl12/FDCHP_sn144904/D202110/fdchp_20211010_060200.dat'</pre></body></html>"
      ],
      "text/plain": [
       "filename = '/home/jovyan/ooi/uncabled/GI01SUMO/R00008/instruments/dcl12/FDCHP_sn144904/D202110/fdchp_20211010_060200.dat'"
      ]
     },
     "execution_count": 10,
     "metadata": {},
     "output_type": "execute_result"
    },
    {
     "name": "stdout",
     "output_type": "stream",
     "text": [
      "Processing file: 110 \n"
     ]
    },
    {
     "data": {
      "text/html": [
       "<html><body><pre>filename = '/home/jovyan/ooi/uncabled/GI01SUMO/R00008/instruments/dcl12/FDCHP_sn144904/D202110/fdchp_20211010_070200.dat'</pre></body></html>"
      ],
      "text/plain": [
       "filename = '/home/jovyan/ooi/uncabled/GI01SUMO/R00008/instruments/dcl12/FDCHP_sn144904/D202110/fdchp_20211010_070200.dat'"
      ]
     },
     "execution_count": 10,
     "metadata": {},
     "output_type": "execute_result"
    },
    {
     "name": "stdout",
     "output_type": "stream",
     "text": [
      "Processing file: 111 \n"
     ]
    },
    {
     "data": {
      "text/html": [
       "<html><body><pre>filename = '/home/jovyan/ooi/uncabled/GI01SUMO/R00008/instruments/dcl12/FDCHP_sn144904/D202110/fdchp_20211010_080200.dat'</pre></body></html>"
      ],
      "text/plain": [
       "filename = '/home/jovyan/ooi/uncabled/GI01SUMO/R00008/instruments/dcl12/FDCHP_sn144904/D202110/fdchp_20211010_080200.dat'"
      ]
     },
     "execution_count": 10,
     "metadata": {},
     "output_type": "execute_result"
    },
    {
     "name": "stdout",
     "output_type": "stream",
     "text": [
      "Processing file: 112 \n"
     ]
    },
    {
     "data": {
      "text/html": [
       "<html><body><pre>filename = '/home/jovyan/ooi/uncabled/GI01SUMO/R00008/instruments/dcl12/FDCHP_sn144904/D202110/fdchp_20211010_090200.dat'</pre></body></html>"
      ],
      "text/plain": [
       "filename = '/home/jovyan/ooi/uncabled/GI01SUMO/R00008/instruments/dcl12/FDCHP_sn144904/D202110/fdchp_20211010_090200.dat'"
      ]
     },
     "execution_count": 10,
     "metadata": {},
     "output_type": "execute_result"
    },
    {
     "name": "stdout",
     "output_type": "stream",
     "text": [
      "Processing file: 113 \n"
     ]
    },
    {
     "data": {
      "text/html": [
       "<html><body><pre>filename = '/home/jovyan/ooi/uncabled/GI01SUMO/R00008/instruments/dcl12/FDCHP_sn144904/D202110/fdchp_20211010_100200.dat'</pre></body></html>"
      ],
      "text/plain": [
       "filename = '/home/jovyan/ooi/uncabled/GI01SUMO/R00008/instruments/dcl12/FDCHP_sn144904/D202110/fdchp_20211010_100200.dat'"
      ]
     },
     "execution_count": 10,
     "metadata": {},
     "output_type": "execute_result"
    },
    {
     "name": "stdout",
     "output_type": "stream",
     "text": [
      "Processing file: 114 \n"
     ]
    },
    {
     "data": {
      "text/html": [
       "<html><body><pre>filename = '/home/jovyan/ooi/uncabled/GI01SUMO/R00008/instruments/dcl12/FDCHP_sn144904/D202110/fdchp_20211010_110200.dat'</pre></body></html>"
      ],
      "text/plain": [
       "filename = '/home/jovyan/ooi/uncabled/GI01SUMO/R00008/instruments/dcl12/FDCHP_sn144904/D202110/fdchp_20211010_110200.dat'"
      ]
     },
     "execution_count": 10,
     "metadata": {},
     "output_type": "execute_result"
    },
    {
     "name": "stdout",
     "output_type": "stream",
     "text": [
      "Processing file: 115 \n"
     ]
    },
    {
     "data": {
      "text/html": [
       "<html><body><pre>filename = '/home/jovyan/ooi/uncabled/GI01SUMO/R00008/instruments/dcl12/FDCHP_sn144904/D202110/fdchp_20211010_120200.dat'</pre></body></html>"
      ],
      "text/plain": [
       "filename = '/home/jovyan/ooi/uncabled/GI01SUMO/R00008/instruments/dcl12/FDCHP_sn144904/D202110/fdchp_20211010_120200.dat'"
      ]
     },
     "execution_count": 10,
     "metadata": {},
     "output_type": "execute_result"
    },
    {
     "name": "stdout",
     "output_type": "stream",
     "text": [
      "Processing file: 116 \n"
     ]
    },
    {
     "data": {
      "text/html": [
       "<html><body><pre>filename = '/home/jovyan/ooi/uncabled/GI01SUMO/R00008/instruments/dcl12/FDCHP_sn144904/D202110/fdchp_20211010_130200.dat'</pre></body></html>"
      ],
      "text/plain": [
       "filename = '/home/jovyan/ooi/uncabled/GI01SUMO/R00008/instruments/dcl12/FDCHP_sn144904/D202110/fdchp_20211010_130200.dat'"
      ]
     },
     "execution_count": 10,
     "metadata": {},
     "output_type": "execute_result"
    },
    {
     "name": "stdout",
     "output_type": "stream",
     "text": [
      "Processing file: 117 \n"
     ]
    },
    {
     "data": {
      "text/html": [
       "<html><body><pre>filename = '/home/jovyan/ooi/uncabled/GI01SUMO/R00008/instruments/dcl12/FDCHP_sn144904/D202110/fdchp_20211010_140200.dat'</pre></body></html>"
      ],
      "text/plain": [
       "filename = '/home/jovyan/ooi/uncabled/GI01SUMO/R00008/instruments/dcl12/FDCHP_sn144904/D202110/fdchp_20211010_140200.dat'"
      ]
     },
     "execution_count": 10,
     "metadata": {},
     "output_type": "execute_result"
    },
    {
     "name": "stdout",
     "output_type": "stream",
     "text": [
      "Processing file: 118 \n"
     ]
    },
    {
     "data": {
      "text/html": [
       "<html><body><pre>filename = '/home/jovyan/ooi/uncabled/GI01SUMO/R00008/instruments/dcl12/FDCHP_sn144904/D202110/fdchp_20211010_150200.dat'</pre></body></html>"
      ],
      "text/plain": [
       "filename = '/home/jovyan/ooi/uncabled/GI01SUMO/R00008/instruments/dcl12/FDCHP_sn144904/D202110/fdchp_20211010_150200.dat'"
      ]
     },
     "execution_count": 10,
     "metadata": {},
     "output_type": "execute_result"
    },
    {
     "name": "stdout",
     "output_type": "stream",
     "text": [
      "Processing file: 119 \n"
     ]
    },
    {
     "data": {
      "text/html": [
       "<html><body><pre>filename = '/home/jovyan/ooi/uncabled/GI01SUMO/R00008/instruments/dcl12/FDCHP_sn144904/D202110/fdchp_20211010_160200.dat'</pre></body></html>"
      ],
      "text/plain": [
       "filename = '/home/jovyan/ooi/uncabled/GI01SUMO/R00008/instruments/dcl12/FDCHP_sn144904/D202110/fdchp_20211010_160200.dat'"
      ]
     },
     "execution_count": 10,
     "metadata": {},
     "output_type": "execute_result"
    },
    {
     "name": "stdout",
     "output_type": "stream",
     "text": [
      "Processing file: 120 \n"
     ]
    },
    {
     "data": {
      "text/html": [
       "<html><body><pre>filename = '/home/jovyan/ooi/uncabled/GI01SUMO/R00008/instruments/dcl12/FDCHP_sn144904/D202110/fdchp_20211010_170200.dat'</pre></body></html>"
      ],
      "text/plain": [
       "filename = '/home/jovyan/ooi/uncabled/GI01SUMO/R00008/instruments/dcl12/FDCHP_sn144904/D202110/fdchp_20211010_170200.dat'"
      ]
     },
     "execution_count": 10,
     "metadata": {},
     "output_type": "execute_result"
    },
    {
     "name": "stdout",
     "output_type": "stream",
     "text": [
      "Processing file: 121 \n"
     ]
    },
    {
     "data": {
      "text/html": [
       "<html><body><pre>filename = '/home/jovyan/ooi/uncabled/GI01SUMO/R00008/instruments/dcl12/FDCHP_sn144904/D202110/fdchp_20211010_180200.dat'</pre></body></html>"
      ],
      "text/plain": [
       "filename = '/home/jovyan/ooi/uncabled/GI01SUMO/R00008/instruments/dcl12/FDCHP_sn144904/D202110/fdchp_20211010_180200.dat'"
      ]
     },
     "execution_count": 10,
     "metadata": {},
     "output_type": "execute_result"
    },
    {
     "name": "stdout",
     "output_type": "stream",
     "text": [
      "Processing file: 122 \n"
     ]
    },
    {
     "data": {
      "text/html": [
       "<html><body><pre>filename = '/home/jovyan/ooi/uncabled/GI01SUMO/R00008/instruments/dcl12/FDCHP_sn144904/D202110/fdchp_20211010_190200.dat'</pre></body></html>"
      ],
      "text/plain": [
       "filename = '/home/jovyan/ooi/uncabled/GI01SUMO/R00008/instruments/dcl12/FDCHP_sn144904/D202110/fdchp_20211010_190200.dat'"
      ]
     },
     "execution_count": 10,
     "metadata": {},
     "output_type": "execute_result"
    },
    {
     "name": "stdout",
     "output_type": "stream",
     "text": [
      "Processing file: 123 \n"
     ]
    },
    {
     "data": {
      "text/html": [
       "<html><body><pre>filename = '/home/jovyan/ooi/uncabled/GI01SUMO/R00008/instruments/dcl12/FDCHP_sn144904/D202110/fdchp_20211010_200200.dat'</pre></body></html>"
      ],
      "text/plain": [
       "filename = '/home/jovyan/ooi/uncabled/GI01SUMO/R00008/instruments/dcl12/FDCHP_sn144904/D202110/fdchp_20211010_200200.dat'"
      ]
     },
     "execution_count": 10,
     "metadata": {},
     "output_type": "execute_result"
    },
    {
     "name": "stdout",
     "output_type": "stream",
     "text": [
      "Processing file: 124 \n"
     ]
    },
    {
     "data": {
      "text/html": [
       "<html><body><pre>filename = '/home/jovyan/ooi/uncabled/GI01SUMO/R00008/instruments/dcl12/FDCHP_sn144904/D202110/fdchp_20211010_210200.dat'</pre></body></html>"
      ],
      "text/plain": [
       "filename = '/home/jovyan/ooi/uncabled/GI01SUMO/R00008/instruments/dcl12/FDCHP_sn144904/D202110/fdchp_20211010_210200.dat'"
      ]
     },
     "execution_count": 10,
     "metadata": {},
     "output_type": "execute_result"
    },
    {
     "name": "stdout",
     "output_type": "stream",
     "text": [
      "Processing file: 125 \n"
     ]
    },
    {
     "data": {
      "text/html": [
       "<html><body><pre>filename = '/home/jovyan/ooi/uncabled/GI01SUMO/R00008/instruments/dcl12/FDCHP_sn144904/D202110/fdchp_20211010_220200.dat'</pre></body></html>"
      ],
      "text/plain": [
       "filename = '/home/jovyan/ooi/uncabled/GI01SUMO/R00008/instruments/dcl12/FDCHP_sn144904/D202110/fdchp_20211010_220200.dat'"
      ]
     },
     "execution_count": 10,
     "metadata": {},
     "output_type": "execute_result"
    },
    {
     "name": "stdout",
     "output_type": "stream",
     "text": [
      "Processing file: 126 \n"
     ]
    },
    {
     "data": {
      "text/html": [
       "<html><body><pre>filename = '/home/jovyan/ooi/uncabled/GI01SUMO/R00008/instruments/dcl12/FDCHP_sn144904/D202110/fdchp_20211010_230200.dat'</pre></body></html>"
      ],
      "text/plain": [
       "filename = '/home/jovyan/ooi/uncabled/GI01SUMO/R00008/instruments/dcl12/FDCHP_sn144904/D202110/fdchp_20211010_230200.dat'"
      ]
     },
     "execution_count": 10,
     "metadata": {},
     "output_type": "execute_result"
    },
    {
     "name": "stdout",
     "output_type": "stream",
     "text": [
      "Processing file: 127 \n"
     ]
    },
    {
     "data": {
      "text/html": [
       "<html><body><pre>filename = '/home/jovyan/ooi/uncabled/GI01SUMO/R00008/instruments/dcl12/FDCHP_sn144904/D202110/fdchp_20211011_000200.dat'</pre></body></html>"
      ],
      "text/plain": [
       "filename = '/home/jovyan/ooi/uncabled/GI01SUMO/R00008/instruments/dcl12/FDCHP_sn144904/D202110/fdchp_20211011_000200.dat'"
      ]
     },
     "execution_count": 10,
     "metadata": {},
     "output_type": "execute_result"
    },
    {
     "name": "stdout",
     "output_type": "stream",
     "text": [
      "Processing file: 128 \n"
     ]
    },
    {
     "data": {
      "text/html": [
       "<html><body><pre>filename = '/home/jovyan/ooi/uncabled/GI01SUMO/R00008/instruments/dcl12/FDCHP_sn144904/D202110/fdchp_20211011_010200.dat'</pre></body></html>"
      ],
      "text/plain": [
       "filename = '/home/jovyan/ooi/uncabled/GI01SUMO/R00008/instruments/dcl12/FDCHP_sn144904/D202110/fdchp_20211011_010200.dat'"
      ]
     },
     "execution_count": 10,
     "metadata": {},
     "output_type": "execute_result"
    },
    {
     "name": "stdout",
     "output_type": "stream",
     "text": [
      "Processing file: 129 \n"
     ]
    },
    {
     "data": {
      "text/html": [
       "<html><body><pre>filename = '/home/jovyan/ooi/uncabled/GI01SUMO/R00008/instruments/dcl12/FDCHP_sn144904/D202110/fdchp_20211011_020200.dat'</pre></body></html>"
      ],
      "text/plain": [
       "filename = '/home/jovyan/ooi/uncabled/GI01SUMO/R00008/instruments/dcl12/FDCHP_sn144904/D202110/fdchp_20211011_020200.dat'"
      ]
     },
     "execution_count": 10,
     "metadata": {},
     "output_type": "execute_result"
    },
    {
     "name": "stdout",
     "output_type": "stream",
     "text": [
      "Processing file: 130 \n"
     ]
    },
    {
     "data": {
      "text/html": [
       "<html><body><pre>filename = '/home/jovyan/ooi/uncabled/GI01SUMO/R00008/instruments/dcl12/FDCHP_sn144904/D202110/fdchp_20211011_030200.dat'</pre></body></html>"
      ],
      "text/plain": [
       "filename = '/home/jovyan/ooi/uncabled/GI01SUMO/R00008/instruments/dcl12/FDCHP_sn144904/D202110/fdchp_20211011_030200.dat'"
      ]
     },
     "execution_count": 10,
     "metadata": {},
     "output_type": "execute_result"
    },
    {
     "name": "stdout",
     "output_type": "stream",
     "text": [
      "Processing file: 131 \n"
     ]
    },
    {
     "data": {
      "text/html": [
       "<html><body><pre>filename = '/home/jovyan/ooi/uncabled/GI01SUMO/R00008/instruments/dcl12/FDCHP_sn144904/D202110/fdchp_20211011_040200.dat'</pre></body></html>"
      ],
      "text/plain": [
       "filename = '/home/jovyan/ooi/uncabled/GI01SUMO/R00008/instruments/dcl12/FDCHP_sn144904/D202110/fdchp_20211011_040200.dat'"
      ]
     },
     "execution_count": 10,
     "metadata": {},
     "output_type": "execute_result"
    },
    {
     "name": "stdout",
     "output_type": "stream",
     "text": [
      "Processing file: 132 \n"
     ]
    },
    {
     "data": {
      "text/html": [
       "<html><body><pre>filename = '/home/jovyan/ooi/uncabled/GI01SUMO/R00008/instruments/dcl12/FDCHP_sn144904/D202110/fdchp_20211011_050200.dat'</pre></body></html>"
      ],
      "text/plain": [
       "filename = '/home/jovyan/ooi/uncabled/GI01SUMO/R00008/instruments/dcl12/FDCHP_sn144904/D202110/fdchp_20211011_050200.dat'"
      ]
     },
     "execution_count": 10,
     "metadata": {},
     "output_type": "execute_result"
    },
    {
     "name": "stdout",
     "output_type": "stream",
     "text": [
      "Processing file: 133 \n"
     ]
    },
    {
     "data": {
      "text/html": [
       "<html><body><pre>filename = '/home/jovyan/ooi/uncabled/GI01SUMO/R00008/instruments/dcl12/FDCHP_sn144904/D202110/fdchp_20211011_060200.dat'</pre></body></html>"
      ],
      "text/plain": [
       "filename = '/home/jovyan/ooi/uncabled/GI01SUMO/R00008/instruments/dcl12/FDCHP_sn144904/D202110/fdchp_20211011_060200.dat'"
      ]
     },
     "execution_count": 10,
     "metadata": {},
     "output_type": "execute_result"
    },
    {
     "name": "stdout",
     "output_type": "stream",
     "text": [
      "Processing file: 134 \n"
     ]
    },
    {
     "data": {
      "text/html": [
       "<html><body><pre>filename = '/home/jovyan/ooi/uncabled/GI01SUMO/R00008/instruments/dcl12/FDCHP_sn144904/D202110/fdchp_20211011_070200.dat'</pre></body></html>"
      ],
      "text/plain": [
       "filename = '/home/jovyan/ooi/uncabled/GI01SUMO/R00008/instruments/dcl12/FDCHP_sn144904/D202110/fdchp_20211011_070200.dat'"
      ]
     },
     "execution_count": 10,
     "metadata": {},
     "output_type": "execute_result"
    },
    {
     "name": "stdout",
     "output_type": "stream",
     "text": [
      "Processing file: 135 \n"
     ]
    },
    {
     "data": {
      "text/html": [
       "<html><body><pre>filename = '/home/jovyan/ooi/uncabled/GI01SUMO/R00008/instruments/dcl12/FDCHP_sn144904/D202110/fdchp_20211011_080200.dat'</pre></body></html>"
      ],
      "text/plain": [
       "filename = '/home/jovyan/ooi/uncabled/GI01SUMO/R00008/instruments/dcl12/FDCHP_sn144904/D202110/fdchp_20211011_080200.dat'"
      ]
     },
     "execution_count": 10,
     "metadata": {},
     "output_type": "execute_result"
    },
    {
     "name": "stdout",
     "output_type": "stream",
     "text": [
      "Processing file: 136 \n"
     ]
    },
    {
     "data": {
      "text/html": [
       "<html><body><pre>filename = '/home/jovyan/ooi/uncabled/GI01SUMO/R00008/instruments/dcl12/FDCHP_sn144904/D202110/fdchp_20211011_090200.dat'</pre></body></html>"
      ],
      "text/plain": [
       "filename = '/home/jovyan/ooi/uncabled/GI01SUMO/R00008/instruments/dcl12/FDCHP_sn144904/D202110/fdchp_20211011_090200.dat'"
      ]
     },
     "execution_count": 10,
     "metadata": {},
     "output_type": "execute_result"
    },
    {
     "name": "stdout",
     "output_type": "stream",
     "text": [
      "Processing file: 137 \n"
     ]
    },
    {
     "data": {
      "text/html": [
       "<html><body><pre>filename = '/home/jovyan/ooi/uncabled/GI01SUMO/R00008/instruments/dcl12/FDCHP_sn144904/D202110/fdchp_20211011_100200.dat'</pre></body></html>"
      ],
      "text/plain": [
       "filename = '/home/jovyan/ooi/uncabled/GI01SUMO/R00008/instruments/dcl12/FDCHP_sn144904/D202110/fdchp_20211011_100200.dat'"
      ]
     },
     "execution_count": 10,
     "metadata": {},
     "output_type": "execute_result"
    },
    {
     "name": "stdout",
     "output_type": "stream",
     "text": [
      "Processing file: 138 \n"
     ]
    },
    {
     "data": {
      "text/html": [
       "<html><body><pre>filename = '/home/jovyan/ooi/uncabled/GI01SUMO/R00008/instruments/dcl12/FDCHP_sn144904/D202110/fdchp_20211011_110200.dat'</pre></body></html>"
      ],
      "text/plain": [
       "filename = '/home/jovyan/ooi/uncabled/GI01SUMO/R00008/instruments/dcl12/FDCHP_sn144904/D202110/fdchp_20211011_110200.dat'"
      ]
     },
     "execution_count": 10,
     "metadata": {},
     "output_type": "execute_result"
    },
    {
     "name": "stdout",
     "output_type": "stream",
     "text": [
      "Processing file: 139 \n"
     ]
    },
    {
     "data": {
      "text/html": [
       "<html><body><pre>filename = '/home/jovyan/ooi/uncabled/GI01SUMO/R00008/instruments/dcl12/FDCHP_sn144904/D202110/fdchp_20211011_120200.dat'</pre></body></html>"
      ],
      "text/plain": [
       "filename = '/home/jovyan/ooi/uncabled/GI01SUMO/R00008/instruments/dcl12/FDCHP_sn144904/D202110/fdchp_20211011_120200.dat'"
      ]
     },
     "execution_count": 10,
     "metadata": {},
     "output_type": "execute_result"
    },
    {
     "name": "stdout",
     "output_type": "stream",
     "text": [
      "Processing file: 140 \n"
     ]
    },
    {
     "data": {
      "text/html": [
       "<html><body><pre>filename = '/home/jovyan/ooi/uncabled/GI01SUMO/R00008/instruments/dcl12/FDCHP_sn144904/D202110/fdchp_20211011_130200.dat'</pre></body></html>"
      ],
      "text/plain": [
       "filename = '/home/jovyan/ooi/uncabled/GI01SUMO/R00008/instruments/dcl12/FDCHP_sn144904/D202110/fdchp_20211011_130200.dat'"
      ]
     },
     "execution_count": 10,
     "metadata": {},
     "output_type": "execute_result"
    },
    {
     "name": "stdout",
     "output_type": "stream",
     "text": [
      "Processing file: 141 \n"
     ]
    },
    {
     "data": {
      "text/html": [
       "<html><body><pre>filename = '/home/jovyan/ooi/uncabled/GI01SUMO/R00008/instruments/dcl12/FDCHP_sn144904/D202110/fdchp_20211011_140200.dat'</pre></body></html>"
      ],
      "text/plain": [
       "filename = '/home/jovyan/ooi/uncabled/GI01SUMO/R00008/instruments/dcl12/FDCHP_sn144904/D202110/fdchp_20211011_140200.dat'"
      ]
     },
     "execution_count": 10,
     "metadata": {},
     "output_type": "execute_result"
    },
    {
     "name": "stdout",
     "output_type": "stream",
     "text": [
      "Processing file: 142 \n"
     ]
    },
    {
     "data": {
      "text/html": [
       "<html><body><pre>filename = '/home/jovyan/ooi/uncabled/GI01SUMO/R00008/instruments/dcl12/FDCHP_sn144904/D202110/fdchp_20211011_150200.dat'</pre></body></html>"
      ],
      "text/plain": [
       "filename = '/home/jovyan/ooi/uncabled/GI01SUMO/R00008/instruments/dcl12/FDCHP_sn144904/D202110/fdchp_20211011_150200.dat'"
      ]
     },
     "execution_count": 10,
     "metadata": {},
     "output_type": "execute_result"
    },
    {
     "name": "stdout",
     "output_type": "stream",
     "text": [
      "Processing file: 143 \n"
     ]
    },
    {
     "data": {
      "text/html": [
       "<html><body><pre>filename = '/home/jovyan/ooi/uncabled/GI01SUMO/R00008/instruments/dcl12/FDCHP_sn144904/D202110/fdchp_20211011_160200.dat'</pre></body></html>"
      ],
      "text/plain": [
       "filename = '/home/jovyan/ooi/uncabled/GI01SUMO/R00008/instruments/dcl12/FDCHP_sn144904/D202110/fdchp_20211011_160200.dat'"
      ]
     },
     "execution_count": 10,
     "metadata": {},
     "output_type": "execute_result"
    },
    {
     "name": "stdout",
     "output_type": "stream",
     "text": [
      "Processing file: 144 \n"
     ]
    },
    {
     "data": {
      "text/html": [
       "<html><body><pre>filename = '/home/jovyan/ooi/uncabled/GI01SUMO/R00008/instruments/dcl12/FDCHP_sn144904/D202110/fdchp_20211011_170200.dat'</pre></body></html>"
      ],
      "text/plain": [
       "filename = '/home/jovyan/ooi/uncabled/GI01SUMO/R00008/instruments/dcl12/FDCHP_sn144904/D202110/fdchp_20211011_170200.dat'"
      ]
     },
     "execution_count": 10,
     "metadata": {},
     "output_type": "execute_result"
    },
    {
     "name": "stdout",
     "output_type": "stream",
     "text": [
      "Processing file: 145 \n"
     ]
    },
    {
     "data": {
      "text/html": [
       "<html><body><pre>filename = '/home/jovyan/ooi/uncabled/GI01SUMO/R00008/instruments/dcl12/FDCHP_sn144904/D202110/fdchp_20211011_180200.dat'</pre></body></html>"
      ],
      "text/plain": [
       "filename = '/home/jovyan/ooi/uncabled/GI01SUMO/R00008/instruments/dcl12/FDCHP_sn144904/D202110/fdchp_20211011_180200.dat'"
      ]
     },
     "execution_count": 10,
     "metadata": {},
     "output_type": "execute_result"
    },
    {
     "name": "stdout",
     "output_type": "stream",
     "text": [
      "Processing file: 146 \n"
     ]
    },
    {
     "data": {
      "text/html": [
       "<html><body><pre>filename = '/home/jovyan/ooi/uncabled/GI01SUMO/R00008/instruments/dcl12/FDCHP_sn144904/D202110/fdchp_20211011_190200.dat'</pre></body></html>"
      ],
      "text/plain": [
       "filename = '/home/jovyan/ooi/uncabled/GI01SUMO/R00008/instruments/dcl12/FDCHP_sn144904/D202110/fdchp_20211011_190200.dat'"
      ]
     },
     "execution_count": 10,
     "metadata": {},
     "output_type": "execute_result"
    },
    {
     "name": "stdout",
     "output_type": "stream",
     "text": [
      "Processing file: 147 \n"
     ]
    },
    {
     "data": {
      "text/html": [
       "<html><body><pre>filename = '/home/jovyan/ooi/uncabled/GI01SUMO/R00008/instruments/dcl12/FDCHP_sn144904/D202110/fdchp_20211011_200200.dat'</pre></body></html>"
      ],
      "text/plain": [
       "filename = '/home/jovyan/ooi/uncabled/GI01SUMO/R00008/instruments/dcl12/FDCHP_sn144904/D202110/fdchp_20211011_200200.dat'"
      ]
     },
     "execution_count": 10,
     "metadata": {},
     "output_type": "execute_result"
    },
    {
     "name": "stdout",
     "output_type": "stream",
     "text": [
      "Processing file: 148 \n"
     ]
    },
    {
     "data": {
      "text/html": [
       "<html><body><pre>filename = '/home/jovyan/ooi/uncabled/GI01SUMO/R00008/instruments/dcl12/FDCHP_sn144904/D202110/fdchp_20211011_210200.dat'</pre></body></html>"
      ],
      "text/plain": [
       "filename = '/home/jovyan/ooi/uncabled/GI01SUMO/R00008/instruments/dcl12/FDCHP_sn144904/D202110/fdchp_20211011_210200.dat'"
      ]
     },
     "execution_count": 10,
     "metadata": {},
     "output_type": "execute_result"
    },
    {
     "name": "stdout",
     "output_type": "stream",
     "text": [
      "Processing file: 149 \n"
     ]
    },
    {
     "data": {
      "text/html": [
       "<html><body><pre>filename = '/home/jovyan/ooi/uncabled/GI01SUMO/R00008/instruments/dcl12/FDCHP_sn144904/D202110/fdchp_20211011_220200.dat'</pre></body></html>"
      ],
      "text/plain": [
       "filename = '/home/jovyan/ooi/uncabled/GI01SUMO/R00008/instruments/dcl12/FDCHP_sn144904/D202110/fdchp_20211011_220200.dat'"
      ]
     },
     "execution_count": 10,
     "metadata": {},
     "output_type": "execute_result"
    },
    {
     "name": "stdout",
     "output_type": "stream",
     "text": [
      "Processing file: 150 \n"
     ]
    },
    {
     "data": {
      "text/html": [
       "<html><body><pre>filename = '/home/jovyan/ooi/uncabled/GI01SUMO/R00008/instruments/dcl12/FDCHP_sn144904/D202110/fdchp_20211011_230200.dat'</pre></body></html>"
      ],
      "text/plain": [
       "filename = '/home/jovyan/ooi/uncabled/GI01SUMO/R00008/instruments/dcl12/FDCHP_sn144904/D202110/fdchp_20211011_230200.dat'"
      ]
     },
     "execution_count": 10,
     "metadata": {},
     "output_type": "execute_result"
    },
    {
     "name": "stdout",
     "output_type": "stream",
     "text": [
      "Processing file: 151 \n"
     ]
    },
    {
     "data": {
      "text/html": [
       "<html><body><pre>filename = '/home/jovyan/ooi/uncabled/GI01SUMO/R00008/instruments/dcl12/FDCHP_sn144904/D202110/fdchp_20211012_000200.dat'</pre></body></html>"
      ],
      "text/plain": [
       "filename = '/home/jovyan/ooi/uncabled/GI01SUMO/R00008/instruments/dcl12/FDCHP_sn144904/D202110/fdchp_20211012_000200.dat'"
      ]
     },
     "execution_count": 10,
     "metadata": {},
     "output_type": "execute_result"
    },
    {
     "name": "stdout",
     "output_type": "stream",
     "text": [
      "Processing file: 152 \n"
     ]
    },
    {
     "data": {
      "text/html": [
       "<html><body><pre>filename = '/home/jovyan/ooi/uncabled/GI01SUMO/R00008/instruments/dcl12/FDCHP_sn144904/D202110/fdchp_20211012_010200.dat'</pre></body></html>"
      ],
      "text/plain": [
       "filename = '/home/jovyan/ooi/uncabled/GI01SUMO/R00008/instruments/dcl12/FDCHP_sn144904/D202110/fdchp_20211012_010200.dat'"
      ]
     },
     "execution_count": 10,
     "metadata": {},
     "output_type": "execute_result"
    },
    {
     "name": "stdout",
     "output_type": "stream",
     "text": [
      "Processing file: 153 \n"
     ]
    },
    {
     "data": {
      "text/html": [
       "<html><body><pre>filename = '/home/jovyan/ooi/uncabled/GI01SUMO/R00008/instruments/dcl12/FDCHP_sn144904/D202110/fdchp_20211012_020200.dat'</pre></body></html>"
      ],
      "text/plain": [
       "filename = '/home/jovyan/ooi/uncabled/GI01SUMO/R00008/instruments/dcl12/FDCHP_sn144904/D202110/fdchp_20211012_020200.dat'"
      ]
     },
     "execution_count": 10,
     "metadata": {},
     "output_type": "execute_result"
    },
    {
     "name": "stdout",
     "output_type": "stream",
     "text": [
      "Processing file: 154 \n"
     ]
    },
    {
     "data": {
      "text/html": [
       "<html><body><pre>filename = '/home/jovyan/ooi/uncabled/GI01SUMO/R00008/instruments/dcl12/FDCHP_sn144904/D202110/fdchp_20211012_030200.dat'</pre></body></html>"
      ],
      "text/plain": [
       "filename = '/home/jovyan/ooi/uncabled/GI01SUMO/R00008/instruments/dcl12/FDCHP_sn144904/D202110/fdchp_20211012_030200.dat'"
      ]
     },
     "execution_count": 10,
     "metadata": {},
     "output_type": "execute_result"
    },
    {
     "name": "stdout",
     "output_type": "stream",
     "text": [
      "Processing file: 155 \n"
     ]
    },
    {
     "data": {
      "text/html": [
       "<html><body><pre>filename = '/home/jovyan/ooi/uncabled/GI01SUMO/R00008/instruments/dcl12/FDCHP_sn144904/D202110/fdchp_20211012_040200.dat'</pre></body></html>"
      ],
      "text/plain": [
       "filename = '/home/jovyan/ooi/uncabled/GI01SUMO/R00008/instruments/dcl12/FDCHP_sn144904/D202110/fdchp_20211012_040200.dat'"
      ]
     },
     "execution_count": 10,
     "metadata": {},
     "output_type": "execute_result"
    },
    {
     "name": "stdout",
     "output_type": "stream",
     "text": [
      "Processing file: 156 \n"
     ]
    },
    {
     "data": {
      "text/html": [
       "<html><body><pre>filename = '/home/jovyan/ooi/uncabled/GI01SUMO/R00008/instruments/dcl12/FDCHP_sn144904/D202110/fdchp_20211012_050200.dat'</pre></body></html>"
      ],
      "text/plain": [
       "filename = '/home/jovyan/ooi/uncabled/GI01SUMO/R00008/instruments/dcl12/FDCHP_sn144904/D202110/fdchp_20211012_050200.dat'"
      ]
     },
     "execution_count": 10,
     "metadata": {},
     "output_type": "execute_result"
    },
    {
     "name": "stdout",
     "output_type": "stream",
     "text": [
      "Processing file: 157 \n"
     ]
    },
    {
     "data": {
      "text/html": [
       "<html><body><pre>filename = '/home/jovyan/ooi/uncabled/GI01SUMO/R00008/instruments/dcl12/FDCHP_sn144904/D202110/fdchp_20211012_060200.dat'</pre></body></html>"
      ],
      "text/plain": [
       "filename = '/home/jovyan/ooi/uncabled/GI01SUMO/R00008/instruments/dcl12/FDCHP_sn144904/D202110/fdchp_20211012_060200.dat'"
      ]
     },
     "execution_count": 10,
     "metadata": {},
     "output_type": "execute_result"
    },
    {
     "name": "stdout",
     "output_type": "stream",
     "text": [
      "Processing file: 158 \n"
     ]
    },
    {
     "data": {
      "text/html": [
       "<html><body><pre>filename = '/home/jovyan/ooi/uncabled/GI01SUMO/R00008/instruments/dcl12/FDCHP_sn144904/D202110/fdchp_20211012_070200.dat'</pre></body></html>"
      ],
      "text/plain": [
       "filename = '/home/jovyan/ooi/uncabled/GI01SUMO/R00008/instruments/dcl12/FDCHP_sn144904/D202110/fdchp_20211012_070200.dat'"
      ]
     },
     "execution_count": 10,
     "metadata": {},
     "output_type": "execute_result"
    },
    {
     "name": "stdout",
     "output_type": "stream",
     "text": [
      "Processing file: 159 \n"
     ]
    },
    {
     "data": {
      "text/html": [
       "<html><body><pre>filename = '/home/jovyan/ooi/uncabled/GI01SUMO/R00008/instruments/dcl12/FDCHP_sn144904/D202110/fdchp_20211012_080200.dat'</pre></body></html>"
      ],
      "text/plain": [
       "filename = '/home/jovyan/ooi/uncabled/GI01SUMO/R00008/instruments/dcl12/FDCHP_sn144904/D202110/fdchp_20211012_080200.dat'"
      ]
     },
     "execution_count": 10,
     "metadata": {},
     "output_type": "execute_result"
    },
    {
     "name": "stdout",
     "output_type": "stream",
     "text": [
      "Processing file: 160 \n"
     ]
    },
    {
     "data": {
      "text/html": [
       "<html><body><pre>filename = '/home/jovyan/ooi/uncabled/GI01SUMO/R00008/instruments/dcl12/FDCHP_sn144904/D202110/fdchp_20211012_090200.dat'</pre></body></html>"
      ],
      "text/plain": [
       "filename = '/home/jovyan/ooi/uncabled/GI01SUMO/R00008/instruments/dcl12/FDCHP_sn144904/D202110/fdchp_20211012_090200.dat'"
      ]
     },
     "execution_count": 10,
     "metadata": {},
     "output_type": "execute_result"
    },
    {
     "name": "stdout",
     "output_type": "stream",
     "text": [
      "Processing file: 161 \n"
     ]
    },
    {
     "data": {
      "text/html": [
       "<html><body><pre>filename = '/home/jovyan/ooi/uncabled/GI01SUMO/R00008/instruments/dcl12/FDCHP_sn144904/D202110/fdchp_20211012_100200.dat'</pre></body></html>"
      ],
      "text/plain": [
       "filename = '/home/jovyan/ooi/uncabled/GI01SUMO/R00008/instruments/dcl12/FDCHP_sn144904/D202110/fdchp_20211012_100200.dat'"
      ]
     },
     "execution_count": 10,
     "metadata": {},
     "output_type": "execute_result"
    },
    {
     "name": "stdout",
     "output_type": "stream",
     "text": [
      "Processing file: 162 \n"
     ]
    },
    {
     "data": {
      "text/html": [
       "<html><body><pre>filename = '/home/jovyan/ooi/uncabled/GI01SUMO/R00008/instruments/dcl12/FDCHP_sn144904/D202110/fdchp_20211012_110200.dat'</pre></body></html>"
      ],
      "text/plain": [
       "filename = '/home/jovyan/ooi/uncabled/GI01SUMO/R00008/instruments/dcl12/FDCHP_sn144904/D202110/fdchp_20211012_110200.dat'"
      ]
     },
     "execution_count": 10,
     "metadata": {},
     "output_type": "execute_result"
    },
    {
     "name": "stdout",
     "output_type": "stream",
     "text": [
      "Processing file: 163 \n"
     ]
    },
    {
     "data": {
      "text/html": [
       "<html><body><pre>filename = '/home/jovyan/ooi/uncabled/GI01SUMO/R00008/instruments/dcl12/FDCHP_sn144904/D202110/fdchp_20211012_120200.dat'</pre></body></html>"
      ],
      "text/plain": [
       "filename = '/home/jovyan/ooi/uncabled/GI01SUMO/R00008/instruments/dcl12/FDCHP_sn144904/D202110/fdchp_20211012_120200.dat'"
      ]
     },
     "execution_count": 10,
     "metadata": {},
     "output_type": "execute_result"
    },
    {
     "name": "stdout",
     "output_type": "stream",
     "text": [
      "Processing file: 164 \n"
     ]
    },
    {
     "data": {
      "text/html": [
       "<html><body><pre>filename = '/home/jovyan/ooi/uncabled/GI01SUMO/R00008/instruments/dcl12/FDCHP_sn144904/D202110/fdchp_20211012_130200.dat'</pre></body></html>"
      ],
      "text/plain": [
       "filename = '/home/jovyan/ooi/uncabled/GI01SUMO/R00008/instruments/dcl12/FDCHP_sn144904/D202110/fdchp_20211012_130200.dat'"
      ]
     },
     "execution_count": 10,
     "metadata": {},
     "output_type": "execute_result"
    },
    {
     "name": "stdout",
     "output_type": "stream",
     "text": [
      "Processing file: 165 \n"
     ]
    },
    {
     "data": {
      "text/html": [
       "<html><body><pre>filename = '/home/jovyan/ooi/uncabled/GI01SUMO/R00008/instruments/dcl12/FDCHP_sn144904/D202110/fdchp_20211012_140200.dat'</pre></body></html>"
      ],
      "text/plain": [
       "filename = '/home/jovyan/ooi/uncabled/GI01SUMO/R00008/instruments/dcl12/FDCHP_sn144904/D202110/fdchp_20211012_140200.dat'"
      ]
     },
     "execution_count": 10,
     "metadata": {},
     "output_type": "execute_result"
    },
    {
     "name": "stdout",
     "output_type": "stream",
     "text": [
      "Processing file: 166 \n"
     ]
    },
    {
     "data": {
      "text/html": [
       "<html><body><pre>filename = '/home/jovyan/ooi/uncabled/GI01SUMO/R00008/instruments/dcl12/FDCHP_sn144904/D202110/fdchp_20211012_150200.dat'</pre></body></html>"
      ],
      "text/plain": [
       "filename = '/home/jovyan/ooi/uncabled/GI01SUMO/R00008/instruments/dcl12/FDCHP_sn144904/D202110/fdchp_20211012_150200.dat'"
      ]
     },
     "execution_count": 10,
     "metadata": {},
     "output_type": "execute_result"
    },
    {
     "name": "stdout",
     "output_type": "stream",
     "text": [
      "Processing file: 167 \n"
     ]
    },
    {
     "data": {
      "text/html": [
       "<html><body><pre>filename = '/home/jovyan/ooi/uncabled/GI01SUMO/R00008/instruments/dcl12/FDCHP_sn144904/D202110/fdchp_20211012_160200.dat'</pre></body></html>"
      ],
      "text/plain": [
       "filename = '/home/jovyan/ooi/uncabled/GI01SUMO/R00008/instruments/dcl12/FDCHP_sn144904/D202110/fdchp_20211012_160200.dat'"
      ]
     },
     "execution_count": 10,
     "metadata": {},
     "output_type": "execute_result"
    },
    {
     "name": "stdout",
     "output_type": "stream",
     "text": [
      "Processing file: 168 \n"
     ]
    },
    {
     "data": {
      "text/html": [
       "<html><body><pre>filename = '/home/jovyan/ooi/uncabled/GI01SUMO/R00008/instruments/dcl12/FDCHP_sn144904/D202110/fdchp_20211012_170200.dat'</pre></body></html>"
      ],
      "text/plain": [
       "filename = '/home/jovyan/ooi/uncabled/GI01SUMO/R00008/instruments/dcl12/FDCHP_sn144904/D202110/fdchp_20211012_170200.dat'"
      ]
     },
     "execution_count": 10,
     "metadata": {},
     "output_type": "execute_result"
    },
    {
     "name": "stdout",
     "output_type": "stream",
     "text": [
      "Processing file: 169 \n"
     ]
    },
    {
     "data": {
      "text/html": [
       "<html><body><pre>filename = '/home/jovyan/ooi/uncabled/GI01SUMO/R00008/instruments/dcl12/FDCHP_sn144904/D202110/fdchp_20211012_180200.dat'</pre></body></html>"
      ],
      "text/plain": [
       "filename = '/home/jovyan/ooi/uncabled/GI01SUMO/R00008/instruments/dcl12/FDCHP_sn144904/D202110/fdchp_20211012_180200.dat'"
      ]
     },
     "execution_count": 10,
     "metadata": {},
     "output_type": "execute_result"
    },
    {
     "name": "stdout",
     "output_type": "stream",
     "text": [
      "Processing file: 170 \n"
     ]
    },
    {
     "data": {
      "text/html": [
       "<html><body><pre>filename = '/home/jovyan/ooi/uncabled/GI01SUMO/R00008/instruments/dcl12/FDCHP_sn144904/D202110/fdchp_20211012_190200.dat'</pre></body></html>"
      ],
      "text/plain": [
       "filename = '/home/jovyan/ooi/uncabled/GI01SUMO/R00008/instruments/dcl12/FDCHP_sn144904/D202110/fdchp_20211012_190200.dat'"
      ]
     },
     "execution_count": 10,
     "metadata": {},
     "output_type": "execute_result"
    },
    {
     "name": "stdout",
     "output_type": "stream",
     "text": [
      "Processing file: 171 \n"
     ]
    },
    {
     "data": {
      "text/html": [
       "<html><body><pre>filename = '/home/jovyan/ooi/uncabled/GI01SUMO/R00008/instruments/dcl12/FDCHP_sn144904/D202110/fdchp_20211012_200200.dat'</pre></body></html>"
      ],
      "text/plain": [
       "filename = '/home/jovyan/ooi/uncabled/GI01SUMO/R00008/instruments/dcl12/FDCHP_sn144904/D202110/fdchp_20211012_200200.dat'"
      ]
     },
     "execution_count": 10,
     "metadata": {},
     "output_type": "execute_result"
    },
    {
     "name": "stdout",
     "output_type": "stream",
     "text": [
      "Processing file: 172 \n"
     ]
    },
    {
     "data": {
      "text/html": [
       "<html><body><pre>filename = '/home/jovyan/ooi/uncabled/GI01SUMO/R00008/instruments/dcl12/FDCHP_sn144904/D202110/fdchp_20211012_210200.dat'</pre></body></html>"
      ],
      "text/plain": [
       "filename = '/home/jovyan/ooi/uncabled/GI01SUMO/R00008/instruments/dcl12/FDCHP_sn144904/D202110/fdchp_20211012_210200.dat'"
      ]
     },
     "execution_count": 10,
     "metadata": {},
     "output_type": "execute_result"
    },
    {
     "name": "stdout",
     "output_type": "stream",
     "text": [
      "Processing file: 173 \n"
     ]
    },
    {
     "data": {
      "text/html": [
       "<html><body><pre>filename = '/home/jovyan/ooi/uncabled/GI01SUMO/R00008/instruments/dcl12/FDCHP_sn144904/D202110/fdchp_20211012_220200.dat'</pre></body></html>"
      ],
      "text/plain": [
       "filename = '/home/jovyan/ooi/uncabled/GI01SUMO/R00008/instruments/dcl12/FDCHP_sn144904/D202110/fdchp_20211012_220200.dat'"
      ]
     },
     "execution_count": 10,
     "metadata": {},
     "output_type": "execute_result"
    },
    {
     "name": "stdout",
     "output_type": "stream",
     "text": [
      "Processing file: 174 \n"
     ]
    },
    {
     "data": {
      "text/html": [
       "<html><body><pre>filename = '/home/jovyan/ooi/uncabled/GI01SUMO/R00008/instruments/dcl12/FDCHP_sn144904/D202110/fdchp_20211012_230200.dat'</pre></body></html>"
      ],
      "text/plain": [
       "filename = '/home/jovyan/ooi/uncabled/GI01SUMO/R00008/instruments/dcl12/FDCHP_sn144904/D202110/fdchp_20211012_230200.dat'"
      ]
     },
     "execution_count": 10,
     "metadata": {},
     "output_type": "execute_result"
    },
    {
     "name": "stdout",
     "output_type": "stream",
     "text": [
      "Processing file: 175 \n"
     ]
    },
    {
     "data": {
      "text/html": [
       "<html><body><pre>filename = '/home/jovyan/ooi/uncabled/GI01SUMO/R00008/instruments/dcl12/FDCHP_sn144904/D202110/fdchp_20211013_000200.dat'</pre></body></html>"
      ],
      "text/plain": [
       "filename = '/home/jovyan/ooi/uncabled/GI01SUMO/R00008/instruments/dcl12/FDCHP_sn144904/D202110/fdchp_20211013_000200.dat'"
      ]
     },
     "execution_count": 10,
     "metadata": {},
     "output_type": "execute_result"
    },
    {
     "name": "stdout",
     "output_type": "stream",
     "text": [
      "Processing file: 176 \n"
     ]
    },
    {
     "data": {
      "text/html": [
       "<html><body><pre>filename = '/home/jovyan/ooi/uncabled/GI01SUMO/R00008/instruments/dcl12/FDCHP_sn144904/D202110/fdchp_20211013_010200.dat'</pre></body></html>"
      ],
      "text/plain": [
       "filename = '/home/jovyan/ooi/uncabled/GI01SUMO/R00008/instruments/dcl12/FDCHP_sn144904/D202110/fdchp_20211013_010200.dat'"
      ]
     },
     "execution_count": 10,
     "metadata": {},
     "output_type": "execute_result"
    },
    {
     "name": "stdout",
     "output_type": "stream",
     "text": [
      "Bad Length\n"
     ]
    },
    {
     "data": {
      "text/html": [
       "<html><body><pre>msgText = \n",
       "    'Output argument \"rawdata\" (and possibly others) not assigned a value in the execution with \"fdchpread_raw\" function.\n",
       "     \n",
       "     Error in fdchpread_raw_from_file_list (line 60)\n",
       "                 [td,dd] = fdchpread_raw(filename);\n",
       "     \n",
       "     Error in LiveEditorEvaluationHelperEeditorId (line 1)\n",
       "     [uw, U, sigH] =  fdchpread_raw_from_file_list(file_list)\n",
       "     \n",
       "     Error in jupyter.execute (line 51)\n",
       "     resp = jsondecode(matlab.internal.editor.evaluateSynchronousRequest(request));\n",
       "     \n",
       "     Error in processJupyterKernelRequest (line 54)\n",
       "                 output = jupyter.execute(code, kernelId);\n",
       "     \n",
       "     Error in connector.internal.fevalMatlab\n",
       "     \n",
       "     Error in connector.internal.fevalJSON'\n",
       "</pre></body></html>"
      ],
      "text/plain": [
       "msgText = \n",
       "    'Output argument \"rawdata\" (and possibly others) not assigned a value in the execution with \"fdchpread_raw\" function.\n",
       "     \n",
       "     Error in fdchpread_raw_from_file_list (line 60)\n",
       "                 [td,dd] = fdchpread_raw(filename);\n",
       "     \n",
       "     Error in LiveEditorEvaluationHelperEeditorId (line 1)\n",
       "     [uw, U, sigH] =  fdchpread_raw_from_file_list(file_list)\n",
       "     \n",
       "     Error in jupyter.execute (line 51)\n",
       "     resp = jsondecode(matlab.internal.editor.evaluateSynchronousRequest(request));\n",
       "     \n",
       "     Error in processJupyterKernelRequest (line 54)\n",
       "                 output = jupyter.execute(code, kernelId);\n",
       "     \n",
       "     Error in connector.internal.fevalMatlab\n",
       "     \n",
       "     Error in connector.internal.fevalJSON'\n"
      ]
     },
     "execution_count": 10,
     "metadata": {},
     "output_type": "execute_result"
    },
    {
     "name": "stdout",
     "output_type": "stream",
     "text": [
      "    \"Error reading filename: \"    \"Output argument \"rawdata\" (and possibly others) not assigned a value in the execution with \"fdchpread_raw\" function....\"\n",
      "\n",
      "Processing file: 177 \n"
     ]
    },
    {
     "data": {
      "text/html": [
       "<html><body><pre>filename = '/home/jovyan/ooi/uncabled/GI01SUMO/R00008/instruments/dcl12/FDCHP_sn144904/D202110/fdchp_20211013_020200.dat'</pre></body></html>"
      ],
      "text/plain": [
       "filename = '/home/jovyan/ooi/uncabled/GI01SUMO/R00008/instruments/dcl12/FDCHP_sn144904/D202110/fdchp_20211013_020200.dat'"
      ]
     },
     "execution_count": 10,
     "metadata": {},
     "output_type": "execute_result"
    },
    {
     "name": "stdout",
     "output_type": "stream",
     "text": [
      "Processing file: 178 \n"
     ]
    },
    {
     "data": {
      "text/html": [
       "<html><body><pre>filename = '/home/jovyan/ooi/uncabled/GI01SUMO/R00008/instruments/dcl12/FDCHP_sn144904/D202110/fdchp_20211013_030200.dat'</pre></body></html>"
      ],
      "text/plain": [
       "filename = '/home/jovyan/ooi/uncabled/GI01SUMO/R00008/instruments/dcl12/FDCHP_sn144904/D202110/fdchp_20211013_030200.dat'"
      ]
     },
     "execution_count": 10,
     "metadata": {},
     "output_type": "execute_result"
    },
    {
     "name": "stdout",
     "output_type": "stream",
     "text": [
      "Bad Length\n"
     ]
    },
    {
     "data": {
      "text/html": [
       "<html><body><pre>msgText = \n",
       "    'Output argument \"rawdata\" (and possibly others) not assigned a value in the execution with \"fdchpread_raw\" function.\n",
       "     \n",
       "     Error in fdchpread_raw_from_file_list (line 60)\n",
       "                 [td,dd] = fdchpread_raw(filename);\n",
       "     \n",
       "     Error in LiveEditorEvaluationHelperEeditorId (line 1)\n",
       "     [uw, U, sigH] =  fdchpread_raw_from_file_list(file_list)\n",
       "     \n",
       "     Error in jupyter.execute (line 51)\n",
       "     resp = jsondecode(matlab.internal.editor.evaluateSynchronousRequest(request));\n",
       "     \n",
       "     Error in processJupyterKernelRequest (line 54)\n",
       "                 output = jupyter.execute(code, kernelId);\n",
       "     \n",
       "     Error in connector.internal.fevalMatlab\n",
       "     \n",
       "     Error in connector.internal.fevalJSON'\n",
       "</pre></body></html>"
      ],
      "text/plain": [
       "msgText = \n",
       "    'Output argument \"rawdata\" (and possibly others) not assigned a value in the execution with \"fdchpread_raw\" function.\n",
       "     \n",
       "     Error in fdchpread_raw_from_file_list (line 60)\n",
       "                 [td,dd] = fdchpread_raw(filename);\n",
       "     \n",
       "     Error in LiveEditorEvaluationHelperEeditorId (line 1)\n",
       "     [uw, U, sigH] =  fdchpread_raw_from_file_list(file_list)\n",
       "     \n",
       "     Error in jupyter.execute (line 51)\n",
       "     resp = jsondecode(matlab.internal.editor.evaluateSynchronousRequest(request));\n",
       "     \n",
       "     Error in processJupyterKernelRequest (line 54)\n",
       "                 output = jupyter.execute(code, kernelId);\n",
       "     \n",
       "     Error in connector.internal.fevalMatlab\n",
       "     \n",
       "     Error in connector.internal.fevalJSON'\n"
      ]
     },
     "execution_count": 10,
     "metadata": {},
     "output_type": "execute_result"
    },
    {
     "name": "stdout",
     "output_type": "stream",
     "text": [
      "    \"Error reading filename: \"    \"Output argument \"rawdata\" (and possibly others) not assigned a value in the execution with \"fdchpread_raw\" function....\"\n",
      "\n",
      "Processing file: 179 \n"
     ]
    },
    {
     "data": {
      "text/html": [
       "<html><body><pre>filename = '/home/jovyan/ooi/uncabled/GI01SUMO/R00008/instruments/dcl12/FDCHP_sn144904/D202110/fdchp_20211013_040200.dat'</pre></body></html>"
      ],
      "text/plain": [
       "filename = '/home/jovyan/ooi/uncabled/GI01SUMO/R00008/instruments/dcl12/FDCHP_sn144904/D202110/fdchp_20211013_040200.dat'"
      ]
     },
     "execution_count": 10,
     "metadata": {},
     "output_type": "execute_result"
    },
    {
     "name": "stdout",
     "output_type": "stream",
     "text": [
      "Processing file: 180 \n"
     ]
    },
    {
     "data": {
      "text/html": [
       "<html><body><pre>filename = '/home/jovyan/ooi/uncabled/GI01SUMO/R00008/instruments/dcl12/FDCHP_sn144904/D202110/fdchp_20211013_050200.dat'</pre></body></html>"
      ],
      "text/plain": [
       "filename = '/home/jovyan/ooi/uncabled/GI01SUMO/R00008/instruments/dcl12/FDCHP_sn144904/D202110/fdchp_20211013_050200.dat'"
      ]
     },
     "execution_count": 10,
     "metadata": {},
     "output_type": "execute_result"
    },
    {
     "name": "stdout",
     "output_type": "stream",
     "text": [
      "Processing file: 181 \n"
     ]
    },
    {
     "data": {
      "text/html": [
       "<html><body><pre>filename = '/home/jovyan/ooi/uncabled/GI01SUMO/R00008/instruments/dcl12/FDCHP_sn144904/D202110/fdchp_20211013_060200.dat'</pre></body></html>"
      ],
      "text/plain": [
       "filename = '/home/jovyan/ooi/uncabled/GI01SUMO/R00008/instruments/dcl12/FDCHP_sn144904/D202110/fdchp_20211013_060200.dat'"
      ]
     },
     "execution_count": 10,
     "metadata": {},
     "output_type": "execute_result"
    },
    {
     "name": "stdout",
     "output_type": "stream",
     "text": [
      "Processing file: 182 \n"
     ]
    },
    {
     "data": {
      "text/html": [
       "<html><body><pre>filename = '/home/jovyan/ooi/uncabled/GI01SUMO/R00008/instruments/dcl12/FDCHP_sn144904/D202110/fdchp_20211013_070200.dat'</pre></body></html>"
      ],
      "text/plain": [
       "filename = '/home/jovyan/ooi/uncabled/GI01SUMO/R00008/instruments/dcl12/FDCHP_sn144904/D202110/fdchp_20211013_070200.dat'"
      ]
     },
     "execution_count": 10,
     "metadata": {},
     "output_type": "execute_result"
    },
    {
     "name": "stdout",
     "output_type": "stream",
     "text": [
      "Processing file: 183 \n"
     ]
    },
    {
     "data": {
      "text/html": [
       "<html><body><pre>filename = '/home/jovyan/ooi/uncabled/GI01SUMO/R00008/instruments/dcl12/FDCHP_sn144904/D202110/fdchp_20211013_080200.dat'</pre></body></html>"
      ],
      "text/plain": [
       "filename = '/home/jovyan/ooi/uncabled/GI01SUMO/R00008/instruments/dcl12/FDCHP_sn144904/D202110/fdchp_20211013_080200.dat'"
      ]
     },
     "execution_count": 10,
     "metadata": {},
     "output_type": "execute_result"
    },
    {
     "name": "stdout",
     "output_type": "stream",
     "text": [
      "Processing file: 184 \n"
     ]
    },
    {
     "data": {
      "text/html": [
       "<html><body><pre>filename = '/home/jovyan/ooi/uncabled/GI01SUMO/R00008/instruments/dcl12/FDCHP_sn144904/D202110/fdchp_20211013_090200.dat'</pre></body></html>"
      ],
      "text/plain": [
       "filename = '/home/jovyan/ooi/uncabled/GI01SUMO/R00008/instruments/dcl12/FDCHP_sn144904/D202110/fdchp_20211013_090200.dat'"
      ]
     },
     "execution_count": 10,
     "metadata": {},
     "output_type": "execute_result"
    },
    {
     "name": "stdout",
     "output_type": "stream",
     "text": [
      "Processing file: 185 \n"
     ]
    },
    {
     "data": {
      "text/html": [
       "<html><body><pre>filename = '/home/jovyan/ooi/uncabled/GI01SUMO/R00008/instruments/dcl12/FDCHP_sn144904/D202110/fdchp_20211013_100200.dat'</pre></body></html>"
      ],
      "text/plain": [
       "filename = '/home/jovyan/ooi/uncabled/GI01SUMO/R00008/instruments/dcl12/FDCHP_sn144904/D202110/fdchp_20211013_100200.dat'"
      ]
     },
     "execution_count": 10,
     "metadata": {},
     "output_type": "execute_result"
    },
    {
     "name": "stdout",
     "output_type": "stream",
     "text": [
      "Processing file: 186 \n"
     ]
    },
    {
     "data": {
      "text/html": [
       "<html><body><pre>filename = '/home/jovyan/ooi/uncabled/GI01SUMO/R00008/instruments/dcl12/FDCHP_sn144904/D202110/fdchp_20211013_110200.dat'</pre></body></html>"
      ],
      "text/plain": [
       "filename = '/home/jovyan/ooi/uncabled/GI01SUMO/R00008/instruments/dcl12/FDCHP_sn144904/D202110/fdchp_20211013_110200.dat'"
      ]
     },
     "execution_count": 10,
     "metadata": {},
     "output_type": "execute_result"
    },
    {
     "name": "stdout",
     "output_type": "stream",
     "text": [
      "Processing file: 187 \n"
     ]
    },
    {
     "data": {
      "text/html": [
       "<html><body><pre>filename = '/home/jovyan/ooi/uncabled/GI01SUMO/R00008/instruments/dcl12/FDCHP_sn144904/D202110/fdchp_20211013_120200.dat'</pre></body></html>"
      ],
      "text/plain": [
       "filename = '/home/jovyan/ooi/uncabled/GI01SUMO/R00008/instruments/dcl12/FDCHP_sn144904/D202110/fdchp_20211013_120200.dat'"
      ]
     },
     "execution_count": 10,
     "metadata": {},
     "output_type": "execute_result"
    },
    {
     "name": "stdout",
     "output_type": "stream",
     "text": [
      "Processing file: 188 \n"
     ]
    },
    {
     "data": {
      "text/html": [
       "<html><body><pre>filename = '/home/jovyan/ooi/uncabled/GI01SUMO/R00008/instruments/dcl12/FDCHP_sn144904/D202110/fdchp_20211013_130200.dat'</pre></body></html>"
      ],
      "text/plain": [
       "filename = '/home/jovyan/ooi/uncabled/GI01SUMO/R00008/instruments/dcl12/FDCHP_sn144904/D202110/fdchp_20211013_130200.dat'"
      ]
     },
     "execution_count": 10,
     "metadata": {},
     "output_type": "execute_result"
    },
    {
     "name": "stdout",
     "output_type": "stream",
     "text": [
      "Processing file: 189 \n"
     ]
    },
    {
     "data": {
      "text/html": [
       "<html><body><pre>filename = '/home/jovyan/ooi/uncabled/GI01SUMO/R00008/instruments/dcl12/FDCHP_sn144904/D202110/fdchp_20211013_140200.dat'</pre></body></html>"
      ],
      "text/plain": [
       "filename = '/home/jovyan/ooi/uncabled/GI01SUMO/R00008/instruments/dcl12/FDCHP_sn144904/D202110/fdchp_20211013_140200.dat'"
      ]
     },
     "execution_count": 10,
     "metadata": {},
     "output_type": "execute_result"
    },
    {
     "name": "stdout",
     "output_type": "stream",
     "text": [
      "Processing file: 190 \n"
     ]
    },
    {
     "data": {
      "text/html": [
       "<html><body><pre>filename = '/home/jovyan/ooi/uncabled/GI01SUMO/R00008/instruments/dcl12/FDCHP_sn144904/D202110/fdchp_20211013_150200.dat'</pre></body></html>"
      ],
      "text/plain": [
       "filename = '/home/jovyan/ooi/uncabled/GI01SUMO/R00008/instruments/dcl12/FDCHP_sn144904/D202110/fdchp_20211013_150200.dat'"
      ]
     },
     "execution_count": 10,
     "metadata": {},
     "output_type": "execute_result"
    },
    {
     "name": "stdout",
     "output_type": "stream",
     "text": [
      "Processing file: 191 \n"
     ]
    },
    {
     "data": {
      "text/html": [
       "<html><body><pre>filename = '/home/jovyan/ooi/uncabled/GI01SUMO/R00008/instruments/dcl12/FDCHP_sn144904/D202110/fdchp_20211013_160200.dat'</pre></body></html>"
      ],
      "text/plain": [
       "filename = '/home/jovyan/ooi/uncabled/GI01SUMO/R00008/instruments/dcl12/FDCHP_sn144904/D202110/fdchp_20211013_160200.dat'"
      ]
     },
     "execution_count": 10,
     "metadata": {},
     "output_type": "execute_result"
    },
    {
     "name": "stdout",
     "output_type": "stream",
     "text": [
      "Processing file: 192 \n"
     ]
    },
    {
     "data": {
      "text/html": [
       "<html><body><pre>filename = '/home/jovyan/ooi/uncabled/GI01SUMO/R00008/instruments/dcl12/FDCHP_sn144904/D202110/fdchp_20211013_170200.dat'</pre></body></html>"
      ],
      "text/plain": [
       "filename = '/home/jovyan/ooi/uncabled/GI01SUMO/R00008/instruments/dcl12/FDCHP_sn144904/D202110/fdchp_20211013_170200.dat'"
      ]
     },
     "execution_count": 10,
     "metadata": {},
     "output_type": "execute_result"
    },
    {
     "name": "stdout",
     "output_type": "stream",
     "text": [
      "Processing file: 193 \n"
     ]
    },
    {
     "data": {
      "text/html": [
       "<html><body><pre>filename = '/home/jovyan/ooi/uncabled/GI01SUMO/R00008/instruments/dcl12/FDCHP_sn144904/D202110/fdchp_20211013_180200.dat'</pre></body></html>"
      ],
      "text/plain": [
       "filename = '/home/jovyan/ooi/uncabled/GI01SUMO/R00008/instruments/dcl12/FDCHP_sn144904/D202110/fdchp_20211013_180200.dat'"
      ]
     },
     "execution_count": 10,
     "metadata": {},
     "output_type": "execute_result"
    },
    {
     "name": "stdout",
     "output_type": "stream",
     "text": [
      "Bad Length\n"
     ]
    },
    {
     "data": {
      "text/html": [
       "<html><body><pre>msgText = \n",
       "    'Output argument \"rawdata\" (and possibly others) not assigned a value in the execution with \"fdchpread_raw\" function.\n",
       "     \n",
       "     Error in fdchpread_raw_from_file_list (line 60)\n",
       "                 [td,dd] = fdchpread_raw(filename);\n",
       "     \n",
       "     Error in LiveEditorEvaluationHelperEeditorId (line 1)\n",
       "     [uw, U, sigH] =  fdchpread_raw_from_file_list(file_list)\n",
       "     \n",
       "     Error in jupyter.execute (line 51)\n",
       "     resp = jsondecode(matlab.internal.editor.evaluateSynchronousRequest(request));\n",
       "     \n",
       "     Error in processJupyterKernelRequest (line 54)\n",
       "                 output = jupyter.execute(code, kernelId);\n",
       "     \n",
       "     Error in connector.internal.fevalMatlab\n",
       "     \n",
       "     Error in connector.internal.fevalJSON'\n",
       "</pre></body></html>"
      ],
      "text/plain": [
       "msgText = \n",
       "    'Output argument \"rawdata\" (and possibly others) not assigned a value in the execution with \"fdchpread_raw\" function.\n",
       "     \n",
       "     Error in fdchpread_raw_from_file_list (line 60)\n",
       "                 [td,dd] = fdchpread_raw(filename);\n",
       "     \n",
       "     Error in LiveEditorEvaluationHelperEeditorId (line 1)\n",
       "     [uw, U, sigH] =  fdchpread_raw_from_file_list(file_list)\n",
       "     \n",
       "     Error in jupyter.execute (line 51)\n",
       "     resp = jsondecode(matlab.internal.editor.evaluateSynchronousRequest(request));\n",
       "     \n",
       "     Error in processJupyterKernelRequest (line 54)\n",
       "                 output = jupyter.execute(code, kernelId);\n",
       "     \n",
       "     Error in connector.internal.fevalMatlab\n",
       "     \n",
       "     Error in connector.internal.fevalJSON'\n"
      ]
     },
     "execution_count": 10,
     "metadata": {},
     "output_type": "execute_result"
    },
    {
     "name": "stdout",
     "output_type": "stream",
     "text": [
      "    \"Error reading filename: \"    \"Output argument \"rawdata\" (and possibly others) not assigned a value in the execution with \"fdchpread_raw\" function....\"\n",
      "\n",
      "Processing file: 194 \n"
     ]
    },
    {
     "data": {
      "text/html": [
       "<html><body><pre>filename = '/home/jovyan/ooi/uncabled/GI01SUMO/R00008/instruments/dcl12/FDCHP_sn144904/D202110/fdchp_20211013_190200.dat'</pre></body></html>"
      ],
      "text/plain": [
       "filename = '/home/jovyan/ooi/uncabled/GI01SUMO/R00008/instruments/dcl12/FDCHP_sn144904/D202110/fdchp_20211013_190200.dat'"
      ]
     },
     "execution_count": 10,
     "metadata": {},
     "output_type": "execute_result"
    },
    {
     "name": "stdout",
     "output_type": "stream",
     "text": [
      "Processing file: 195 \n"
     ]
    },
    {
     "data": {
      "text/html": [
       "<html><body><pre>filename = '/home/jovyan/ooi/uncabled/GI01SUMO/R00008/instruments/dcl12/FDCHP_sn144904/D202110/fdchp_20211013_200200.dat'</pre></body></html>"
      ],
      "text/plain": [
       "filename = '/home/jovyan/ooi/uncabled/GI01SUMO/R00008/instruments/dcl12/FDCHP_sn144904/D202110/fdchp_20211013_200200.dat'"
      ]
     },
     "execution_count": 10,
     "metadata": {},
     "output_type": "execute_result"
    },
    {
     "name": "stdout",
     "output_type": "stream",
     "text": [
      "Processing file: 196 \n"
     ]
    },
    {
     "data": {
      "text/html": [
       "<html><body><pre>filename = '/home/jovyan/ooi/uncabled/GI01SUMO/R00008/instruments/dcl12/FDCHP_sn144904/D202110/fdchp_20211013_210200.dat'</pre></body></html>"
      ],
      "text/plain": [
       "filename = '/home/jovyan/ooi/uncabled/GI01SUMO/R00008/instruments/dcl12/FDCHP_sn144904/D202110/fdchp_20211013_210200.dat'"
      ]
     },
     "execution_count": 10,
     "metadata": {},
     "output_type": "execute_result"
    },
    {
     "name": "stdout",
     "output_type": "stream",
     "text": [
      "Bad Length\n"
     ]
    },
    {
     "data": {
      "text/html": [
       "<html><body><pre>msgText = \n",
       "    'Output argument \"rawdata\" (and possibly others) not assigned a value in the execution with \"fdchpread_raw\" function.\n",
       "     \n",
       "     Error in fdchpread_raw_from_file_list (line 60)\n",
       "                 [td,dd] = fdchpread_raw(filename);\n",
       "     \n",
       "     Error in LiveEditorEvaluationHelperEeditorId (line 1)\n",
       "     [uw, U, sigH] =  fdchpread_raw_from_file_list(file_list)\n",
       "     \n",
       "     Error in jupyter.execute (line 51)\n",
       "     resp = jsondecode(matlab.internal.editor.evaluateSynchronousRequest(request));\n",
       "     \n",
       "     Error in processJupyterKernelRequest (line 54)\n",
       "                 output = jupyter.execute(code, kernelId);\n",
       "     \n",
       "     Error in connector.internal.fevalMatlab\n",
       "     \n",
       "     Error in connector.internal.fevalJSON'\n",
       "</pre></body></html>"
      ],
      "text/plain": [
       "msgText = \n",
       "    'Output argument \"rawdata\" (and possibly others) not assigned a value in the execution with \"fdchpread_raw\" function.\n",
       "     \n",
       "     Error in fdchpread_raw_from_file_list (line 60)\n",
       "                 [td,dd] = fdchpread_raw(filename);\n",
       "     \n",
       "     Error in LiveEditorEvaluationHelperEeditorId (line 1)\n",
       "     [uw, U, sigH] =  fdchpread_raw_from_file_list(file_list)\n",
       "     \n",
       "     Error in jupyter.execute (line 51)\n",
       "     resp = jsondecode(matlab.internal.editor.evaluateSynchronousRequest(request));\n",
       "     \n",
       "     Error in processJupyterKernelRequest (line 54)\n",
       "                 output = jupyter.execute(code, kernelId);\n",
       "     \n",
       "     Error in connector.internal.fevalMatlab\n",
       "     \n",
       "     Error in connector.internal.fevalJSON'\n"
      ]
     },
     "execution_count": 10,
     "metadata": {},
     "output_type": "execute_result"
    },
    {
     "name": "stdout",
     "output_type": "stream",
     "text": [
      "    \"Error reading filename: \"    \"Output argument \"rawdata\" (and possibly others) not assigned a value in the execution with \"fdchpread_raw\" function....\"\n",
      "\n",
      "Processing file: 197 \n"
     ]
    },
    {
     "data": {
      "text/html": [
       "<html><body><pre>filename = '/home/jovyan/ooi/uncabled/GI01SUMO/R00008/instruments/dcl12/FDCHP_sn144904/D202110/fdchp_20211013_220200.dat'</pre></body></html>"
      ],
      "text/plain": [
       "filename = '/home/jovyan/ooi/uncabled/GI01SUMO/R00008/instruments/dcl12/FDCHP_sn144904/D202110/fdchp_20211013_220200.dat'"
      ]
     },
     "execution_count": 10,
     "metadata": {},
     "output_type": "execute_result"
    },
    {
     "name": "stdout",
     "output_type": "stream",
     "text": [
      "Processing file: 198 \n"
     ]
    },
    {
     "data": {
      "text/html": [
       "<html><body><pre>filename = '/home/jovyan/ooi/uncabled/GI01SUMO/R00008/instruments/dcl12/FDCHP_sn144904/D202110/fdchp_20211013_230200.dat'</pre></body></html>"
      ],
      "text/plain": [
       "filename = '/home/jovyan/ooi/uncabled/GI01SUMO/R00008/instruments/dcl12/FDCHP_sn144904/D202110/fdchp_20211013_230200.dat'"
      ]
     },
     "execution_count": 10,
     "metadata": {},
     "output_type": "execute_result"
    },
    {
     "name": "stdout",
     "output_type": "stream",
     "text": [
      "Processing file: 199 \n"
     ]
    },
    {
     "data": {
      "text/html": [
       "<html><body><pre>filename = '/home/jovyan/ooi/uncabled/GI01SUMO/R00008/instruments/dcl12/FDCHP_sn144904/D202110/fdchp_20211014_000200.dat'</pre></body></html>"
      ],
      "text/plain": [
       "filename = '/home/jovyan/ooi/uncabled/GI01SUMO/R00008/instruments/dcl12/FDCHP_sn144904/D202110/fdchp_20211014_000200.dat'"
      ]
     },
     "execution_count": 10,
     "metadata": {},
     "output_type": "execute_result"
    },
    {
     "name": "stdout",
     "output_type": "stream",
     "text": [
      "Processing file: 200 \n"
     ]
    },
    {
     "data": {
      "text/html": [
       "<html><body><pre>filename = '/home/jovyan/ooi/uncabled/GI01SUMO/R00008/instruments/dcl12/FDCHP_sn144904/D202110/fdchp_20211014_010200.dat'</pre></body></html>"
      ],
      "text/plain": [
       "filename = '/home/jovyan/ooi/uncabled/GI01SUMO/R00008/instruments/dcl12/FDCHP_sn144904/D202110/fdchp_20211014_010200.dat'"
      ]
     },
     "execution_count": 10,
     "metadata": {},
     "output_type": "execute_result"
    },
    {
     "name": "stdout",
     "output_type": "stream",
     "text": [
      "Processing file: 201 \n"
     ]
    },
    {
     "data": {
      "text/html": [
       "<html><body><pre>filename = '/home/jovyan/ooi/uncabled/GI01SUMO/R00008/instruments/dcl12/FDCHP_sn144904/D202110/fdchp_20211014_020200.dat'</pre></body></html>"
      ],
      "text/plain": [
       "filename = '/home/jovyan/ooi/uncabled/GI01SUMO/R00008/instruments/dcl12/FDCHP_sn144904/D202110/fdchp_20211014_020200.dat'"
      ]
     },
     "execution_count": 10,
     "metadata": {},
     "output_type": "execute_result"
    },
    {
     "name": "stdout",
     "output_type": "stream",
     "text": [
      "Processing file: 202 \n"
     ]
    },
    {
     "data": {
      "text/html": [
       "<html><body><pre>filename = '/home/jovyan/ooi/uncabled/GI01SUMO/R00008/instruments/dcl12/FDCHP_sn144904/D202110/fdchp_20211014_030200.dat'</pre></body></html>"
      ],
      "text/plain": [
       "filename = '/home/jovyan/ooi/uncabled/GI01SUMO/R00008/instruments/dcl12/FDCHP_sn144904/D202110/fdchp_20211014_030200.dat'"
      ]
     },
     "execution_count": 10,
     "metadata": {},
     "output_type": "execute_result"
    },
    {
     "name": "stdout",
     "output_type": "stream",
     "text": [
      "Processing file: 203 \n"
     ]
    },
    {
     "data": {
      "text/html": [
       "<html><body><pre>filename = '/home/jovyan/ooi/uncabled/GI01SUMO/R00008/instruments/dcl12/FDCHP_sn144904/D202110/fdchp_20211014_040200.dat'</pre></body></html>"
      ],
      "text/plain": [
       "filename = '/home/jovyan/ooi/uncabled/GI01SUMO/R00008/instruments/dcl12/FDCHP_sn144904/D202110/fdchp_20211014_040200.dat'"
      ]
     },
     "execution_count": 10,
     "metadata": {},
     "output_type": "execute_result"
    },
    {
     "name": "stdout",
     "output_type": "stream",
     "text": [
      "Processing file: 204 \n"
     ]
    },
    {
     "data": {
      "text/html": [
       "<html><body><pre>filename = '/home/jovyan/ooi/uncabled/GI01SUMO/R00008/instruments/dcl12/FDCHP_sn144904/D202110/fdchp_20211014_050200.dat'</pre></body></html>"
      ],
      "text/plain": [
       "filename = '/home/jovyan/ooi/uncabled/GI01SUMO/R00008/instruments/dcl12/FDCHP_sn144904/D202110/fdchp_20211014_050200.dat'"
      ]
     },
     "execution_count": 10,
     "metadata": {},
     "output_type": "execute_result"
    },
    {
     "name": "stdout",
     "output_type": "stream",
     "text": [
      "Processing file: 205 \n"
     ]
    },
    {
     "data": {
      "text/html": [
       "<html><body><pre>filename = '/home/jovyan/ooi/uncabled/GI01SUMO/R00008/instruments/dcl12/FDCHP_sn144904/D202110/fdchp_20211014_060200.dat'</pre></body></html>"
      ],
      "text/plain": [
       "filename = '/home/jovyan/ooi/uncabled/GI01SUMO/R00008/instruments/dcl12/FDCHP_sn144904/D202110/fdchp_20211014_060200.dat'"
      ]
     },
     "execution_count": 10,
     "metadata": {},
     "output_type": "execute_result"
    },
    {
     "name": "stdout",
     "output_type": "stream",
     "text": [
      "Processing file: 206 \n"
     ]
    },
    {
     "data": {
      "text/html": [
       "<html><body><pre>filename = '/home/jovyan/ooi/uncabled/GI01SUMO/R00008/instruments/dcl12/FDCHP_sn144904/D202110/fdchp_20211014_070200.dat'</pre></body></html>"
      ],
      "text/plain": [
       "filename = '/home/jovyan/ooi/uncabled/GI01SUMO/R00008/instruments/dcl12/FDCHP_sn144904/D202110/fdchp_20211014_070200.dat'"
      ]
     },
     "execution_count": 10,
     "metadata": {},
     "output_type": "execute_result"
    },
    {
     "name": "stdout",
     "output_type": "stream",
     "text": [
      "Bad Length\n"
     ]
    },
    {
     "data": {
      "text/html": [
       "<html><body><pre>msgText = \n",
       "    'Output argument \"rawdata\" (and possibly others) not assigned a value in the execution with \"fdchpread_raw\" function.\n",
       "     \n",
       "     Error in fdchpread_raw_from_file_list (line 60)\n",
       "                 [td,dd] = fdchpread_raw(filename);\n",
       "     \n",
       "     Error in LiveEditorEvaluationHelperEeditorId (line 1)\n",
       "     [uw, U, sigH] =  fdchpread_raw_from_file_list(file_list)\n",
       "     \n",
       "     Error in jupyter.execute (line 51)\n",
       "     resp = jsondecode(matlab.internal.editor.evaluateSynchronousRequest(request));\n",
       "     \n",
       "     Error in processJupyterKernelRequest (line 54)\n",
       "                 output = jupyter.execute(code, kernelId);\n",
       "     \n",
       "     Error in connector.internal.fevalMatlab\n",
       "     \n",
       "     Error in connector.internal.fevalJSON'\n",
       "</pre></body></html>"
      ],
      "text/plain": [
       "msgText = \n",
       "    'Output argument \"rawdata\" (and possibly others) not assigned a value in the execution with \"fdchpread_raw\" function.\n",
       "     \n",
       "     Error in fdchpread_raw_from_file_list (line 60)\n",
       "                 [td,dd] = fdchpread_raw(filename);\n",
       "     \n",
       "     Error in LiveEditorEvaluationHelperEeditorId (line 1)\n",
       "     [uw, U, sigH] =  fdchpread_raw_from_file_list(file_list)\n",
       "     \n",
       "     Error in jupyter.execute (line 51)\n",
       "     resp = jsondecode(matlab.internal.editor.evaluateSynchronousRequest(request));\n",
       "     \n",
       "     Error in processJupyterKernelRequest (line 54)\n",
       "                 output = jupyter.execute(code, kernelId);\n",
       "     \n",
       "     Error in connector.internal.fevalMatlab\n",
       "     \n",
       "     Error in connector.internal.fevalJSON'\n"
      ]
     },
     "execution_count": 10,
     "metadata": {},
     "output_type": "execute_result"
    },
    {
     "name": "stdout",
     "output_type": "stream",
     "text": [
      "    \"Error reading filename: \"    \"Output argument \"rawdata\" (and possibly others) not assigned a value in the execution with \"fdchpread_raw\" function....\"\n",
      "\n",
      "Processing file: 207 \n"
     ]
    },
    {
     "data": {
      "text/html": [
       "<html><body><pre>filename = '/home/jovyan/ooi/uncabled/GI01SUMO/R00008/instruments/dcl12/FDCHP_sn144904/D202110/fdchp_20211014_080200.dat'</pre></body></html>"
      ],
      "text/plain": [
       "filename = '/home/jovyan/ooi/uncabled/GI01SUMO/R00008/instruments/dcl12/FDCHP_sn144904/D202110/fdchp_20211014_080200.dat'"
      ]
     },
     "execution_count": 10,
     "metadata": {},
     "output_type": "execute_result"
    },
    {
     "name": "stdout",
     "output_type": "stream",
     "text": [
      "Processing file: 208 \n"
     ]
    },
    {
     "data": {
      "text/html": [
       "<html><body><pre>filename = '/home/jovyan/ooi/uncabled/GI01SUMO/R00008/instruments/dcl12/FDCHP_sn144904/D202110/fdchp_20211014_090200.dat'</pre></body></html>"
      ],
      "text/plain": [
       "filename = '/home/jovyan/ooi/uncabled/GI01SUMO/R00008/instruments/dcl12/FDCHP_sn144904/D202110/fdchp_20211014_090200.dat'"
      ]
     },
     "execution_count": 10,
     "metadata": {},
     "output_type": "execute_result"
    },
    {
     "name": "stdout",
     "output_type": "stream",
     "text": [
      "Processing file: 209 \n"
     ]
    },
    {
     "data": {
      "text/html": [
       "<html><body><pre>filename = '/home/jovyan/ooi/uncabled/GI01SUMO/R00008/instruments/dcl12/FDCHP_sn144904/D202110/fdchp_20211014_100200.dat'</pre></body></html>"
      ],
      "text/plain": [
       "filename = '/home/jovyan/ooi/uncabled/GI01SUMO/R00008/instruments/dcl12/FDCHP_sn144904/D202110/fdchp_20211014_100200.dat'"
      ]
     },
     "execution_count": 10,
     "metadata": {},
     "output_type": "execute_result"
    },
    {
     "name": "stdout",
     "output_type": "stream",
     "text": [
      "Processing file: 210 \n"
     ]
    },
    {
     "data": {
      "text/html": [
       "<html><body><pre>filename = '/home/jovyan/ooi/uncabled/GI01SUMO/R00008/instruments/dcl12/FDCHP_sn144904/D202110/fdchp_20211014_110200.dat'</pre></body></html>"
      ],
      "text/plain": [
       "filename = '/home/jovyan/ooi/uncabled/GI01SUMO/R00008/instruments/dcl12/FDCHP_sn144904/D202110/fdchp_20211014_110200.dat'"
      ]
     },
     "execution_count": 10,
     "metadata": {},
     "output_type": "execute_result"
    },
    {
     "name": "stdout",
     "output_type": "stream",
     "text": [
      "Processing file: 211 \n"
     ]
    },
    {
     "data": {
      "text/html": [
       "<html><body><pre>filename = '/home/jovyan/ooi/uncabled/GI01SUMO/R00008/instruments/dcl12/FDCHP_sn144904/D202110/fdchp_20211014_120200.dat'</pre></body></html>"
      ],
      "text/plain": [
       "filename = '/home/jovyan/ooi/uncabled/GI01SUMO/R00008/instruments/dcl12/FDCHP_sn144904/D202110/fdchp_20211014_120200.dat'"
      ]
     },
     "execution_count": 10,
     "metadata": {},
     "output_type": "execute_result"
    },
    {
     "name": "stdout",
     "output_type": "stream",
     "text": [
      "Processing file: 212 \n"
     ]
    },
    {
     "data": {
      "text/html": [
       "<html><body><pre>filename = '/home/jovyan/ooi/uncabled/GI01SUMO/R00008/instruments/dcl12/FDCHP_sn144904/D202110/fdchp_20211014_130200.dat'</pre></body></html>"
      ],
      "text/plain": [
       "filename = '/home/jovyan/ooi/uncabled/GI01SUMO/R00008/instruments/dcl12/FDCHP_sn144904/D202110/fdchp_20211014_130200.dat'"
      ]
     },
     "execution_count": 10,
     "metadata": {},
     "output_type": "execute_result"
    },
    {
     "name": "stdout",
     "output_type": "stream",
     "text": [
      "Processing file: 213 \n"
     ]
    },
    {
     "data": {
      "text/html": [
       "<html><body><pre>filename = '/home/jovyan/ooi/uncabled/GI01SUMO/R00008/instruments/dcl12/FDCHP_sn144904/D202110/fdchp_20211014_140200.dat'</pre></body></html>"
      ],
      "text/plain": [
       "filename = '/home/jovyan/ooi/uncabled/GI01SUMO/R00008/instruments/dcl12/FDCHP_sn144904/D202110/fdchp_20211014_140200.dat'"
      ]
     },
     "execution_count": 10,
     "metadata": {},
     "output_type": "execute_result"
    },
    {
     "name": "stdout",
     "output_type": "stream",
     "text": [
      "Processing file: 214 \n"
     ]
    },
    {
     "data": {
      "text/html": [
       "<html><body><pre>filename = '/home/jovyan/ooi/uncabled/GI01SUMO/R00008/instruments/dcl12/FDCHP_sn144904/D202110/fdchp_20211014_150200.dat'</pre></body></html>"
      ],
      "text/plain": [
       "filename = '/home/jovyan/ooi/uncabled/GI01SUMO/R00008/instruments/dcl12/FDCHP_sn144904/D202110/fdchp_20211014_150200.dat'"
      ]
     },
     "execution_count": 10,
     "metadata": {},
     "output_type": "execute_result"
    },
    {
     "name": "stdout",
     "output_type": "stream",
     "text": [
      "Processing file: 215 \n"
     ]
    },
    {
     "data": {
      "text/html": [
       "<html><body><pre>filename = '/home/jovyan/ooi/uncabled/GI01SUMO/R00008/instruments/dcl12/FDCHP_sn144904/D202110/fdchp_20211014_160200.dat'</pre></body></html>"
      ],
      "text/plain": [
       "filename = '/home/jovyan/ooi/uncabled/GI01SUMO/R00008/instruments/dcl12/FDCHP_sn144904/D202110/fdchp_20211014_160200.dat'"
      ]
     },
     "execution_count": 10,
     "metadata": {},
     "output_type": "execute_result"
    },
    {
     "name": "stdout",
     "output_type": "stream",
     "text": [
      "Processing file: 216 \n"
     ]
    },
    {
     "data": {
      "text/html": [
       "<html><body><pre>filename = '/home/jovyan/ooi/uncabled/GI01SUMO/R00008/instruments/dcl12/FDCHP_sn144904/D202110/fdchp_20211014_170200.dat'</pre></body></html>"
      ],
      "text/plain": [
       "filename = '/home/jovyan/ooi/uncabled/GI01SUMO/R00008/instruments/dcl12/FDCHP_sn144904/D202110/fdchp_20211014_170200.dat'"
      ]
     },
     "execution_count": 10,
     "metadata": {},
     "output_type": "execute_result"
    },
    {
     "name": "stdout",
     "output_type": "stream",
     "text": [
      "Processing file: 217 \n"
     ]
    },
    {
     "data": {
      "text/html": [
       "<html><body><pre>filename = '/home/jovyan/ooi/uncabled/GI01SUMO/R00008/instruments/dcl12/FDCHP_sn144904/D202110/fdchp_20211014_180200.dat'</pre></body></html>"
      ],
      "text/plain": [
       "filename = '/home/jovyan/ooi/uncabled/GI01SUMO/R00008/instruments/dcl12/FDCHP_sn144904/D202110/fdchp_20211014_180200.dat'"
      ]
     },
     "execution_count": 10,
     "metadata": {},
     "output_type": "execute_result"
    },
    {
     "name": "stdout",
     "output_type": "stream",
     "text": [
      "Processing file: 218 \n"
     ]
    },
    {
     "data": {
      "text/html": [
       "<html><body><pre>filename = '/home/jovyan/ooi/uncabled/GI01SUMO/R00008/instruments/dcl12/FDCHP_sn144904/D202110/fdchp_20211014_190200.dat'</pre></body></html>"
      ],
      "text/plain": [
       "filename = '/home/jovyan/ooi/uncabled/GI01SUMO/R00008/instruments/dcl12/FDCHP_sn144904/D202110/fdchp_20211014_190200.dat'"
      ]
     },
     "execution_count": 10,
     "metadata": {},
     "output_type": "execute_result"
    },
    {
     "name": "stdout",
     "output_type": "stream",
     "text": [
      "Processing file: 219 \n"
     ]
    },
    {
     "data": {
      "text/html": [
       "<html><body><pre>filename = '/home/jovyan/ooi/uncabled/GI01SUMO/R00008/instruments/dcl12/FDCHP_sn144904/D202110/fdchp_20211014_200200.dat'</pre></body></html>"
      ],
      "text/plain": [
       "filename = '/home/jovyan/ooi/uncabled/GI01SUMO/R00008/instruments/dcl12/FDCHP_sn144904/D202110/fdchp_20211014_200200.dat'"
      ]
     },
     "execution_count": 10,
     "metadata": {},
     "output_type": "execute_result"
    },
    {
     "name": "stdout",
     "output_type": "stream",
     "text": [
      "Processing file: 220 \n"
     ]
    },
    {
     "data": {
      "text/html": [
       "<html><body><pre>filename = '/home/jovyan/ooi/uncabled/GI01SUMO/R00008/instruments/dcl12/FDCHP_sn144904/D202110/fdchp_20211014_210200.dat'</pre></body></html>"
      ],
      "text/plain": [
       "filename = '/home/jovyan/ooi/uncabled/GI01SUMO/R00008/instruments/dcl12/FDCHP_sn144904/D202110/fdchp_20211014_210200.dat'"
      ]
     },
     "execution_count": 10,
     "metadata": {},
     "output_type": "execute_result"
    },
    {
     "name": "stdout",
     "output_type": "stream",
     "text": [
      "Processing file: 221 \n"
     ]
    },
    {
     "data": {
      "text/html": [
       "<html><body><pre>filename = '/home/jovyan/ooi/uncabled/GI01SUMO/R00008/instruments/dcl12/FDCHP_sn144904/D202110/fdchp_20211014_220200.dat'</pre></body></html>"
      ],
      "text/plain": [
       "filename = '/home/jovyan/ooi/uncabled/GI01SUMO/R00008/instruments/dcl12/FDCHP_sn144904/D202110/fdchp_20211014_220200.dat'"
      ]
     },
     "execution_count": 10,
     "metadata": {},
     "output_type": "execute_result"
    },
    {
     "name": "stdout",
     "output_type": "stream",
     "text": [
      "Processing file: 222 \n"
     ]
    },
    {
     "data": {
      "text/html": [
       "<html><body><pre>filename = '/home/jovyan/ooi/uncabled/GI01SUMO/R00008/instruments/dcl12/FDCHP_sn144904/D202110/fdchp_20211014_230200.dat'</pre></body></html>"
      ],
      "text/plain": [
       "filename = '/home/jovyan/ooi/uncabled/GI01SUMO/R00008/instruments/dcl12/FDCHP_sn144904/D202110/fdchp_20211014_230200.dat'"
      ]
     },
     "execution_count": 10,
     "metadata": {},
     "output_type": "execute_result"
    },
    {
     "name": "stdout",
     "output_type": "stream",
     "text": [
      "Processing file: 223 \n"
     ]
    },
    {
     "data": {
      "text/html": [
       "<html><body><pre>filename = '/home/jovyan/ooi/uncabled/GI01SUMO/R00008/instruments/dcl12/FDCHP_sn144904/D202110/fdchp_20211015_000200.dat'</pre></body></html>"
      ],
      "text/plain": [
       "filename = '/home/jovyan/ooi/uncabled/GI01SUMO/R00008/instruments/dcl12/FDCHP_sn144904/D202110/fdchp_20211015_000200.dat'"
      ]
     },
     "execution_count": 10,
     "metadata": {},
     "output_type": "execute_result"
    },
    {
     "name": "stdout",
     "output_type": "stream",
     "text": [
      "Processing file: 224 \n"
     ]
    },
    {
     "data": {
      "text/html": [
       "<html><body><pre>filename = '/home/jovyan/ooi/uncabled/GI01SUMO/R00008/instruments/dcl12/FDCHP_sn144904/D202110/fdchp_20211015_010200.dat'</pre></body></html>"
      ],
      "text/plain": [
       "filename = '/home/jovyan/ooi/uncabled/GI01SUMO/R00008/instruments/dcl12/FDCHP_sn144904/D202110/fdchp_20211015_010200.dat'"
      ]
     },
     "execution_count": 10,
     "metadata": {},
     "output_type": "execute_result"
    },
    {
     "name": "stdout",
     "output_type": "stream",
     "text": [
      "Processing file: 225 \n"
     ]
    },
    {
     "data": {
      "text/html": [
       "<html><body><pre>filename = '/home/jovyan/ooi/uncabled/GI01SUMO/R00008/instruments/dcl12/FDCHP_sn144904/D202110/fdchp_20211015_020200.dat'</pre></body></html>"
      ],
      "text/plain": [
       "filename = '/home/jovyan/ooi/uncabled/GI01SUMO/R00008/instruments/dcl12/FDCHP_sn144904/D202110/fdchp_20211015_020200.dat'"
      ]
     },
     "execution_count": 10,
     "metadata": {},
     "output_type": "execute_result"
    },
    {
     "name": "stdout",
     "output_type": "stream",
     "text": [
      "Processing file: 226 \n"
     ]
    },
    {
     "data": {
      "text/html": [
       "<html><body><pre>filename = '/home/jovyan/ooi/uncabled/GI01SUMO/R00008/instruments/dcl12/FDCHP_sn144904/D202110/fdchp_20211015_030200.dat'</pre></body></html>"
      ],
      "text/plain": [
       "filename = '/home/jovyan/ooi/uncabled/GI01SUMO/R00008/instruments/dcl12/FDCHP_sn144904/D202110/fdchp_20211015_030200.dat'"
      ]
     },
     "execution_count": 10,
     "metadata": {},
     "output_type": "execute_result"
    },
    {
     "name": "stdout",
     "output_type": "stream",
     "text": [
      "Processing file: 227 \n"
     ]
    },
    {
     "data": {
      "text/html": [
       "<html><body><pre>filename = '/home/jovyan/ooi/uncabled/GI01SUMO/R00008/instruments/dcl12/FDCHP_sn144904/D202110/fdchp_20211015_040200.dat'</pre></body></html>"
      ],
      "text/plain": [
       "filename = '/home/jovyan/ooi/uncabled/GI01SUMO/R00008/instruments/dcl12/FDCHP_sn144904/D202110/fdchp_20211015_040200.dat'"
      ]
     },
     "execution_count": 10,
     "metadata": {},
     "output_type": "execute_result"
    },
    {
     "name": "stdout",
     "output_type": "stream",
     "text": [
      "Processing file: 228 \n"
     ]
    },
    {
     "data": {
      "text/html": [
       "<html><body><pre>filename = '/home/jovyan/ooi/uncabled/GI01SUMO/R00008/instruments/dcl12/FDCHP_sn144904/D202110/fdchp_20211015_050200.dat'</pre></body></html>"
      ],
      "text/plain": [
       "filename = '/home/jovyan/ooi/uncabled/GI01SUMO/R00008/instruments/dcl12/FDCHP_sn144904/D202110/fdchp_20211015_050200.dat'"
      ]
     },
     "execution_count": 10,
     "metadata": {},
     "output_type": "execute_result"
    },
    {
     "name": "stdout",
     "output_type": "stream",
     "text": [
      "Processing file: 229 \n"
     ]
    },
    {
     "data": {
      "text/html": [
       "<html><body><pre>filename = '/home/jovyan/ooi/uncabled/GI01SUMO/R00008/instruments/dcl12/FDCHP_sn144904/D202110/fdchp_20211015_060200.dat'</pre></body></html>"
      ],
      "text/plain": [
       "filename = '/home/jovyan/ooi/uncabled/GI01SUMO/R00008/instruments/dcl12/FDCHP_sn144904/D202110/fdchp_20211015_060200.dat'"
      ]
     },
     "execution_count": 10,
     "metadata": {},
     "output_type": "execute_result"
    },
    {
     "name": "stdout",
     "output_type": "stream",
     "text": [
      "Processing file: 230 \n"
     ]
    },
    {
     "data": {
      "text/html": [
       "<html><body><pre>filename = '/home/jovyan/ooi/uncabled/GI01SUMO/R00008/instruments/dcl12/FDCHP_sn144904/D202110/fdchp_20211015_070200.dat'</pre></body></html>"
      ],
      "text/plain": [
       "filename = '/home/jovyan/ooi/uncabled/GI01SUMO/R00008/instruments/dcl12/FDCHP_sn144904/D202110/fdchp_20211015_070200.dat'"
      ]
     },
     "execution_count": 10,
     "metadata": {},
     "output_type": "execute_result"
    },
    {
     "name": "stdout",
     "output_type": "stream",
     "text": [
      "Processing file: 231 \n"
     ]
    },
    {
     "data": {
      "text/html": [
       "<html><body><pre>filename = '/home/jovyan/ooi/uncabled/GI01SUMO/R00008/instruments/dcl12/FDCHP_sn144904/D202110/fdchp_20211015_080200.dat'</pre></body></html>"
      ],
      "text/plain": [
       "filename = '/home/jovyan/ooi/uncabled/GI01SUMO/R00008/instruments/dcl12/FDCHP_sn144904/D202110/fdchp_20211015_080200.dat'"
      ]
     },
     "execution_count": 10,
     "metadata": {},
     "output_type": "execute_result"
    },
    {
     "name": "stdout",
     "output_type": "stream",
     "text": [
      "Processing file: 232 \n"
     ]
    },
    {
     "data": {
      "text/html": [
       "<html><body><pre>filename = '/home/jovyan/ooi/uncabled/GI01SUMO/R00008/instruments/dcl12/FDCHP_sn144904/D202110/fdchp_20211015_090200.dat'</pre></body></html>"
      ],
      "text/plain": [
       "filename = '/home/jovyan/ooi/uncabled/GI01SUMO/R00008/instruments/dcl12/FDCHP_sn144904/D202110/fdchp_20211015_090200.dat'"
      ]
     },
     "execution_count": 10,
     "metadata": {},
     "output_type": "execute_result"
    },
    {
     "name": "stdout",
     "output_type": "stream",
     "text": [
      "Processing file: 233 \n"
     ]
    },
    {
     "data": {
      "text/html": [
       "<html><body><pre>filename = '/home/jovyan/ooi/uncabled/GI01SUMO/R00008/instruments/dcl12/FDCHP_sn144904/D202110/fdchp_20211015_100200.dat'</pre></body></html>"
      ],
      "text/plain": [
       "filename = '/home/jovyan/ooi/uncabled/GI01SUMO/R00008/instruments/dcl12/FDCHP_sn144904/D202110/fdchp_20211015_100200.dat'"
      ]
     },
     "execution_count": 10,
     "metadata": {},
     "output_type": "execute_result"
    },
    {
     "name": "stdout",
     "output_type": "stream",
     "text": [
      "Processing file: 234 \n"
     ]
    },
    {
     "data": {
      "text/html": [
       "<html><body><pre>filename = '/home/jovyan/ooi/uncabled/GI01SUMO/R00008/instruments/dcl12/FDCHP_sn144904/D202110/fdchp_20211015_110200.dat'</pre></body></html>"
      ],
      "text/plain": [
       "filename = '/home/jovyan/ooi/uncabled/GI01SUMO/R00008/instruments/dcl12/FDCHP_sn144904/D202110/fdchp_20211015_110200.dat'"
      ]
     },
     "execution_count": 10,
     "metadata": {},
     "output_type": "execute_result"
    },
    {
     "name": "stdout",
     "output_type": "stream",
     "text": [
      "Processing file: 235 \n"
     ]
    },
    {
     "data": {
      "text/html": [
       "<html><body><pre>filename = '/home/jovyan/ooi/uncabled/GI01SUMO/R00008/instruments/dcl12/FDCHP_sn144904/D202110/fdchp_20211015_120200.dat'</pre></body></html>"
      ],
      "text/plain": [
       "filename = '/home/jovyan/ooi/uncabled/GI01SUMO/R00008/instruments/dcl12/FDCHP_sn144904/D202110/fdchp_20211015_120200.dat'"
      ]
     },
     "execution_count": 10,
     "metadata": {},
     "output_type": "execute_result"
    },
    {
     "name": "stdout",
     "output_type": "stream",
     "text": [
      "Processing file: 236 \n"
     ]
    },
    {
     "data": {
      "text/html": [
       "<html><body><pre>filename = '/home/jovyan/ooi/uncabled/GI01SUMO/R00008/instruments/dcl12/FDCHP_sn144904/D202110/fdchp_20211015_130200.dat'</pre></body></html>"
      ],
      "text/plain": [
       "filename = '/home/jovyan/ooi/uncabled/GI01SUMO/R00008/instruments/dcl12/FDCHP_sn144904/D202110/fdchp_20211015_130200.dat'"
      ]
     },
     "execution_count": 10,
     "metadata": {},
     "output_type": "execute_result"
    },
    {
     "name": "stdout",
     "output_type": "stream",
     "text": [
      "Processing file: 237 \n"
     ]
    },
    {
     "data": {
      "text/html": [
       "<html><body><pre>filename = '/home/jovyan/ooi/uncabled/GI01SUMO/R00008/instruments/dcl12/FDCHP_sn144904/D202110/fdchp_20211015_140200.dat'</pre></body></html>"
      ],
      "text/plain": [
       "filename = '/home/jovyan/ooi/uncabled/GI01SUMO/R00008/instruments/dcl12/FDCHP_sn144904/D202110/fdchp_20211015_140200.dat'"
      ]
     },
     "execution_count": 10,
     "metadata": {},
     "output_type": "execute_result"
    },
    {
     "name": "stdout",
     "output_type": "stream",
     "text": [
      "Processing file: 238 \n"
     ]
    },
    {
     "data": {
      "text/html": [
       "<html><body><pre>filename = '/home/jovyan/ooi/uncabled/GI01SUMO/R00008/instruments/dcl12/FDCHP_sn144904/D202110/fdchp_20211015_150200.dat'</pre></body></html>"
      ],
      "text/plain": [
       "filename = '/home/jovyan/ooi/uncabled/GI01SUMO/R00008/instruments/dcl12/FDCHP_sn144904/D202110/fdchp_20211015_150200.dat'"
      ]
     },
     "execution_count": 10,
     "metadata": {},
     "output_type": "execute_result"
    },
    {
     "name": "stdout",
     "output_type": "stream",
     "text": [
      "Processing file: 239 \n"
     ]
    },
    {
     "data": {
      "text/html": [
       "<html><body><pre>filename = '/home/jovyan/ooi/uncabled/GI01SUMO/R00008/instruments/dcl12/FDCHP_sn144904/D202110/fdchp_20211015_160200.dat'</pre></body></html>"
      ],
      "text/plain": [
       "filename = '/home/jovyan/ooi/uncabled/GI01SUMO/R00008/instruments/dcl12/FDCHP_sn144904/D202110/fdchp_20211015_160200.dat'"
      ]
     },
     "execution_count": 10,
     "metadata": {},
     "output_type": "execute_result"
    },
    {
     "name": "stdout",
     "output_type": "stream",
     "text": [
      "Processing file: 240 \n"
     ]
    },
    {
     "data": {
      "text/html": [
       "<html><body><pre>filename = '/home/jovyan/ooi/uncabled/GI01SUMO/R00008/instruments/dcl12/FDCHP_sn144904/D202110/fdchp_20211015_170200.dat'</pre></body></html>"
      ],
      "text/plain": [
       "filename = '/home/jovyan/ooi/uncabled/GI01SUMO/R00008/instruments/dcl12/FDCHP_sn144904/D202110/fdchp_20211015_170200.dat'"
      ]
     },
     "execution_count": 10,
     "metadata": {},
     "output_type": "execute_result"
    },
    {
     "name": "stdout",
     "output_type": "stream",
     "text": [
      "Processing file: 241 \n"
     ]
    },
    {
     "data": {
      "text/html": [
       "<html><body><pre>filename = '/home/jovyan/ooi/uncabled/GI01SUMO/R00008/instruments/dcl12/FDCHP_sn144904/D202110/fdchp_20211015_180200.dat'</pre></body></html>"
      ],
      "text/plain": [
       "filename = '/home/jovyan/ooi/uncabled/GI01SUMO/R00008/instruments/dcl12/FDCHP_sn144904/D202110/fdchp_20211015_180200.dat'"
      ]
     },
     "execution_count": 10,
     "metadata": {},
     "output_type": "execute_result"
    },
    {
     "name": "stdout",
     "output_type": "stream",
     "text": [
      "Processing file: 242 \n"
     ]
    },
    {
     "data": {
      "text/html": [
       "<html><body><pre>filename = '/home/jovyan/ooi/uncabled/GI01SUMO/R00008/instruments/dcl12/FDCHP_sn144904/D202110/fdchp_20211015_200200.dat'</pre></body></html>"
      ],
      "text/plain": [
       "filename = '/home/jovyan/ooi/uncabled/GI01SUMO/R00008/instruments/dcl12/FDCHP_sn144904/D202110/fdchp_20211015_200200.dat'"
      ]
     },
     "execution_count": 10,
     "metadata": {},
     "output_type": "execute_result"
    },
    {
     "name": "stdout",
     "output_type": "stream",
     "text": [
      "Bad Length\n"
     ]
    },
    {
     "data": {
      "text/html": [
       "<html><body><pre>msgText = \n",
       "    'Output argument \"rawdata\" (and possibly others) not assigned a value in the execution with \"fdchpread_raw\" function.\n",
       "     \n",
       "     Error in fdchpread_raw_from_file_list (line 60)\n",
       "                 [td,dd] = fdchpread_raw(filename);\n",
       "     \n",
       "     Error in LiveEditorEvaluationHelperEeditorId (line 1)\n",
       "     [uw, U, sigH] =  fdchpread_raw_from_file_list(file_list)\n",
       "     \n",
       "     Error in jupyter.execute (line 51)\n",
       "     resp = jsondecode(matlab.internal.editor.evaluateSynchronousRequest(request));\n",
       "     \n",
       "     Error in processJupyterKernelRequest (line 54)\n",
       "                 output = jupyter.execute(code, kernelId);\n",
       "     \n",
       "     Error in connector.internal.fevalMatlab\n",
       "     \n",
       "     Error in connector.internal.fevalJSON'\n",
       "</pre></body></html>"
      ],
      "text/plain": [
       "msgText = \n",
       "    'Output argument \"rawdata\" (and possibly others) not assigned a value in the execution with \"fdchpread_raw\" function.\n",
       "     \n",
       "     Error in fdchpread_raw_from_file_list (line 60)\n",
       "                 [td,dd] = fdchpread_raw(filename);\n",
       "     \n",
       "     Error in LiveEditorEvaluationHelperEeditorId (line 1)\n",
       "     [uw, U, sigH] =  fdchpread_raw_from_file_list(file_list)\n",
       "     \n",
       "     Error in jupyter.execute (line 51)\n",
       "     resp = jsondecode(matlab.internal.editor.evaluateSynchronousRequest(request));\n",
       "     \n",
       "     Error in processJupyterKernelRequest (line 54)\n",
       "                 output = jupyter.execute(code, kernelId);\n",
       "     \n",
       "     Error in connector.internal.fevalMatlab\n",
       "     \n",
       "     Error in connector.internal.fevalJSON'\n"
      ]
     },
     "execution_count": 10,
     "metadata": {},
     "output_type": "execute_result"
    },
    {
     "name": "stdout",
     "output_type": "stream",
     "text": [
      "    \"Error reading filename: \"    \"Output argument \"rawdata\" (and possibly others) not assigned a value in the execution with \"fdchpread_raw\" function....\"\n",
      "\n",
      "Processing file: 243 \n"
     ]
    },
    {
     "data": {
      "text/html": [
       "<html><body><pre>filename = '/home/jovyan/ooi/uncabled/GI01SUMO/R00008/instruments/dcl12/FDCHP_sn144904/D202110/fdchp_20211015_210200.dat'</pre></body></html>"
      ],
      "text/plain": [
       "filename = '/home/jovyan/ooi/uncabled/GI01SUMO/R00008/instruments/dcl12/FDCHP_sn144904/D202110/fdchp_20211015_210200.dat'"
      ]
     },
     "execution_count": 10,
     "metadata": {},
     "output_type": "execute_result"
    },
    {
     "name": "stdout",
     "output_type": "stream",
     "text": [
      "Processing file: 244 \n"
     ]
    },
    {
     "data": {
      "text/html": [
       "<html><body><pre>filename = '/home/jovyan/ooi/uncabled/GI01SUMO/R00008/instruments/dcl12/FDCHP_sn144904/D202110/fdchp_20211015_220200.dat'</pre></body></html>"
      ],
      "text/plain": [
       "filename = '/home/jovyan/ooi/uncabled/GI01SUMO/R00008/instruments/dcl12/FDCHP_sn144904/D202110/fdchp_20211015_220200.dat'"
      ]
     },
     "execution_count": 10,
     "metadata": {},
     "output_type": "execute_result"
    },
    {
     "name": "stdout",
     "output_type": "stream",
     "text": [
      "Processing file: 245 \n"
     ]
    },
    {
     "data": {
      "text/html": [
       "<html><body><pre>filename = '/home/jovyan/ooi/uncabled/GI01SUMO/R00008/instruments/dcl12/FDCHP_sn144904/D202110/fdchp_20211015_230200.dat'</pre></body></html>"
      ],
      "text/plain": [
       "filename = '/home/jovyan/ooi/uncabled/GI01SUMO/R00008/instruments/dcl12/FDCHP_sn144904/D202110/fdchp_20211015_230200.dat'"
      ]
     },
     "execution_count": 10,
     "metadata": {},
     "output_type": "execute_result"
    },
    {
     "name": "stdout",
     "output_type": "stream",
     "text": [
      "Processing file: 246 \n"
     ]
    },
    {
     "data": {
      "text/html": [
       "<html><body><pre>filename = '/home/jovyan/ooi/uncabled/GI01SUMO/R00008/instruments/dcl12/FDCHP_sn144904/D202110/fdchp_20211016_000200.dat'</pre></body></html>"
      ],
      "text/plain": [
       "filename = '/home/jovyan/ooi/uncabled/GI01SUMO/R00008/instruments/dcl12/FDCHP_sn144904/D202110/fdchp_20211016_000200.dat'"
      ]
     },
     "execution_count": 10,
     "metadata": {},
     "output_type": "execute_result"
    },
    {
     "name": "stdout",
     "output_type": "stream",
     "text": [
      "Processing file: 247 \n"
     ]
    },
    {
     "data": {
      "text/html": [
       "<html><body><pre>filename = '/home/jovyan/ooi/uncabled/GI01SUMO/R00008/instruments/dcl12/FDCHP_sn144904/D202110/fdchp_20211016_030200.dat'</pre></body></html>"
      ],
      "text/plain": [
       "filename = '/home/jovyan/ooi/uncabled/GI01SUMO/R00008/instruments/dcl12/FDCHP_sn144904/D202110/fdchp_20211016_030200.dat'"
      ]
     },
     "execution_count": 10,
     "metadata": {},
     "output_type": "execute_result"
    },
    {
     "name": "stdout",
     "output_type": "stream",
     "text": [
      "Processing file: 248 \n"
     ]
    },
    {
     "data": {
      "text/html": [
       "<html><body><pre>filename = '/home/jovyan/ooi/uncabled/GI01SUMO/R00008/instruments/dcl12/FDCHP_sn144904/D202110/fdchp_20211016_040200.dat'</pre></body></html>"
      ],
      "text/plain": [
       "filename = '/home/jovyan/ooi/uncabled/GI01SUMO/R00008/instruments/dcl12/FDCHP_sn144904/D202110/fdchp_20211016_040200.dat'"
      ]
     },
     "execution_count": 10,
     "metadata": {},
     "output_type": "execute_result"
    },
    {
     "name": "stdout",
     "output_type": "stream",
     "text": [
      "Processing file: 249 \n"
     ]
    },
    {
     "data": {
      "text/html": [
       "<html><body><pre>filename = '/home/jovyan/ooi/uncabled/GI01SUMO/R00008/instruments/dcl12/FDCHP_sn144904/D202110/fdchp_20211016_050200.dat'</pre></body></html>"
      ],
      "text/plain": [
       "filename = '/home/jovyan/ooi/uncabled/GI01SUMO/R00008/instruments/dcl12/FDCHP_sn144904/D202110/fdchp_20211016_050200.dat'"
      ]
     },
     "execution_count": 10,
     "metadata": {},
     "output_type": "execute_result"
    },
    {
     "name": "stdout",
     "output_type": "stream",
     "text": [
      "Processing file: 250 \n"
     ]
    },
    {
     "data": {
      "text/html": [
       "<html><body><pre>filename = '/home/jovyan/ooi/uncabled/GI01SUMO/R00008/instruments/dcl12/FDCHP_sn144904/D202110/fdchp_20211016_060200.dat'</pre></body></html>"
      ],
      "text/plain": [
       "filename = '/home/jovyan/ooi/uncabled/GI01SUMO/R00008/instruments/dcl12/FDCHP_sn144904/D202110/fdchp_20211016_060200.dat'"
      ]
     },
     "execution_count": 10,
     "metadata": {},
     "output_type": "execute_result"
    },
    {
     "name": "stdout",
     "output_type": "stream",
     "text": [
      "Processing file: 251 \n"
     ]
    },
    {
     "data": {
      "text/html": [
       "<html><body><pre>filename = '/home/jovyan/ooi/uncabled/GI01SUMO/R00008/instruments/dcl12/FDCHP_sn144904/D202110/fdchp_20211016_070200.dat'</pre></body></html>"
      ],
      "text/plain": [
       "filename = '/home/jovyan/ooi/uncabled/GI01SUMO/R00008/instruments/dcl12/FDCHP_sn144904/D202110/fdchp_20211016_070200.dat'"
      ]
     },
     "execution_count": 10,
     "metadata": {},
     "output_type": "execute_result"
    },
    {
     "name": "stdout",
     "output_type": "stream",
     "text": [
      "Processing file: 252 \n"
     ]
    },
    {
     "data": {
      "text/html": [
       "<html><body><pre>filename = '/home/jovyan/ooi/uncabled/GI01SUMO/R00008/instruments/dcl12/FDCHP_sn144904/D202110/fdchp_20211016_080200.dat'</pre></body></html>"
      ],
      "text/plain": [
       "filename = '/home/jovyan/ooi/uncabled/GI01SUMO/R00008/instruments/dcl12/FDCHP_sn144904/D202110/fdchp_20211016_080200.dat'"
      ]
     },
     "execution_count": 10,
     "metadata": {},
     "output_type": "execute_result"
    },
    {
     "name": "stdout",
     "output_type": "stream",
     "text": [
      "Processing file: 253 \n"
     ]
    },
    {
     "data": {
      "text/html": [
       "<html><body><pre>filename = '/home/jovyan/ooi/uncabled/GI01SUMO/R00008/instruments/dcl12/FDCHP_sn144904/D202110/fdchp_20211016_090200.dat'</pre></body></html>"
      ],
      "text/plain": [
       "filename = '/home/jovyan/ooi/uncabled/GI01SUMO/R00008/instruments/dcl12/FDCHP_sn144904/D202110/fdchp_20211016_090200.dat'"
      ]
     },
     "execution_count": 10,
     "metadata": {},
     "output_type": "execute_result"
    },
    {
     "name": "stdout",
     "output_type": "stream",
     "text": [
      "Processing file: 254 \n"
     ]
    },
    {
     "data": {
      "text/html": [
       "<html><body><pre>filename = '/home/jovyan/ooi/uncabled/GI01SUMO/R00008/instruments/dcl12/FDCHP_sn144904/D202110/fdchp_20211016_100200.dat'</pre></body></html>"
      ],
      "text/plain": [
       "filename = '/home/jovyan/ooi/uncabled/GI01SUMO/R00008/instruments/dcl12/FDCHP_sn144904/D202110/fdchp_20211016_100200.dat'"
      ]
     },
     "execution_count": 10,
     "metadata": {},
     "output_type": "execute_result"
    },
    {
     "name": "stdout",
     "output_type": "stream",
     "text": [
      "Processing file: 255 \n"
     ]
    },
    {
     "data": {
      "text/html": [
       "<html><body><pre>filename = '/home/jovyan/ooi/uncabled/GI01SUMO/R00008/instruments/dcl12/FDCHP_sn144904/D202110/fdchp_20211016_110200.dat'</pre></body></html>"
      ],
      "text/plain": [
       "filename = '/home/jovyan/ooi/uncabled/GI01SUMO/R00008/instruments/dcl12/FDCHP_sn144904/D202110/fdchp_20211016_110200.dat'"
      ]
     },
     "execution_count": 10,
     "metadata": {},
     "output_type": "execute_result"
    },
    {
     "name": "stdout",
     "output_type": "stream",
     "text": [
      "Processing file: 256 \n"
     ]
    },
    {
     "data": {
      "text/html": [
       "<html><body><pre>filename = '/home/jovyan/ooi/uncabled/GI01SUMO/R00008/instruments/dcl12/FDCHP_sn144904/D202110/fdchp_20211016_120200.dat'</pre></body></html>"
      ],
      "text/plain": [
       "filename = '/home/jovyan/ooi/uncabled/GI01SUMO/R00008/instruments/dcl12/FDCHP_sn144904/D202110/fdchp_20211016_120200.dat'"
      ]
     },
     "execution_count": 10,
     "metadata": {},
     "output_type": "execute_result"
    },
    {
     "name": "stdout",
     "output_type": "stream",
     "text": [
      "Processing file: 257 \n"
     ]
    },
    {
     "data": {
      "text/html": [
       "<html><body><pre>filename = '/home/jovyan/ooi/uncabled/GI01SUMO/R00008/instruments/dcl12/FDCHP_sn144904/D202110/fdchp_20211016_130200.dat'</pre></body></html>"
      ],
      "text/plain": [
       "filename = '/home/jovyan/ooi/uncabled/GI01SUMO/R00008/instruments/dcl12/FDCHP_sn144904/D202110/fdchp_20211016_130200.dat'"
      ]
     },
     "execution_count": 10,
     "metadata": {},
     "output_type": "execute_result"
    },
    {
     "name": "stdout",
     "output_type": "stream",
     "text": [
      "Processing file: 258 \n"
     ]
    },
    {
     "data": {
      "text/html": [
       "<html><body><pre>filename = '/home/jovyan/ooi/uncabled/GI01SUMO/R00008/instruments/dcl12/FDCHP_sn144904/D202110/fdchp_20211016_140200.dat'</pre></body></html>"
      ],
      "text/plain": [
       "filename = '/home/jovyan/ooi/uncabled/GI01SUMO/R00008/instruments/dcl12/FDCHP_sn144904/D202110/fdchp_20211016_140200.dat'"
      ]
     },
     "execution_count": 10,
     "metadata": {},
     "output_type": "execute_result"
    },
    {
     "name": "stdout",
     "output_type": "stream",
     "text": [
      "Processing file: 259 \n"
     ]
    },
    {
     "data": {
      "text/html": [
       "<html><body><pre>filename = '/home/jovyan/ooi/uncabled/GI01SUMO/R00008/instruments/dcl12/FDCHP_sn144904/D202110/fdchp_20211016_150200.dat'</pre></body></html>"
      ],
      "text/plain": [
       "filename = '/home/jovyan/ooi/uncabled/GI01SUMO/R00008/instruments/dcl12/FDCHP_sn144904/D202110/fdchp_20211016_150200.dat'"
      ]
     },
     "execution_count": 10,
     "metadata": {},
     "output_type": "execute_result"
    },
    {
     "name": "stdout",
     "output_type": "stream",
     "text": [
      "Processing file: 260 \n"
     ]
    },
    {
     "data": {
      "text/html": [
       "<html><body><pre>filename = '/home/jovyan/ooi/uncabled/GI01SUMO/R00008/instruments/dcl12/FDCHP_sn144904/D202110/fdchp_20211016_160200.dat'</pre></body></html>"
      ],
      "text/plain": [
       "filename = '/home/jovyan/ooi/uncabled/GI01SUMO/R00008/instruments/dcl12/FDCHP_sn144904/D202110/fdchp_20211016_160200.dat'"
      ]
     },
     "execution_count": 10,
     "metadata": {},
     "output_type": "execute_result"
    },
    {
     "name": "stdout",
     "output_type": "stream",
     "text": [
      "Bad Length\n"
     ]
    },
    {
     "data": {
      "text/html": [
       "<html><body><pre>msgText = \n",
       "    'Output argument \"rawdata\" (and possibly others) not assigned a value in the execution with \"fdchpread_raw\" function.\n",
       "     \n",
       "     Error in fdchpread_raw_from_file_list (line 60)\n",
       "                 [td,dd] = fdchpread_raw(filename);\n",
       "     \n",
       "     Error in LiveEditorEvaluationHelperEeditorId (line 1)\n",
       "     [uw, U, sigH] =  fdchpread_raw_from_file_list(file_list)\n",
       "     \n",
       "     Error in jupyter.execute (line 51)\n",
       "     resp = jsondecode(matlab.internal.editor.evaluateSynchronousRequest(request));\n",
       "     \n",
       "     Error in processJupyterKernelRequest (line 54)\n",
       "                 output = jupyter.execute(code, kernelId);\n",
       "     \n",
       "     Error in connector.internal.fevalMatlab\n",
       "     \n",
       "     Error in connector.internal.fevalJSON'\n",
       "</pre></body></html>"
      ],
      "text/plain": [
       "msgText = \n",
       "    'Output argument \"rawdata\" (and possibly others) not assigned a value in the execution with \"fdchpread_raw\" function.\n",
       "     \n",
       "     Error in fdchpread_raw_from_file_list (line 60)\n",
       "                 [td,dd] = fdchpread_raw(filename);\n",
       "     \n",
       "     Error in LiveEditorEvaluationHelperEeditorId (line 1)\n",
       "     [uw, U, sigH] =  fdchpread_raw_from_file_list(file_list)\n",
       "     \n",
       "     Error in jupyter.execute (line 51)\n",
       "     resp = jsondecode(matlab.internal.editor.evaluateSynchronousRequest(request));\n",
       "     \n",
       "     Error in processJupyterKernelRequest (line 54)\n",
       "                 output = jupyter.execute(code, kernelId);\n",
       "     \n",
       "     Error in connector.internal.fevalMatlab\n",
       "     \n",
       "     Error in connector.internal.fevalJSON'\n"
      ]
     },
     "execution_count": 10,
     "metadata": {},
     "output_type": "execute_result"
    },
    {
     "name": "stdout",
     "output_type": "stream",
     "text": [
      "    \"Error reading filename: \"    \"Output argument \"rawdata\" (and possibly others) not assigned a value in the execution with \"fdchpread_raw\" function....\"\n",
      "\n",
      "Processing file: 261 \n"
     ]
    },
    {
     "data": {
      "text/html": [
       "<html><body><pre>filename = '/home/jovyan/ooi/uncabled/GI01SUMO/R00008/instruments/dcl12/FDCHP_sn144904/D202110/fdchp_20211016_170200.dat'</pre></body></html>"
      ],
      "text/plain": [
       "filename = '/home/jovyan/ooi/uncabled/GI01SUMO/R00008/instruments/dcl12/FDCHP_sn144904/D202110/fdchp_20211016_170200.dat'"
      ]
     },
     "execution_count": 10,
     "metadata": {},
     "output_type": "execute_result"
    },
    {
     "name": "stdout",
     "output_type": "stream",
     "text": [
      "Bad Length\n"
     ]
    },
    {
     "data": {
      "text/html": [
       "<html><body><pre>msgText = \n",
       "    'Output argument \"rawdata\" (and possibly others) not assigned a value in the execution with \"fdchpread_raw\" function.\n",
       "     \n",
       "     Error in fdchpread_raw_from_file_list (line 60)\n",
       "                 [td,dd] = fdchpread_raw(filename);\n",
       "     \n",
       "     Error in LiveEditorEvaluationHelperEeditorId (line 1)\n",
       "     [uw, U, sigH] =  fdchpread_raw_from_file_list(file_list)\n",
       "     \n",
       "     Error in jupyter.execute (line 51)\n",
       "     resp = jsondecode(matlab.internal.editor.evaluateSynchronousRequest(request));\n",
       "     \n",
       "     Error in processJupyterKernelRequest (line 54)\n",
       "                 output = jupyter.execute(code, kernelId);\n",
       "     \n",
       "     Error in connector.internal.fevalMatlab\n",
       "     \n",
       "     Error in connector.internal.fevalJSON'\n",
       "</pre></body></html>"
      ],
      "text/plain": [
       "msgText = \n",
       "    'Output argument \"rawdata\" (and possibly others) not assigned a value in the execution with \"fdchpread_raw\" function.\n",
       "     \n",
       "     Error in fdchpread_raw_from_file_list (line 60)\n",
       "                 [td,dd] = fdchpread_raw(filename);\n",
       "     \n",
       "     Error in LiveEditorEvaluationHelperEeditorId (line 1)\n",
       "     [uw, U, sigH] =  fdchpread_raw_from_file_list(file_list)\n",
       "     \n",
       "     Error in jupyter.execute (line 51)\n",
       "     resp = jsondecode(matlab.internal.editor.evaluateSynchronousRequest(request));\n",
       "     \n",
       "     Error in processJupyterKernelRequest (line 54)\n",
       "                 output = jupyter.execute(code, kernelId);\n",
       "     \n",
       "     Error in connector.internal.fevalMatlab\n",
       "     \n",
       "     Error in connector.internal.fevalJSON'\n"
      ]
     },
     "execution_count": 10,
     "metadata": {},
     "output_type": "execute_result"
    },
    {
     "name": "stdout",
     "output_type": "stream",
     "text": [
      "    \"Error reading filename: \"    \"Output argument \"rawdata\" (and possibly others) not assigned a value in the execution with \"fdchpread_raw\" function....\"\n",
      "\n",
      "Processing file: 262 \n"
     ]
    },
    {
     "data": {
      "text/html": [
       "<html><body><pre>filename = '/home/jovyan/ooi/uncabled/GI01SUMO/R00008/instruments/dcl12/FDCHP_sn144904/D202110/fdchp_20211016_180200.dat'</pre></body></html>"
      ],
      "text/plain": [
       "filename = '/home/jovyan/ooi/uncabled/GI01SUMO/R00008/instruments/dcl12/FDCHP_sn144904/D202110/fdchp_20211016_180200.dat'"
      ]
     },
     "execution_count": 10,
     "metadata": {},
     "output_type": "execute_result"
    },
    {
     "name": "stdout",
     "output_type": "stream",
     "text": [
      "Bad Length\n"
     ]
    },
    {
     "data": {
      "text/html": [
       "<html><body><pre>msgText = \n",
       "    'Output argument \"rawdata\" (and possibly others) not assigned a value in the execution with \"fdchpread_raw\" function.\n",
       "     \n",
       "     Error in fdchpread_raw_from_file_list (line 60)\n",
       "                 [td,dd] = fdchpread_raw(filename);\n",
       "     \n",
       "     Error in LiveEditorEvaluationHelperEeditorId (line 1)\n",
       "     [uw, U, sigH] =  fdchpread_raw_from_file_list(file_list)\n",
       "     \n",
       "     Error in jupyter.execute (line 51)\n",
       "     resp = jsondecode(matlab.internal.editor.evaluateSynchronousRequest(request));\n",
       "     \n",
       "     Error in processJupyterKernelRequest (line 54)\n",
       "                 output = jupyter.execute(code, kernelId);\n",
       "     \n",
       "     Error in connector.internal.fevalMatlab\n",
       "     \n",
       "     Error in connector.internal.fevalJSON'\n",
       "</pre></body></html>"
      ],
      "text/plain": [
       "msgText = \n",
       "    'Output argument \"rawdata\" (and possibly others) not assigned a value in the execution with \"fdchpread_raw\" function.\n",
       "     \n",
       "     Error in fdchpread_raw_from_file_list (line 60)\n",
       "                 [td,dd] = fdchpread_raw(filename);\n",
       "     \n",
       "     Error in LiveEditorEvaluationHelperEeditorId (line 1)\n",
       "     [uw, U, sigH] =  fdchpread_raw_from_file_list(file_list)\n",
       "     \n",
       "     Error in jupyter.execute (line 51)\n",
       "     resp = jsondecode(matlab.internal.editor.evaluateSynchronousRequest(request));\n",
       "     \n",
       "     Error in processJupyterKernelRequest (line 54)\n",
       "                 output = jupyter.execute(code, kernelId);\n",
       "     \n",
       "     Error in connector.internal.fevalMatlab\n",
       "     \n",
       "     Error in connector.internal.fevalJSON'\n"
      ]
     },
     "execution_count": 10,
     "metadata": {},
     "output_type": "execute_result"
    },
    {
     "name": "stdout",
     "output_type": "stream",
     "text": [
      "    \"Error reading filename: \"    \"Output argument \"rawdata\" (and possibly others) not assigned a value in the execution with \"fdchpread_raw\" function....\"\n",
      "\n",
      "Processing file: 263 \n"
     ]
    },
    {
     "data": {
      "text/html": [
       "<html><body><pre>filename = '/home/jovyan/ooi/uncabled/GI01SUMO/R00008/instruments/dcl12/FDCHP_sn144904/D202110/fdchp_20211017_050200.dat'</pre></body></html>"
      ],
      "text/plain": [
       "filename = '/home/jovyan/ooi/uncabled/GI01SUMO/R00008/instruments/dcl12/FDCHP_sn144904/D202110/fdchp_20211017_050200.dat'"
      ]
     },
     "execution_count": 10,
     "metadata": {},
     "output_type": "execute_result"
    },
    {
     "name": "stdout",
     "output_type": "stream",
     "text": [
      "Processing file: 264 \n"
     ]
    },
    {
     "data": {
      "text/html": [
       "<html><body><pre>filename = '/home/jovyan/ooi/uncabled/GI01SUMO/R00008/instruments/dcl12/FDCHP_sn144904/D202110/fdchp_20211017_060200.dat'</pre></body></html>"
      ],
      "text/plain": [
       "filename = '/home/jovyan/ooi/uncabled/GI01SUMO/R00008/instruments/dcl12/FDCHP_sn144904/D202110/fdchp_20211017_060200.dat'"
      ]
     },
     "execution_count": 10,
     "metadata": {},
     "output_type": "execute_result"
    },
    {
     "name": "stdout",
     "output_type": "stream",
     "text": [
      "Processing file: 265 \n"
     ]
    },
    {
     "data": {
      "text/html": [
       "<html><body><pre>filename = '/home/jovyan/ooi/uncabled/GI01SUMO/R00008/instruments/dcl12/FDCHP_sn144904/D202110/fdchp_20211017_070200.dat'</pre></body></html>"
      ],
      "text/plain": [
       "filename = '/home/jovyan/ooi/uncabled/GI01SUMO/R00008/instruments/dcl12/FDCHP_sn144904/D202110/fdchp_20211017_070200.dat'"
      ]
     },
     "execution_count": 10,
     "metadata": {},
     "output_type": "execute_result"
    },
    {
     "name": "stdout",
     "output_type": "stream",
     "text": [
      "Processing file: 266 \n"
     ]
    },
    {
     "data": {
      "text/html": [
       "<html><body><pre>filename = '/home/jovyan/ooi/uncabled/GI01SUMO/R00008/instruments/dcl12/FDCHP_sn144904/D202110/fdchp_20211017_080200.dat'</pre></body></html>"
      ],
      "text/plain": [
       "filename = '/home/jovyan/ooi/uncabled/GI01SUMO/R00008/instruments/dcl12/FDCHP_sn144904/D202110/fdchp_20211017_080200.dat'"
      ]
     },
     "execution_count": 10,
     "metadata": {},
     "output_type": "execute_result"
    },
    {
     "name": "stdout",
     "output_type": "stream",
     "text": [
      "Bad Length\n"
     ]
    },
    {
     "data": {
      "text/html": [
       "<html><body><pre>msgText = \n",
       "    'Output argument \"rawdata\" (and possibly others) not assigned a value in the execution with \"fdchpread_raw\" function.\n",
       "     \n",
       "     Error in fdchpread_raw_from_file_list (line 60)\n",
       "                 [td,dd] = fdchpread_raw(filename);\n",
       "     \n",
       "     Error in LiveEditorEvaluationHelperEeditorId (line 1)\n",
       "     [uw, U, sigH] =  fdchpread_raw_from_file_list(file_list)\n",
       "     \n",
       "     Error in jupyter.execute (line 51)\n",
       "     resp = jsondecode(matlab.internal.editor.evaluateSynchronousRequest(request));\n",
       "     \n",
       "     Error in processJupyterKernelRequest (line 54)\n",
       "                 output = jupyter.execute(code, kernelId);\n",
       "     \n",
       "     Error in connector.internal.fevalMatlab\n",
       "     \n",
       "     Error in connector.internal.fevalJSON'\n",
       "</pre></body></html>"
      ],
      "text/plain": [
       "msgText = \n",
       "    'Output argument \"rawdata\" (and possibly others) not assigned a value in the execution with \"fdchpread_raw\" function.\n",
       "     \n",
       "     Error in fdchpread_raw_from_file_list (line 60)\n",
       "                 [td,dd] = fdchpread_raw(filename);\n",
       "     \n",
       "     Error in LiveEditorEvaluationHelperEeditorId (line 1)\n",
       "     [uw, U, sigH] =  fdchpread_raw_from_file_list(file_list)\n",
       "     \n",
       "     Error in jupyter.execute (line 51)\n",
       "     resp = jsondecode(matlab.internal.editor.evaluateSynchronousRequest(request));\n",
       "     \n",
       "     Error in processJupyterKernelRequest (line 54)\n",
       "                 output = jupyter.execute(code, kernelId);\n",
       "     \n",
       "     Error in connector.internal.fevalMatlab\n",
       "     \n",
       "     Error in connector.internal.fevalJSON'\n"
      ]
     },
     "execution_count": 10,
     "metadata": {},
     "output_type": "execute_result"
    },
    {
     "name": "stdout",
     "output_type": "stream",
     "text": [
      "    \"Error reading filename: \"    \"Output argument \"rawdata\" (and possibly others) not assigned a value in the execution with \"fdchpread_raw\" function....\"\n",
      "\n",
      "Processing file: 267 \n"
     ]
    },
    {
     "data": {
      "text/html": [
       "<html><body><pre>filename = '/home/jovyan/ooi/uncabled/GI01SUMO/R00008/instruments/dcl12/FDCHP_sn144904/D202110/fdchp_20211017_090200.dat'</pre></body></html>"
      ],
      "text/plain": [
       "filename = '/home/jovyan/ooi/uncabled/GI01SUMO/R00008/instruments/dcl12/FDCHP_sn144904/D202110/fdchp_20211017_090200.dat'"
      ]
     },
     "execution_count": 10,
     "metadata": {},
     "output_type": "execute_result"
    },
    {
     "name": "stdout",
     "output_type": "stream",
     "text": [
      "Bad Length\n"
     ]
    },
    {
     "data": {
      "text/html": [
       "<html><body><pre>msgText = \n",
       "    'Output argument \"rawdata\" (and possibly others) not assigned a value in the execution with \"fdchpread_raw\" function.\n",
       "     \n",
       "     Error in fdchpread_raw_from_file_list (line 60)\n",
       "                 [td,dd] = fdchpread_raw(filename);\n",
       "     \n",
       "     Error in LiveEditorEvaluationHelperEeditorId (line 1)\n",
       "     [uw, U, sigH] =  fdchpread_raw_from_file_list(file_list)\n",
       "     \n",
       "     Error in jupyter.execute (line 51)\n",
       "     resp = jsondecode(matlab.internal.editor.evaluateSynchronousRequest(request));\n",
       "     \n",
       "     Error in processJupyterKernelRequest (line 54)\n",
       "                 output = jupyter.execute(code, kernelId);\n",
       "     \n",
       "     Error in connector.internal.fevalMatlab\n",
       "     \n",
       "     Error in connector.internal.fevalJSON'\n",
       "</pre></body></html>"
      ],
      "text/plain": [
       "msgText = \n",
       "    'Output argument \"rawdata\" (and possibly others) not assigned a value in the execution with \"fdchpread_raw\" function.\n",
       "     \n",
       "     Error in fdchpread_raw_from_file_list (line 60)\n",
       "                 [td,dd] = fdchpread_raw(filename);\n",
       "     \n",
       "     Error in LiveEditorEvaluationHelperEeditorId (line 1)\n",
       "     [uw, U, sigH] =  fdchpread_raw_from_file_list(file_list)\n",
       "     \n",
       "     Error in jupyter.execute (line 51)\n",
       "     resp = jsondecode(matlab.internal.editor.evaluateSynchronousRequest(request));\n",
       "     \n",
       "     Error in processJupyterKernelRequest (line 54)\n",
       "                 output = jupyter.execute(code, kernelId);\n",
       "     \n",
       "     Error in connector.internal.fevalMatlab\n",
       "     \n",
       "     Error in connector.internal.fevalJSON'\n"
      ]
     },
     "execution_count": 10,
     "metadata": {},
     "output_type": "execute_result"
    },
    {
     "name": "stdout",
     "output_type": "stream",
     "text": [
      "    \"Error reading filename: \"    \"Output argument \"rawdata\" (and possibly others) not assigned a value in the execution with \"fdchpread_raw\" function....\"\n",
      "\n",
      "Processing file: 268 \n"
     ]
    },
    {
     "data": {
      "text/html": [
       "<html><body><pre>filename = '/home/jovyan/ooi/uncabled/GI01SUMO/R00008/instruments/dcl12/FDCHP_sn144904/D202110/fdchp_20211017_100200.dat'</pre></body></html>"
      ],
      "text/plain": [
       "filename = '/home/jovyan/ooi/uncabled/GI01SUMO/R00008/instruments/dcl12/FDCHP_sn144904/D202110/fdchp_20211017_100200.dat'"
      ]
     },
     "execution_count": 10,
     "metadata": {},
     "output_type": "execute_result"
    },
    {
     "name": "stdout",
     "output_type": "stream",
     "text": [
      "Processing file: 269 \n"
     ]
    },
    {
     "data": {
      "text/html": [
       "<html><body><pre>filename = '/home/jovyan/ooi/uncabled/GI01SUMO/R00008/instruments/dcl12/FDCHP_sn144904/D202110/fdchp_20211017_120200.dat'</pre></body></html>"
      ],
      "text/plain": [
       "filename = '/home/jovyan/ooi/uncabled/GI01SUMO/R00008/instruments/dcl12/FDCHP_sn144904/D202110/fdchp_20211017_120200.dat'"
      ]
     },
     "execution_count": 10,
     "metadata": {},
     "output_type": "execute_result"
    },
    {
     "name": "stdout",
     "output_type": "stream",
     "text": [
      "Processing file: 270 \n"
     ]
    },
    {
     "data": {
      "text/html": [
       "<html><body><pre>filename = '/home/jovyan/ooi/uncabled/GI01SUMO/R00008/instruments/dcl12/FDCHP_sn144904/D202110/fdchp_20211017_140200.dat'</pre></body></html>"
      ],
      "text/plain": [
       "filename = '/home/jovyan/ooi/uncabled/GI01SUMO/R00008/instruments/dcl12/FDCHP_sn144904/D202110/fdchp_20211017_140200.dat'"
      ]
     },
     "execution_count": 10,
     "metadata": {},
     "output_type": "execute_result"
    },
    {
     "name": "stdout",
     "output_type": "stream",
     "text": [
      "Bad Length\n"
     ]
    },
    {
     "data": {
      "text/html": [
       "<html><body><pre>msgText = \n",
       "    'Output argument \"rawdata\" (and possibly others) not assigned a value in the execution with \"fdchpread_raw\" function.\n",
       "     \n",
       "     Error in fdchpread_raw_from_file_list (line 60)\n",
       "                 [td,dd] = fdchpread_raw(filename);\n",
       "     \n",
       "     Error in LiveEditorEvaluationHelperEeditorId (line 1)\n",
       "     [uw, U, sigH] =  fdchpread_raw_from_file_list(file_list)\n",
       "     \n",
       "     Error in jupyter.execute (line 51)\n",
       "     resp = jsondecode(matlab.internal.editor.evaluateSynchronousRequest(request));\n",
       "     \n",
       "     Error in processJupyterKernelRequest (line 54)\n",
       "                 output = jupyter.execute(code, kernelId);\n",
       "     \n",
       "     Error in connector.internal.fevalMatlab\n",
       "     \n",
       "     Error in connector.internal.fevalJSON'\n",
       "</pre></body></html>"
      ],
      "text/plain": [
       "msgText = \n",
       "    'Output argument \"rawdata\" (and possibly others) not assigned a value in the execution with \"fdchpread_raw\" function.\n",
       "     \n",
       "     Error in fdchpread_raw_from_file_list (line 60)\n",
       "                 [td,dd] = fdchpread_raw(filename);\n",
       "     \n",
       "     Error in LiveEditorEvaluationHelperEeditorId (line 1)\n",
       "     [uw, U, sigH] =  fdchpread_raw_from_file_list(file_list)\n",
       "     \n",
       "     Error in jupyter.execute (line 51)\n",
       "     resp = jsondecode(matlab.internal.editor.evaluateSynchronousRequest(request));\n",
       "     \n",
       "     Error in processJupyterKernelRequest (line 54)\n",
       "                 output = jupyter.execute(code, kernelId);\n",
       "     \n",
       "     Error in connector.internal.fevalMatlab\n",
       "     \n",
       "     Error in connector.internal.fevalJSON'\n"
      ]
     },
     "execution_count": 10,
     "metadata": {},
     "output_type": "execute_result"
    },
    {
     "name": "stdout",
     "output_type": "stream",
     "text": [
      "    \"Error reading filename: \"    \"Output argument \"rawdata\" (and possibly others) not assigned a value in the execution with \"fdchpread_raw\" function....\"\n",
      "\n",
      "Processing file: 271 \n"
     ]
    },
    {
     "data": {
      "text/html": [
       "<html><body><pre>filename = '/home/jovyan/ooi/uncabled/GI01SUMO/R00008/instruments/dcl12/FDCHP_sn144904/D202110/fdchp_20211017_160200.dat'</pre></body></html>"
      ],
      "text/plain": [
       "filename = '/home/jovyan/ooi/uncabled/GI01SUMO/R00008/instruments/dcl12/FDCHP_sn144904/D202110/fdchp_20211017_160200.dat'"
      ]
     },
     "execution_count": 10,
     "metadata": {},
     "output_type": "execute_result"
    },
    {
     "name": "stdout",
     "output_type": "stream",
     "text": [
      "Bad Length\n"
     ]
    },
    {
     "data": {
      "text/html": [
       "<html><body><pre>msgText = \n",
       "    'Output argument \"rawdata\" (and possibly others) not assigned a value in the execution with \"fdchpread_raw\" function.\n",
       "     \n",
       "     Error in fdchpread_raw_from_file_list (line 60)\n",
       "                 [td,dd] = fdchpread_raw(filename);\n",
       "     \n",
       "     Error in LiveEditorEvaluationHelperEeditorId (line 1)\n",
       "     [uw, U, sigH] =  fdchpread_raw_from_file_list(file_list)\n",
       "     \n",
       "     Error in jupyter.execute (line 51)\n",
       "     resp = jsondecode(matlab.internal.editor.evaluateSynchronousRequest(request));\n",
       "     \n",
       "     Error in processJupyterKernelRequest (line 54)\n",
       "                 output = jupyter.execute(code, kernelId);\n",
       "     \n",
       "     Error in connector.internal.fevalMatlab\n",
       "     \n",
       "     Error in connector.internal.fevalJSON'\n",
       "</pre></body></html>"
      ],
      "text/plain": [
       "msgText = \n",
       "    'Output argument \"rawdata\" (and possibly others) not assigned a value in the execution with \"fdchpread_raw\" function.\n",
       "     \n",
       "     Error in fdchpread_raw_from_file_list (line 60)\n",
       "                 [td,dd] = fdchpread_raw(filename);\n",
       "     \n",
       "     Error in LiveEditorEvaluationHelperEeditorId (line 1)\n",
       "     [uw, U, sigH] =  fdchpread_raw_from_file_list(file_list)\n",
       "     \n",
       "     Error in jupyter.execute (line 51)\n",
       "     resp = jsondecode(matlab.internal.editor.evaluateSynchronousRequest(request));\n",
       "     \n",
       "     Error in processJupyterKernelRequest (line 54)\n",
       "                 output = jupyter.execute(code, kernelId);\n",
       "     \n",
       "     Error in connector.internal.fevalMatlab\n",
       "     \n",
       "     Error in connector.internal.fevalJSON'\n"
      ]
     },
     "execution_count": 10,
     "metadata": {},
     "output_type": "execute_result"
    },
    {
     "name": "stdout",
     "output_type": "stream",
     "text": [
      "    \"Error reading filename: \"    \"Output argument \"rawdata\" (and possibly others) not assigned a value in the execution with \"fdchpread_raw\" function....\"\n",
      "\n",
      "Processing file: 272 \n"
     ]
    },
    {
     "data": {
      "text/html": [
       "<html><body><pre>filename = '/home/jovyan/ooi/uncabled/GI01SUMO/R00008/instruments/dcl12/FDCHP_sn144904/D202110/fdchp_20211017_190200.dat'</pre></body></html>"
      ],
      "text/plain": [
       "filename = '/home/jovyan/ooi/uncabled/GI01SUMO/R00008/instruments/dcl12/FDCHP_sn144904/D202110/fdchp_20211017_190200.dat'"
      ]
     },
     "execution_count": 10,
     "metadata": {},
     "output_type": "execute_result"
    },
    {
     "name": "stdout",
     "output_type": "stream",
     "text": [
      "Bad Length\n"
     ]
    },
    {
     "data": {
      "text/html": [
       "<html><body><pre>msgText = \n",
       "    'Output argument \"rawdata\" (and possibly others) not assigned a value in the execution with \"fdchpread_raw\" function.\n",
       "     \n",
       "     Error in fdchpread_raw_from_file_list (line 60)\n",
       "                 [td,dd] = fdchpread_raw(filename);\n",
       "     \n",
       "     Error in LiveEditorEvaluationHelperEeditorId (line 1)\n",
       "     [uw, U, sigH] =  fdchpread_raw_from_file_list(file_list)\n",
       "     \n",
       "     Error in jupyter.execute (line 51)\n",
       "     resp = jsondecode(matlab.internal.editor.evaluateSynchronousRequest(request));\n",
       "     \n",
       "     Error in processJupyterKernelRequest (line 54)\n",
       "                 output = jupyter.execute(code, kernelId);\n",
       "     \n",
       "     Error in connector.internal.fevalMatlab\n",
       "     \n",
       "     Error in connector.internal.fevalJSON'\n",
       "</pre></body></html>"
      ],
      "text/plain": [
       "msgText = \n",
       "    'Output argument \"rawdata\" (and possibly others) not assigned a value in the execution with \"fdchpread_raw\" function.\n",
       "     \n",
       "     Error in fdchpread_raw_from_file_list (line 60)\n",
       "                 [td,dd] = fdchpread_raw(filename);\n",
       "     \n",
       "     Error in LiveEditorEvaluationHelperEeditorId (line 1)\n",
       "     [uw, U, sigH] =  fdchpread_raw_from_file_list(file_list)\n",
       "     \n",
       "     Error in jupyter.execute (line 51)\n",
       "     resp = jsondecode(matlab.internal.editor.evaluateSynchronousRequest(request));\n",
       "     \n",
       "     Error in processJupyterKernelRequest (line 54)\n",
       "                 output = jupyter.execute(code, kernelId);\n",
       "     \n",
       "     Error in connector.internal.fevalMatlab\n",
       "     \n",
       "     Error in connector.internal.fevalJSON'\n"
      ]
     },
     "execution_count": 10,
     "metadata": {},
     "output_type": "execute_result"
    },
    {
     "name": "stdout",
     "output_type": "stream",
     "text": [
      "    \"Error reading filename: \"    \"Output argument \"rawdata\" (and possibly others) not assigned a value in the execution with \"fdchpread_raw\" function....\"\n",
      "\n",
      "Processing file: 273 \n"
     ]
    },
    {
     "data": {
      "text/html": [
       "<html><body><pre>filename = '/home/jovyan/ooi/uncabled/GI01SUMO/R00008/instruments/dcl12/FDCHP_sn144904/D202110/fdchp_20211017_210200.dat'</pre></body></html>"
      ],
      "text/plain": [
       "filename = '/home/jovyan/ooi/uncabled/GI01SUMO/R00008/instruments/dcl12/FDCHP_sn144904/D202110/fdchp_20211017_210200.dat'"
      ]
     },
     "execution_count": 10,
     "metadata": {},
     "output_type": "execute_result"
    },
    {
     "name": "stdout",
     "output_type": "stream",
     "text": [
      "Processing file: 274 \n"
     ]
    },
    {
     "data": {
      "text/html": [
       "<html><body><pre>filename = '/home/jovyan/ooi/uncabled/GI01SUMO/R00008/instruments/dcl12/FDCHP_sn144904/D202110/fdchp_20211017_220200.dat'</pre></body></html>"
      ],
      "text/plain": [
       "filename = '/home/jovyan/ooi/uncabled/GI01SUMO/R00008/instruments/dcl12/FDCHP_sn144904/D202110/fdchp_20211017_220200.dat'"
      ]
     },
     "execution_count": 10,
     "metadata": {},
     "output_type": "execute_result"
    },
    {
     "name": "stdout",
     "output_type": "stream",
     "text": [
      "Bad Length\n"
     ]
    },
    {
     "data": {
      "text/html": [
       "<html><body><pre>msgText = \n",
       "    'Output argument \"rawdata\" (and possibly others) not assigned a value in the execution with \"fdchpread_raw\" function.\n",
       "     \n",
       "     Error in fdchpread_raw_from_file_list (line 60)\n",
       "                 [td,dd] = fdchpread_raw(filename);\n",
       "     \n",
       "     Error in LiveEditorEvaluationHelperEeditorId (line 1)\n",
       "     [uw, U, sigH] =  fdchpread_raw_from_file_list(file_list)\n",
       "     \n",
       "     Error in jupyter.execute (line 51)\n",
       "     resp = jsondecode(matlab.internal.editor.evaluateSynchronousRequest(request));\n",
       "     \n",
       "     Error in processJupyterKernelRequest (line 54)\n",
       "                 output = jupyter.execute(code, kernelId);\n",
       "     \n",
       "     Error in connector.internal.fevalMatlab\n",
       "     \n",
       "     Error in connector.internal.fevalJSON'\n",
       "</pre></body></html>"
      ],
      "text/plain": [
       "msgText = \n",
       "    'Output argument \"rawdata\" (and possibly others) not assigned a value in the execution with \"fdchpread_raw\" function.\n",
       "     \n",
       "     Error in fdchpread_raw_from_file_list (line 60)\n",
       "                 [td,dd] = fdchpread_raw(filename);\n",
       "     \n",
       "     Error in LiveEditorEvaluationHelperEeditorId (line 1)\n",
       "     [uw, U, sigH] =  fdchpread_raw_from_file_list(file_list)\n",
       "     \n",
       "     Error in jupyter.execute (line 51)\n",
       "     resp = jsondecode(matlab.internal.editor.evaluateSynchronousRequest(request));\n",
       "     \n",
       "     Error in processJupyterKernelRequest (line 54)\n",
       "                 output = jupyter.execute(code, kernelId);\n",
       "     \n",
       "     Error in connector.internal.fevalMatlab\n",
       "     \n",
       "     Error in connector.internal.fevalJSON'\n"
      ]
     },
     "execution_count": 10,
     "metadata": {},
     "output_type": "execute_result"
    },
    {
     "name": "stdout",
     "output_type": "stream",
     "text": [
      "    \"Error reading filename: \"    \"Output argument \"rawdata\" (and possibly others) not assigned a value in the execution with \"fdchpread_raw\" function....\"\n",
      "\n",
      "Processing file: 275 \n"
     ]
    },
    {
     "data": {
      "text/html": [
       "<html><body><pre>filename = '/home/jovyan/ooi/uncabled/GI01SUMO/R00008/instruments/dcl12/FDCHP_sn144904/D202110/fdchp_20211018_000200.dat'</pre></body></html>"
      ],
      "text/plain": [
       "filename = '/home/jovyan/ooi/uncabled/GI01SUMO/R00008/instruments/dcl12/FDCHP_sn144904/D202110/fdchp_20211018_000200.dat'"
      ]
     },
     "execution_count": 10,
     "metadata": {},
     "output_type": "execute_result"
    },
    {
     "name": "stdout",
     "output_type": "stream",
     "text": [
      "Bad Length\n"
     ]
    },
    {
     "data": {
      "text/html": [
       "<html><body><pre>msgText = \n",
       "    'Output argument \"rawdata\" (and possibly others) not assigned a value in the execution with \"fdchpread_raw\" function.\n",
       "     \n",
       "     Error in fdchpread_raw_from_file_list (line 60)\n",
       "                 [td,dd] = fdchpread_raw(filename);\n",
       "     \n",
       "     Error in LiveEditorEvaluationHelperEeditorId (line 1)\n",
       "     [uw, U, sigH] =  fdchpread_raw_from_file_list(file_list)\n",
       "     \n",
       "     Error in jupyter.execute (line 51)\n",
       "     resp = jsondecode(matlab.internal.editor.evaluateSynchronousRequest(request));\n",
       "     \n",
       "     Error in processJupyterKernelRequest (line 54)\n",
       "                 output = jupyter.execute(code, kernelId);\n",
       "     \n",
       "     Error in connector.internal.fevalMatlab\n",
       "     \n",
       "     Error in connector.internal.fevalJSON'\n",
       "</pre></body></html>"
      ],
      "text/plain": [
       "msgText = \n",
       "    'Output argument \"rawdata\" (and possibly others) not assigned a value in the execution with \"fdchpread_raw\" function.\n",
       "     \n",
       "     Error in fdchpread_raw_from_file_list (line 60)\n",
       "                 [td,dd] = fdchpread_raw(filename);\n",
       "     \n",
       "     Error in LiveEditorEvaluationHelperEeditorId (line 1)\n",
       "     [uw, U, sigH] =  fdchpread_raw_from_file_list(file_list)\n",
       "     \n",
       "     Error in jupyter.execute (line 51)\n",
       "     resp = jsondecode(matlab.internal.editor.evaluateSynchronousRequest(request));\n",
       "     \n",
       "     Error in processJupyterKernelRequest (line 54)\n",
       "                 output = jupyter.execute(code, kernelId);\n",
       "     \n",
       "     Error in connector.internal.fevalMatlab\n",
       "     \n",
       "     Error in connector.internal.fevalJSON'\n"
      ]
     },
     "execution_count": 10,
     "metadata": {},
     "output_type": "execute_result"
    },
    {
     "name": "stdout",
     "output_type": "stream",
     "text": [
      "    \"Error reading filename: \"    \"Output argument \"rawdata\" (and possibly others) not assigned a value in the execution with \"fdchpread_raw\" function....\"\n",
      "\n",
      "Processing file: 276 \n"
     ]
    },
    {
     "data": {
      "text/html": [
       "<html><body><pre>filename = '/home/jovyan/ooi/uncabled/GI01SUMO/R00008/instruments/dcl12/FDCHP_sn144904/D202110/fdchp_20211018_010200.dat'</pre></body></html>"
      ],
      "text/plain": [
       "filename = '/home/jovyan/ooi/uncabled/GI01SUMO/R00008/instruments/dcl12/FDCHP_sn144904/D202110/fdchp_20211018_010200.dat'"
      ]
     },
     "execution_count": 10,
     "metadata": {},
     "output_type": "execute_result"
    },
    {
     "name": "stdout",
     "output_type": "stream",
     "text": [
      "Bad Length\n"
     ]
    },
    {
     "data": {
      "text/html": [
       "<html><body><pre>msgText = \n",
       "    'Output argument \"rawdata\" (and possibly others) not assigned a value in the execution with \"fdchpread_raw\" function.\n",
       "     \n",
       "     Error in fdchpread_raw_from_file_list (line 60)\n",
       "                 [td,dd] = fdchpread_raw(filename);\n",
       "     \n",
       "     Error in LiveEditorEvaluationHelperEeditorId (line 1)\n",
       "     [uw, U, sigH] =  fdchpread_raw_from_file_list(file_list)\n",
       "     \n",
       "     Error in jupyter.execute (line 51)\n",
       "     resp = jsondecode(matlab.internal.editor.evaluateSynchronousRequest(request));\n",
       "     \n",
       "     Error in processJupyterKernelRequest (line 54)\n",
       "                 output = jupyter.execute(code, kernelId);\n",
       "     \n",
       "     Error in connector.internal.fevalMatlab\n",
       "     \n",
       "     Error in connector.internal.fevalJSON'\n",
       "</pre></body></html>"
      ],
      "text/plain": [
       "msgText = \n",
       "    'Output argument \"rawdata\" (and possibly others) not assigned a value in the execution with \"fdchpread_raw\" function.\n",
       "     \n",
       "     Error in fdchpread_raw_from_file_list (line 60)\n",
       "                 [td,dd] = fdchpread_raw(filename);\n",
       "     \n",
       "     Error in LiveEditorEvaluationHelperEeditorId (line 1)\n",
       "     [uw, U, sigH] =  fdchpread_raw_from_file_list(file_list)\n",
       "     \n",
       "     Error in jupyter.execute (line 51)\n",
       "     resp = jsondecode(matlab.internal.editor.evaluateSynchronousRequest(request));\n",
       "     \n",
       "     Error in processJupyterKernelRequest (line 54)\n",
       "                 output = jupyter.execute(code, kernelId);\n",
       "     \n",
       "     Error in connector.internal.fevalMatlab\n",
       "     \n",
       "     Error in connector.internal.fevalJSON'\n"
      ]
     },
     "execution_count": 10,
     "metadata": {},
     "output_type": "execute_result"
    },
    {
     "name": "stdout",
     "output_type": "stream",
     "text": [
      "    \"Error reading filename: \"    \"Output argument \"rawdata\" (and possibly others) not assigned a value in the execution with \"fdchpread_raw\" function....\"\n",
      "\n",
      "Processing file: 277 \n"
     ]
    },
    {
     "data": {
      "text/html": [
       "<html><body><pre>filename = '/home/jovyan/ooi/uncabled/GI01SUMO/R00008/instruments/dcl12/FDCHP_sn144904/D202110/fdchp_20211018_020200.dat'</pre></body></html>"
      ],
      "text/plain": [
       "filename = '/home/jovyan/ooi/uncabled/GI01SUMO/R00008/instruments/dcl12/FDCHP_sn144904/D202110/fdchp_20211018_020200.dat'"
      ]
     },
     "execution_count": 10,
     "metadata": {},
     "output_type": "execute_result"
    },
    {
     "name": "stdout",
     "output_type": "stream",
     "text": [
      "Processing file: 278 \n"
     ]
    },
    {
     "data": {
      "text/html": [
       "<html><body><pre>filename = '/home/jovyan/ooi/uncabled/GI01SUMO/R00008/instruments/dcl12/FDCHP_sn144904/D202110/fdchp_20211018_030200.dat'</pre></body></html>"
      ],
      "text/plain": [
       "filename = '/home/jovyan/ooi/uncabled/GI01SUMO/R00008/instruments/dcl12/FDCHP_sn144904/D202110/fdchp_20211018_030200.dat'"
      ]
     },
     "execution_count": 10,
     "metadata": {},
     "output_type": "execute_result"
    },
    {
     "name": "stdout",
     "output_type": "stream",
     "text": [
      "Processing file: 279 \n"
     ]
    },
    {
     "data": {
      "text/html": [
       "<html><body><pre>filename = '/home/jovyan/ooi/uncabled/GI01SUMO/R00008/instruments/dcl12/FDCHP_sn144904/D202110/fdchp_20211018_040200.dat'</pre></body></html>"
      ],
      "text/plain": [
       "filename = '/home/jovyan/ooi/uncabled/GI01SUMO/R00008/instruments/dcl12/FDCHP_sn144904/D202110/fdchp_20211018_040200.dat'"
      ]
     },
     "execution_count": 10,
     "metadata": {},
     "output_type": "execute_result"
    },
    {
     "name": "stdout",
     "output_type": "stream",
     "text": [
      "Processing file: 280 \n"
     ]
    },
    {
     "data": {
      "text/html": [
       "<html><body><pre>filename = '/home/jovyan/ooi/uncabled/GI01SUMO/R00008/instruments/dcl12/FDCHP_sn144904/D202110/fdchp_20211018_050200.dat'</pre></body></html>"
      ],
      "text/plain": [
       "filename = '/home/jovyan/ooi/uncabled/GI01SUMO/R00008/instruments/dcl12/FDCHP_sn144904/D202110/fdchp_20211018_050200.dat'"
      ]
     },
     "execution_count": 10,
     "metadata": {},
     "output_type": "execute_result"
    },
    {
     "name": "stdout",
     "output_type": "stream",
     "text": [
      "Processing file: 281 \n"
     ]
    },
    {
     "data": {
      "text/html": [
       "<html><body><pre>filename = '/home/jovyan/ooi/uncabled/GI01SUMO/R00008/instruments/dcl12/FDCHP_sn144904/D202110/fdchp_20211018_060200.dat'</pre></body></html>"
      ],
      "text/plain": [
       "filename = '/home/jovyan/ooi/uncabled/GI01SUMO/R00008/instruments/dcl12/FDCHP_sn144904/D202110/fdchp_20211018_060200.dat'"
      ]
     },
     "execution_count": 10,
     "metadata": {},
     "output_type": "execute_result"
    },
    {
     "name": "stdout",
     "output_type": "stream",
     "text": [
      "Bad Length\n"
     ]
    },
    {
     "data": {
      "text/html": [
       "<html><body><pre>msgText = \n",
       "    'Output argument \"rawdata\" (and possibly others) not assigned a value in the execution with \"fdchpread_raw\" function.\n",
       "     \n",
       "     Error in fdchpread_raw_from_file_list (line 60)\n",
       "                 [td,dd] = fdchpread_raw(filename);\n",
       "     \n",
       "     Error in LiveEditorEvaluationHelperEeditorId (line 1)\n",
       "     [uw, U, sigH] =  fdchpread_raw_from_file_list(file_list)\n",
       "     \n",
       "     Error in jupyter.execute (line 51)\n",
       "     resp = jsondecode(matlab.internal.editor.evaluateSynchronousRequest(request));\n",
       "     \n",
       "     Error in processJupyterKernelRequest (line 54)\n",
       "                 output = jupyter.execute(code, kernelId);\n",
       "     \n",
       "     Error in connector.internal.fevalMatlab\n",
       "     \n",
       "     Error in connector.internal.fevalJSON'\n",
       "</pre></body></html>"
      ],
      "text/plain": [
       "msgText = \n",
       "    'Output argument \"rawdata\" (and possibly others) not assigned a value in the execution with \"fdchpread_raw\" function.\n",
       "     \n",
       "     Error in fdchpread_raw_from_file_list (line 60)\n",
       "                 [td,dd] = fdchpread_raw(filename);\n",
       "     \n",
       "     Error in LiveEditorEvaluationHelperEeditorId (line 1)\n",
       "     [uw, U, sigH] =  fdchpread_raw_from_file_list(file_list)\n",
       "     \n",
       "     Error in jupyter.execute (line 51)\n",
       "     resp = jsondecode(matlab.internal.editor.evaluateSynchronousRequest(request));\n",
       "     \n",
       "     Error in processJupyterKernelRequest (line 54)\n",
       "                 output = jupyter.execute(code, kernelId);\n",
       "     \n",
       "     Error in connector.internal.fevalMatlab\n",
       "     \n",
       "     Error in connector.internal.fevalJSON'\n"
      ]
     },
     "execution_count": 10,
     "metadata": {},
     "output_type": "execute_result"
    },
    {
     "name": "stdout",
     "output_type": "stream",
     "text": [
      "    \"Error reading filename: \"    \"Output argument \"rawdata\" (and possibly others) not assigned a value in the execution with \"fdchpread_raw\" function....\"\n",
      "\n",
      "Processing file: 282 \n"
     ]
    },
    {
     "data": {
      "text/html": [
       "<html><body><pre>filename = '/home/jovyan/ooi/uncabled/GI01SUMO/R00008/instruments/dcl12/FDCHP_sn144904/D202110/fdchp_20211018_070200.dat'</pre></body></html>"
      ],
      "text/plain": [
       "filename = '/home/jovyan/ooi/uncabled/GI01SUMO/R00008/instruments/dcl12/FDCHP_sn144904/D202110/fdchp_20211018_070200.dat'"
      ]
     },
     "execution_count": 10,
     "metadata": {},
     "output_type": "execute_result"
    },
    {
     "name": "stdout",
     "output_type": "stream",
     "text": [
      "Bad Length\n"
     ]
    },
    {
     "data": {
      "text/html": [
       "<html><body><pre>msgText = \n",
       "    'Output argument \"rawdata\" (and possibly others) not assigned a value in the execution with \"fdchpread_raw\" function.\n",
       "     \n",
       "     Error in fdchpread_raw_from_file_list (line 60)\n",
       "                 [td,dd] = fdchpread_raw(filename);\n",
       "     \n",
       "     Error in LiveEditorEvaluationHelperEeditorId (line 1)\n",
       "     [uw, U, sigH] =  fdchpread_raw_from_file_list(file_list)\n",
       "     \n",
       "     Error in jupyter.execute (line 51)\n",
       "     resp = jsondecode(matlab.internal.editor.evaluateSynchronousRequest(request));\n",
       "     \n",
       "     Error in processJupyterKernelRequest (line 54)\n",
       "                 output = jupyter.execute(code, kernelId);\n",
       "     \n",
       "     Error in connector.internal.fevalMatlab\n",
       "     \n",
       "     Error in connector.internal.fevalJSON'\n",
       "</pre></body></html>"
      ],
      "text/plain": [
       "msgText = \n",
       "    'Output argument \"rawdata\" (and possibly others) not assigned a value in the execution with \"fdchpread_raw\" function.\n",
       "     \n",
       "     Error in fdchpread_raw_from_file_list (line 60)\n",
       "                 [td,dd] = fdchpread_raw(filename);\n",
       "     \n",
       "     Error in LiveEditorEvaluationHelperEeditorId (line 1)\n",
       "     [uw, U, sigH] =  fdchpread_raw_from_file_list(file_list)\n",
       "     \n",
       "     Error in jupyter.execute (line 51)\n",
       "     resp = jsondecode(matlab.internal.editor.evaluateSynchronousRequest(request));\n",
       "     \n",
       "     Error in processJupyterKernelRequest (line 54)\n",
       "                 output = jupyter.execute(code, kernelId);\n",
       "     \n",
       "     Error in connector.internal.fevalMatlab\n",
       "     \n",
       "     Error in connector.internal.fevalJSON'\n"
      ]
     },
     "execution_count": 10,
     "metadata": {},
     "output_type": "execute_result"
    },
    {
     "name": "stdout",
     "output_type": "stream",
     "text": [
      "    \"Error reading filename: \"    \"Output argument \"rawdata\" (and possibly others) not assigned a value in the execution with \"fdchpread_raw\" function....\"\n",
      "\n",
      "Processing file: 283 \n"
     ]
    },
    {
     "data": {
      "text/html": [
       "<html><body><pre>filename = '/home/jovyan/ooi/uncabled/GI01SUMO/R00008/instruments/dcl12/FDCHP_sn144904/D202110/fdchp_20211018_080200.dat'</pre></body></html>"
      ],
      "text/plain": [
       "filename = '/home/jovyan/ooi/uncabled/GI01SUMO/R00008/instruments/dcl12/FDCHP_sn144904/D202110/fdchp_20211018_080200.dat'"
      ]
     },
     "execution_count": 10,
     "metadata": {},
     "output_type": "execute_result"
    },
    {
     "name": "stdout",
     "output_type": "stream",
     "text": [
      "Bad Length\n"
     ]
    },
    {
     "data": {
      "text/html": [
       "<html><body><pre>msgText = \n",
       "    'Output argument \"rawdata\" (and possibly others) not assigned a value in the execution with \"fdchpread_raw\" function.\n",
       "     \n",
       "     Error in fdchpread_raw_from_file_list (line 60)\n",
       "                 [td,dd] = fdchpread_raw(filename);\n",
       "     \n",
       "     Error in LiveEditorEvaluationHelperEeditorId (line 1)\n",
       "     [uw, U, sigH] =  fdchpread_raw_from_file_list(file_list)\n",
       "     \n",
       "     Error in jupyter.execute (line 51)\n",
       "     resp = jsondecode(matlab.internal.editor.evaluateSynchronousRequest(request));\n",
       "     \n",
       "     Error in processJupyterKernelRequest (line 54)\n",
       "                 output = jupyter.execute(code, kernelId);\n",
       "     \n",
       "     Error in connector.internal.fevalMatlab\n",
       "     \n",
       "     Error in connector.internal.fevalJSON'\n",
       "</pre></body></html>"
      ],
      "text/plain": [
       "msgText = \n",
       "    'Output argument \"rawdata\" (and possibly others) not assigned a value in the execution with \"fdchpread_raw\" function.\n",
       "     \n",
       "     Error in fdchpread_raw_from_file_list (line 60)\n",
       "                 [td,dd] = fdchpread_raw(filename);\n",
       "     \n",
       "     Error in LiveEditorEvaluationHelperEeditorId (line 1)\n",
       "     [uw, U, sigH] =  fdchpread_raw_from_file_list(file_list)\n",
       "     \n",
       "     Error in jupyter.execute (line 51)\n",
       "     resp = jsondecode(matlab.internal.editor.evaluateSynchronousRequest(request));\n",
       "     \n",
       "     Error in processJupyterKernelRequest (line 54)\n",
       "                 output = jupyter.execute(code, kernelId);\n",
       "     \n",
       "     Error in connector.internal.fevalMatlab\n",
       "     \n",
       "     Error in connector.internal.fevalJSON'\n"
      ]
     },
     "execution_count": 10,
     "metadata": {},
     "output_type": "execute_result"
    },
    {
     "name": "stdout",
     "output_type": "stream",
     "text": [
      "    \"Error reading filename: \"    \"Output argument \"rawdata\" (and possibly others) not assigned a value in the execution with \"fdchpread_raw\" function....\"\n",
      "\n",
      "Processing file: 284 \n"
     ]
    },
    {
     "data": {
      "text/html": [
       "<html><body><pre>filename = '/home/jovyan/ooi/uncabled/GI01SUMO/R00008/instruments/dcl12/FDCHP_sn144904/D202110/fdchp_20211018_090200.dat'</pre></body></html>"
      ],
      "text/plain": [
       "filename = '/home/jovyan/ooi/uncabled/GI01SUMO/R00008/instruments/dcl12/FDCHP_sn144904/D202110/fdchp_20211018_090200.dat'"
      ]
     },
     "execution_count": 10,
     "metadata": {},
     "output_type": "execute_result"
    },
    {
     "name": "stdout",
     "output_type": "stream",
     "text": [
      "Processing file: 285 \n"
     ]
    },
    {
     "data": {
      "text/html": [
       "<html><body><pre>filename = '/home/jovyan/ooi/uncabled/GI01SUMO/R00008/instruments/dcl12/FDCHP_sn144904/D202110/fdchp_20211018_100200.dat'</pre></body></html>"
      ],
      "text/plain": [
       "filename = '/home/jovyan/ooi/uncabled/GI01SUMO/R00008/instruments/dcl12/FDCHP_sn144904/D202110/fdchp_20211018_100200.dat'"
      ]
     },
     "execution_count": 10,
     "metadata": {},
     "output_type": "execute_result"
    },
    {
     "name": "stdout",
     "output_type": "stream",
     "text": [
      "Processing file: 286 \n"
     ]
    },
    {
     "data": {
      "text/html": [
       "<html><body><pre>filename = '/home/jovyan/ooi/uncabled/GI01SUMO/R00008/instruments/dcl12/FDCHP_sn144904/D202110/fdchp_20211018_110200.dat'</pre></body></html>"
      ],
      "text/plain": [
       "filename = '/home/jovyan/ooi/uncabled/GI01SUMO/R00008/instruments/dcl12/FDCHP_sn144904/D202110/fdchp_20211018_110200.dat'"
      ]
     },
     "execution_count": 10,
     "metadata": {},
     "output_type": "execute_result"
    },
    {
     "name": "stdout",
     "output_type": "stream",
     "text": [
      "Bad Length\n"
     ]
    },
    {
     "data": {
      "text/html": [
       "<html><body><pre>msgText = \n",
       "    'Output argument \"rawdata\" (and possibly others) not assigned a value in the execution with \"fdchpread_raw\" function.\n",
       "     \n",
       "     Error in fdchpread_raw_from_file_list (line 60)\n",
       "                 [td,dd] = fdchpread_raw(filename);\n",
       "     \n",
       "     Error in LiveEditorEvaluationHelperEeditorId (line 1)\n",
       "     [uw, U, sigH] =  fdchpread_raw_from_file_list(file_list)\n",
       "     \n",
       "     Error in jupyter.execute (line 51)\n",
       "     resp = jsondecode(matlab.internal.editor.evaluateSynchronousRequest(request));\n",
       "     \n",
       "     Error in processJupyterKernelRequest (line 54)\n",
       "                 output = jupyter.execute(code, kernelId);\n",
       "     \n",
       "     Error in connector.internal.fevalMatlab\n",
       "     \n",
       "     Error in connector.internal.fevalJSON'\n",
       "</pre></body></html>"
      ],
      "text/plain": [
       "msgText = \n",
       "    'Output argument \"rawdata\" (and possibly others) not assigned a value in the execution with \"fdchpread_raw\" function.\n",
       "     \n",
       "     Error in fdchpread_raw_from_file_list (line 60)\n",
       "                 [td,dd] = fdchpread_raw(filename);\n",
       "     \n",
       "     Error in LiveEditorEvaluationHelperEeditorId (line 1)\n",
       "     [uw, U, sigH] =  fdchpread_raw_from_file_list(file_list)\n",
       "     \n",
       "     Error in jupyter.execute (line 51)\n",
       "     resp = jsondecode(matlab.internal.editor.evaluateSynchronousRequest(request));\n",
       "     \n",
       "     Error in processJupyterKernelRequest (line 54)\n",
       "                 output = jupyter.execute(code, kernelId);\n",
       "     \n",
       "     Error in connector.internal.fevalMatlab\n",
       "     \n",
       "     Error in connector.internal.fevalJSON'\n"
      ]
     },
     "execution_count": 10,
     "metadata": {},
     "output_type": "execute_result"
    },
    {
     "name": "stdout",
     "output_type": "stream",
     "text": [
      "    \"Error reading filename: \"    \"Output argument \"rawdata\" (and possibly others) not assigned a value in the execution with \"fdchpread_raw\" function....\"\n",
      "\n",
      "Processing file: 287 \n"
     ]
    },
    {
     "data": {
      "text/html": [
       "<html><body><pre>filename = '/home/jovyan/ooi/uncabled/GI01SUMO/R00008/instruments/dcl12/FDCHP_sn144904/D202110/fdchp_20211018_120200.dat'</pre></body></html>"
      ],
      "text/plain": [
       "filename = '/home/jovyan/ooi/uncabled/GI01SUMO/R00008/instruments/dcl12/FDCHP_sn144904/D202110/fdchp_20211018_120200.dat'"
      ]
     },
     "execution_count": 10,
     "metadata": {},
     "output_type": "execute_result"
    },
    {
     "name": "stdout",
     "output_type": "stream",
     "text": [
      "Processing file: 288 \n"
     ]
    },
    {
     "data": {
      "text/html": [
       "<html><body><pre>filename = '/home/jovyan/ooi/uncabled/GI01SUMO/R00008/instruments/dcl12/FDCHP_sn144904/D202110/fdchp_20211018_130200.dat'</pre></body></html>"
      ],
      "text/plain": [
       "filename = '/home/jovyan/ooi/uncabled/GI01SUMO/R00008/instruments/dcl12/FDCHP_sn144904/D202110/fdchp_20211018_130200.dat'"
      ]
     },
     "execution_count": 10,
     "metadata": {},
     "output_type": "execute_result"
    },
    {
     "name": "stdout",
     "output_type": "stream",
     "text": [
      "Processing file: 289 \n"
     ]
    },
    {
     "data": {
      "text/html": [
       "<html><body><pre>filename = '/home/jovyan/ooi/uncabled/GI01SUMO/R00008/instruments/dcl12/FDCHP_sn144904/D202110/fdchp_20211018_140200.dat'</pre></body></html>"
      ],
      "text/plain": [
       "filename = '/home/jovyan/ooi/uncabled/GI01SUMO/R00008/instruments/dcl12/FDCHP_sn144904/D202110/fdchp_20211018_140200.dat'"
      ]
     },
     "execution_count": 10,
     "metadata": {},
     "output_type": "execute_result"
    },
    {
     "name": "stdout",
     "output_type": "stream",
     "text": [
      "Processing file: 290 \n"
     ]
    },
    {
     "data": {
      "text/html": [
       "<html><body><pre>filename = '/home/jovyan/ooi/uncabled/GI01SUMO/R00008/instruments/dcl12/FDCHP_sn144904/D202110/fdchp_20211018_190200.dat'</pre></body></html>"
      ],
      "text/plain": [
       "filename = '/home/jovyan/ooi/uncabled/GI01SUMO/R00008/instruments/dcl12/FDCHP_sn144904/D202110/fdchp_20211018_190200.dat'"
      ]
     },
     "execution_count": 10,
     "metadata": {},
     "output_type": "execute_result"
    },
    {
     "name": "stdout",
     "output_type": "stream",
     "text": [
      "Bad Length\n"
     ]
    },
    {
     "data": {
      "text/html": [
       "<html><body><pre>msgText = \n",
       "    'Output argument \"rawdata\" (and possibly others) not assigned a value in the execution with \"fdchpread_raw\" function.\n",
       "     \n",
       "     Error in fdchpread_raw_from_file_list (line 60)\n",
       "                 [td,dd] = fdchpread_raw(filename);\n",
       "     \n",
       "     Error in LiveEditorEvaluationHelperEeditorId (line 1)\n",
       "     [uw, U, sigH] =  fdchpread_raw_from_file_list(file_list)\n",
       "     \n",
       "     Error in jupyter.execute (line 51)\n",
       "     resp = jsondecode(matlab.internal.editor.evaluateSynchronousRequest(request));\n",
       "     \n",
       "     Error in processJupyterKernelRequest (line 54)\n",
       "                 output = jupyter.execute(code, kernelId);\n",
       "     \n",
       "     Error in connector.internal.fevalMatlab\n",
       "     \n",
       "     Error in connector.internal.fevalJSON'\n",
       "</pre></body></html>"
      ],
      "text/plain": [
       "msgText = \n",
       "    'Output argument \"rawdata\" (and possibly others) not assigned a value in the execution with \"fdchpread_raw\" function.\n",
       "     \n",
       "     Error in fdchpread_raw_from_file_list (line 60)\n",
       "                 [td,dd] = fdchpread_raw(filename);\n",
       "     \n",
       "     Error in LiveEditorEvaluationHelperEeditorId (line 1)\n",
       "     [uw, U, sigH] =  fdchpread_raw_from_file_list(file_list)\n",
       "     \n",
       "     Error in jupyter.execute (line 51)\n",
       "     resp = jsondecode(matlab.internal.editor.evaluateSynchronousRequest(request));\n",
       "     \n",
       "     Error in processJupyterKernelRequest (line 54)\n",
       "                 output = jupyter.execute(code, kernelId);\n",
       "     \n",
       "     Error in connector.internal.fevalMatlab\n",
       "     \n",
       "     Error in connector.internal.fevalJSON'\n"
      ]
     },
     "execution_count": 10,
     "metadata": {},
     "output_type": "execute_result"
    },
    {
     "name": "stdout",
     "output_type": "stream",
     "text": [
      "    \"Error reading filename: \"    \"Output argument \"rawdata\" (and possibly others) not assigned a value in the execution with \"fdchpread_raw\" function....\"\n",
      "\n",
      "Processing file: 291 \n"
     ]
    },
    {
     "data": {
      "text/html": [
       "<html><body><pre>filename = '/home/jovyan/ooi/uncabled/GI01SUMO/R00008/instruments/dcl12/FDCHP_sn144904/D202110/fdchp_20211018_210200.dat'</pre></body></html>"
      ],
      "text/plain": [
       "filename = '/home/jovyan/ooi/uncabled/GI01SUMO/R00008/instruments/dcl12/FDCHP_sn144904/D202110/fdchp_20211018_210200.dat'"
      ]
     },
     "execution_count": 10,
     "metadata": {},
     "output_type": "execute_result"
    },
    {
     "name": "stdout",
     "output_type": "stream",
     "text": [
      "Bad Length\n"
     ]
    },
    {
     "data": {
      "text/html": [
       "<html><body><pre>msgText = \n",
       "    'Output argument \"rawdata\" (and possibly others) not assigned a value in the execution with \"fdchpread_raw\" function.\n",
       "     \n",
       "     Error in fdchpread_raw_from_file_list (line 60)\n",
       "                 [td,dd] = fdchpread_raw(filename);\n",
       "     \n",
       "     Error in LiveEditorEvaluationHelperEeditorId (line 1)\n",
       "     [uw, U, sigH] =  fdchpread_raw_from_file_list(file_list)\n",
       "     \n",
       "     Error in jupyter.execute (line 51)\n",
       "     resp = jsondecode(matlab.internal.editor.evaluateSynchronousRequest(request));\n",
       "     \n",
       "     Error in processJupyterKernelRequest (line 54)\n",
       "                 output = jupyter.execute(code, kernelId);\n",
       "     \n",
       "     Error in connector.internal.fevalMatlab\n",
       "     \n",
       "     Error in connector.internal.fevalJSON'\n",
       "</pre></body></html>"
      ],
      "text/plain": [
       "msgText = \n",
       "    'Output argument \"rawdata\" (and possibly others) not assigned a value in the execution with \"fdchpread_raw\" function.\n",
       "     \n",
       "     Error in fdchpread_raw_from_file_list (line 60)\n",
       "                 [td,dd] = fdchpread_raw(filename);\n",
       "     \n",
       "     Error in LiveEditorEvaluationHelperEeditorId (line 1)\n",
       "     [uw, U, sigH] =  fdchpread_raw_from_file_list(file_list)\n",
       "     \n",
       "     Error in jupyter.execute (line 51)\n",
       "     resp = jsondecode(matlab.internal.editor.evaluateSynchronousRequest(request));\n",
       "     \n",
       "     Error in processJupyterKernelRequest (line 54)\n",
       "                 output = jupyter.execute(code, kernelId);\n",
       "     \n",
       "     Error in connector.internal.fevalMatlab\n",
       "     \n",
       "     Error in connector.internal.fevalJSON'\n"
      ]
     },
     "execution_count": 10,
     "metadata": {},
     "output_type": "execute_result"
    },
    {
     "name": "stdout",
     "output_type": "stream",
     "text": [
      "    \"Error reading filename: \"    \"Output argument \"rawdata\" (and possibly others) not assigned a value in the execution with \"fdchpread_raw\" function....\"\n",
      "\n",
      "Processing file: 292 \n"
     ]
    },
    {
     "data": {
      "text/html": [
       "<html><body><pre>filename = '/home/jovyan/ooi/uncabled/GI01SUMO/R00008/instruments/dcl12/FDCHP_sn144904/D202110/fdchp_20211019_000200.dat'</pre></body></html>"
      ],
      "text/plain": [
       "filename = '/home/jovyan/ooi/uncabled/GI01SUMO/R00008/instruments/dcl12/FDCHP_sn144904/D202110/fdchp_20211019_000200.dat'"
      ]
     },
     "execution_count": 10,
     "metadata": {},
     "output_type": "execute_result"
    },
    {
     "name": "stdout",
     "output_type": "stream",
     "text": [
      "Processing file: 293 \n"
     ]
    },
    {
     "data": {
      "text/html": [
       "<html><body><pre>filename = '/home/jovyan/ooi/uncabled/GI01SUMO/R00008/instruments/dcl12/FDCHP_sn144904/D202110/fdchp_20211019_020200.dat'</pre></body></html>"
      ],
      "text/plain": [
       "filename = '/home/jovyan/ooi/uncabled/GI01SUMO/R00008/instruments/dcl12/FDCHP_sn144904/D202110/fdchp_20211019_020200.dat'"
      ]
     },
     "execution_count": 10,
     "metadata": {},
     "output_type": "execute_result"
    },
    {
     "name": "stdout",
     "output_type": "stream",
     "text": [
      "Bad Length\n"
     ]
    },
    {
     "data": {
      "text/html": [
       "<html><body><pre>msgText = \n",
       "    'Output argument \"rawdata\" (and possibly others) not assigned a value in the execution with \"fdchpread_raw\" function.\n",
       "     \n",
       "     Error in fdchpread_raw_from_file_list (line 60)\n",
       "                 [td,dd] = fdchpread_raw(filename);\n",
       "     \n",
       "     Error in LiveEditorEvaluationHelperEeditorId (line 1)\n",
       "     [uw, U, sigH] =  fdchpread_raw_from_file_list(file_list)\n",
       "     \n",
       "     Error in jupyter.execute (line 51)\n",
       "     resp = jsondecode(matlab.internal.editor.evaluateSynchronousRequest(request));\n",
       "     \n",
       "     Error in processJupyterKernelRequest (line 54)\n",
       "                 output = jupyter.execute(code, kernelId);\n",
       "     \n",
       "     Error in connector.internal.fevalMatlab\n",
       "     \n",
       "     Error in connector.internal.fevalJSON'\n",
       "</pre></body></html>"
      ],
      "text/plain": [
       "msgText = \n",
       "    'Output argument \"rawdata\" (and possibly others) not assigned a value in the execution with \"fdchpread_raw\" function.\n",
       "     \n",
       "     Error in fdchpread_raw_from_file_list (line 60)\n",
       "                 [td,dd] = fdchpread_raw(filename);\n",
       "     \n",
       "     Error in LiveEditorEvaluationHelperEeditorId (line 1)\n",
       "     [uw, U, sigH] =  fdchpread_raw_from_file_list(file_list)\n",
       "     \n",
       "     Error in jupyter.execute (line 51)\n",
       "     resp = jsondecode(matlab.internal.editor.evaluateSynchronousRequest(request));\n",
       "     \n",
       "     Error in processJupyterKernelRequest (line 54)\n",
       "                 output = jupyter.execute(code, kernelId);\n",
       "     \n",
       "     Error in connector.internal.fevalMatlab\n",
       "     \n",
       "     Error in connector.internal.fevalJSON'\n"
      ]
     },
     "execution_count": 10,
     "metadata": {},
     "output_type": "execute_result"
    },
    {
     "name": "stdout",
     "output_type": "stream",
     "text": [
      "    \"Error reading filename: \"    \"Output argument \"rawdata\" (and possibly others) not assigned a value in the execution with \"fdchpread_raw\" function....\"\n",
      "\n",
      "Processing file: 294 \n"
     ]
    },
    {
     "data": {
      "text/html": [
       "<html><body><pre>filename = '/home/jovyan/ooi/uncabled/GI01SUMO/R00008/instruments/dcl12/FDCHP_sn144904/D202110/fdchp_20211019_060200.dat'</pre></body></html>"
      ],
      "text/plain": [
       "filename = '/home/jovyan/ooi/uncabled/GI01SUMO/R00008/instruments/dcl12/FDCHP_sn144904/D202110/fdchp_20211019_060200.dat'"
      ]
     },
     "execution_count": 10,
     "metadata": {},
     "output_type": "execute_result"
    },
    {
     "name": "stdout",
     "output_type": "stream",
     "text": [
      "Processing file: 295 \n"
     ]
    },
    {
     "data": {
      "text/html": [
       "<html><body><pre>filename = '/home/jovyan/ooi/uncabled/GI01SUMO/R00008/instruments/dcl12/FDCHP_sn144904/D202110/fdchp_20211019_090200.dat'</pre></body></html>"
      ],
      "text/plain": [
       "filename = '/home/jovyan/ooi/uncabled/GI01SUMO/R00008/instruments/dcl12/FDCHP_sn144904/D202110/fdchp_20211019_090200.dat'"
      ]
     },
     "execution_count": 10,
     "metadata": {},
     "output_type": "execute_result"
    },
    {
     "name": "stdout",
     "output_type": "stream",
     "text": [
      "Bad Length\n"
     ]
    },
    {
     "data": {
      "text/html": [
       "<html><body><pre>msgText = \n",
       "    'Output argument \"rawdata\" (and possibly others) not assigned a value in the execution with \"fdchpread_raw\" function.\n",
       "     \n",
       "     Error in fdchpread_raw_from_file_list (line 60)\n",
       "                 [td,dd] = fdchpread_raw(filename);\n",
       "     \n",
       "     Error in LiveEditorEvaluationHelperEeditorId (line 1)\n",
       "     [uw, U, sigH] =  fdchpread_raw_from_file_list(file_list)\n",
       "     \n",
       "     Error in jupyter.execute (line 51)\n",
       "     resp = jsondecode(matlab.internal.editor.evaluateSynchronousRequest(request));\n",
       "     \n",
       "     Error in processJupyterKernelRequest (line 54)\n",
       "                 output = jupyter.execute(code, kernelId);\n",
       "     \n",
       "     Error in connector.internal.fevalMatlab\n",
       "     \n",
       "     Error in connector.internal.fevalJSON'\n",
       "</pre></body></html>"
      ],
      "text/plain": [
       "msgText = \n",
       "    'Output argument \"rawdata\" (and possibly others) not assigned a value in the execution with \"fdchpread_raw\" function.\n",
       "     \n",
       "     Error in fdchpread_raw_from_file_list (line 60)\n",
       "                 [td,dd] = fdchpread_raw(filename);\n",
       "     \n",
       "     Error in LiveEditorEvaluationHelperEeditorId (line 1)\n",
       "     [uw, U, sigH] =  fdchpread_raw_from_file_list(file_list)\n",
       "     \n",
       "     Error in jupyter.execute (line 51)\n",
       "     resp = jsondecode(matlab.internal.editor.evaluateSynchronousRequest(request));\n",
       "     \n",
       "     Error in processJupyterKernelRequest (line 54)\n",
       "                 output = jupyter.execute(code, kernelId);\n",
       "     \n",
       "     Error in connector.internal.fevalMatlab\n",
       "     \n",
       "     Error in connector.internal.fevalJSON'\n"
      ]
     },
     "execution_count": 10,
     "metadata": {},
     "output_type": "execute_result"
    },
    {
     "name": "stdout",
     "output_type": "stream",
     "text": [
      "    \"Error reading filename: \"    \"Output argument \"rawdata\" (and possibly others) not assigned a value in the execution with \"fdchpread_raw\" function....\"\n",
      "\n",
      "Processing file: 296 \n"
     ]
    },
    {
     "data": {
      "text/html": [
       "<html><body><pre>filename = '/home/jovyan/ooi/uncabled/GI01SUMO/R00008/instruments/dcl12/FDCHP_sn144904/D202110/fdchp_20211027_000200.dat'</pre></body></html>"
      ],
      "text/plain": [
       "filename = '/home/jovyan/ooi/uncabled/GI01SUMO/R00008/instruments/dcl12/FDCHP_sn144904/D202110/fdchp_20211027_000200.dat'"
      ]
     },
     "execution_count": 10,
     "metadata": {},
     "output_type": "execute_result"
    },
    {
     "name": "stdout",
     "output_type": "stream",
     "text": [
      "Bad Length\n"
     ]
    },
    {
     "data": {
      "text/html": [
       "<html><body><pre>msgText = \n",
       "    'Output argument \"rawdata\" (and possibly others) not assigned a value in the execution with \"fdchpread_raw\" function.\n",
       "     \n",
       "     Error in fdchpread_raw_from_file_list (line 60)\n",
       "                 [td,dd] = fdchpread_raw(filename);\n",
       "     \n",
       "     Error in LiveEditorEvaluationHelperEeditorId (line 1)\n",
       "     [uw, U, sigH] =  fdchpread_raw_from_file_list(file_list)\n",
       "     \n",
       "     Error in jupyter.execute (line 51)\n",
       "     resp = jsondecode(matlab.internal.editor.evaluateSynchronousRequest(request));\n",
       "     \n",
       "     Error in processJupyterKernelRequest (line 54)\n",
       "                 output = jupyter.execute(code, kernelId);\n",
       "     \n",
       "     Error in connector.internal.fevalMatlab\n",
       "     \n",
       "     Error in connector.internal.fevalJSON'\n",
       "</pre></body></html>"
      ],
      "text/plain": [
       "msgText = \n",
       "    'Output argument \"rawdata\" (and possibly others) not assigned a value in the execution with \"fdchpread_raw\" function.\n",
       "     \n",
       "     Error in fdchpread_raw_from_file_list (line 60)\n",
       "                 [td,dd] = fdchpread_raw(filename);\n",
       "     \n",
       "     Error in LiveEditorEvaluationHelperEeditorId (line 1)\n",
       "     [uw, U, sigH] =  fdchpread_raw_from_file_list(file_list)\n",
       "     \n",
       "     Error in jupyter.execute (line 51)\n",
       "     resp = jsondecode(matlab.internal.editor.evaluateSynchronousRequest(request));\n",
       "     \n",
       "     Error in processJupyterKernelRequest (line 54)\n",
       "                 output = jupyter.execute(code, kernelId);\n",
       "     \n",
       "     Error in connector.internal.fevalMatlab\n",
       "     \n",
       "     Error in connector.internal.fevalJSON'\n"
      ]
     },
     "execution_count": 10,
     "metadata": {},
     "output_type": "execute_result"
    },
    {
     "name": "stdout",
     "output_type": "stream",
     "text": [
      "    \"Error reading filename: \"    \"Output argument \"rawdata\" (and possibly others) not assigned a value in the execution with \"fdchpread_raw\" function....\"\n",
      "\n",
      "Processing file: 297 \n"
     ]
    },
    {
     "data": {
      "text/html": [
       "<html><body><pre>filename = '/home/jovyan/ooi/uncabled/GI01SUMO/R00008/instruments/dcl12/FDCHP_sn144904/D202110/fdchp_20211027_020200.dat'</pre></body></html>"
      ],
      "text/plain": [
       "filename = '/home/jovyan/ooi/uncabled/GI01SUMO/R00008/instruments/dcl12/FDCHP_sn144904/D202110/fdchp_20211027_020200.dat'"
      ]
     },
     "execution_count": 10,
     "metadata": {},
     "output_type": "execute_result"
    },
    {
     "name": "stdout",
     "output_type": "stream",
     "text": [
      "Bad Length\n"
     ]
    },
    {
     "data": {
      "text/html": [
       "<html><body><pre>msgText = \n",
       "    'Output argument \"rawdata\" (and possibly others) not assigned a value in the execution with \"fdchpread_raw\" function.\n",
       "     \n",
       "     Error in fdchpread_raw_from_file_list (line 60)\n",
       "                 [td,dd] = fdchpread_raw(filename);\n",
       "     \n",
       "     Error in LiveEditorEvaluationHelperEeditorId (line 1)\n",
       "     [uw, U, sigH] =  fdchpread_raw_from_file_list(file_list)\n",
       "     \n",
       "     Error in jupyter.execute (line 51)\n",
       "     resp = jsondecode(matlab.internal.editor.evaluateSynchronousRequest(request));\n",
       "     \n",
       "     Error in processJupyterKernelRequest (line 54)\n",
       "                 output = jupyter.execute(code, kernelId);\n",
       "     \n",
       "     Error in connector.internal.fevalMatlab\n",
       "     \n",
       "     Error in connector.internal.fevalJSON'\n",
       "</pre></body></html>"
      ],
      "text/plain": [
       "msgText = \n",
       "    'Output argument \"rawdata\" (and possibly others) not assigned a value in the execution with \"fdchpread_raw\" function.\n",
       "     \n",
       "     Error in fdchpread_raw_from_file_list (line 60)\n",
       "                 [td,dd] = fdchpread_raw(filename);\n",
       "     \n",
       "     Error in LiveEditorEvaluationHelperEeditorId (line 1)\n",
       "     [uw, U, sigH] =  fdchpread_raw_from_file_list(file_list)\n",
       "     \n",
       "     Error in jupyter.execute (line 51)\n",
       "     resp = jsondecode(matlab.internal.editor.evaluateSynchronousRequest(request));\n",
       "     \n",
       "     Error in processJupyterKernelRequest (line 54)\n",
       "                 output = jupyter.execute(code, kernelId);\n",
       "     \n",
       "     Error in connector.internal.fevalMatlab\n",
       "     \n",
       "     Error in connector.internal.fevalJSON'\n"
      ]
     },
     "execution_count": 10,
     "metadata": {},
     "output_type": "execute_result"
    },
    {
     "name": "stdout",
     "output_type": "stream",
     "text": [
      "    \"Error reading filename: \"    \"Output argument \"rawdata\" (and possibly others) not assigned a value in the execution with \"fdchpread_raw\" function....\"\n",
      "\n",
      "Processing file: 298 \n"
     ]
    },
    {
     "data": {
      "text/html": [
       "<html><body><pre>filename = '/home/jovyan/ooi/uncabled/GI01SUMO/R00008/instruments/dcl12/FDCHP_sn144904/D202110/fdchp_20211027_060200.dat'</pre></body></html>"
      ],
      "text/plain": [
       "filename = '/home/jovyan/ooi/uncabled/GI01SUMO/R00008/instruments/dcl12/FDCHP_sn144904/D202110/fdchp_20211027_060200.dat'"
      ]
     },
     "execution_count": 10,
     "metadata": {},
     "output_type": "execute_result"
    },
    {
     "name": "stdout",
     "output_type": "stream",
     "text": [
      "Bad Length\n"
     ]
    },
    {
     "data": {
      "text/html": [
       "<html><body><pre>msgText = \n",
       "    'Output argument \"rawdata\" (and possibly others) not assigned a value in the execution with \"fdchpread_raw\" function.\n",
       "     \n",
       "     Error in fdchpread_raw_from_file_list (line 60)\n",
       "                 [td,dd] = fdchpread_raw(filename);\n",
       "     \n",
       "     Error in LiveEditorEvaluationHelperEeditorId (line 1)\n",
       "     [uw, U, sigH] =  fdchpread_raw_from_file_list(file_list)\n",
       "     \n",
       "     Error in jupyter.execute (line 51)\n",
       "     resp = jsondecode(matlab.internal.editor.evaluateSynchronousRequest(request));\n",
       "     \n",
       "     Error in processJupyterKernelRequest (line 54)\n",
       "                 output = jupyter.execute(code, kernelId);\n",
       "     \n",
       "     Error in connector.internal.fevalMatlab\n",
       "     \n",
       "     Error in connector.internal.fevalJSON'\n",
       "</pre></body></html>"
      ],
      "text/plain": [
       "msgText = \n",
       "    'Output argument \"rawdata\" (and possibly others) not assigned a value in the execution with \"fdchpread_raw\" function.\n",
       "     \n",
       "     Error in fdchpread_raw_from_file_list (line 60)\n",
       "                 [td,dd] = fdchpread_raw(filename);\n",
       "     \n",
       "     Error in LiveEditorEvaluationHelperEeditorId (line 1)\n",
       "     [uw, U, sigH] =  fdchpread_raw_from_file_list(file_list)\n",
       "     \n",
       "     Error in jupyter.execute (line 51)\n",
       "     resp = jsondecode(matlab.internal.editor.evaluateSynchronousRequest(request));\n",
       "     \n",
       "     Error in processJupyterKernelRequest (line 54)\n",
       "                 output = jupyter.execute(code, kernelId);\n",
       "     \n",
       "     Error in connector.internal.fevalMatlab\n",
       "     \n",
       "     Error in connector.internal.fevalJSON'\n"
      ]
     },
     "execution_count": 10,
     "metadata": {},
     "output_type": "execute_result"
    },
    {
     "name": "stdout",
     "output_type": "stream",
     "text": [
      "    \"Error reading filename: \"    \"Output argument \"rawdata\" (and possibly others) not assigned a value in the execution with \"fdchpread_raw\" function....\"\n",
      "\n",
      "Processing file: 299 \n"
     ]
    },
    {
     "data": {
      "text/html": [
       "<html><body><pre>filename = '/home/jovyan/ooi/uncabled/GI01SUMO/R00008/instruments/dcl12/FDCHP_sn144904/D202110/fdchp_20211027_100200.dat'</pre></body></html>"
      ],
      "text/plain": [
       "filename = '/home/jovyan/ooi/uncabled/GI01SUMO/R00008/instruments/dcl12/FDCHP_sn144904/D202110/fdchp_20211027_100200.dat'"
      ]
     },
     "execution_count": 10,
     "metadata": {},
     "output_type": "execute_result"
    },
    {
     "data": {
      "text/html": [
       "<html><body><pre>msgText = \n",
       "    'Index in position 2 exceeds array bounds. Index must not exceed 4096.\n",
       "     \n",
       "     Error in fdchpread_raw_from_file_list (line 61)\n",
       "                 rawdata=dd(1:21,1:L);\n",
       "     \n",
       "     Error in LiveEditorEvaluationHelperEeditorId (line 1)\n",
       "     [uw, U, sigH] =  fdchpread_raw_from_file_list(file_list)\n",
       "     \n",
       "     Error in jupyter.execute (line 51)\n",
       "     resp = jsondecode(matlab.internal.editor.evaluateSynchronousRequest(request));\n",
       "     \n",
       "     Error in processJupyterKernelRequest (line 54)\n",
       "                 output = jupyter.execute(code, kernelId);\n",
       "     \n",
       "     Error in connector.internal.fevalMatlab\n",
       "     \n",
       "     Error in connector.internal.fevalJSON'\n",
       "</pre></body></html>"
      ],
      "text/plain": [
       "msgText = \n",
       "    'Index in position 2 exceeds array bounds. Index must not exceed 4096.\n",
       "     \n",
       "     Error in fdchpread_raw_from_file_list (line 61)\n",
       "                 rawdata=dd(1:21,1:L);\n",
       "     \n",
       "     Error in LiveEditorEvaluationHelperEeditorId (line 1)\n",
       "     [uw, U, sigH] =  fdchpread_raw_from_file_list(file_list)\n",
       "     \n",
       "     Error in jupyter.execute (line 51)\n",
       "     resp = jsondecode(matlab.internal.editor.evaluateSynchronousRequest(request));\n",
       "     \n",
       "     Error in processJupyterKernelRequest (line 54)\n",
       "                 output = jupyter.execute(code, kernelId);\n",
       "     \n",
       "     Error in connector.internal.fevalMatlab\n",
       "     \n",
       "     Error in connector.internal.fevalJSON'\n"
      ]
     },
     "execution_count": 10,
     "metadata": {},
     "output_type": "execute_result"
    },
    {
     "name": "stdout",
     "output_type": "stream",
     "text": [
      "    \"Error reading filename: \"    \"Index in position 2 exceeds array bounds. Index must not exceed 4096....\"\n",
      "\n",
      "Processing file: 300 \n"
     ]
    },
    {
     "data": {
      "text/html": [
       "<html><body><pre>filename = '/home/jovyan/ooi/uncabled/GI01SUMO/R00008/instruments/dcl12/FDCHP_sn144904/D202207/fdchp_20220716_124200.dat'</pre></body></html>"
      ],
      "text/plain": [
       "filename = '/home/jovyan/ooi/uncabled/GI01SUMO/R00008/instruments/dcl12/FDCHP_sn144904/D202207/fdchp_20220716_124200.dat'"
      ]
     },
     "execution_count": 10,
     "metadata": {},
     "output_type": "execute_result"
    },
    {
     "name": "stdout",
     "output_type": "stream",
     "text": [
      "Bad Length\n"
     ]
    },
    {
     "data": {
      "text/html": [
       "<html><body><pre>msgText = \n",
       "    'Output argument \"rawdata\" (and possibly others) not assigned a value in the execution with \"fdchpread_raw\" function.\n",
       "     \n",
       "     Error in fdchpread_raw_from_file_list (line 60)\n",
       "                 [td,dd] = fdchpread_raw(filename);\n",
       "     \n",
       "     Error in LiveEditorEvaluationHelperEeditorId (line 1)\n",
       "     [uw, U, sigH] =  fdchpread_raw_from_file_list(file_list)\n",
       "     \n",
       "     Error in jupyter.execute (line 51)\n",
       "     resp = jsondecode(matlab.internal.editor.evaluateSynchronousRequest(request));\n",
       "     \n",
       "     Error in processJupyterKernelRequest (line 54)\n",
       "                 output = jupyter.execute(code, kernelId);\n",
       "     \n",
       "     Error in connector.internal.fevalMatlab\n",
       "     \n",
       "     Error in connector.internal.fevalJSON'\n",
       "</pre></body></html>"
      ],
      "text/plain": [
       "msgText = \n",
       "    'Output argument \"rawdata\" (and possibly others) not assigned a value in the execution with \"fdchpread_raw\" function.\n",
       "     \n",
       "     Error in fdchpread_raw_from_file_list (line 60)\n",
       "                 [td,dd] = fdchpread_raw(filename);\n",
       "     \n",
       "     Error in LiveEditorEvaluationHelperEeditorId (line 1)\n",
       "     [uw, U, sigH] =  fdchpread_raw_from_file_list(file_list)\n",
       "     \n",
       "     Error in jupyter.execute (line 51)\n",
       "     resp = jsondecode(matlab.internal.editor.evaluateSynchronousRequest(request));\n",
       "     \n",
       "     Error in processJupyterKernelRequest (line 54)\n",
       "                 output = jupyter.execute(code, kernelId);\n",
       "     \n",
       "     Error in connector.internal.fevalMatlab\n",
       "     \n",
       "     Error in connector.internal.fevalJSON'\n"
      ]
     },
     "execution_count": 10,
     "metadata": {},
     "output_type": "execute_result"
    },
    {
     "name": "stdout",
     "output_type": "stream",
     "text": [
      "    \"Error reading filename: \"    \"Output argument \"rawdata\" (and possibly others) not assigned a value in the execution with \"fdchpread_raw\" function....\"\n",
      "\n"
     ]
    },
    {
     "data": {
      "text/html": [
       "<html><body><pre>uw = 1x270 double\n",
       "    0.1176    0.1235    0.1582    0.1601    0.1758    0.1220    0.1657    0.1024    0.1010    0.0990    0.1247    0.1913    0.1382    0.1961    0.2434    0.2425    0.2380    0.2376    0.2714    0.2469    0.2646    0.3726    0.2873    0.3770    0.4434    1.0142    2.6532    0.8479 -998.1680    0.4929\n",
       "...</pre></body></html>"
      ],
      "text/plain": [
       "uw = 1x270 double\n",
       "    0.1176    0.1235    0.1582    0.1601    0.1758    0.1220    0.1657    0.1024    0.1010    0.0990    0.1247    0.1913    0.1382    0.1961    0.2434    0.2425    0.2380    0.2376    0.2714    0.2469    0.2646    0.3726    0.2873    0.3770    0.4434    1.0142    2.6532    0.8479 -998.1680    0.4929\n",
       "..."
      ]
     },
     "execution_count": 10,
     "metadata": {},
     "output_type": "execute_result"
    },
    {
     "data": {
      "text/html": [
       "<html><body><pre>U = 1x270 double\n",
       "    8.8951    9.0222    9.7629   10.3036   10.3318    9.4278    9.8571    8.5446    8.6334    8.5937    9.3895   10.4838   10.0030   11.1215   12.3500   11.8850   12.3875   12.1873   12.1321   12.5053   12.0036   12.9783   13.1844   14.1129   13.5716   13.8495   13.8673   15.4665   48.3073   12.2742\n",
       "...</pre></body></html>"
      ],
      "text/plain": [
       "U = 1x270 double\n",
       "    8.8951    9.0222    9.7629   10.3036   10.3318    9.4278    9.8571    8.5446    8.6334    8.5937    9.3895   10.4838   10.0030   11.1215   12.3500   11.8850   12.3875   12.1873   12.1321   12.5053   12.0036   12.9783   13.1844   14.1129   13.5716   13.8495   13.8673   15.4665   48.3073   12.2742\n",
       "..."
      ]
     },
     "execution_count": 10,
     "metadata": {},
     "output_type": "execute_result"
    },
    {
     "data": {
      "text/html": [
       "<html><body><pre>sigH = 1x270 double\n",
       "    1.9624    2.2067    2.1911    2.2532    2.3827    2.3403    2.4051    2.4205    2.7094    2.5206    2.5743    2.5586    2.7831    2.8298    3.0772    3.3444    3.8304    3.8096    4.1689    3.7800    4.0225    3.8446    3.9238    4.2126    4.3611    4.5366    4.3628    4.5927    4.9091    4.8756\n",
       "...</pre></body></html>"
      ],
      "text/plain": [
       "sigH = 1x270 double\n",
       "    1.9624    2.2067    2.1911    2.2532    2.3827    2.3403    2.4051    2.4205    2.7094    2.5206    2.5743    2.5586    2.7831    2.8298    3.0772    3.3444    3.8304    3.8096    4.1689    3.7800    4.0225    3.8446    3.9238    4.2126    4.3611    4.5366    4.3628    4.5927    4.9091    4.8756\n",
       "..."
      ]
     },
     "execution_count": 10,
     "metadata": {},
     "output_type": "execute_result"
    }
   ],
   "source": [
    "[uw, U, sigH] =  fdchpread_raw_from_file_list(file_list)"
   ]
  }
 ],
 "metadata": {
  "kernelspec": {
   "display_name": "MATLAB Kernel",
   "language": "matlab",
   "name": "jupyter_matlab_kernel"
  },
  "language_info": {
   "file_extension": ".m",
   "mimetype": "text/x-matlab",
   "name": "matlab"
  }
 },
 "nbformat": 4,
 "nbformat_minor": 5
}
