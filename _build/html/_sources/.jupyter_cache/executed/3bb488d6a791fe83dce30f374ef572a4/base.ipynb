{
 "cells": [
  {
   "cell_type": "code",
   "execution_count": 1,
   "id": "a0d3fb45",
   "metadata": {},
   "outputs": [
    {
     "name": "stderr",
     "output_type": "stream",
     "text": [
      "Updating HTML index of packages in '.Library'\n",
      "\n",
      "Making 'packages.html' ...\n",
      " done\n",
      "\n"
     ]
    }
   ],
   "source": [
    "install.packages(\"devtools\")"
   ]
  },
  {
   "cell_type": "code",
   "execution_count": 2,
   "id": "ac321f20",
   "metadata": {},
   "outputs": [
    {
     "name": "stderr",
     "output_type": "stream",
     "text": [
      "Skipping install of 'ooim2mr' from a github remote, the SHA1 (2287a1d5) has not changed since last install.\n",
      "  Use `force = TRUE` to force installation\n",
      "\n"
     ]
    }
   ],
   "source": [
    "devtools::install_github(\"oceanobservatories/ooim2mr\")"
   ]
  },
  {
   "cell_type": "code",
   "execution_count": 3,
   "id": "6b5dc9af",
   "metadata": {},
   "outputs": [
    {
     "name": "stderr",
     "output_type": "stream",
     "text": [
      "Updating HTML index of packages in '.Library'\n",
      "\n",
      "Making 'packages.html' ...\n",
      " done\n",
      "\n",
      "Updating HTML index of packages in '.Library'\n",
      "\n",
      "Making 'packages.html' ...\n",
      " done\n",
      "\n",
      "Updating HTML index of packages in '.Library'\n",
      "\n",
      "Making 'packages.html' ...\n",
      " done\n",
      "\n"
     ]
    }
   ],
   "source": [
    "install.packages(\"httr\")\n",
    "install.packages(\"ncdf4\")\n",
    "install.packages(\"ggplot2\")"
   ]
  },
  {
   "cell_type": "code",
   "execution_count": 4,
   "id": "c4e798ae",
   "metadata": {},
   "outputs": [],
   "source": [
    "#R Native Packages\n",
    "library(stringr)\n",
    "library(jsonlite)\n",
    "\n",
    "#CRAN Packages\n",
    "library(httr)\n",
    "library(ncdf4)\n",
    "library(ooim2mr)\n",
    "library(ggplot2)\n",
    "library(RColorBrewer)"
   ]
  },
  {
   "cell_type": "code",
   "execution_count": 5,
   "id": "07cef5ad",
   "metadata": {},
   "outputs": [],
   "source": [
    "directory = \"C:/Users/Ian/Desktop\"  #Change this to match you own machine structure.\n",
    "user = 'OOIAPI-CEY6MNAH6MZ8TL'  #Change this to match your OOINet username.\n",
    "token = 'PMA94685J8'  #Change this to match your OOINet token."
   ]
  },
  {
   "cell_type": "code",
   "execution_count": 6,
   "id": "e387f8c0",
   "metadata": {},
   "outputs": [],
   "source": [
    "site = \"CP04OSPM\" \n",
    "node = \"WFP01\" \n",
    "instrument = \"03-CTDPFK000\" \n",
    "method = \"telemetered\" \n",
    "stream = \"ctdpf_ckl_wfp_instrument\" \n",
    "start_date = \"2021-02-01\" \n",
    "start_time = \"00:00:00\" \n",
    "stop_date = \"2021-04-3\"\n",
    "stop_time = \"23:59:59\""
   ]
  },
  {
   "cell_type": "code",
   "execution_count": 7,
   "id": "90572c26",
   "metadata": {},
   "outputs": [
    {
     "name": "stdout",
     "output_type": "stream",
     "text": [
      "Here is the request URL generated from the information you provided.\n",
      "https://ooinet.oceanobservatories.org/api/m2m/12576/sensor/inv/CP04OSPM/WFP01/03-CTDPFK000/telemetered/ctdpf_ckl_wfp_instrument?beginDT=2021-02-01T00:00:00.000Z&endDT=2021-04-3T23:59:59.999Z \n"
     ]
    }
   ],
   "source": [
    "url = ooi_create_url(site=site,\n",
    "                     node=node,\n",
    "                     instrument=instrument,\n",
    "                     method=method,\n",
    "                     stream=stream,\n",
    "                     start_date=start_date,\n",
    "                     start_time=start_time,\n",
    "                     stop_date=stop_date,\n",
    "                     stop_time=stop_time)"
   ]
  },
  {
   "cell_type": "code",
   "execution_count": 8,
   "id": "7daf2894",
   "metadata": {},
   "outputs": [],
   "source": [
    "# response = ooi_submit_request(url=url,user=user,token=token)"
   ]
  },
  {
   "cell_type": "code",
   "execution_count": 9,
   "id": "511f9fbb",
   "metadata": {},
   "outputs": [],
   "source": [
    "# remote = ooi_get_location(response=response,drop_paired=TRUE)"
   ]
  },
  {
   "cell_type": "code",
   "execution_count": 10,
   "id": "342b558a",
   "metadata": {},
   "outputs": [],
   "source": [
    "# local = ooi_download_data(remote,directory) #Download the data to the specified local location."
   ]
  },
  {
   "cell_type": "code",
   "execution_count": 11,
   "id": "a265c63c",
   "metadata": {},
   "outputs": [],
   "source": [
    "# data_vars = ooi_get_data(local,simplify_data=FALSE)\n",
    "# data = data.frame(data_vars[['data']])\n",
    "# vars = data.frame(data_vars[['variables_units']])"
   ]
  },
  {
   "cell_type": "code",
   "execution_count": 12,
   "id": "681e0fc9",
   "metadata": {},
   "outputs": [],
   "source": [
    "# print(vars)"
   ]
  },
  {
   "cell_type": "code",
   "execution_count": 13,
   "id": "6b8e2914",
   "metadata": {},
   "outputs": [],
   "source": [
    "# data$time = as.POSIXct(data$time,tz=\"UTC\",origin='1900-01-01')"
   ]
  },
  {
   "cell_type": "code",
   "execution_count": 14,
   "id": "44455f89",
   "metadata": {},
   "outputs": [],
   "source": [
    "# temp_min_lim = 6\n",
    "# temp_max_lim = 18\n",
    "\n",
    "# myPalette <- colorRampPalette(rev(brewer.pal(11, \"Spectral\")))\n",
    "# sc <- scale_colour_gradientn(colours = myPalette(100), limits=c(temp_min_lim,temp_max_lim))"
   ]
  },
  {
   "cell_type": "code",
   "execution_count": 15,
   "id": "af24a4ff",
   "metadata": {},
   "outputs": [],
   "source": [
    "# t_plot = ggplot(data,aes(time,depth,colour=ctdpf_ckl_seawater_temperature)) +\n",
    "#   geom_point() + scale_y_reverse() + sc + \n",
    "#   labs(x='Time',y='Depth (m)',colour = 'Temperature (degC)',title = \"CP04OSPM Temperature\",subtitle='Feb-Apr 2021')"
   ]
  },
  {
   "cell_type": "code",
   "execution_count": 16,
   "id": "f42ebff3",
   "metadata": {},
   "outputs": [],
   "source": [
    "# t_plot"
   ]
  }
 ],
 "metadata": {
  "kernelspec": {
   "display_name": "R",
   "language": "R",
   "name": "ir"
  },
  "language_info": {
   "codemirror_mode": "r",
   "file_extension": ".r",
   "mimetype": "text/x-r-source",
   "name": "R",
   "pygments_lexer": "r",
   "version": "4.3.1"
  }
 },
 "nbformat": 4,
 "nbformat_minor": 5
}