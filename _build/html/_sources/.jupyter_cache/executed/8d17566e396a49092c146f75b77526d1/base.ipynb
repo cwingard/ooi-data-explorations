{
 "cells": [
  {
   "cell_type": "code",
   "execution_count": 1,
   "id": "2b8779f6-3d7c-49ed-8235-448a6661f807",
   "metadata": {},
   "outputs": [],
   "source": [
    "addpath('~/ooi-data-explorations/matlab')\n",
    "addpath('~/ooi-data-explorations/matlab/utilities')"
   ]
  },
  {
   "cell_type": "code",
   "execution_count": 2,
   "id": "550cf6f8-ea94-4d0d-b5af-aca36bad1aa2",
   "metadata": {},
   "outputs": [],
   "source": [
    "site = 'CE07SHSM';\n",
    "node = 'SBD11';\n",
    "sensor = '06-METBKA000';\n",
    "method = 'recovered_host';\n",
    "stream = 'metbk_a_dcl_instrument_recovered';"
   ]
  },
  {
   "cell_type": "code",
   "execution_count": 3,
   "id": "d41bed43-2e0a-4e29-80f3-152a85f46e27",
   "metadata": {},
   "outputs": [
    {
     "name": "stdout",
     "output_type": "stream",
     "text": [
      "Loading 2 files from the local kdata directory ...\n",
      "Elapsed time is 9.041018 seconds.\n"
     ]
    }
   ],
   "source": [
    "data = load_kdata(site, node, sensor, method, stream, \"*metbk_a_dcl_instrument_recovered_2021*.nc\");"
   ]
  },
  {
   "cell_type": "code",
   "execution_count": 4,
   "id": "682fdc8a-ba96-4ff9-bd56-5383465e3634",
   "metadata": {},
   "outputs": [
    {
     "name": "stdout",
     "output_type": "stream",
     "text": [
      "air_temperature\n",
      "air_temperature_qartod_executed\n",
      "air_temperature_qartod_results\n",
      "air_temperature_qc_executed\n",
      "air_temperature_qc_results\n",
      "barometric_pressure\n",
      "barometric_pressure_qartod_executed\n",
      "barometric_pressure_qartod_results\n",
      "barometric_pressure_qc_executed\n",
      "barometric_pressure_qc_results\n",
      "ct_depth\n",
      "deployment\n",
      "eastward_velocity\n",
      "eastward_wind_velocity\n",
      "eastward_wind_velocity_qartod_executed\n",
      "eastward_wind_velocity_qartod_results\n",
      "eastward_wind_velocity_qc_executed\n",
      "eastward_wind_velocity_qc_results\n",
      "internal_timestamp\n",
      "longwave_irradiance\n",
      "longwave_irradiance_qartod_executed\n",
      "longwave_irradiance_qartod_results\n",
      "longwave_irradiance_qc_executed\n",
      "longwave_irradiance_qc_results\n",
      "met_barpres\n",
      "met_barpres_qc_executed\n",
      "met_barpres_qc_results\n",
      "met_current_direction\n",
      "met_current_direction_qc_executed\n",
      "met_current_direction_qc_results\n",
      "met_current_speed\n",
      "met_current_speed_qc_executed\n",
      "met_current_speed_qc_results\n",
      "met_heatflx_minute\n",
      "met_latnflx_minute\n",
      "met_netlirr_minute\n",
      "met_netsirr\n",
      "met_netsirr_qc_executed\n",
      "met_netsirr_qc_results\n",
      "met_relwind_direction\n",
      "met_relwind_direction_qc_executed\n",
      "met_relwind_direction_qc_results\n",
      "met_relwind_speed\n",
      "met_relwind_speed_qc_executed\n",
      "met_relwind_speed_qc_results\n",
      "met_salsurf\n",
      "met_salsurf_qartod_executed\n",
      "met_salsurf_qartod_results\n",
      "met_salsurf_qc_executed\n",
      "met_salsurf_qc_results\n",
      "met_sensflx_minute\n",
      "met_spechum\n",
      "met_spechum_qc_executed\n",
      "met_spechum_qc_results\n",
      "met_windavg_mag_corr_east\n",
      "met_windavg_mag_corr_north\n",
      "northward_velocity\n",
      "northward_wind_velocity\n",
      "northward_wind_velocity_qartod_executed\n",
      "northward_wind_velocity_qartod_results\n",
      "northward_wind_velocity_qc_executed\n",
      "northward_wind_velocity_qc_results\n",
      "precipitation\n",
      "precipitation_qartod_executed\n",
      "precipitation_qartod_results\n",
      "precipitation_qc_executed\n",
      "precipitation_qc_results\n",
      "relative_humidity\n",
      "relative_humidity_qartod_executed\n",
      "relative_humidity_qartod_results\n",
      "relative_humidity_qc_executed\n",
      "relative_humidity_qc_results\n",
      "sea_surface_conductivity\n",
      "sea_surface_conductivity_qartod_executed\n",
      "sea_surface_conductivity_qartod_results\n",
      "sea_surface_conductivity_qc_executed\n",
      "sea_surface_conductivity_qc_results\n",
      "sea_surface_temperature\n",
      "sea_surface_temperature_qartod_executed\n",
      "sea_surface_temperature_qartod_results\n",
      "sea_surface_temperature_qc_executed\n",
      "sea_surface_temperature_qc_results\n",
      "shortwave_irradiance\n",
      "shortwave_irradiance_qartod_executed\n",
      "shortwave_irradiance_qartod_results\n",
      "shortwave_irradiance_qc_executed\n",
      "shortwave_irradiance_qc_results\n"
     ]
    }
   ],
   "source": [
    "for k=1:length(data.Properties.VariableNames)\n",
    "    variable = data.Properties.VariableNames{k};\n",
    "    fprintf([variable '\\n'])\n",
    "end"
   ]
  },
  {
   "cell_type": "code",
   "execution_count": 5,
   "id": "e15f76b7-a2e2-454c-9dad-05e8c40f3267",
   "metadata": {},
   "outputs": [
    {
     "data": {
      "image/png": "[encoded data removed]"
     },
     "execution_count": 5,
     "metadata": {},
     "output_type": "execute_result"
    }
   ],
   "source": [
    "%%\n",
    "%Example plot\n",
    "fig = figure(1);\n",
    "%Plot W/E Winds\n",
    "subplot(311)\n",
    "plot(data.Time,data.met_windavg_mag_corr_east)\n",
    "xlim([data.Properties.StartTime max(data.Time)])\n",
    "datetick('x',1,'keeplimits')\n",
    "title({[site '-' node '-' sensor '_' method '_' stream ],  ['met_windavg_mag_corr_east']}, 'Interpreter', 'none')\n",
    "ylabel('m/s')\n",
    "ylim([-15 15])\n",
    "\n",
    "fig.Position(3:4)=[750,600];"
   ]
  }
 ],
 "metadata": {
  "kernelspec": {
   "display_name": "MATLAB Kernel",
   "language": "matlab",
   "name": "jupyter_matlab_kernel"
  },
  "language_info": {
   "file_extension": ".m",
   "mimetype": "text/x-matlab",
   "name": "matlab"
  }
 },
 "nbformat": 4,
 "nbformat_minor": 5
}