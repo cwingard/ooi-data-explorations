{
 "cells": [
  {
   "cell_type": "markdown",
   "id": "6b495bd8-12d9-44c8-9a58-3f0c834f34b5",
   "metadata": {},
   "source": [
    "# METBK Data Acess Example"
   ]
  },
  {
   "cell_type": "markdown",
   "id": "2f0df235-7158-4879-ae0a-9ef1427fd8a8",
   "metadata": {},
   "source": [
    "## Add utilities to the MATLAB path"
   ]
  },
  {
   "cell_type": "code",
   "execution_count": 1,
   "id": "2b8779f6-3d7c-49ed-8235-448a6661f807",
   "metadata": {},
   "outputs": [],
   "source": [
    "addpath('~/ooi-data-explorations/matlab')\n",
    "addpath('~/ooi-data-explorations/matlab/utilities')"
   ]
  },
  {
   "cell_type": "markdown",
   "id": "e795a2fc-db93-4e5b-a901-bf528b62c6af",
   "metadata": {},
   "source": [
    "## Select specific instrument and stream"
   ]
  },
  {
   "cell_type": "code",
   "execution_count": 2,
   "id": "550cf6f8-ea94-4d0d-b5af-aca36bad1aa2",
   "metadata": {},
   "outputs": [],
   "source": [
    "site = 'CE07SHSM';\n",
    "node = 'SBD11';\n",
    "sensor = '06-METBKA000';\n",
    "method = 'recovered_host';\n",
    "stream = 'metbk_a_dcl_instrument_recovered';"
   ]
  },
  {
   "cell_type": "markdown",
   "id": "a8473f2c-a324-4b3e-b640-43959749edd2",
   "metadata": {},
   "source": [
    "## Load data directly from KData NetCDF store"
   ]
  },
  {
   "cell_type": "code",
   "execution_count": 3,
   "id": "d41bed43-2e0a-4e29-80f3-152a85f46e27",
   "metadata": {},
   "outputs": [
    {
     "name": "stdout",
     "output_type": "stream",
     "text": [
      "Loading 2 files from the local kdata directory ...\n",
      "Elapsed time is 22.166961 seconds.\n"
     ]
    }
   ],
   "source": [
    "data = load_kdata(site, node, sensor, method, stream, \"*metbk_a_dcl_instrument_recovered_2021*.nc\");"
   ]
  },
  {
   "cell_type": "code",
   "execution_count": 4,
   "id": "682fdc8a-ba96-4ff9-bd56-5383465e3634",
   "metadata": {},
   "outputs": [
    {
     "data": {
      "text/html": [
       "<html><body><pre>ans = 1x87 cell array\n",
       "    {'air_temperature'}    {'air_temperature_qartod_executed'}    {'air_temperature_qartod_results'}    {'air_temperature_qc_executed'}    {'air_temperature_qc_results'}    {'barometric_pressure'}    {'barometric_pressure_qartod_executed'}    {'barometric_pressure_qartod_results'}    {'barometric_pressure_qc_executed'}    {'barometric_pressure_qc_results'}    {'ct_depth'}    {'deployment'}    {'eastward_velocity'}    {'eastward_wind_velocity'}    {'eastward_wind_velocity_qartod_executed'}    {'eastward_wind_velocity_qartod_results'}    {'eastward_wind_velocity_qc_executed'}    {'eastward_wind_velocity_qc_results'}    {'internal_timestamp'}    {'longwave_irradiance'}    {'longwave_irradiance_qartod_executed'}    {'longwave_irradiance_qartod_results'}    {'longwave_irradiance_qc_executed'}    {'longwave_irradiance_qc_results'}    {'met_barpres'}    {'met_barpres_qc_executed'}    {'met_barpres_qc_results'}    {'met_current_direction'}    {'met_current_direction_qc_executed'}    {'met_current_direction_qc_results'}    {'met_current_speed'}    {'met_current_speed_qc_executed'}    {'met_current_speed_qc_results'}    {'met_heatflx_minute'}    {'met_latnflx_minute'}    {'met_netlirr_minute'}    {'met_netsirr'}    {'met_netsirr_qc_executed'}    {'met_netsirr_qc_results'}    {'met_relwind_direction'}    {'met_relwind_direction_qc_executed'}    {'met_relwind_direction_qc_results'}    {'met_relwind_speed'}    {'met_relwind_speed_qc_executed'}    {'met_relwind_speed_qc_results'}    {'met_salsurf'}    {'met_salsurf_qartod_executed'}    {'met_salsurf_qartod_results'}    {'met_salsurf_qc_executed'}    {'met_salsurf_qc_results'}    {'met_sensflx_minute'}    {'met_spechum'}    {'met_spechum_qc_executed'}    {'met_spechum_qc_results'}    {'met_windavg_mag_corr_east'}    {'met_windavg_mag_corr_north'}    {'northward_velocity'}    {'northward_wind_velocity'}    {'northward_wind_velocity_qartod_executed'}    {'northward_wind_velocity_qartod_results'}    {'northward_wind_velocity_qc_executed'}    {'northward_wind_velocity_qc_results'}    {'precipitation'}    {'precipitation_qartod_executed'}    {'precipitation_qartod_results'}    {'precipitation_qc_executed'}    {'precipitation_qc_results'}    {'relative_humidity'}    {'relative_humidity_qartod_executed'}    {'relative_humidity_qartod_results'}    {'relative_humidity_qc_executed'}    {'relative_humidity_qc_results'}    {'sea_surface_conductivity'}    {'sea_surface_conductivity_qartod_executed'}    {'sea_surface_conductivity_qartod_results'}    {'sea_surface_conductivity_qc_executed'}    {'sea_surface_conductivity_qc_results'}    {'sea_surface_temperature'}    {'sea_surface_temperature_qartod_executed'}    {'sea_surface_temperature_qartod_results'}    {'sea_surface_temperature_qc_executed'}    {'sea_surface_temperature_qc_results'}    {'shortwave_irradiance'}    {'shortwave_irradiance_qartod_executed'}    {'shortwave_irradiance_qartod_results'}    {'shortwave_irradiance_qc_executed'}    {'shortwave_irradiance_qc_results'}\n",
       "</pre></body></html>"
      ],
      "text/plain": [
       "ans = 1x87 cell array\n",
       "    {'air_temperature'}    {'air_temperature_qartod_executed'}    {'air_temperature_qartod_results'}    {'air_temperature_qc_executed'}    {'air_temperature_qc_results'}    {'barometric_pressure'}    {'barometric_pressure_qartod_executed'}    {'barometric_pressure_qartod_results'}    {'barometric_pressure_qc_executed'}    {'barometric_pressure_qc_results'}    {'ct_depth'}    {'deployment'}    {'eastward_velocity'}    {'eastward_wind_velocity'}    {'eastward_wind_velocity_qartod_executed'}    {'eastward_wind_velocity_qartod_results'}    {'eastward_wind_velocity_qc_executed'}    {'eastward_wind_velocity_qc_results'}    {'internal_timestamp'}    {'longwave_irradiance'}    {'longwave_irradiance_qartod_executed'}    {'longwave_irradiance_qartod_results'}    {'longwave_irradiance_qc_executed'}    {'longwave_irradiance_qc_results'}    {'met_barpres'}    {'met_barpres_qc_executed'}    {'met_barpres_qc_results'}    {'met_current_direction'}    {'met_current_direction_qc_executed'}    {'met_current_direction_qc_results'}    {'met_current_speed'}    {'met_current_speed_qc_executed'}    {'met_current_speed_qc_results'}    {'met_heatflx_minute'}    {'met_latnflx_minute'}    {'met_netlirr_minute'}    {'met_netsirr'}    {'met_netsirr_qc_executed'}    {'met_netsirr_qc_results'}    {'met_relwind_direction'}    {'met_relwind_direction_qc_executed'}    {'met_relwind_direction_qc_results'}    {'met_relwind_speed'}    {'met_relwind_speed_qc_executed'}    {'met_relwind_speed_qc_results'}    {'met_salsurf'}    {'met_salsurf_qartod_executed'}    {'met_salsurf_qartod_results'}    {'met_salsurf_qc_executed'}    {'met_salsurf_qc_results'}    {'met_sensflx_minute'}    {'met_spechum'}    {'met_spechum_qc_executed'}    {'met_spechum_qc_results'}    {'met_windavg_mag_corr_east'}    {'met_windavg_mag_corr_north'}    {'northward_velocity'}    {'northward_wind_velocity'}    {'northward_wind_velocity_qartod_executed'}    {'northward_wind_velocity_qartod_results'}    {'northward_wind_velocity_qc_executed'}    {'northward_wind_velocity_qc_results'}    {'precipitation'}    {'precipitation_qartod_executed'}    {'precipitation_qartod_results'}    {'precipitation_qc_executed'}    {'precipitation_qc_results'}    {'relative_humidity'}    {'relative_humidity_qartod_executed'}    {'relative_humidity_qartod_results'}    {'relative_humidity_qc_executed'}    {'relative_humidity_qc_results'}    {'sea_surface_conductivity'}    {'sea_surface_conductivity_qartod_executed'}    {'sea_surface_conductivity_qartod_results'}    {'sea_surface_conductivity_qc_executed'}    {'sea_surface_conductivity_qc_results'}    {'sea_surface_temperature'}    {'sea_surface_temperature_qartod_executed'}    {'sea_surface_temperature_qartod_results'}    {'sea_surface_temperature_qc_executed'}    {'sea_surface_temperature_qc_results'}    {'shortwave_irradiance'}    {'shortwave_irradiance_qartod_executed'}    {'shortwave_irradiance_qartod_results'}    {'shortwave_irradiance_qc_executed'}    {'shortwave_irradiance_qc_results'}\n"
      ]
     },
     "execution_count": 4,
     "metadata": {},
     "output_type": "execute_result"
    }
   ],
   "source": [
    "data.Properties.VariableNames"
   ]
  },
  {
   "cell_type": "markdown",
   "id": "7e00d836-6f9b-49cf-91b0-f5eae891950a",
   "metadata": {},
   "source": [
    "## Make a plot of the east component of average wind speed"
   ]
  },
  {
   "cell_type": "code",
   "execution_count": 5,
   "id": "e15f76b7-a2e2-454c-9dad-05e8c40f3267",
   "metadata": {},
   "outputs": [
    {
     "data": {
      "image/png": "[encoded data removed]"
     },
     "execution_count": 5,
     "metadata": {},
     "output_type": "execute_result"
    }
   ],
   "source": [
    "%%\n",
    "%Example plot\n",
    "figure(1)\n",
    "%Plot W/E Winds\n",
    "subplot(311)\n",
    "plot(data.Time,data.met_windavg_mag_corr_east)\n",
    "xlim([data.Properties.StartTime max(data.Time)])\n",
    "datetick('x',1,'keeplimits')\n",
    "title([site '-' node '-' sensor '_' method '_' stream '  data.met_windavg_mag_corr_east'])\n",
    "ylabel('m/s')\n",
    "ylim([-10 10])"
   ]
  }
 ],
 "metadata": {
  "kernelspec": {
   "display_name": "MATLAB Kernel",
   "language": "matlab",
   "name": "jupyter_matlab_kernel"
  },
  "language_info": {
   "file_extension": ".m",
   "mimetype": "text/x-matlab",
   "name": "matlab"
  }
 },
 "nbformat": 4,
 "nbformat_minor": 5
}
