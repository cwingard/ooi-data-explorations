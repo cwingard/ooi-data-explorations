{
 "cells": [
  {
   "cell_type": "code",
   "execution_count": 3,
   "id": "23f156a9-9a19-46cd-a7ec-97ebb3575b15",
   "metadata": {},
   "outputs": [
    {
     "name": "stderr",
     "output_type": "stream",
     "text": [
      "system (cmd0): /opt/conda/lib/R/bin/R CMD INSTALL\n",
      "\n",
      "foundpkgs: devtools, /tmp/Rtmp732bh4/downloaded_packages/devtools_2.4.5.tar.gz\n",
      "\n",
      "files: /tmp/Rtmp732bh4/downloaded_packages/devtools_2.4.5.tar.gz\n",
      "\n",
      "1): succeeded '/opt/conda/lib/R/bin/R CMD INSTALL -l '/opt/conda/lib/R/library' '/tmp/Rtmp732bh4/downloaded_packages/devtools_2.4.5.tar.gz''\n",
      "\n",
      "Updating HTML index of packages in '.Library'\n",
      "\n",
      "Making 'packages.html' ...\n",
      " done\n",
      "\n",
      "system (cmd0): /opt/conda/lib/R/bin/R CMD INSTALL\n",
      "\n",
      "foundpkgs: ncdf4, /tmp/Rtmp732bh4/downloaded_packages/ncdf4_1.23.tar.gz\n",
      "\n",
      "files: /tmp/Rtmp732bh4/downloaded_packages/ncdf4_1.23.tar.gz\n",
      "\n",
      "Warning message in install.packages(\"ncdf4\", repos = \"http://cran.us.r-project.org\", :\n",
      "“installation of package ‘ncdf4’ had non-zero exit status”\n",
      "Updating HTML index of packages in '.Library'\n",
      "\n",
      "Making 'packages.html' ...\n",
      " done\n",
      "\n"
     ]
    }
   ],
   "source": [
    "install.packages(\"devtools\", quiet = FALSE,  verbose = TRUE)\n",
    "install.packages(\"ncdf4\", repos = 'http://cran.us.r-project.org',   quiet = FALSE,  verbose = TRUE)"
   ]
  }
 ],
 "metadata": {
  "kernelspec": {
   "display_name": "R",
   "language": "R",
   "name": "ir"
  },
  "language_info": {
   "codemirror_mode": "r",
   "file_extension": ".r",
   "mimetype": "text/x-r-source",
   "name": "R",
   "pygments_lexer": "r",
   "version": "4.3.3"
  }
 },
 "nbformat": 4,
 "nbformat_minor": 5
}
