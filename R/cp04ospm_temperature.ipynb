{
 "cells": [
  {
   "cell_type": "markdown",
   "id": "73016fb7",
   "metadata": {},
   "source": [
    "# Accessing PA Offshore Profiler Mooring (CP04OSPM) Telemetered CTD Data via R"
   ]
  },
  {
   "cell_type": "markdown",
   "id": "b49c22db",
   "metadata": {},
   "source": [
    "### The Example Parameters\n",
    "In this example we will be requesting telemetered CTD data from the Pioneer Array Offshore Profiler Mooring (CP04OSPM) for the months of February - April 2021. After requesting and downloading the data, we will make a false colored scatter plot of temperature with respect to time and depth.\n",
    "\n",
    "__Site__: [CP04OSPM](https://oceanobservatories.org/site/cp04ospm/)\n",
    "\n",
    "__Node__: WFP01\n",
    "\n",
    "__Instrument__: [03-CTDPFK000](https://ooinet.oceanobservatories.org/data_access/?search=CP04OSPM-WFP01-03-CTDPFK000)\n",
    "\n",
    "__Method__: telemetered\n",
    "\n",
    "__Stream__: ctdpf_ckl_wfp_instrument\n",
    "\n",
    "__Start Date__: 2021-02-01\n",
    "\n",
    "__Start Time__: 00:00:00\n",
    "\n",
    "__Stop Date__: 2021-04-30\n",
    "\n",
    "__Stop Time__: 23:59:59"
   ]
  },
  {
   "cell_type": "markdown",
   "id": "0c8f07fe",
   "metadata": {},
   "source": [
    "### Installing Required Packages\n",
    "The OOI has developed a curated R package for accessing OOI science data via the machine-to-machine interface. This package is called [OOIM2MR](https://github.com/oceanobservatories/ooim2mr) and is intended to be a one stop shop for requesting and downloading science data from any stationary or mobile OOI asset.\n",
    "\n",
    "In order to install OOIM2MR, you will first need to install the devtools package. Devtools allows you to install correctly formatted GitHub repositories as callable packages within your R environment."
   ]
  },
  {
   "cell_type": "code",
   "execution_count": 1,
   "id": "a0d3fb45",
   "metadata": {},
   "outputs": [
    {
     "name": "stderr",
     "output_type": "stream",
     "text": [
      "Updating HTML index of packages in '.Library'\n",
      "\n",
      "Making 'packages.html' ...\n",
      " done\n",
      "\n"
     ]
    }
   ],
   "source": [
    "install.packages(\"devtools\")"
   ]
  },
  {
   "cell_type": "markdown",
   "id": "c3df7b21",
   "metadata": {},
   "source": [
    "Once you've successfully installed devtools, you can install OOIM2MR using the install_github command. You may receive a Rtools warning. This can be ignored."
   ]
  },
  {
   "cell_type": "code",
   "execution_count": 2,
   "id": "ac321f20",
   "metadata": {},
   "outputs": [
    {
     "name": "stderr",
     "output_type": "stream",
     "text": [
      "Skipping install of 'ooim2mr' from a github remote, the SHA1 (2287a1d5) has not changed since last install.\n",
      "  Use `force = TRUE` to force installation\n",
      "\n"
     ]
    }
   ],
   "source": [
    "devtools::install_github(\"oceanobservatories/ooim2mr\")"
   ]
  },
  {
   "cell_type": "markdown",
   "id": "e6533460",
   "metadata": {},
   "source": [
    "You will also need to install the httr and ncdf4 packages. In this example we will also be creating a plot, but there are many packages that allow you to do this. We'll use ggplot2 for plotting and RColorBrewer for coloring. The OOIM2MR package also requires the R native stringr and jsonlite packages."
   ]
  },
  {
   "cell_type": "code",
   "execution_count": 3,
   "id": "6b5dc9af",
   "metadata": {},
   "outputs": [
    {
     "name": "stderr",
     "output_type": "stream",
     "text": [
      "Updating HTML index of packages in '.Library'\n",
      "\n",
      "Making 'packages.html' ...\n",
      " done\n",
      "\n",
      "Updating HTML index of packages in '.Library'\n",
      "\n",
      "Making 'packages.html' ...\n",
      " done\n",
      "\n",
      "Updating HTML index of packages in '.Library'\n",
      "\n",
      "Making 'packages.html' ...\n",
      " done\n",
      "\n"
     ]
    }
   ],
   "source": [
    "install.packages(\"httr\")\n",
    "install.packages(\"ncdf4\")\n",
    "install.packages(\"ggplot2\")"
   ]
  },
  {
   "cell_type": "markdown",
   "id": "bfd56943",
   "metadata": {},
   "source": [
    "### Setup\n",
    "After successful installation of the required packages, we can begin to import said packages and define our request parameters."
   ]
  },
  {
   "cell_type": "code",
   "execution_count": 4,
   "id": "c4e798ae",
   "metadata": {},
   "outputs": [],
   "source": [
    "#R Native Packages\n",
    "library(stringr)\n",
    "library(jsonlite)\n",
    "\n",
    "#CRAN Packages\n",
    "library(httr)\n",
    "library(ncdf4)\n",
    "library(ooim2mr)\n",
    "library(ggplot2)\n",
    "library(RColorBrewer)"
   ]
  },
  {
   "cell_type": "markdown",
   "id": "84a7f5ea",
   "metadata": {},
   "source": [
    "If you're using Windows, the ncdf4 package has a bug that prevents Windows users from accessing remote NetCDF files. The work around for this is to specify a directory where you can download the files and then access them locally. Keep in mind that some of these files can be large and may take time to both download and open. In addition to specifying a directory, you'll need to supply your OOI username and token for issuing requests to OOINet. If you are running this code as a full script, you'll need to change the next cell to match your system and credentials."
   ]
  },
  {
   "cell_type": "code",
   "execution_count": 5,
   "id": "07cef5ad",
   "metadata": {},
   "outputs": [],
   "source": [
    "directory = \"C:/Users/Ian/Desktop\"  #Change this to match you own machine structure.\n",
    "user = 'OOIAPI-CEY6MNAH6MZ8TL'  #Change this to match your OOINet username.\n",
    "token = 'PMA94685J8'  #Change this to match your OOINet token."
   ]
  },
  {
   "cell_type": "markdown",
   "id": "c0e90fa1",
   "metadata": {},
   "source": [
    "Next we can set up our request parameters."
   ]
  },
  {
   "cell_type": "code",
   "execution_count": 6,
   "id": "e387f8c0",
   "metadata": {},
   "outputs": [],
   "source": [
    "site = \"CP04OSPM\" \n",
    "node = \"WFP01\" \n",
    "instrument = \"03-CTDPFK000\" \n",
    "method = \"telemetered\" \n",
    "stream = \"ctdpf_ckl_wfp_instrument\" \n",
    "start_date = \"2021-02-01\" \n",
    "start_time = \"00:00:00\" \n",
    "stop_date = \"2021-04-3\"\n",
    "stop_time = \"23:59:59\""
   ]
  },
  {
   "cell_type": "markdown",
   "id": "3bfb014a",
   "metadata": {},
   "source": [
    "### Requesting, Downloading, and Importing Data\n",
    "Now that we have our directory, credentials, and request parameters, we can build a URL for issuing a request to OOI. The [ooi_create_url](https://github.com/oceanobservatories/ooim2mr/blob/master/R/ooi_create_url.R) function from the OOIM2MR package uses a curated table for finding the correct URL, taking the guess work out of creating a URL with the correct syntax."
   ]
  },
  {
   "cell_type": "code",
   "execution_count": 7,
   "id": "90572c26",
   "metadata": {},
   "outputs": [
    {
     "name": "stdout",
     "output_type": "stream",
     "text": [
      "Here is the request URL generated from the information you provided.\n",
      "https://ooinet.oceanobservatories.org/api/m2m/12576/sensor/inv/CP04OSPM/WFP01/03-CTDPFK000/telemetered/ctdpf_ckl_wfp_instrument?beginDT=2021-02-01T00:00:00.000Z&endDT=2021-04-3T23:59:59.999Z \n"
     ]
    }
   ],
   "source": [
    "url = ooi_create_url(site=site,\n",
    "                     node=node,\n",
    "                     instrument=instrument,\n",
    "                     method=method,\n",
    "                     stream=stream,\n",
    "                     start_date=start_date,\n",
    "                     start_time=start_time,\n",
    "                     stop_date=stop_date,\n",
    "                     stop_time=stop_time)"
   ]
  },
  {
   "cell_type": "markdown",
   "id": "c35b3457",
   "metadata": {},
   "source": [
    "Now that we have the correct URL, we can submit our data request to OOINet using the [ooi_submit_request](https://github.com/oceanobservatories/ooim2mr/blob/master/R/ooi_submit_request.R) function."
   ]
  },
  {
   "cell_type": "code",
   "execution_count": 8,
   "id": "7daf2894",
   "metadata": {},
   "outputs": [],
   "source": [
    "# response = ooi_submit_request(url=url,user=user,token=token)"
   ]
  },
  {
   "cell_type": "markdown",
   "id": "5ba5bcf8",
   "metadata": {},
   "source": [
    "Requests can take anywhere between 1-30 minutes depending on the data you requested. After a request is submitted, the [ooi_get_location](https://github.com/oceanobservatories/ooim2mr/blob/master/R/ooi_get_location.R) function continuously checks the status of your data request. Once it is complete, the function returns the remote locations of your data as a list of Thredds catalog URLs. Some dataset requests have paired data, which can cause problems when trying to import data from multiple files. For example, when requesting fluorometer data, you'll also get CTD data. Setting the drop_paired parameter to TRUE allows you to scrub those extra files and get the data that you requested."
   ]
  },
  {
   "cell_type": "code",
   "execution_count": 9,
   "id": "511f9fbb",
   "metadata": {},
   "outputs": [],
   "source": [
    "# remote = ooi_get_location(response=response,drop_paired=TRUE)"
   ]
  },
  {
   "cell_type": "markdown",
   "id": "f886e00c",
   "metadata": {},
   "source": [
    "Once the data is available, we can download it using the [ooi_download_data](https://github.com/oceanobservatories/ooim2mr/blob/master/R/ooi_download_data.R) function. As stated previously, if you are using a Windows machine you need to supply a directory where you want to download the data. If you are MacOS and don't want to download the data, you can skip the use of this function and directly input the URLs found in the remote variable into the ooi_get_data function."
   ]
  },
  {
   "cell_type": "code",
   "execution_count": 10,
   "id": "342b558a",
   "metadata": {},
   "outputs": [],
   "source": [
    "# local = ooi_download_data(remote,directory) #Download the data to the specified local location."
   ]
  },
  {
   "cell_type": "markdown",
   "id": "a9a57169",
   "metadata": {},
   "source": [
    "Once the data is downloaded, we can pull it into our workspace. If you have experience with NetCDFs, you can do this on your own. The OOIM2MR package also provides the [ooi_get_data](https://github.com/oceanobservatories/ooim2mr/blob/master/R/ooi_get_data.R) function which simplifies the data import process. If using the ooi_get_data function, the simplify_data parameter will remove non L1 or L2 variable types and engineering variables that can be confusing if it is set to TRUE. In this example, we set it to FALSE, which brings in all of the data in the files. If the data you are working with is multidimensional, you will need to set the simplify_data parameter to FALSE, because its functionality assumes that the data is 1D. The return of the ooi_get_data function is two lists. The first list contains the data and the second list contains a list of variables and associated units. Once data is imported, we can put each list into its own data.frame for easier access."
   ]
  },
  {
   "cell_type": "code",
   "execution_count": 11,
   "id": "a265c63c",
   "metadata": {},
   "outputs": [],
   "source": [
    "# data_vars = ooi_get_data(local,simplify_data=FALSE)\n",
    "# data = data.frame(data_vars[['data']])\n",
    "# vars = data.frame(data_vars[['variables_units']])"
   ]
  },
  {
   "cell_type": "markdown",
   "id": "6e770f4b",
   "metadata": {},
   "source": [
    "If we print the vars list, we can see the variables that are available in the data we requested as well as units associated with those variables. Since we are going to plot temperature in this example, it is easy to make the mistake that we would use the \"temperature\" variable, but if you look at the units it is in counts. The variable that we actually want to use is \"ctdpf_ckl_seawater_temperature\"."
   ]
  },
  {
   "cell_type": "code",
   "execution_count": 12,
   "id": "681e0fc9",
   "metadata": {},
   "outputs": [],
   "source": [
    "# print(vars)"
   ]
  },
  {
   "cell_type": "markdown",
   "id": "84e26884",
   "metadata": {},
   "source": [
    "You may notice that the units of \"time\" are seconds since 1900-01-01. We need to put that into a format that is easier to interpret. The next cell converts the \"time\" column from seconds since 1900-01-01 to YYYY-MM-DD HH:MM:SS in UTC."
   ]
  },
  {
   "cell_type": "code",
   "execution_count": 13,
   "id": "6b8e2914",
   "metadata": {},
   "outputs": [],
   "source": [
    "# data$time = as.POSIXct(data$time,tz=\"UTC\",origin='1900-01-01')"
   ]
  },
  {
   "cell_type": "markdown",
   "id": "c2bb1f5d",
   "metadata": {},
   "source": [
    "### Plotting Data\n",
    "At this point, our data is in our workspace as a data.frame and in a format that we can interpret. Next we need to setup a color palette and color gradient so that our figures look interesting. Additionally, we need to set up the lower and upper limits for our colorbar."
   ]
  },
  {
   "cell_type": "code",
   "execution_count": 14,
   "id": "44455f89",
   "metadata": {},
   "outputs": [],
   "source": [
    "# temp_min_lim = 6\n",
    "# temp_max_lim = 18\n",
    "\n",
    "# myPalette <- colorRampPalette(rev(brewer.pal(11, \"Spectral\")))\n",
    "# sc <- scale_colour_gradientn(colours = myPalette(100), limits=c(temp_min_lim,temp_max_lim))"
   ]
  },
  {
   "cell_type": "markdown",
   "id": "7bdf38dc",
   "metadata": {},
   "source": [
    "Next, we can build our figure."
   ]
  },
  {
   "cell_type": "code",
   "execution_count": 15,
   "id": "af24a4ff",
   "metadata": {},
   "outputs": [],
   "source": [
    "# t_plot = ggplot(data,aes(time,depth,colour=ctdpf_ckl_seawater_temperature)) +\n",
    "#   geom_point() + scale_y_reverse() + sc + \n",
    "#   labs(x='Time',y='Depth (m)',colour = 'Temperature (degC)',title = \"CP04OSPM Temperature\",subtitle='Feb-Apr 2021')"
   ]
  },
  {
   "cell_type": "markdown",
   "id": "684f424c",
   "metadata": {},
   "source": [
    "Finally, we can display our figure."
   ]
  },
  {
   "cell_type": "code",
   "execution_count": 16,
   "id": "f42ebff3",
   "metadata": {},
   "outputs": [],
   "source": [
    "# t_plot"
   ]
  }
 ],
 "metadata": {
  "kernelspec": {
   "display_name": "R",
   "language": "R",
   "name": "ir"
  },
  "language_info": {
   "codemirror_mode": "r",
   "file_extension": ".r",
   "mimetype": "text/x-r-source",
   "name": "R",
   "pygments_lexer": "r",
   "version": "4.3.3"
  }
 },
 "nbformat": 4,
 "nbformat_minor": 5
}
